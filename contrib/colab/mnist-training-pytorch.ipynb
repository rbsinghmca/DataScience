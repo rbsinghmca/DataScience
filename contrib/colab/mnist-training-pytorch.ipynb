{
  "cells": [
    {
      "cell_type": "markdown",
      "metadata": {
        "id": "0WzFpOKDmURO"
      },
      "source": [
        "## PyTorch/TPU MNIST Demo\n",
        "\n",
        "This colab example corresponds to the implementation under [test_train_mp_mnist.py](https://github.com/pytorch/xla/blob/master/test/test_train_mp_mnist.py)."
      ]
    },
    {
      "cell_type": "markdown",
      "metadata": {
        "id": "xOp9jBEumdvC"
      },
      "source": [
        "<h3>  &nbsp;&nbsp;Use Colab Cloud TPU&nbsp;&nbsp; <a href=\"https://cloud.google.com/tpu/\"><img valign=\"middle\" src=\"https://raw.githubusercontent.com/GoogleCloudPlatform/tensorflow-without-a-phd/master/tensorflow-rl-pong/images/tpu-hexagon.png\" width=\"50\"></a></h3>\n",
        "\n",
        "* On the main menu, click Runtime and select **Change runtime type**. Set \"TPU\" as the hardware accelerator.\n",
        "* The cell below makes sure you have access to a TPU on Colab.\n"
      ]
    },
    {
      "cell_type": "code",
      "execution_count": 1,
      "metadata": {
        "id": "Hx4YVNHametU"
      },
      "outputs": [],
      "source": [
        "import os\n",
        "assert os.environ['COLAB_TPU_ADDR'], 'Make sure to select TPU from Edit > Notebook settings > Hardware accelerator'"
      ]
    },
    {
      "cell_type": "markdown",
      "metadata": {
        "id": "YofXQrnxmf5r"
      },
      "source": [
        "### [RUNME] Install Colab TPU compatible PyTorch/TPU wheels and dependencies"
      ]
    },
    {
      "cell_type": "code",
      "execution_count": 2,
      "metadata": {
        "id": "OApBOAe1fpH_",
        "outputId": "b02c891f-edb5-459b-ef10-ffe4e415b3c3",
        "colab": {
          "base_uri": "https://localhost:8080/",
          "height": 1000
        }
      },
      "outputs": [
        {
          "output_type": "stream",
          "name": "stdout",
          "text": [
            "Collecting torch-xla==2.0\n",
            "  Downloading https://storage.googleapis.com/tpu-pytorch/wheels/colab/torch_xla-2.0-cp310-cp310-linux_x86_64.whl (162.9 MB)\n",
            "\u001b[2K     \u001b[90m━━━━━━━━━━━━━━━━━━━━━━━━━━━━━━━━━━━━━━━\u001b[0m \u001b[32m162.9/162.9 MB\u001b[0m \u001b[31m4.7 MB/s\u001b[0m eta \u001b[36m0:00:00\u001b[0m\n",
            "\u001b[?25hCollecting cloud-tpu-client==0.10\n",
            "  Downloading cloud_tpu_client-0.10-py3-none-any.whl (7.4 kB)\n",
            "Collecting torch==2.0.0\n",
            "  Downloading torch-2.0.0-cp310-cp310-manylinux1_x86_64.whl (619.9 MB)\n",
            "\u001b[2K     \u001b[90m━━━━━━━━━━━━━━━━━━━━━━━━━━━━━━━━━━━━━\u001b[0m \u001b[32m619.9/619.9 MB\u001b[0m \u001b[31m547.2 kB/s\u001b[0m eta \u001b[36m0:00:00\u001b[0m\n",
            "\u001b[?25hCollecting torchvision==0.15.1\n",
            "  Downloading torchvision-0.15.1-cp310-cp310-manylinux1_x86_64.whl (6.0 MB)\n",
            "\u001b[2K     \u001b[90m━━━━━━━━━━━━━━━━━━━━━━━━━━━━━━━━━━━━━━━━\u001b[0m \u001b[32m6.0/6.0 MB\u001b[0m \u001b[31m62.8 MB/s\u001b[0m eta \u001b[36m0:00:00\u001b[0m\n",
            "\u001b[?25hCollecting google-api-python-client==1.8.0 (from cloud-tpu-client==0.10)\n",
            "  Downloading google_api_python_client-1.8.0-py3-none-any.whl (57 kB)\n",
            "\u001b[2K     \u001b[90m━━━━━━━━━━━━━━━━━━━━━━━━━━━━━━━━━━━━━━━━\u001b[0m \u001b[32m57.7/57.7 kB\u001b[0m \u001b[31m5.0 MB/s\u001b[0m eta \u001b[36m0:00:00\u001b[0m\n",
            "\u001b[?25hRequirement already satisfied: oauth2client in /usr/local/lib/python3.10/dist-packages (from cloud-tpu-client==0.10) (4.1.3)\n",
            "Requirement already satisfied: filelock in /usr/local/lib/python3.10/dist-packages (from torch==2.0.0) (3.12.2)\n",
            "Requirement already satisfied: typing-extensions in /usr/local/lib/python3.10/dist-packages (from torch==2.0.0) (4.5.0)\n",
            "Requirement already satisfied: sympy in /usr/local/lib/python3.10/dist-packages (from torch==2.0.0) (1.12)\n",
            "Requirement already satisfied: networkx in /usr/local/lib/python3.10/dist-packages (from torch==2.0.0) (3.1)\n",
            "Requirement already satisfied: jinja2 in /usr/local/lib/python3.10/dist-packages (from torch==2.0.0) (3.1.2)\n",
            "Collecting nvidia-cuda-nvrtc-cu11==11.7.99 (from torch==2.0.0)\n",
            "  Downloading nvidia_cuda_nvrtc_cu11-11.7.99-2-py3-none-manylinux1_x86_64.whl (21.0 MB)\n",
            "\u001b[2K     \u001b[90m━━━━━━━━━━━━━━━━━━━━━━━━━━━━━━━━━━━━━━━━\u001b[0m \u001b[32m21.0/21.0 MB\u001b[0m \u001b[31m32.7 MB/s\u001b[0m eta \u001b[36m0:00:00\u001b[0m\n",
            "\u001b[?25hCollecting nvidia-cuda-runtime-cu11==11.7.99 (from torch==2.0.0)\n",
            "  Downloading nvidia_cuda_runtime_cu11-11.7.99-py3-none-manylinux1_x86_64.whl (849 kB)\n",
            "\u001b[2K     \u001b[90m━━━━━━━━━━━━━━━━━━━━━━━━━━━━━━━━━━━━━━\u001b[0m \u001b[32m849.3/849.3 kB\u001b[0m \u001b[31m54.4 MB/s\u001b[0m eta \u001b[36m0:00:00\u001b[0m\n",
            "\u001b[?25hCollecting nvidia-cuda-cupti-cu11==11.7.101 (from torch==2.0.0)\n",
            "  Downloading nvidia_cuda_cupti_cu11-11.7.101-py3-none-manylinux1_x86_64.whl (11.8 MB)\n",
            "\u001b[2K     \u001b[90m━━━━━━━━━━━━━━━━━━━━━━━━━━━━━━━━━━━━━━━━\u001b[0m \u001b[32m11.8/11.8 MB\u001b[0m \u001b[31m64.9 MB/s\u001b[0m eta \u001b[36m0:00:00\u001b[0m\n",
            "\u001b[?25hCollecting nvidia-cudnn-cu11==8.5.0.96 (from torch==2.0.0)\n",
            "  Downloading nvidia_cudnn_cu11-8.5.0.96-2-py3-none-manylinux1_x86_64.whl (557.1 MB)\n",
            "\u001b[2K     \u001b[90m━━━━━━━━━━━━━━━━━━━━━━━━━━━━━━━━━━━━━━━\u001b[0m \u001b[32m557.1/557.1 MB\u001b[0m \u001b[31m1.9 MB/s\u001b[0m eta \u001b[36m0:00:00\u001b[0m\n",
            "\u001b[?25hCollecting nvidia-cublas-cu11==11.10.3.66 (from torch==2.0.0)\n",
            "  Downloading nvidia_cublas_cu11-11.10.3.66-py3-none-manylinux1_x86_64.whl (317.1 MB)\n",
            "\u001b[2K     \u001b[90m━━━━━━━━━━━━━━━━━━━━━━━━━━━━━━━━━━━━━━━\u001b[0m \u001b[32m317.1/317.1 MB\u001b[0m \u001b[31m3.9 MB/s\u001b[0m eta \u001b[36m0:00:00\u001b[0m\n",
            "\u001b[?25hCollecting nvidia-cufft-cu11==10.9.0.58 (from torch==2.0.0)\n",
            "  Downloading nvidia_cufft_cu11-10.9.0.58-py3-none-manylinux1_x86_64.whl (168.4 MB)\n",
            "\u001b[2K     \u001b[90m━━━━━━━━━━━━━━━━━━━━━━━━━━━━━━━━━━━━━━━\u001b[0m \u001b[32m168.4/168.4 MB\u001b[0m \u001b[31m5.9 MB/s\u001b[0m eta \u001b[36m0:00:00\u001b[0m\n",
            "\u001b[?25hCollecting nvidia-curand-cu11==10.2.10.91 (from torch==2.0.0)\n",
            "  Downloading nvidia_curand_cu11-10.2.10.91-py3-none-manylinux1_x86_64.whl (54.6 MB)\n",
            "\u001b[2K     \u001b[90m━━━━━━━━━━━━━━━━━━━━━━━━━━━━━━━━━━━━━━━━\u001b[0m \u001b[32m54.6/54.6 MB\u001b[0m \u001b[31m10.5 MB/s\u001b[0m eta \u001b[36m0:00:00\u001b[0m\n",
            "\u001b[?25hCollecting nvidia-cusolver-cu11==11.4.0.1 (from torch==2.0.0)\n",
            "  Downloading nvidia_cusolver_cu11-11.4.0.1-2-py3-none-manylinux1_x86_64.whl (102.6 MB)\n",
            "\u001b[2K     \u001b[90m━━━━━━━━━━━━━━━━━━━━━━━━━━━━━━━━━━━━━━━\u001b[0m \u001b[32m102.6/102.6 MB\u001b[0m \u001b[31m7.6 MB/s\u001b[0m eta \u001b[36m0:00:00\u001b[0m\n",
            "\u001b[?25hCollecting nvidia-cusparse-cu11==11.7.4.91 (from torch==2.0.0)\n",
            "  Downloading nvidia_cusparse_cu11-11.7.4.91-py3-none-manylinux1_x86_64.whl (173.2 MB)\n",
            "\u001b[2K     \u001b[90m━━━━━━━━━━━━━━━━━━━━━━━━━━━━━━━━━━━━━━━\u001b[0m \u001b[32m173.2/173.2 MB\u001b[0m \u001b[31m3.3 MB/s\u001b[0m eta \u001b[36m0:00:00\u001b[0m\n",
            "\u001b[?25hCollecting nvidia-nccl-cu11==2.14.3 (from torch==2.0.0)\n",
            "  Downloading nvidia_nccl_cu11-2.14.3-py3-none-manylinux1_x86_64.whl (177.1 MB)\n",
            "\u001b[2K     \u001b[90m━━━━━━━━━━━━━━━━━━━━━━━━━━━━━━━━━━━━━━━\u001b[0m \u001b[32m177.1/177.1 MB\u001b[0m \u001b[31m5.1 MB/s\u001b[0m eta \u001b[36m0:00:00\u001b[0m\n",
            "\u001b[?25hCollecting nvidia-nvtx-cu11==11.7.91 (from torch==2.0.0)\n",
            "  Downloading nvidia_nvtx_cu11-11.7.91-py3-none-manylinux1_x86_64.whl (98 kB)\n",
            "\u001b[2K     \u001b[90m━━━━━━━━━━━━━━━━━━━━━━━━━━━━━━━━━━━━━━━━\u001b[0m \u001b[32m98.6/98.6 kB\u001b[0m \u001b[31m10.2 MB/s\u001b[0m eta \u001b[36m0:00:00\u001b[0m\n",
            "\u001b[?25hRequirement already satisfied: triton==2.0.0 in /usr/local/lib/python3.10/dist-packages (from torch==2.0.0) (2.0.0)\n",
            "Requirement already satisfied: numpy in /usr/local/lib/python3.10/dist-packages (from torchvision==0.15.1) (1.23.5)\n",
            "Requirement already satisfied: requests in /usr/local/lib/python3.10/dist-packages (from torchvision==0.15.1) (2.31.0)\n",
            "Requirement already satisfied: pillow!=8.3.*,>=5.3.0 in /usr/local/lib/python3.10/dist-packages (from torchvision==0.15.1) (9.4.0)\n",
            "Requirement already satisfied: httplib2<1dev,>=0.9.2 in /usr/local/lib/python3.10/dist-packages (from google-api-python-client==1.8.0->cloud-tpu-client==0.10) (0.22.0)\n",
            "Requirement already satisfied: google-auth>=1.4.1 in /usr/local/lib/python3.10/dist-packages (from google-api-python-client==1.8.0->cloud-tpu-client==0.10) (2.17.3)\n",
            "Requirement already satisfied: google-auth-httplib2>=0.0.3 in /usr/local/lib/python3.10/dist-packages (from google-api-python-client==1.8.0->cloud-tpu-client==0.10) (0.1.0)\n",
            "Collecting google-api-core<2dev,>=1.13.0 (from google-api-python-client==1.8.0->cloud-tpu-client==0.10)\n",
            "  Downloading google_api_core-1.34.0-py3-none-any.whl (120 kB)\n",
            "\u001b[2K     \u001b[90m━━━━━━━━━━━━━━━━━━━━━━━━━━━━━━━━━━━━━━\u001b[0m \u001b[32m120.2/120.2 kB\u001b[0m \u001b[31m13.5 MB/s\u001b[0m eta \u001b[36m0:00:00\u001b[0m\n",
            "\u001b[?25hRequirement already satisfied: six<2dev,>=1.6.1 in /usr/local/lib/python3.10/dist-packages (from google-api-python-client==1.8.0->cloud-tpu-client==0.10) (1.16.0)\n",
            "Collecting uritemplate<4dev,>=3.0.0 (from google-api-python-client==1.8.0->cloud-tpu-client==0.10)\n",
            "  Downloading uritemplate-3.0.1-py2.py3-none-any.whl (15 kB)\n",
            "Requirement already satisfied: setuptools in /usr/local/lib/python3.10/dist-packages (from nvidia-cublas-cu11==11.10.3.66->torch==2.0.0) (67.7.2)\n",
            "Requirement already satisfied: wheel in /usr/local/lib/python3.10/dist-packages (from nvidia-cublas-cu11==11.10.3.66->torch==2.0.0) (0.41.2)\n",
            "Requirement already satisfied: cmake in /usr/local/lib/python3.10/dist-packages (from triton==2.0.0->torch==2.0.0) (3.27.4.1)\n",
            "Requirement already satisfied: lit in /usr/local/lib/python3.10/dist-packages (from triton==2.0.0->torch==2.0.0) (16.0.6)\n",
            "Requirement already satisfied: absl-py>=1.0.0 in /usr/local/lib/python3.10/dist-packages (from torch-xla==2.0) (1.4.0)\n",
            "Requirement already satisfied: MarkupSafe>=2.0 in /usr/local/lib/python3.10/dist-packages (from jinja2->torch==2.0.0) (2.1.3)\n",
            "Requirement already satisfied: pyasn1>=0.1.7 in /usr/local/lib/python3.10/dist-packages (from oauth2client->cloud-tpu-client==0.10) (0.5.0)\n",
            "Requirement already satisfied: pyasn1-modules>=0.0.5 in /usr/local/lib/python3.10/dist-packages (from oauth2client->cloud-tpu-client==0.10) (0.3.0)\n",
            "Requirement already satisfied: rsa>=3.1.4 in /usr/local/lib/python3.10/dist-packages (from oauth2client->cloud-tpu-client==0.10) (4.9)\n",
            "Requirement already satisfied: charset-normalizer<4,>=2 in /usr/local/lib/python3.10/dist-packages (from requests->torchvision==0.15.1) (3.2.0)\n",
            "Requirement already satisfied: idna<4,>=2.5 in /usr/local/lib/python3.10/dist-packages (from requests->torchvision==0.15.1) (3.4)\n",
            "Requirement already satisfied: urllib3<3,>=1.21.1 in /usr/local/lib/python3.10/dist-packages (from requests->torchvision==0.15.1) (2.0.4)\n",
            "Requirement already satisfied: certifi>=2017.4.17 in /usr/local/lib/python3.10/dist-packages (from requests->torchvision==0.15.1) (2023.7.22)\n",
            "Requirement already satisfied: mpmath>=0.19 in /usr/local/lib/python3.10/dist-packages (from sympy->torch==2.0.0) (1.3.0)\n",
            "Requirement already satisfied: googleapis-common-protos<2.0dev,>=1.56.2 in /usr/local/lib/python3.10/dist-packages (from google-api-core<2dev,>=1.13.0->google-api-python-client==1.8.0->cloud-tpu-client==0.10) (1.60.0)\n",
            "Requirement already satisfied: protobuf!=3.20.0,!=3.20.1,!=4.21.0,!=4.21.1,!=4.21.2,!=4.21.3,!=4.21.4,!=4.21.5,<4.0.0dev,>=3.19.5 in /usr/local/lib/python3.10/dist-packages (from google-api-core<2dev,>=1.13.0->google-api-python-client==1.8.0->cloud-tpu-client==0.10) (3.20.3)\n",
            "Requirement already satisfied: cachetools<6.0,>=2.0.0 in /usr/local/lib/python3.10/dist-packages (from google-auth>=1.4.1->google-api-python-client==1.8.0->cloud-tpu-client==0.10) (5.3.1)\n",
            "Requirement already satisfied: pyparsing!=3.0.0,!=3.0.1,!=3.0.2,!=3.0.3,<4,>=2.4.2 in /usr/local/lib/python3.10/dist-packages (from httplib2<1dev,>=0.9.2->google-api-python-client==1.8.0->cloud-tpu-client==0.10) (3.1.1)\n",
            "Installing collected packages: uritemplate, nvidia-nvtx-cu11, nvidia-nccl-cu11, nvidia-cusparse-cu11, nvidia-curand-cu11, nvidia-cufft-cu11, nvidia-cuda-runtime-cu11, nvidia-cuda-nvrtc-cu11, nvidia-cuda-cupti-cu11, nvidia-cublas-cu11, nvidia-cusolver-cu11, nvidia-cudnn-cu11, google-api-core, google-api-python-client, cloud-tpu-client, torch-xla, torch, torchvision\n",
            "  Attempting uninstall: uritemplate\n",
            "    Found existing installation: uritemplate 4.1.1\n",
            "    Uninstalling uritemplate-4.1.1:\n",
            "      Successfully uninstalled uritemplate-4.1.1\n",
            "  Attempting uninstall: google-api-core\n",
            "    Found existing installation: google-api-core 2.11.1\n",
            "    Uninstalling google-api-core-2.11.1:\n",
            "      Successfully uninstalled google-api-core-2.11.1\n",
            "  Attempting uninstall: google-api-python-client\n",
            "    Found existing installation: google-api-python-client 2.84.0\n",
            "    Uninstalling google-api-python-client-2.84.0:\n",
            "      Successfully uninstalled google-api-python-client-2.84.0\n",
            "  Attempting uninstall: torch\n",
            "    Found existing installation: torch 2.0.1+cu118\n",
            "    Uninstalling torch-2.0.1+cu118:\n",
            "      Successfully uninstalled torch-2.0.1+cu118\n",
            "  Attempting uninstall: torchvision\n",
            "    Found existing installation: torchvision 0.15.2+cu118\n",
            "    Uninstalling torchvision-0.15.2+cu118:\n",
            "      Successfully uninstalled torchvision-0.15.2+cu118\n",
            "\u001b[31mERROR: pip's dependency resolver does not currently take into account all the packages that are installed. This behaviour is the source of the following dependency conflicts.\n",
            "pydrive2 1.6.3 requires google-api-python-client>=1.12.5, but you have google-api-python-client 1.8.0 which is incompatible.\n",
            "earthengine-api 0.1.368 requires google-api-python-client>=1.12.1, but you have google-api-python-client 1.8.0 which is incompatible.\n",
            "torchaudio 2.0.2+cu118 requires torch==2.0.1, but you have torch 2.0.0 which is incompatible.\n",
            "torchdata 0.6.1 requires torch==2.0.1, but you have torch 2.0.0 which is incompatible.\n",
            "torchtext 0.15.2 requires torch==2.0.1, but you have torch 2.0.0 which is incompatible.\u001b[0m\u001b[31m\n",
            "\u001b[0mSuccessfully installed cloud-tpu-client-0.10 google-api-core-1.34.0 google-api-python-client-1.8.0 nvidia-cublas-cu11-11.10.3.66 nvidia-cuda-cupti-cu11-11.7.101 nvidia-cuda-nvrtc-cu11-11.7.99 nvidia-cuda-runtime-cu11-11.7.99 nvidia-cudnn-cu11-8.5.0.96 nvidia-cufft-cu11-10.9.0.58 nvidia-curand-cu11-10.2.10.91 nvidia-cusolver-cu11-11.4.0.1 nvidia-cusparse-cu11-11.7.4.91 nvidia-nccl-cu11-2.14.3 nvidia-nvtx-cu11-11.7.91 torch-2.0.0 torch-xla-2.0.0.dev20230516+colab torchvision-0.15.1 uritemplate-3.0.1\n"
          ]
        },
        {
          "output_type": "display_data",
          "data": {
            "application/vnd.colab-display-data+json": {
              "pip_warning": {
                "packages": [
                  "google"
                ]
              }
            }
          },
          "metadata": {}
        }
      ],
      "source": [
        "!pip install cloud-tpu-client==0.10 torch==2.0.0 torchvision==0.15.1 https://storage.googleapis.com/tpu-pytorch/wheels/colab/torch_xla-2.0-cp310-cp310-linux_x86_64.whl"
      ]
    },
    {
      "cell_type": "markdown",
      "metadata": {
        "id": "nfSCdVlA8jFg"
      },
      "source": [
        "### If you're using GPU with this colab notebook, run the below commented code to install GPU compatible PyTorch wheel and dependencies"
      ]
    },
    {
      "cell_type": "code",
      "execution_count": 3,
      "metadata": {
        "id": "J1Vfg-rH8bF4"
      },
      "outputs": [],
      "source": [
        "#!pip install cloud-tpu-client==0.10 torch==2.0.0 torchvision==0.15.1 https://storage.googleapis.com/tpu-pytorch/wheels/cuda/117/torch_xla-2.0-cp39-cp39-linux_x86_64.whl --force-reinstall"
      ]
    },
    {
      "cell_type": "markdown",
      "metadata": {
        "id": "cPrij_iPfqTV"
      },
      "source": [
        "### Only run the below commented cell if you would like a nightly release"
      ]
    },
    {
      "cell_type": "code",
      "execution_count": 4,
      "metadata": {
        "id": "vJZrkoejQhxK"
      },
      "outputs": [],
      "source": [
        "# VERSION = \"1.13\"  #@param [\"1.13\", \"nightly\", \"20220315\"]  # or YYYYMMDD format\n",
        "# !curl https://raw.githubusercontent.com/pytorch/xla/master/contrib/scripts/env-setup.py -o pytorch-xla-env-setup.py\n",
        "# !python pytorch-xla-env-setup.py --version $VERSION\n",
        "# import os\n",
        "# os.environ['LD_LIBRARY_PATH']='/usr/local/lib'\n",
        "# !echo $LD_LIBRARY_PATH\n",
        "\n",
        "# !sudo ln -s /usr/local/lib/libmkl_intel_lp64.so /usr/local/lib/libmkl_intel_lp64.so.1\n",
        "# !sudo ln -s /usr/local/lib/libmkl_intel_thread.so /usr/local/lib/libmkl_intel_thread.so.1\n",
        "# !sudo ln -s /usr/local/lib/libmkl_core.so /usr/local/lib/libmkl_core.so.1\n",
        "\n",
        "# !ldconfig\n",
        "# !ldd /usr/local/lib/python3.7/dist-packages/torch/lib/libtorch.so"
      ]
    },
    {
      "cell_type": "markdown",
      "metadata": {
        "id": "OHpYeQrOLcmZ"
      },
      "source": [
        "### Define Parameters and Helpers, and start Training\n"
      ]
    },
    {
      "cell_type": "code",
      "execution_count": 5,
      "metadata": {
        "id": "LNLegt4jLkRD"
      },
      "outputs": [],
      "source": [
        "# Result Visualization Helper\n",
        "import math\n",
        "from matplotlib import pyplot as plt\n",
        "\n",
        "M, N = 4, 6\n",
        "RESULT_IMG_PATH = '/tmp/test_result.png'\n",
        "\n",
        "def plot_results(images, labels, preds):\n",
        "  images, labels, preds = images[:M*N], labels[:M*N], preds[:M*N]\n",
        "  inv_norm = transforms.Normalize((-0.1307/0.3081,), (1/0.3081,))\n",
        "\n",
        "  num_images = images.shape[0]\n",
        "  fig, axes = plt.subplots(M, N, figsize=(11, 9))\n",
        "  fig.suptitle('Correct / Predicted Labels (Red text for incorrect ones)')\n",
        "\n",
        "  for i, ax in enumerate(fig.axes):\n",
        "    ax.axis('off')\n",
        "    if i >= num_images:\n",
        "      continue\n",
        "    img, label, prediction = images[i], labels[i], preds[i]\n",
        "    img = inv_norm(img)\n",
        "    img = img.squeeze() # [1,Y,X] -> [Y,X]\n",
        "    label, prediction = label.item(), prediction.item()\n",
        "    if label == prediction:\n",
        "      ax.set_title(u'\\u2713', color='blue', fontsize=22)\n",
        "    else:\n",
        "      ax.set_title(\n",
        "          'X {}/{}'.format(label, prediction), color='red')\n",
        "    ax.imshow(img)\n",
        "  plt.savefig(RESULT_IMG_PATH, transparent=True)"
      ]
    },
    {
      "cell_type": "code",
      "execution_count": 6,
      "metadata": {
        "id": "kNh-oEmHmorI"
      },
      "outputs": [],
      "source": [
        "# Define Parameters\n",
        "FLAGS = {}\n",
        "FLAGS['datadir'] = \"/tmp/mnist\"\n",
        "FLAGS['batch_size'] = 128\n",
        "FLAGS['num_workers'] = 4\n",
        "FLAGS['learning_rate'] = 0.01\n",
        "FLAGS['momentum'] = 0.5\n",
        "FLAGS['num_epochs'] = 10\n",
        "FLAGS['num_cores'] = 8\n",
        "FLAGS['log_steps'] = 20\n",
        "FLAGS['metrics_debug'] = False"
      ]
    },
    {
      "cell_type": "code",
      "execution_count": 7,
      "metadata": {
        "id": "pTmxZL5ymp8P"
      },
      "outputs": [],
      "source": [
        "import numpy as np\n",
        "import os\n",
        "import time\n",
        "import torch\n",
        "import torch.nn as nn\n",
        "import torch.nn.functional as F\n",
        "import torch.optim as optim\n",
        "import torch_xla\n",
        "import torch_xla.core.xla_model as xm\n",
        "import torch_xla.debug.metrics as met\n",
        "import torch_xla.distributed.parallel_loader as pl\n",
        "import torch_xla.distributed.xla_multiprocessing as xmp\n",
        "import torch_xla.utils.utils as xu\n",
        "from torchvision import datasets, transforms\n",
        "\n",
        "\n",
        "SERIAL_EXEC = xmp.MpSerialExecutor()\n",
        "\n",
        "class MNIST(nn.Module):\n",
        "\n",
        "  def __init__(self):\n",
        "    super(MNIST, self).__init__()\n",
        "    self.conv1 = nn.Conv2d(1, 10, kernel_size=5)\n",
        "    self.bn1 = nn.BatchNorm2d(10)\n",
        "    self.conv2 = nn.Conv2d(10, 20, kernel_size=5)\n",
        "    self.bn2 = nn.BatchNorm2d(20)\n",
        "    self.fc1 = nn.Linear(320, 50)\n",
        "    self.fc2 = nn.Linear(50, 10)\n",
        "\n",
        "  def forward(self, x):\n",
        "    x = F.relu(F.max_pool2d(self.conv1(x), 2))\n",
        "    x = self.bn1(x)\n",
        "    x = F.relu(F.max_pool2d(self.conv2(x), 2))\n",
        "    x = self.bn2(x)\n",
        "    x = torch.flatten(x, 1)\n",
        "    x = F.relu(self.fc1(x))\n",
        "    x = self.fc2(x)\n",
        "    return F.log_softmax(x, dim=1)\n",
        "\n",
        "# Only instantiate model weights once in memory.\n",
        "WRAPPED_MODEL = xmp.MpModelWrapper(MNIST())\n",
        "\n",
        "def train_mnist():\n",
        "  torch.manual_seed(1)\n",
        "\n",
        "  def get_dataset():\n",
        "    norm = transforms.Normalize((0.1307,), (0.3081,))\n",
        "    train_dataset = datasets.MNIST(\n",
        "        FLAGS['datadir'],\n",
        "        train=True,\n",
        "        download=True,\n",
        "        transform=transforms.Compose(\n",
        "            [transforms.ToTensor(), norm]))\n",
        "    test_dataset = datasets.MNIST(\n",
        "        FLAGS['datadir'],\n",
        "        train=False,\n",
        "        download=True,\n",
        "        transform=transforms.Compose(\n",
        "            [transforms.ToTensor(), norm]))\n",
        "\n",
        "    return train_dataset, test_dataset\n",
        "\n",
        "  # Using the serial executor avoids multiple processes to\n",
        "  # download the same data.\n",
        "  train_dataset, test_dataset = SERIAL_EXEC.run(get_dataset)\n",
        "\n",
        "  train_sampler = torch.utils.data.distributed.DistributedSampler(\n",
        "    train_dataset,\n",
        "    num_replicas=xm.xrt_world_size(),\n",
        "    rank=xm.get_ordinal(),\n",
        "    shuffle=True)\n",
        "  train_loader = torch.utils.data.DataLoader(\n",
        "      train_dataset,\n",
        "      batch_size=FLAGS['batch_size'],\n",
        "      sampler=train_sampler,\n",
        "      num_workers=FLAGS['num_workers'],\n",
        "      drop_last=True)\n",
        "  test_loader = torch.utils.data.DataLoader(\n",
        "      test_dataset,\n",
        "      batch_size=FLAGS['batch_size'],\n",
        "      shuffle=False,\n",
        "      num_workers=FLAGS['num_workers'],\n",
        "      drop_last=True)\n",
        "\n",
        "  # Scale learning rate to world size\n",
        "  lr = FLAGS['learning_rate'] * xm.xrt_world_size()\n",
        "\n",
        "  # Get loss function, optimizer, and model\n",
        "  device = xm.xla_device()\n",
        "  model = WRAPPED_MODEL.to(device)\n",
        "  optimizer = optim.SGD(model.parameters(), lr=lr, momentum=FLAGS['momentum'])\n",
        "  loss_fn = nn.NLLLoss()\n",
        "\n",
        "  def train_loop_fn(loader):\n",
        "    tracker = xm.RateTracker()\n",
        "    model.train()\n",
        "    for x, (data, target) in enumerate(loader):\n",
        "      optimizer.zero_grad()\n",
        "      output = model(data)\n",
        "      loss = loss_fn(output, target)\n",
        "      loss.backward()\n",
        "      xm.optimizer_step(optimizer)\n",
        "      tracker.add(FLAGS['batch_size'])\n",
        "      if x % FLAGS['log_steps'] == 0:\n",
        "        print('[xla:{}]({}) Loss={:.5f} Rate={:.2f} GlobalRate={:.2f} Time={}'.format(\n",
        "            xm.get_ordinal(), x, loss.item(), tracker.rate(),\n",
        "            tracker.global_rate(), time.asctime()), flush=True)\n",
        "\n",
        "  def test_loop_fn(loader):\n",
        "    total_samples = 0\n",
        "    correct = 0\n",
        "    model.eval()\n",
        "    data, pred, target = None, None, None\n",
        "    for data, target in loader:\n",
        "      output = model(data)\n",
        "      pred = output.max(1, keepdim=True)[1]\n",
        "      correct += pred.eq(target.view_as(pred)).sum().item()\n",
        "      total_samples += data.size()[0]\n",
        "\n",
        "    accuracy = 100.0 * correct / total_samples\n",
        "    print('[xla:{}] Accuracy={:.2f}%'.format(\n",
        "        xm.get_ordinal(), accuracy), flush=True)\n",
        "    return accuracy, data, pred, target\n",
        "\n",
        "  # Train and eval loops\n",
        "  accuracy = 0.0\n",
        "  data, pred, target = None, None, None\n",
        "  for epoch in range(1, FLAGS['num_epochs'] + 1):\n",
        "    para_loader = pl.ParallelLoader(train_loader, [device])\n",
        "    train_loop_fn(para_loader.per_device_loader(device))\n",
        "    xm.master_print(\"Finished training epoch {}\".format(epoch))\n",
        "\n",
        "    para_loader = pl.ParallelLoader(test_loader, [device])\n",
        "    accuracy, data, pred, target  = test_loop_fn(para_loader.per_device_loader(device))\n",
        "    if FLAGS['metrics_debug']:\n",
        "      xm.master_print(met.metrics_report(), flush=True)\n",
        "\n",
        "  return accuracy, data, pred, target"
      ]
    },
    {
      "cell_type": "code",
      "execution_count": 8,
      "metadata": {
        "colab": {
          "base_uri": "https://localhost:8080/"
        },
        "id": "Afwo4H7kSd8P",
        "outputId": "95565d0b-56bb-46b5-decf-75303e63ad02"
      },
      "outputs": [
        {
          "output_type": "stream",
          "name": "stdout",
          "text": [
            "Downloading http://yann.lecun.com/exdb/mnist/train-images-idx3-ubyte.gz\n",
            "Downloading http://yann.lecun.com/exdb/mnist/train-images-idx3-ubyte.gz to /tmp/mnist/MNIST/raw/train-images-idx3-ubyte.gz\n"
          ]
        },
        {
          "output_type": "stream",
          "name": "stderr",
          "text": [
            "100%|██████████| 9912422/9912422 [00:00<00:00, 79109255.95it/s]\n"
          ]
        },
        {
          "output_type": "stream",
          "name": "stdout",
          "text": [
            "Extracting /tmp/mnist/MNIST/raw/train-images-idx3-ubyte.gz to /tmp/mnist/MNIST/raw\n",
            "\n",
            "Downloading http://yann.lecun.com/exdb/mnist/train-labels-idx1-ubyte.gz\n",
            "Downloading http://yann.lecun.com/exdb/mnist/train-labels-idx1-ubyte.gz to /tmp/mnist/MNIST/raw/train-labels-idx1-ubyte.gz\n"
          ]
        },
        {
          "output_type": "stream",
          "name": "stderr",
          "text": [
            "100%|██████████| 28881/28881 [00:00<00:00, 62732104.52it/s]\n"
          ]
        },
        {
          "output_type": "stream",
          "name": "stdout",
          "text": [
            "Extracting /tmp/mnist/MNIST/raw/train-labels-idx1-ubyte.gz to /tmp/mnist/MNIST/raw\n",
            "\n",
            "Downloading http://yann.lecun.com/exdb/mnist/t10k-images-idx3-ubyte.gz\n",
            "Downloading http://yann.lecun.com/exdb/mnist/t10k-images-idx3-ubyte.gz to /tmp/mnist/MNIST/raw/t10k-images-idx3-ubyte.gz\n"
          ]
        },
        {
          "output_type": "stream",
          "name": "stderr",
          "text": [
            "100%|██████████| 1648877/1648877 [00:00<00:00, 29249719.37it/s]\n"
          ]
        },
        {
          "output_type": "stream",
          "name": "stdout",
          "text": [
            "Extracting /tmp/mnist/MNIST/raw/t10k-images-idx3-ubyte.gz to /tmp/mnist/MNIST/raw\n",
            "\n",
            "Downloading http://yann.lecun.com/exdb/mnist/t10k-labels-idx1-ubyte.gz\n",
            "Downloading http://yann.lecun.com/exdb/mnist/t10k-labels-idx1-ubyte.gz to /tmp/mnist/MNIST/raw/t10k-labels-idx1-ubyte.gz\n"
          ]
        },
        {
          "output_type": "stream",
          "name": "stderr",
          "text": [
            "100%|██████████| 4542/4542 [00:00<00:00, 11140660.10it/s]\n"
          ]
        },
        {
          "output_type": "stream",
          "name": "stdout",
          "text": [
            "Extracting /tmp/mnist/MNIST/raw/t10k-labels-idx1-ubyte.gz to /tmp/mnist/MNIST/raw\n",
            "\n"
          ]
        },
        {
          "output_type": "stream",
          "name": "stderr",
          "text": [
            "/usr/local/lib/python3.10/dist-packages/torch/utils/data/dataloader.py:561: UserWarning: This DataLoader will create 4 worker processes in total. Our suggested max number of worker in current system is 2, which is smaller than what this DataLoader is going to create. Please be aware that excessive worker creation might get DataLoader running slow or even freeze, lower the worker number to avoid potential slowness/freeze if necessary.\n",
            "  warnings.warn(_create_warning_msg(\n",
            "/usr/local/lib/python3.10/dist-packages/torch/utils/data/dataloader.py:561: UserWarning: This DataLoader will create 4 worker processes in total. Our suggested max number of worker in current system is 2, which is smaller than what this DataLoader is going to create. Please be aware that excessive worker creation might get DataLoader running slow or even freeze, lower the worker number to avoid potential slowness/freeze if necessary.\n",
            "  warnings.warn(_create_warning_msg(\n",
            "/usr/local/lib/python3.10/dist-packages/torch/utils/data/dataloader.py:561: UserWarning: This DataLoader will create 4 worker processes in total. Our suggested max number of worker in current system is 2, which is smaller than what this DataLoader is going to create. Please be aware that excessive worker creation might get DataLoader running slow or even freeze, lower the worker number to avoid potential slowness/freeze if necessary.\n",
            "  warnings.warn(_create_warning_msg(\n",
            "/usr/local/lib/python3.10/dist-packages/torch/utils/data/dataloader.py:561: UserWarning: This DataLoader will create 4 worker processes in total. Our suggested max number of worker in current system is 2, which is smaller than what this DataLoader is going to create. Please be aware that excessive worker creation might get DataLoader running slow or even freeze, lower the worker number to avoid potential slowness/freeze if necessary.\n",
            "  warnings.warn(_create_warning_msg(\n"
          ]
        },
        {
          "output_type": "stream",
          "name": "stdout",
          "text": [
            "[xla:0](0) Loss=2.31894 Rate=80.68 GlobalRate=80.68 Time=Tue Sep 12 18:05:52 2023\n",
            "[xla:3](0) Loss=2.32329 Rate=81.14 GlobalRate=81.14 Time=Tue Sep 12 18:05:52 2023\n"
          ]
        },
        {
          "output_type": "stream",
          "name": "stderr",
          "text": [
            "/usr/local/lib/python3.10/dist-packages/torch/utils/data/dataloader.py:561: UserWarning: This DataLoader will create 4 worker processes in total. Our suggested max number of worker in current system is 2, which is smaller than what this DataLoader is going to create. Please be aware that excessive worker creation might get DataLoader running slow or even freeze, lower the worker number to avoid potential slowness/freeze if necessary.\n",
            "  warnings.warn(_create_warning_msg(\n"
          ]
        },
        {
          "output_type": "stream",
          "name": "stdout",
          "text": [
            "[xla:4](0) Loss=2.32933 Rate=61.15 GlobalRate=61.15 Time=Tue Sep 12 18:05:53 2023\n"
          ]
        },
        {
          "output_type": "stream",
          "name": "stderr",
          "text": [
            "/usr/local/lib/python3.10/dist-packages/torch/utils/data/dataloader.py:561: UserWarning: This DataLoader will create 4 worker processes in total. Our suggested max number of worker in current system is 2, which is smaller than what this DataLoader is going to create. Please be aware that excessive worker creation might get DataLoader running slow or even freeze, lower the worker number to avoid potential slowness/freeze if necessary.\n",
            "  warnings.warn(_create_warning_msg(\n"
          ]
        },
        {
          "output_type": "stream",
          "name": "stdout",
          "text": [
            "[xla:2](0) Loss=2.32916 Rate=54.99 GlobalRate=54.99 Time=Tue Sep 12 18:05:54 2023\n"
          ]
        },
        {
          "output_type": "stream",
          "name": "stderr",
          "text": [
            "/usr/local/lib/python3.10/dist-packages/torch/utils/data/dataloader.py:561: UserWarning: This DataLoader will create 4 worker processes in total. Our suggested max number of worker in current system is 2, which is smaller than what this DataLoader is going to create. Please be aware that excessive worker creation might get DataLoader running slow or even freeze, lower the worker number to avoid potential slowness/freeze if necessary.\n",
            "  warnings.warn(_create_warning_msg(\n"
          ]
        },
        {
          "output_type": "stream",
          "name": "stdout",
          "text": [
            "[xla:1](0) Loss=2.32421 Rate=49.02 GlobalRate=49.02 Time=Tue Sep 12 18:05:55 2023\n"
          ]
        },
        {
          "output_type": "stream",
          "name": "stderr",
          "text": [
            "/usr/local/lib/python3.10/dist-packages/torch/utils/data/dataloader.py:561: UserWarning: This DataLoader will create 4 worker processes in total. Our suggested max number of worker in current system is 2, which is smaller than what this DataLoader is going to create. Please be aware that excessive worker creation might get DataLoader running slow or even freeze, lower the worker number to avoid potential slowness/freeze if necessary.\n",
            "  warnings.warn(_create_warning_msg(\n"
          ]
        },
        {
          "output_type": "stream",
          "name": "stdout",
          "text": [
            "[xla:7](0) Loss=2.34206 Rate=59.74 GlobalRate=59.74 Time=Tue Sep 12 18:05:56 2023\n",
            "[xla:6](0) Loss=2.32661 Rate=51.54 GlobalRate=51.54 Time=Tue Sep 12 18:05:58 2023\n",
            "[xla:5](0) Loss=2.32424 Rate=38.95 GlobalRate=38.95 Time=Tue Sep 12 18:06:00 2023\n",
            "[xla:2](20) Loss=0.38796 Rate=123.39 GlobalRate=153.81 Time=Tue Sep 12 18:06:09 2023[xla:0](20) Loss=0.39214 Rate=118.33 GlobalRate=138.31 Time=Tue Sep 12 18:06:09 2023[xla:4](20) Loss=0.38392 Rate=118.74 GlobalRate=146.21 Time=Tue Sep 12 18:06:09 2023[xla:1](20) Loss=0.29173 Rate=129.88 GlobalRate=162.51 Time=Tue Sep 12 18:06:09 2023[xla:7](20) Loss=0.34628 Rate=142.91 GlobalRate=178.62 Time=Tue Sep 12 18:06:09 2023[xla:3](20) Loss=0.36126 Rate=121.14 GlobalRate=142.24 Time=Tue Sep 12 18:06:09 2023[xla:6](20) Loss=0.27825 Rate=157.05 GlobalRate=195.61 Time=Tue Sep 12 18:06:09 2023\n",
            "\n",
            "\n",
            "\n",
            "\n",
            "\n",
            "\n",
            "[xla:5](20) Loss=0.35114 Rate=172.71 GlobalRate=205.79 Time=Tue Sep 12 18:06:10 2023\n",
            "[xla:2](40) Loss=0.15461 Rate=234.36 GlobalRate=203.58 Time=Tue Sep 12 18:06:18 2023[xla:4](40) Loss=0.13066 Rate=233.18 GlobalRate=196.87 Time=Tue Sep 12 18:06:18 2023[xla:6](40) Loss=0.18995 Rate=248.24 GlobalRate=238.27 Time=Tue Sep 12 18:06:18 2023[xla:7](40) Loss=0.18363 Rate=242.67 GlobalRate=224.96 Time=Tue Sep 12 18:06:18 2023[xla:1](40) Loss=0.15491 Rate=237.66 GlobalRate=211.52 Time=Tue Sep 12 18:06:18 2023[xla:3](40) Loss=0.25038 Rate=234.36 GlobalRate=193.22 Time=Tue Sep 12 18:06:18 2023[xla:0](40) Loss=0.23710 Rate=232.37 GlobalRate=189.21 Time=Tue Sep 12 18:06:18 2023\n",
            "\n",
            "\n",
            "\n",
            "\n",
            "\n",
            "\n",
            "[xla:5](40) Loss=0.15624 Rate=243.91 GlobalRate=240.21 Time=Tue Sep 12 18:06:18 2023\n",
            "Finished training epoch 1\n",
            "[xla:4] Accuracy=96.65%\n",
            "[xla:1] Accuracy=96.63%\n",
            "[xla:3] Accuracy=96.68%\n",
            "[xla:7] Accuracy=96.67%\n",
            "[xla:6] Accuracy=96.65%\n",
            "[xla:2] Accuracy=96.67%[xla:0] Accuracy=96.66%\n",
            "\n",
            "[xla:5] Accuracy=96.65%\n",
            "[xla:4](0) Loss=0.12763 Rate=46.46 GlobalRate=46.46 Time=Tue Sep 12 18:07:14 2023\n",
            "[xla:3](0) Loss=0.09048 Rate=37.20 GlobalRate=37.20 Time=Tue Sep 12 18:07:15 2023\n",
            "[xla:1](0) Loss=0.15243 Rate=35.41 GlobalRate=35.41 Time=Tue Sep 12 18:07:15 2023\n",
            "[xla:7](0) Loss=0.21192 Rate=37.40 GlobalRate=37.40 Time=Tue Sep 12 18:07:15 2023\n",
            "[xla:6](0) Loss=0.20564 Rate=29.88 GlobalRate=29.88 Time=Tue Sep 12 18:07:16 2023[xla:0](0) Loss=0.12935 Rate=30.97 GlobalRate=30.96 Time=Tue Sep 12 18:07:16 2023\n",
            "\n",
            "[xla:5](0) Loss=0.14160 Rate=29.22 GlobalRate=29.22 Time=Tue Sep 12 18:07:17 2023[xla:2](0) Loss=0.14773 Rate=28.15 GlobalRate=28.15 Time=Tue Sep 12 18:07:17 2023\n",
            "\n",
            "[xla:4](20) Loss=0.14564 Rate=158.63 GlobalRate=195.88 Time=Tue Sep 12 18:07:25 2023\n",
            "[xla:1](20) Loss=0.06713 Rate=160.65 GlobalRate=190.63 Time=Tue Sep 12 18:07:26 2023\n",
            "[xla:7](20) Loss=0.14968 Rate=160.89 GlobalRate=192.72 Time=Tue Sep 12 18:07:26 2023\n",
            "[xla:5](20) Loss=0.13790 Rate=169.47 GlobalRate=190.43 Time=Tue Sep 12 18:07:26 2023\n",
            "[xla:3](20) Loss=0.13758 Rate=148.48 GlobalRate=179.95 Time=Tue Sep 12 18:07:27 2023[xla:0](20) Loss=0.10899 Rate=163.24 GlobalRate=187.77 Time=Tue Sep 12 18:07:27 2023\n",
            "\n",
            "[xla:6](20) Loss=0.05083 Rate=156.70 GlobalRate=180.46 Time=Tue Sep 12 18:07:27 2023\n",
            "[xla:2](20) Loss=0.16607 Rate=162.23 GlobalRate=182.59 Time=Tue Sep 12 18:07:27 2023\n",
            "[xla:4](40) Loss=0.05527 Rate=174.51 GlobalRate=190.46 Time=Tue Sep 12 18:07:39 2023[xla:1](40) Loss=0.08258 Rate=180.29 GlobalRate=191.96 Time=Tue Sep 12 18:07:39 2023\n",
            "\n",
            "[xla:7](40) Loss=0.08027 Rate=177.97 GlobalRate=191.07 Time=Tue Sep 12 18:07:40 2023[xla:2](40) Loss=0.07802 Rate=186.30 GlobalRate=191.72 Time=Tue Sep 12 18:07:40 2023[xla:3](40) Loss=0.14629 Rate=177.05 GlobalRate=187.48 Time=Tue Sep 12 18:07:40 2023\n",
            "\n",
            "[xla:5](40) Loss=0.07179 Rate=182.87 GlobalRate=191.10 Time=Tue Sep 12 18:07:40 2023\n",
            "\n",
            "[xla:0](40) Loss=0.16099 Rate=179.41 GlobalRate=188.94 Time=Tue Sep 12 18:07:40 2023\n",
            "[xla:6](40) Loss=0.08051 Rate=175.94 GlobalRate=184.42 Time=Tue Sep 12 18:07:40 2023\n",
            "Finished training epoch 2\n",
            "[xla:2] Accuracy=97.77%\n",
            "[xla:6] Accuracy=97.76%\n",
            "[xla:0] Accuracy=97.75%[xla:3] Accuracy=97.76%\n",
            "\n",
            "[xla:1] Accuracy=97.74%\n",
            "[xla:7] Accuracy=97.77%\n",
            "[xla:4] Accuracy=97.73%[xla:5] Accuracy=97.75%\n",
            "\n",
            "[xla:2](0) Loss=0.12000 Rate=28.94 GlobalRate=28.94 Time=Tue Sep 12 18:08:28 2023\n",
            "[xla:3](0) Loss=0.04669 Rate=27.40 GlobalRate=27.40 Time=Tue Sep 12 18:08:29 2023\n",
            "[xla:0](0) Loss=0.07979 Rate=26.76 GlobalRate=26.76 Time=Tue Sep 12 18:08:29 2023\n",
            "[xla:6](0) Loss=0.12743 Rate=24.26 GlobalRate=24.26 Time=Tue Sep 12 18:08:29 2023\n",
            "[xla:1](0) Loss=0.07410 Rate=23.63 GlobalRate=23.63 Time=Tue Sep 12 18:08:30 2023\n",
            "[xla:4](0) Loss=0.07765 Rate=20.77 GlobalRate=20.77 Time=Tue Sep 12 18:08:31 2023[xla:5](0) Loss=0.07847 Rate=21.56 GlobalRate=21.56 Time=Tue Sep 12 18:08:31 2023\n",
            "\n",
            "[xla:7](0) Loss=0.13211 Rate=20.57 GlobalRate=20.57 Time=Tue Sep 12 18:08:31 2023\n",
            "[xla:2](20) Loss=0.12525 Rate=146.36 GlobalRate=169.93 Time=Tue Sep 12 18:08:40 2023[xla:6](20) Loss=0.02347 Rate=156.60 GlobalRate=170.85 Time=Tue Sep 12 18:08:40 2023[xla:3](20) Loss=0.10066 Rate=151.60 GlobalRate=172.37 Time=Tue Sep 12 18:08:40 2023[xla:0](20) Loss=0.07255 Rate=155.28 GlobalRate=174.46 Time=Tue Sep 12 18:08:40 2023\n",
            "[xla:1](20) Loss=0.03886 Rate=162.56 GlobalRate=174.00 Time=Tue Sep 12 18:08:40 2023\n",
            "\n",
            "\n",
            "\n",
            "[xla:4](20) Loss=0.09858 Rate=169.47 GlobalRate=171.30 Time=Tue Sep 12 18:08:41 2023[xla:7](20) Loss=0.12227 Rate=173.08 GlobalRate=172.96 Time=Tue Sep 12 18:08:41 2023\n",
            "\n",
            "[xla:5](20) Loss=0.10506 Rate=166.52 GlobalRate=171.59 Time=Tue Sep 12 18:08:41 2023\n",
            "[xla:0](40) Loss=0.14280 Rate=217.50 GlobalRate=207.49 Time=Tue Sep 12 18:08:50 2023[xla:1](40) Loss=0.06371 Rate=220.36 GlobalRate=207.13 Time=Tue Sep 12 18:08:50 2023[xla:3](40) Loss=0.10847 Rate=216.00 GlobalRate=205.96 Time=Tue Sep 12 18:08:50 2023[xla:2](40) Loss=0.05863 Rate=212.88 GlobalRate=203.64 Time=Tue Sep 12 18:08:50 2023[xla:4](40) Loss=0.03319 Rate=234.90 GlobalRate=210.90 Time=Tue Sep 12 18:08:50 2023[xla:6](40) Loss=0.05275 Rate=217.00 GlobalRate=204.33 Time=Tue Sep 12 18:08:50 2023\n",
            "\n",
            "\n",
            "\n",
            "\n",
            "\n",
            "[xla:7](40) Loss=0.04979 Rate=230.76 GlobalRate=209.50 Time=Tue Sep 12 18:08:50 2023\n",
            "[xla:5](40) Loss=0.04271 Rate=222.58 GlobalRate=205.70 Time=Tue Sep 12 18:08:51 2023\n",
            "Finished training epoch 3\n",
            "[xla:6] Accuracy=98.19%\n",
            "[xla:1] Accuracy=98.18%[xla:7] Accuracy=98.20%\n",
            "\n",
            "[xla:3] Accuracy=98.19%\n",
            "[xla:4] Accuracy=98.20%[xla:2] Accuracy=98.20%[xla:5] Accuracy=98.18%\n",
            "\n",
            "\n",
            "[xla:0] Accuracy=98.21%\n",
            "[xla:6](0) Loss=0.09889 Rate=54.87 GlobalRate=54.87 Time=Tue Sep 12 18:09:38 2023\n",
            "[xla:1](0) Loss=0.04887 Rate=51.03 GlobalRate=51.03 Time=Tue Sep 12 18:09:38 2023\n",
            "[xla:7](0) Loss=0.09171 Rate=52.58 GlobalRate=52.58 Time=Tue Sep 12 18:09:39 2023\n",
            "[xla:2](0) Loss=0.10457 Rate=42.06 GlobalRate=42.06 Time=Tue Sep 12 18:09:39 2023[xla:5](0) Loss=0.05647 Rate=41.56 GlobalRate=41.55 Time=Tue Sep 12 18:09:39 2023[xla:4](0) Loss=0.06080 Rate=41.48 GlobalRate=41.48 Time=Tue Sep 12 18:09:39 2023[xla:3](0) Loss=0.03247 Rate=40.72 GlobalRate=40.72 Time=Tue Sep 12 18:09:39 2023\n",
            "\n",
            "\n",
            "\n",
            "[xla:0](0) Loss=0.06366 Rate=39.62 GlobalRate=39.62 Time=Tue Sep 12 18:09:40 2023\n",
            "[xla:7](20) Loss=0.10811 Rate=185.60 GlobalRate=228.42 Time=Tue Sep 12 18:09:48 2023[xla:6](20) Loss=0.01379 Rate=180.35 GlobalRate=223.45 Time=Tue Sep 12 18:09:48 2023[xla:1](20) Loss=0.02781 Rate=181.61 GlobalRate=223.31 Time=Tue Sep 12 18:09:48 2023\n",
            "[xla:5](20) Loss=0.09101 Rate=195.70 GlobalRate=230.58 Time=Tue Sep 12 18:09:48 2023\n",
            "\n",
            "\n",
            "[xla:2](20) Loss=0.11067 Rate=185.81 GlobalRate=221.56 Time=Tue Sep 12 18:09:48 2023\n",
            "[xla:3](20) Loss=0.08394 Rate=179.04 GlobalRate=213.65 Time=Tue Sep 12 18:09:49 2023[xla:4](20) Loss=0.07742 Rate=179.57 GlobalRate=214.87 Time=Tue Sep 12 18:09:49 2023\n",
            "\n",
            "[xla:0](20) Loss=0.05902 Rate=179.45 GlobalRate=213.00 Time=Tue Sep 12 18:09:49 2023\n",
            "[xla:6](40) Loss=0.03896 Rate=211.01 GlobalRate=227.28 Time=Tue Sep 12 18:09:59 2023[xla:1](40) Loss=0.05197 Rate=211.69 GlobalRate=227.35 Time=Tue Sep 12 18:09:59 2023\n",
            "\n",
            "[xla:7](40) Loss=0.03355 Rate=209.55 GlobalRate=226.99 Time=Tue Sep 12 18:09:59 2023\n",
            "[xla:5](40) Loss=0.02876 Rate=212.57 GlobalRate=227.23 Time=Tue Sep 12 18:09:59 2023\n",
            "[xla:4](40) Loss=0.02287 Rate=213.14 GlobalRate=224.47 Time=Tue Sep 12 18:10:00 2023[xla:3](40) Loss=0.09011 Rate=212.67 GlobalRate=223.60 Time=Tue Sep 12 18:10:00 2023\n",
            "[xla:2](40) Loss=0.05006 Rate=209.16 GlobalRate=223.09 Time=Tue Sep 12 18:10:00 2023\n",
            "\n",
            "[xla:0](40) Loss=0.13628 Rate=208.94 GlobalRate=220.34 Time=Tue Sep 12 18:10:00 2023\n",
            "Finished training epoch 4\n",
            "[xla:4] Accuracy=98.52%[xla:6] Accuracy=98.50%\n",
            "\n",
            "[xla:5] Accuracy=98.50%\n",
            "[xla:1] Accuracy=98.51%[xla:2] Accuracy=98.56%\n",
            "[xla:0] Accuracy=98.54%\n",
            "\n",
            "[xla:3] Accuracy=98.55%\n",
            "[xla:7] Accuracy=98.55%\n",
            "[xla:6](0) Loss=0.08091 Rate=41.41 GlobalRate=41.41 Time=Tue Sep 12 18:10:41 2023\n",
            "[xla:4](0) Loss=0.05353 Rate=36.87 GlobalRate=36.87 Time=Tue Sep 12 18:10:42 2023\n",
            "[xla:5](0) Loss=0.04403 Rate=35.94 GlobalRate=35.94 Time=Tue Sep 12 18:10:42 2023\n",
            "[xla:1](0) Loss=0.03677 Rate=33.43 GlobalRate=33.43 Time=Tue Sep 12 18:10:42 2023\n",
            "[xla:2](0) Loss=0.09611 Rate=30.26 GlobalRate=30.26 Time=Tue Sep 12 18:10:42 2023\n",
            "[xla:0](0) Loss=0.05862 Rate=30.27 GlobalRate=30.27 Time=Tue Sep 12 18:10:43 2023\n",
            "[xla:3](0) Loss=0.02541 Rate=27.50 GlobalRate=27.50 Time=Tue Sep 12 18:10:43 2023\n",
            "[xla:7](0) Loss=0.07168 Rate=26.06 GlobalRate=26.06 Time=Tue Sep 12 18:10:44 2023\n",
            "[xla:6](20) Loss=0.00889 Rate=144.62 GlobalRate=178.18 Time=Tue Sep 12 18:10:53 2023\n",
            "[xla:4](20) Loss=0.06403 Rate=143.44 GlobalRate=174.47 Time=Tue Sep 12 18:10:54 2023[xla:5](20) Loss=0.08279 Rate=146.25 GlobalRate=176.74 Time=Tue Sep 12 18:10:54 2023[xla:2](20) Loss=0.10116 Rate=151.24 GlobalRate=176.04 Time=Tue Sep 12 18:10:54 2023[xla:1](20) Loss=0.02192 Rate=148.12 GlobalRate=176.52 Time=Tue Sep 12 18:10:54 2023\n",
            "\n",
            "\n",
            "\n",
            "[xla:0](20) Loss=0.05114 Rate=145.59 GlobalRate=170.83 Time=Tue Sep 12 18:10:54 2023\n",
            "[xla:3](20) Loss=0.07361 Rate=147.61 GlobalRate=169.07 Time=Tue Sep 12 18:10:54 2023\n",
            "[xla:7](20) Loss=0.09845 Rate=148.26 GlobalRate=167.41 Time=Tue Sep 12 18:10:55 2023\n",
            "[xla:5](40) Loss=0.02203 Rate=245.35 GlobalRate=223.99 Time=Tue Sep 12 18:11:02 2023[xla:2](40) Loss=0.04564 Rate=246.97 GlobalRate=223.26 Time=Tue Sep 12 18:11:02 2023[xla:4](40) Loss=0.01814 Rate=244.20 GlobalRate=222.10 Time=Tue Sep 12 18:11:02 2023[xla:6](40) Loss=0.03136 Rate=238.08 GlobalRate=222.30 Time=Tue Sep 12 18:11:02 2023[xla:1](40) Loss=0.04452 Rate=248.09 GlobalRate=224.64 Time=Tue Sep 12 18:11:02 2023[xla:0](40) Loss=0.12900 Rate=259.57 GlobalRate=224.61 Time=Tue Sep 12 18:11:02 2023\n",
            "\n",
            "\n",
            "\n",
            "\n",
            "\n",
            "[xla:3](40) Loss=0.07983 Rate=258.78 GlobalRate=222.48 Time=Tue Sep 12 18:11:02 2023\n",
            "[xla:7](40) Loss=0.02435 Rate=260.60 GlobalRate=221.56 Time=Tue Sep 12 18:11:02 2023\n",
            "Finished training epoch 5\n",
            "[xla:6] Accuracy=98.71%\n",
            "[xla:3] Accuracy=98.73%\n",
            "[xla:5] Accuracy=98.68%\n",
            "[xla:4] Accuracy=98.71%[xla:7] Accuracy=98.70%\n",
            "\n",
            "[xla:2] Accuracy=98.72%\n",
            "[xla:1] Accuracy=98.66%\n",
            "[xla:0] Accuracy=98.69%\n",
            "[xla:6](0) Loss=0.06975 Rate=59.99 GlobalRate=59.98 Time=Tue Sep 12 18:11:51 2023\n",
            "[xla:5](0) Loss=0.03731 Rate=64.91 GlobalRate=64.91 Time=Tue Sep 12 18:11:51 2023\n",
            "[xla:3](0) Loss=0.02117 Rate=53.00 GlobalRate=53.00 Time=Tue Sep 12 18:11:51 2023\n",
            "[xla:4](0) Loss=0.04837 Rate=44.03 GlobalRate=44.03 Time=Tue Sep 12 18:11:52 2023\n",
            "[xla:7](0) Loss=0.05862 Rate=43.02 GlobalRate=43.02 Time=Tue Sep 12 18:11:52 2023\n",
            "[xla:1](0) Loss=0.03111 Rate=40.15 GlobalRate=40.15 Time=Tue Sep 12 18:11:52 2023[xla:2](0) Loss=0.08930 Rate=39.64 GlobalRate=39.64 Time=Tue Sep 12 18:11:52 2023\n",
            "\n",
            "[xla:0](0) Loss=0.05667 Rate=35.16 GlobalRate=35.16 Time=Tue Sep 12 18:11:53 2023\n",
            "[xla:3](20) Loss=0.06716 Rate=186.06 GlobalRate=229.12 Time=Tue Sep 12 18:12:01 2023[xla:1](20) Loss=0.01852 Rate=201.20 GlobalRate=234.05 Time=Tue Sep 12 18:12:01 2023[xla:4](20) Loss=0.05503 Rate=194.37 GlobalRate=231.79 Time=Tue Sep 12 18:12:01 2023[xla:2](20) Loss=0.09587 Rate=202.26 GlobalRate=234.37 Time=Tue Sep 12 18:12:01 2023[xla:7](20) Loss=0.08938 Rate=196.61 GlobalRate=232.99 Time=Tue Sep 12 18:12:01 2023[xla:6](20) Loss=0.00668 Rate=178.16 GlobalRate=222.20 Time=Tue Sep 12 18:12:01 2023[xla:5](20) Loss=0.07478 Rate=183.70 GlobalRate=229.55 Time=Tue Sep 12 18:12:01 2023\n",
            "\n",
            "\n",
            "\n",
            "\n",
            "\n",
            "\n",
            "[xla:0](20) Loss=0.04346 Rate=188.31 GlobalRate=215.81 Time=Tue Sep 12 18:12:02 2023\n",
            "[xla:5](40) Loss=0.01778 Rate=202.62 GlobalRate=222.34 Time=Tue Sep 12 18:12:13 2023[xla:2](40) Loss=0.04217 Rate=210.10 GlobalRate=224.67 Time=Tue Sep 12 18:12:13 2023[xla:3](40) Loss=0.07226 Rate=203.45 GlobalRate=222.03 Time=Tue Sep 12 18:12:13 2023[xla:6](40) Loss=0.02658 Rate=200.34 GlobalRate=218.69 Time=Tue Sep 12 18:12:13 2023[xla:7](40) Loss=0.01871 Rate=207.96 GlobalRate=224.13 Time=Tue Sep 12 18:12:13 2023[xla:1](40) Loss=0.04063 Rate=209.57 GlobalRate=224.43 Time=Tue Sep 12 18:12:13 2023[xla:4](40) Loss=0.01506 Rate=206.86 GlobalRate=223.38 Time=Tue Sep 12 18:12:13 2023\n",
            "\n",
            "\n",
            "\n",
            "\n",
            "\n",
            "\n",
            "[xla:0](40) Loss=0.12153 Rate=203.79 GlobalRate=214.98 Time=Tue Sep 12 18:12:14 2023\n",
            "Finished training epoch 6\n",
            "[xla:3] Accuracy=98.83%\n",
            "[xla:1] Accuracy=98.80%\n",
            "[xla:5] Accuracy=98.80%\n",
            "[xla:7] Accuracy=98.83%\n",
            "[xla:6] Accuracy=98.83%\n",
            "[xla:4] Accuracy=98.80%\n",
            "[xla:0] Accuracy=98.82%\n",
            "[xla:2] Accuracy=98.83%\n",
            "[xla:3](0) Loss=0.01798 Rate=31.77 GlobalRate=31.77 Time=Tue Sep 12 18:13:05 2023\n",
            "[xla:5](0) Loss=0.03038 Rate=29.33 GlobalRate=29.33 Time=Tue Sep 12 18:13:05 2023\n",
            "[xla:1](0) Loss=0.02709 Rate=28.37 GlobalRate=28.37 Time=Tue Sep 12 18:13:06 2023\n",
            "[xla:4](0) Loss=0.04491 Rate=26.47 GlobalRate=26.47 Time=Tue Sep 12 18:13:06 2023\n",
            "[xla:7](0) Loss=0.04777 Rate=22.74 GlobalRate=22.74 Time=Tue Sep 12 18:13:07 2023\n",
            "[xla:6](0) Loss=0.06036 Rate=20.04 GlobalRate=20.04 Time=Tue Sep 12 18:13:08 2023\n",
            "[xla:0](0) Loss=0.05341 Rate=19.73 GlobalRate=19.73 Time=Tue Sep 12 18:13:08 2023\n",
            "[xla:2](0) Loss=0.08186 Rate=17.73 GlobalRate=17.73 Time=Tue Sep 12 18:13:09 2023\n",
            "[xla:3](20) Loss=0.06358 Rate=125.53 GlobalRate=152.35 Time=Tue Sep 12 18:13:18 2023[xla:4](20) Loss=0.04921 Rate=139.75 GlobalRate=160.70 Time=Tue Sep 12 18:13:18 2023[xla:7](20) Loss=0.08171 Rate=145.58 GlobalRate=159.22 Time=Tue Sep 12 18:13:18 2023[xla:1](20) Loss=0.01645 Rate=133.81 GlobalRate=157.62 Time=Tue Sep 12 18:13:18 2023[xla:5](20) Loss=0.06801 Rate=131.95 GlobalRate=156.81 Time=Tue Sep 12 18:13:18 2023\n",
            "\n",
            "\n",
            "\n",
            "\n",
            "[xla:0](20) Loss=0.03890 Rate=154.01 GlobalRate=158.13 Time=Tue Sep 12 18:13:19 2023[xla:6](20) Loss=0.00528 Rate=149.64 GlobalRate=155.97 Time=Tue Sep 12 18:13:19 2023\n",
            "\n",
            "[xla:2](20) Loss=0.08736 Rate=161.64 GlobalRate=156.65 Time=Tue Sep 12 18:13:19 2023\n",
            "[xla:5](40) Loss=0.01468 Rate=255.24 GlobalRate=212.23 Time=Tue Sep 12 18:13:26 2023[xla:7](40) Loss=0.01532 Rate=260.71 GlobalRate=214.49 Time=Tue Sep 12 18:13:26 2023\n",
            "\n",
            "[xla:1](40) Loss=0.03702 Rate=255.94 GlobalRate=212.97 Time=Tue Sep 12 18:13:26 2023[xla:4](40) Loss=0.01376 Rate=258.15 GlobalRate=215.77 Time=Tue Sep 12 18:13:26 2023[xla:3](40) Loss=0.06489 Rate=252.66 GlobalRate=208.00 Time=Tue Sep 12 18:13:26 2023[xla:6](40) Loss=0.02312 Rate=271.06 GlobalRate=214.15 Time=Tue Sep 12 18:13:26 2023\n",
            "\n",
            "\n",
            "\n",
            "[xla:0](40) Loss=0.11446 Rate=241.93 GlobalRate=205.67 Time=Tue Sep 12 18:13:27 2023\n",
            "[xla:2](40) Loss=0.03872 Rate=246.99 GlobalRate=205.14 Time=Tue Sep 12 18:13:27 2023\n",
            "Finished training epoch 7\n",
            "[xla:6] Accuracy=98.94%\n",
            "[xla:3] Accuracy=98.91%\n",
            "[xla:1] Accuracy=98.88%[xla:2] Accuracy=98.92%\n",
            "\n",
            "[xla:5] Accuracy=98.92%\n",
            "[xla:4] Accuracy=98.92%[xla:0] Accuracy=98.92%\n",
            "\n",
            "[xla:7] Accuracy=98.93%\n",
            "[xla:6](0) Loss=0.05462 Rate=56.23 GlobalRate=56.22 Time=Tue Sep 12 18:14:17 2023\n",
            "[xla:2](0) Loss=0.07573 Rate=49.61 GlobalRate=49.61 Time=Tue Sep 12 18:14:18 2023\n",
            "[xla:5](0) Loss=0.02654 Rate=41.52 GlobalRate=41.52 Time=Tue Sep 12 18:14:18 2023[xla:3](0) Loss=0.01517 Rate=40.15 GlobalRate=40.15 Time=Tue Sep 12 18:14:18 2023\n",
            "\n",
            "[xla:1](0) Loss=0.02305 Rate=37.59 GlobalRate=37.59 Time=Tue Sep 12 18:14:18 2023\n",
            "[xla:4](0) Loss=0.04038 Rate=38.05 GlobalRate=38.05 Time=Tue Sep 12 18:14:19 2023\n",
            "[xla:0](0) Loss=0.04941 Rate=33.26 GlobalRate=33.26 Time=Tue Sep 12 18:14:19 2023\n",
            "[xla:7](0) Loss=0.03951 Rate=29.95 GlobalRate=29.95 Time=Tue Sep 12 18:14:20 2023\n",
            "[xla:1](20) Loss=0.01487 Rate=155.14 GlobalRate=187.08 Time=Tue Sep 12 18:14:29 2023[xla:2](20) Loss=0.07995 Rate=150.66 GlobalRate=187.69 Time=Tue Sep 12 18:14:29 2023[xla:3](20) Loss=0.05925 Rate=153.25 GlobalRate=186.87 Time=Tue Sep 12 18:14:29 2023[xla:5](20) Loss=0.06099 Rate=153.58 GlobalRate=188.01 Time=Tue Sep 12 18:14:29 2023[xla:6](20) Loss=0.00496 Rate=146.09 GlobalRate=182.81 Time=Tue Sep 12 18:14:29 2023\n",
            "\n",
            "\n",
            "\n",
            "\n",
            "[xla:4](20) Loss=0.04295 Rate=155.35 GlobalRate=187.64 Time=Tue Sep 12 18:14:30 2023\n",
            "[xla:0](20) Loss=0.03453 Rate=149.07 GlobalRate=177.28 Time=Tue Sep 12 18:14:30 2023\n",
            "[xla:7](20) Loss=0.07376 Rate=148.24 GlobalRate=172.91 Time=Tue Sep 12 18:14:31 2023\n",
            "[xla:1](40) Loss=0.03413 Rate=186.69 GlobalRate=196.61 Time=Tue Sep 12 18:14:42 2023[xla:4](40) Loss=0.01235 Rate=190.14 GlobalRate=199.35 Time=Tue Sep 12 18:14:42 2023[xla:3](40) Loss=0.05839 Rate=186.06 GlobalRate=196.58 Time=Tue Sep 12 18:14:42 2023[xla:6](40) Loss=0.02004 Rate=183.17 GlobalRate=194.24 Time=Tue Sep 12 18:14:42 2023[xla:5](40) Loss=0.01213 Rate=185.88 GlobalRate=197.00 Time=Tue Sep 12 18:14:42 2023\n",
            "\n",
            "\n",
            "[xla:2](40) Loss=0.03516 Rate=184.40 GlobalRate=196.59 Time=Tue Sep 12 18:14:42 2023\n",
            "\n",
            "\n",
            "[xla:0](40) Loss=0.10859 Rate=191.04 GlobalRate=195.45 Time=Tue Sep 12 18:14:42 2023\n",
            "[xla:7](40) Loss=0.01373 Rate=190.40 GlobalRate=192.50 Time=Tue Sep 12 18:14:43 2023\n",
            "Finished training epoch 8\n",
            "[xla:5] Accuracy=98.95%\n",
            "[xla:1] Accuracy=98.94%\n",
            "[xla:6] Accuracy=98.94%\n",
            "[xla:3] Accuracy=98.95%\n",
            "[xla:7] Accuracy=98.95%\n",
            "[xla:2] Accuracy=98.93%\n",
            "[xla:0] Accuracy=98.94%\n",
            "[xla:4] Accuracy=98.94%\n",
            "[xla:5](0) Loss=0.02186 Rate=32.57 GlobalRate=32.57 Time=Tue Sep 12 18:15:28 2023\n",
            "[xla:6](0) Loss=0.04944 Rate=33.28 GlobalRate=33.28 Time=Tue Sep 12 18:15:28 2023\n",
            "[xla:1](0) Loss=0.02018 Rate=30.56 GlobalRate=30.56 Time=Tue Sep 12 18:15:28 2023[xla:7](0) Loss=0.03439 Rate=33.30 GlobalRate=33.29 Time=Tue Sep 12 18:15:28 2023\n",
            "\n",
            "[xla:3](0) Loss=0.01369 Rate=32.81 GlobalRate=32.81 Time=Tue Sep 12 18:15:28 2023\n",
            "[xla:0](0) Loss=0.04698 Rate=26.14 GlobalRate=26.14 Time=Tue Sep 12 18:15:30 2023[xla:2](0) Loss=0.06944 Rate=26.03 GlobalRate=26.03 Time=Tue Sep 12 18:15:30 2023\n",
            "\n",
            "[xla:4](0) Loss=0.03671 Rate=22.94 GlobalRate=22.94 Time=Tue Sep 12 18:15:31 2023\n",
            "[xla:6](20) Loss=0.00467 Rate=165.90 GlobalRate=193.21 Time=Tue Sep 12 18:15:38 2023[xla:5](20) Loss=0.05552 Rate=157.95 GlobalRate=185.02 Time=Tue Sep 12 18:15:38 2023[xla:3](20) Loss=0.05694 Rate=169.20 GlobalRate=195.60 Time=Tue Sep 12 18:15:38 2023[xla:1](20) Loss=0.01389 Rate=165.74 GlobalRate=189.38 Time=Tue Sep 12 18:15:38 2023[xla:7](20) Loss=0.06782 Rate=167.25 GlobalRate=194.47 Time=Tue Sep 12 18:15:38 2023\n",
            "\n",
            "\n",
            "\n",
            "\n",
            "[xla:2](20) Loss=0.07408 Rate=185.42 GlobalRate=196.29 Time=Tue Sep 12 18:15:39 2023\n",
            "[xla:4](20) Loss=0.03909 Rate=193.14 GlobalRate=192.97 Time=Tue Sep 12 18:15:39 2023[xla:0](20) Loss=0.03205 Rate=178.72 GlobalRate=191.65 Time=Tue Sep 12 18:15:39 2023\n",
            "\n",
            "[xla:6](40) Loss=0.01727 Rate=250.61 GlobalRate=235.87 Time=Tue Sep 12 18:15:46 2023[xla:5](40) Loss=0.01041 Rate=247.33 GlobalRate=229.48 Time=Tue Sep 12 18:15:46 2023[xla:3](40) Loss=0.05155 Rate=251.85 GlobalRate=237.65 Time=Tue Sep 12 18:15:46 2023[xla:7](40) Loss=0.01318 Rate=250.31 GlobalRate=236.42 Time=Tue Sep 12 18:15:46 2023\n",
            "[xla:1](40) Loss=0.03116 Rate=249.58 GlobalRate=232.48 Time=Tue Sep 12 18:15:46 2023\n",
            "\n",
            "\n",
            "\n",
            "[xla:2](40) Loss=0.03378 Rate=251.52 GlobalRate=234.76 Time=Tue Sep 12 18:15:47 2023\n",
            "[xla:4](40) Loss=0.01151 Rate=256.33 GlobalRate=233.17 Time=Tue Sep 12 18:15:48 2023\n",
            "[xla:0](40) Loss=0.10355 Rate=239.08 GlobalRate=226.30 Time=Tue Sep 12 18:15:48 2023\n",
            "Finished training epoch 9\n",
            "[xla:7] Accuracy=98.98%\n",
            "[xla:6] Accuracy=98.99%\n",
            "[xla:2] Accuracy=98.97%\n",
            "[xla:0] Accuracy=98.98%[xla:4] Accuracy=98.98%\n",
            "\n",
            "[xla:5] Accuracy=99.00%[xla:1] Accuracy=99.01%[xla:3] Accuracy=98.96%\n",
            "\n",
            "\n",
            "[xla:6](0) Loss=0.04513 Rate=66.13 GlobalRate=66.13 Time=Tue Sep 12 18:16:35 2023\n",
            "[xla:2](0) Loss=0.06236 Rate=62.63 GlobalRate=62.63 Time=Tue Sep 12 18:16:35 2023\n",
            "[xla:7](0) Loss=0.02946 Rate=50.14 GlobalRate=50.14 Time=Tue Sep 12 18:16:35 2023\n",
            "[xla:0](0) Loss=0.04425 Rate=42.82 GlobalRate=42.82 Time=Tue Sep 12 18:16:36 2023\n",
            "[xla:1](0) Loss=0.01763 Rate=44.14 GlobalRate=44.14 Time=Tue Sep 12 18:16:36 2023[xla:4](0) Loss=0.03296 Rate=40.79 GlobalRate=40.79 Time=Tue Sep 12 18:16:36 2023\n",
            "\n",
            "[xla:3](0) Loss=0.01320 Rate=42.36 GlobalRate=42.36 Time=Tue Sep 12 18:16:36 2023\n",
            "[xla:5](0) Loss=0.01829 Rate=40.59 GlobalRate=40.59 Time=Tue Sep 12 18:16:36 2023\n",
            "[xla:7](20) Loss=0.06165 Rate=194.47 GlobalRate=236.63 Time=Tue Sep 12 18:16:44 2023[xla:2](20) Loss=0.07038 Rate=189.11 GlobalRate=235.65 Time=Tue Sep 12 18:16:44 2023[xla:6](20) Loss=0.00437 Rate=187.61 GlobalRate=234.42 Time=Tue Sep 12 18:16:44 2023\n",
            "\n",
            "\n",
            "[xla:4](20) Loss=0.03329 Rate=198.36 GlobalRate=232.21 Time=Tue Sep 12 18:16:45 2023\n",
            "[xla:0](20) Loss=0.02934 Rate=193.07 GlobalRate=229.36 Time=Tue Sep 12 18:16:45 2023[xla:1](20) Loss=0.01226 Rate=194.24 GlobalRate=231.76 Time=Tue Sep 12 18:16:45 2023\n",
            "\n",
            "[xla:3](20) Loss=0.05718 Rate=185.20 GlobalRate=221.22 Time=Tue Sep 12 18:16:45 2023\n",
            "[xla:5](20) Loss=0.05128 Rate=179.33 GlobalRate=213.81 Time=Tue Sep 12 18:16:46 2023\n",
            "[xla:6](40) Loss=0.01531 Rate=192.38 GlobalRate=213.70 Time=Tue Sep 12 18:16:58 2023[xla:7](40) Loss=0.01224 Rate=193.80 GlobalRate=213.34 Time=Tue Sep 12 18:16:58 2023\n",
            "\n",
            "[xla:2](40) Loss=0.03103 Rate=191.16 GlobalRate=212.44 Time=Tue Sep 12 18:16:58 2023[xla:0](40) Loss=0.09875 Rate=195.14 GlobalRate=212.07 Time=Tue Sep 12 18:16:58 2023\n",
            "\n",
            "[xla:4](40) Loss=0.01073 Rate=191.93 GlobalRate=208.10 Time=Tue Sep 12 18:16:58 2023\n",
            "[xla:1](40) Loss=0.02924 Rate=190.29 GlobalRate=207.92 Time=Tue Sep 12 18:16:58 2023\n",
            "[xla:5](40) Loss=0.00918 Rate=190.28 GlobalRate=205.57 Time=Tue Sep 12 18:16:59 2023\n",
            "[xla:3](40) Loss=0.04818 Rate=186.76 GlobalRate=203.55 Time=Tue Sep 12 18:16:59 2023\n",
            "Finished training epoch 10\n",
            "[xla:4] Accuracy=99.03%\n",
            "[xla:1] Accuracy=99.04%\n",
            "[xla:7] Accuracy=99.03%[xla:5] Accuracy=99.05%[xla:3] Accuracy=99.02%\n",
            "\n",
            "[xla:6] Accuracy=99.05%\n",
            "[xla:0] Accuracy=99.02%\n",
            "\n",
            "[xla:2] Accuracy=99.02%\n"
          ]
        }
      ],
      "source": [
        "# Start training processes\n",
        "def _mp_fn(rank, flags):\n",
        "  global FLAGS\n",
        "  FLAGS = flags\n",
        "  torch.set_default_tensor_type('torch.FloatTensor')\n",
        "  accuracy, data, pred, target = train_mnist()\n",
        "  if rank == 0:\n",
        "    # Retrieve tensors that are on TPU core 0 and plot.\n",
        "    plot_results(data.cpu(), pred.cpu(), target.cpu())\n",
        "\n",
        "xmp.spawn(_mp_fn, args=(FLAGS,), nprocs=FLAGS['num_cores'],\n",
        "          start_method='fork')"
      ]
    },
    {
      "cell_type": "markdown",
      "metadata": {
        "id": "MznTE72_mthI"
      },
      "source": [
        "## Visualize Predictions"
      ]
    },
    {
      "cell_type": "code",
      "execution_count": 9,
      "metadata": {
        "colab": {
          "base_uri": "https://localhost:8080/",
          "height": 917
        },
        "id": "X9VAwyUnI7Sb",
        "outputId": "c4fc367a-c8b1-40cc-d967-d3f653996b39"
      },
      "outputs": [
        {
          "output_type": "display_data",
          "data": {
            "text/plain": [
              "<PIL.Image.Image image mode=RGBA size=1100x900>"
            ],
            "image/png": "[encoded data removed]"
          },
          "metadata": {}
        }
      ],
      "source": [
        "from google.colab.patches import cv2_imshow\n",
        "import cv2\n",
        "img = cv2.imread(RESULT_IMG_PATH, cv2.IMREAD_UNCHANGED)\n",
        "cv2_imshow(img)"
      ]
    },
    {
      "cell_type": "code",
      "source": [],
      "metadata": {
        "id": "bRLjZJAmkVye"
      },
      "execution_count": null,
      "outputs": []
    }
  ],
  "metadata": {
    "accelerator": "TPU",
    "colab": {
      "machine_shape": "hm",
      "name": "PyTorch/TPU MNIST Training",
      "provenance": []
    },
    "kernelspec": {
      "display_name": "Python 3 (ipykernel)",
      "language": "python",
      "name": "python3"
    },
    "language_info": {
      "codemirror_mode": {
        "name": "ipython",
        "version": 3
      },
      "file_extension": ".py",
      "mimetype": "text/x-python",
      "name": "python",
      "nbconvert_exporter": "python",
      "pygments_lexer": "ipython3",
      "version": "3.10.9"
    }
  },
  "nbformat": 4,
  "nbformat_minor": 0
}