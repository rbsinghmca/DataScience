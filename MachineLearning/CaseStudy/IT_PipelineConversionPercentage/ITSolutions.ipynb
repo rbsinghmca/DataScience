{
 "cells": [
  {
   "cell_type": "markdown",
   "metadata": {},
   "source": [
    "## Possible hypotheses for low conversions\n",
    "\n",
    "** As the technologies evolve, the company should provide solution in cloud computings which will serve many problems to customers \n",
    "like on-demands services for softwares which would save the money for customers.\n",
    "\n",
    "** Expand business in more cities\n",
    "\n",
    "** Establish more partership\n",
    "\n",
    "** Increase the number of days in sales to maximise sales."
   ]
  },
  {
   "cell_type": "markdown",
   "metadata": {},
   "source": [
    "## Mapping the problem into data science problem "
   ]
  },
  {
   "cell_type": "code",
   "execution_count": 2,
   "metadata": {},
   "outputs": [],
   "source": [
    "# Importing required library\n",
    "import pandas as pd\n",
    "import pandas as np\n",
    "import matplotlib.pyplot as plt\n",
    "import seaborn as sns"
   ]
  },
  {
   "cell_type": "code",
   "execution_count": 3,
   "metadata": {},
   "outputs": [],
   "source": [
    "it = pd.read_excel('Sales Dataset.xlsx')"
   ]
  },
  {
   "cell_type": "code",
   "execution_count": 4,
   "metadata": {},
   "outputs": [
    {
     "data": {
      "text/html": [
       "<div>\n",
       "<style scoped>\n",
       "    .dataframe tbody tr th:only-of-type {\n",
       "        vertical-align: middle;\n",
       "    }\n",
       "\n",
       "    .dataframe tbody tr th {\n",
       "        vertical-align: top;\n",
       "    }\n",
       "\n",
       "    .dataframe thead th {\n",
       "        text-align: right;\n",
       "    }\n",
       "</style>\n",
       "<table border=\"1\" class=\"dataframe\">\n",
       "  <thead>\n",
       "    <tr style=\"text-align: right;\">\n",
       "      <th></th>\n",
       "      <th>Opportunity ID</th>\n",
       "      <th>Technology\\nPrimary</th>\n",
       "      <th>City</th>\n",
       "      <th>B2B Sales Medium</th>\n",
       "      <th>Sales Velocity</th>\n",
       "      <th>Opportunity Status</th>\n",
       "      <th>Sales Stage Iterations</th>\n",
       "      <th>Opportunity Size (USD)</th>\n",
       "      <th>Client Revenue Sizing</th>\n",
       "      <th>Client Employee Sizing</th>\n",
       "      <th>Business from Client Last Year</th>\n",
       "      <th>Compete Intel</th>\n",
       "      <th>Opportunity Sizing</th>\n",
       "    </tr>\n",
       "  </thead>\n",
       "  <tbody>\n",
       "    <tr>\n",
       "      <th>0</th>\n",
       "      <td>N00000001</td>\n",
       "      <td>ERP Implementation</td>\n",
       "      <td>Bengaluru</td>\n",
       "      <td>Marketing</td>\n",
       "      <td>76</td>\n",
       "      <td>Won</td>\n",
       "      <td>13</td>\n",
       "      <td>0</td>\n",
       "      <td>More than 1M</td>\n",
       "      <td>More than 25K</td>\n",
       "      <td>0 (No business)</td>\n",
       "      <td>Unknown</td>\n",
       "      <td>10K or less</td>\n",
       "    </tr>\n",
       "    <tr>\n",
       "      <th>1</th>\n",
       "      <td>N00000002</td>\n",
       "      <td>ERP Implementation</td>\n",
       "      <td>Delhi</td>\n",
       "      <td>Enterprise Sellers</td>\n",
       "      <td>63</td>\n",
       "      <td>Loss</td>\n",
       "      <td>2</td>\n",
       "      <td>0</td>\n",
       "      <td>250K to 500K</td>\n",
       "      <td>More than 25K</td>\n",
       "      <td>0 (No business)</td>\n",
       "      <td>Unknown</td>\n",
       "      <td>10K or less</td>\n",
       "    </tr>\n",
       "    <tr>\n",
       "      <th>2</th>\n",
       "      <td>N00000003</td>\n",
       "      <td>Technical Business Solutions</td>\n",
       "      <td>Delhi</td>\n",
       "      <td>Enterprise Sellers</td>\n",
       "      <td>24</td>\n",
       "      <td>Won</td>\n",
       "      <td>7</td>\n",
       "      <td>7750</td>\n",
       "      <td>100K or less</td>\n",
       "      <td>1K or less</td>\n",
       "      <td>0 (No business)</td>\n",
       "      <td>Unknown</td>\n",
       "      <td>10K or less</td>\n",
       "    </tr>\n",
       "    <tr>\n",
       "      <th>3</th>\n",
       "      <td>N00000004</td>\n",
       "      <td>Technical Business Solutions</td>\n",
       "      <td>Mumbai</td>\n",
       "      <td>Enterprise Sellers</td>\n",
       "      <td>16</td>\n",
       "      <td>Loss</td>\n",
       "      <td>5</td>\n",
       "      <td>0</td>\n",
       "      <td>100K or less</td>\n",
       "      <td>1K or less</td>\n",
       "      <td>0 (No business)</td>\n",
       "      <td>Known</td>\n",
       "      <td>10K or less</td>\n",
       "    </tr>\n",
       "    <tr>\n",
       "      <th>4</th>\n",
       "      <td>N00000005</td>\n",
       "      <td>ERP Implementation</td>\n",
       "      <td>Delhi</td>\n",
       "      <td>Enterprise Sellers</td>\n",
       "      <td>69</td>\n",
       "      <td>Loss</td>\n",
       "      <td>11</td>\n",
       "      <td>32886</td>\n",
       "      <td>100K or less</td>\n",
       "      <td>1K or less</td>\n",
       "      <td>0 (No business)</td>\n",
       "      <td>Unknown</td>\n",
       "      <td>30K to 40K</td>\n",
       "    </tr>\n",
       "  </tbody>\n",
       "</table>\n",
       "</div>"
      ],
      "text/plain": [
       "  Opportunity ID           Technology\\nPrimary       City    B2B Sales Medium  \\\n",
       "0      N00000001            ERP Implementation  Bengaluru           Marketing   \n",
       "1      N00000002            ERP Implementation      Delhi  Enterprise Sellers   \n",
       "2      N00000003  Technical Business Solutions      Delhi  Enterprise Sellers   \n",
       "3      N00000004  Technical Business Solutions     Mumbai  Enterprise Sellers   \n",
       "4      N00000005            ERP Implementation      Delhi  Enterprise Sellers   \n",
       "\n",
       "   Sales Velocity Opportunity Status  Sales Stage Iterations  \\\n",
       "0              76                Won                      13   \n",
       "1              63               Loss                       2   \n",
       "2              24                Won                       7   \n",
       "3              16               Loss                       5   \n",
       "4              69               Loss                      11   \n",
       "\n",
       "   Opportunity Size (USD) Client Revenue Sizing Client Employee Sizing  \\\n",
       "0                       0          More than 1M          More than 25K   \n",
       "1                       0          250K to 500K          More than 25K   \n",
       "2                    7750          100K or less             1K or less   \n",
       "3                       0          100K or less             1K or less   \n",
       "4                   32886          100K or less             1K or less   \n",
       "\n",
       "  Business from Client Last Year Compete Intel Opportunity Sizing  \n",
       "0                0 (No business)       Unknown        10K or less  \n",
       "1                0 (No business)       Unknown        10K or less  \n",
       "2                0 (No business)       Unknown        10K or less  \n",
       "3                0 (No business)         Known        10K or less  \n",
       "4                0 (No business)       Unknown         30K to 40K  "
      ]
     },
     "execution_count": 4,
     "metadata": {},
     "output_type": "execute_result"
    }
   ],
   "source": [
    "it.head()"
   ]
  },
  {
   "cell_type": "code",
   "execution_count": 5,
   "metadata": {},
   "outputs": [
    {
     "name": "stdout",
     "output_type": "stream",
     "text": [
      "<class 'pandas.core.frame.DataFrame'>\n",
      "RangeIndex: 78025 entries, 0 to 78024\n",
      "Data columns (total 13 columns):\n",
      " #   Column                          Non-Null Count  Dtype \n",
      "---  ------                          --------------  ----- \n",
      " 0   Opportunity ID                  78025 non-null  object\n",
      " 1   Technology\n",
      "Primary              78025 non-null  object\n",
      " 2   City                            78025 non-null  object\n",
      " 3   B2B Sales Medium                78025 non-null  object\n",
      " 4   Sales Velocity                  78025 non-null  int64 \n",
      " 5   Opportunity Status              78025 non-null  object\n",
      " 6   Sales Stage Iterations          78025 non-null  int64 \n",
      " 7   Opportunity Size (USD)          78025 non-null  int64 \n",
      " 8   Client Revenue Sizing           78025 non-null  object\n",
      " 9   Client Employee Sizing          78025 non-null  object\n",
      " 10  Business from Client Last Year  78025 non-null  object\n",
      " 11  Compete Intel                   78025 non-null  object\n",
      " 12  Opportunity Sizing              78025 non-null  object\n",
      "dtypes: int64(3), object(10)\n",
      "memory usage: 7.7+ MB\n"
     ]
    }
   ],
   "source": [
    "it.info()"
   ]
  },
  {
   "cell_type": "markdown",
   "metadata": {},
   "source": [
    "## Data Cleaning"
   ]
  },
  {
   "cell_type": "code",
   "execution_count": 18,
   "metadata": {},
   "outputs": [
    {
     "data": {
      "text/html": [
       "<div>\n",
       "<style scoped>\n",
       "    .dataframe tbody tr th:only-of-type {\n",
       "        vertical-align: middle;\n",
       "    }\n",
       "\n",
       "    .dataframe tbody tr th {\n",
       "        vertical-align: top;\n",
       "    }\n",
       "\n",
       "    .dataframe thead th {\n",
       "        text-align: right;\n",
       "    }\n",
       "</style>\n",
       "<table border=\"1\" class=\"dataframe\">\n",
       "  <thead>\n",
       "    <tr style=\"text-align: right;\">\n",
       "      <th></th>\n",
       "      <th>Opportunity ID</th>\n",
       "      <th>Technology\\nPrimary</th>\n",
       "      <th>City</th>\n",
       "      <th>B2B Sales Medium</th>\n",
       "      <th>Sales Velocity</th>\n",
       "      <th>Opportunity Status</th>\n",
       "      <th>Sales Stage Iterations</th>\n",
       "      <th>Opportunity Size (USD)</th>\n",
       "      <th>Client Revenue Sizing</th>\n",
       "      <th>Client Employee Sizing</th>\n",
       "      <th>Business from Client Last Year</th>\n",
       "      <th>Compete Intel</th>\n",
       "      <th>Opportunity Sizing</th>\n",
       "    </tr>\n",
       "  </thead>\n",
       "  <tbody>\n",
       "    <tr>\n",
       "      <th>0</th>\n",
       "      <td>N00000001</td>\n",
       "      <td>ERP Implementation</td>\n",
       "      <td>Bengaluru</td>\n",
       "      <td>Marketing</td>\n",
       "      <td>76</td>\n",
       "      <td>Won</td>\n",
       "      <td>13</td>\n",
       "      <td>0</td>\n",
       "      <td>More than 1M</td>\n",
       "      <td>More than 25K</td>\n",
       "      <td>0 (No business)</td>\n",
       "      <td>Unknown</td>\n",
       "      <td>10K or less</td>\n",
       "    </tr>\n",
       "    <tr>\n",
       "      <th>1</th>\n",
       "      <td>N00000002</td>\n",
       "      <td>ERP Implementation</td>\n",
       "      <td>Delhi</td>\n",
       "      <td>Enterprise Sellers</td>\n",
       "      <td>63</td>\n",
       "      <td>Loss</td>\n",
       "      <td>2</td>\n",
       "      <td>0</td>\n",
       "      <td>250K to 500K</td>\n",
       "      <td>More than 25K</td>\n",
       "      <td>0 (No business)</td>\n",
       "      <td>Unknown</td>\n",
       "      <td>10K or less</td>\n",
       "    </tr>\n",
       "    <tr>\n",
       "      <th>2</th>\n",
       "      <td>N00000003</td>\n",
       "      <td>Technical Business Solutions</td>\n",
       "      <td>Delhi</td>\n",
       "      <td>Enterprise Sellers</td>\n",
       "      <td>24</td>\n",
       "      <td>Won</td>\n",
       "      <td>7</td>\n",
       "      <td>7750</td>\n",
       "      <td>100K or less</td>\n",
       "      <td>1K or less</td>\n",
       "      <td>0 (No business)</td>\n",
       "      <td>Unknown</td>\n",
       "      <td>10K or less</td>\n",
       "    </tr>\n",
       "    <tr>\n",
       "      <th>3</th>\n",
       "      <td>N00000004</td>\n",
       "      <td>Technical Business Solutions</td>\n",
       "      <td>Mumbai</td>\n",
       "      <td>Enterprise Sellers</td>\n",
       "      <td>16</td>\n",
       "      <td>Loss</td>\n",
       "      <td>5</td>\n",
       "      <td>0</td>\n",
       "      <td>100K or less</td>\n",
       "      <td>1K or less</td>\n",
       "      <td>0 (No business)</td>\n",
       "      <td>Known</td>\n",
       "      <td>10K or less</td>\n",
       "    </tr>\n",
       "    <tr>\n",
       "      <th>4</th>\n",
       "      <td>N00000005</td>\n",
       "      <td>ERP Implementation</td>\n",
       "      <td>Delhi</td>\n",
       "      <td>Enterprise Sellers</td>\n",
       "      <td>69</td>\n",
       "      <td>Loss</td>\n",
       "      <td>11</td>\n",
       "      <td>32886</td>\n",
       "      <td>100K or less</td>\n",
       "      <td>1K or less</td>\n",
       "      <td>0 (No business)</td>\n",
       "      <td>Unknown</td>\n",
       "      <td>30K to 40K</td>\n",
       "    </tr>\n",
       "  </tbody>\n",
       "</table>\n",
       "</div>"
      ],
      "text/plain": [
       "  Opportunity ID           Technology\\nPrimary       City    B2B Sales Medium  \\\n",
       "0      N00000001            ERP Implementation  Bengaluru           Marketing   \n",
       "1      N00000002            ERP Implementation      Delhi  Enterprise Sellers   \n",
       "2      N00000003  Technical Business Solutions      Delhi  Enterprise Sellers   \n",
       "3      N00000004  Technical Business Solutions     Mumbai  Enterprise Sellers   \n",
       "4      N00000005            ERP Implementation      Delhi  Enterprise Sellers   \n",
       "\n",
       "   Sales Velocity Opportunity Status  Sales Stage Iterations  \\\n",
       "0              76                Won                      13   \n",
       "1              63               Loss                       2   \n",
       "2              24                Won                       7   \n",
       "3              16               Loss                       5   \n",
       "4              69               Loss                      11   \n",
       "\n",
       "   Opportunity Size (USD) Client Revenue Sizing Client Employee Sizing  \\\n",
       "0                       0          More than 1M          More than 25K   \n",
       "1                       0          250K to 500K          More than 25K   \n",
       "2                    7750          100K or less             1K or less   \n",
       "3                       0          100K or less             1K or less   \n",
       "4                   32886          100K or less             1K or less   \n",
       "\n",
       "  Business from Client Last Year Compete Intel Opportunity Sizing  \n",
       "0                0 (No business)       Unknown        10K or less  \n",
       "1                0 (No business)       Unknown        10K or less  \n",
       "2                0 (No business)       Unknown        10K or less  \n",
       "3                0 (No business)         Known        10K or less  \n",
       "4                0 (No business)       Unknown         30K to 40K  "
      ]
     },
     "execution_count": 18,
     "metadata": {},
     "output_type": "execute_result"
    }
   ],
   "source": [
    "it.head()"
   ]
  },
  {
   "cell_type": "code",
   "execution_count": 20,
   "metadata": {},
   "outputs": [
    {
     "data": {
      "text/plain": [
       "0            0\n",
       "1            0\n",
       "2         7750\n",
       "3            0\n",
       "4        32886\n",
       "         ...  \n",
       "78020    53258\n",
       "78021    40804\n",
       "78022    39241\n",
       "78023    44432\n",
       "78024    36766\n",
       "Name: Opportunity Size (USD), Length: 78025, dtype: int64"
      ]
     },
     "execution_count": 20,
     "metadata": {},
     "output_type": "execute_result"
    }
   ],
   "source": [
    "# Changing data type of Opportunity Status\n",
    "pd.to_numeric(it[\"Opportunity Size (USD)\"])"
   ]
  },
  {
   "cell_type": "code",
   "execution_count": 21,
   "metadata": {},
   "outputs": [
    {
     "name": "stdout",
     "output_type": "stream",
     "text": [
      "<class 'pandas.core.frame.DataFrame'>\n",
      "RangeIndex: 78025 entries, 0 to 78024\n",
      "Data columns (total 13 columns):\n",
      " #   Column                          Non-Null Count  Dtype \n",
      "---  ------                          --------------  ----- \n",
      " 0   Opportunity ID                  78025 non-null  object\n",
      " 1   Technology\n",
      "Primary              78025 non-null  object\n",
      " 2   City                            78025 non-null  object\n",
      " 3   B2B Sales Medium                78025 non-null  object\n",
      " 4   Sales Velocity                  78025 non-null  int64 \n",
      " 5   Opportunity Status              78025 non-null  object\n",
      " 6   Sales Stage Iterations          78025 non-null  int64 \n",
      " 7   Opportunity Size (USD)          78025 non-null  int64 \n",
      " 8   Client Revenue Sizing           78025 non-null  object\n",
      " 9   Client Employee Sizing          78025 non-null  object\n",
      " 10  Business from Client Last Year  78025 non-null  object\n",
      " 11  Compete Intel                   78025 non-null  object\n",
      " 12  Opportunity Sizing              78025 non-null  object\n",
      "dtypes: int64(3), object(10)\n",
      "memory usage: 7.7+ MB\n"
     ]
    }
   ],
   "source": [
    "it.info()"
   ]
  },
  {
   "cell_type": "code",
   "execution_count": 6,
   "metadata": {},
   "outputs": [
    {
     "data": {
      "text/plain": [
       "ERP Implementation              49810\n",
       "Technical Business Solutions    27325\n",
       "Legacy Modernization              609\n",
       "Analytics                         281\n",
       "Name: Technology\\nPrimary, dtype: int64"
      ]
     },
     "execution_count": 6,
     "metadata": {},
     "output_type": "execute_result"
    }
   ],
   "source": [
    "it[\"Technology\\nPrimary\"].value_counts()"
   ]
  },
  {
   "cell_type": "code",
   "execution_count": 14,
   "metadata": {},
   "outputs": [
    {
     "data": {
      "image/png": "[encoded data removed]",
      "text/plain": [
       "<Figure size 432x288 with 1 Axes>"
      ]
     },
     "metadata": {
      "needs_background": "light"
     },
     "output_type": "display_data"
    }
   ],
   "source": [
    "chart = sns.countplot(x=it[\"Technology\\nPrimary\"], hue=it[\"Opportunity Status\"])\n",
    "chart.set_xticklabels(chart.get_xticklabels(), rotation=45)\n",
    "plt.show()"
   ]
  },
  {
   "cell_type": "code",
   "execution_count": 7,
   "metadata": {},
   "outputs": [
    {
     "data": {
      "text/plain": [
       "Marketing             37262\n",
       "Enterprise Sellers    34758\n",
       "Partners               2856\n",
       "Tele Sales             2530\n",
       "Online Leads            619\n",
       "Name: B2B Sales Medium, dtype: int64"
      ]
     },
     "execution_count": 7,
     "metadata": {},
     "output_type": "execute_result"
    }
   ],
   "source": [
    "it[\"B2B Sales Medium\"].value_counts()"
   ]
  },
  {
   "cell_type": "code",
   "execution_count": 15,
   "metadata": {},
   "outputs": [
    {
     "data": {
      "image/png": "[encoded data removed]",
      "text/plain": [
       "<Figure size 432x288 with 1 Axes>"
      ]
     },
     "metadata": {
      "needs_background": "light"
     },
     "output_type": "display_data"
    }
   ],
   "source": [
    "chart=sns.countplot(x=it[\"B2B Sales Medium\"], hue = it['Opportunity Status'])\n",
    "chart.set_xticklabels(chart.get_xticklabels(), rotation=45)\n",
    "plt.show()"
   ]
  },
  {
   "cell_type": "code",
   "execution_count": 24,
   "metadata": {},
   "outputs": [
    {
     "data": {
      "text/plain": [
       "100K or less    59504\n",
       "More than 1M     5288\n",
       "250K to 500K     4756\n",
       "500K to 1M       4636\n",
       "100K to 250K     3841\n",
       "Name: Client Revenue Sizing, dtype: int64"
      ]
     },
     "execution_count": 24,
     "metadata": {},
     "output_type": "execute_result"
    }
   ],
   "source": [
    "it[\"Client Revenue Sizing\"].value_counts()"
   ]
  },
  {
   "cell_type": "code",
   "execution_count": 29,
   "metadata": {},
   "outputs": [
    {
     "data": {
      "image/png": "[encoded data removed]",
      "text/plain": [
       "<Figure size 432x288 with 1 Axes>"
      ]
     },
     "metadata": {
      "needs_background": "light"
     },
     "output_type": "display_data"
    }
   ],
   "source": [
    "sns.boxplot(y=it['Opportunity Size (USD)'],x=it[\"Opportunity Status\"])\n",
    "plt.show()"
   ]
  },
  {
   "cell_type": "code",
   "execution_count": 20,
   "metadata": {},
   "outputs": [
    {
     "data": {
      "text/plain": [
       "1K or less       59348\n",
       "More than 25K     5098\n",
       "5K to 15K         4942\n",
       "1K to 5K          4528\n",
       "15K to 25K        4109\n",
       "Name: Client Employee Sizing, dtype: int64"
      ]
     },
     "execution_count": 20,
     "metadata": {},
     "output_type": "execute_result"
    }
   ],
   "source": [
    "it[\"Client Employee Sizing\"].value_counts()"
   ]
  },
  {
   "cell_type": "code",
   "execution_count": 38,
   "metadata": {},
   "outputs": [
    {
     "data": {
      "image/png": "[encoded data removed]",
      "text/plain": [
       "<Figure size 432x288 with 1 Axes>"
      ]
     },
     "metadata": {
      "needs_background": "light"
     },
     "output_type": "display_data"
    }
   ],
   "source": [
    "sns.countplot(x=it[\"Client Employee Sizing\"], hue = it['Opportunity Status'])\n",
    "plt.show()"
   ]
  },
  {
   "cell_type": "code",
   "execution_count": 21,
   "metadata": {},
   "outputs": [
    {
     "data": {
      "text/plain": [
       "0 (No business)      69208\n",
       "More than 100,000     2860\n",
       "50,000 - 100,000      2092\n",
       "25,000 - 50,000       2083\n",
       "0 - 25,000            1782\n",
       "Name: Business from Client Last Year, dtype: int64"
      ]
     },
     "execution_count": 21,
     "metadata": {},
     "output_type": "execute_result"
    }
   ],
   "source": [
    "it[\"Business from Client Last Year\"].value_counts()"
   ]
  },
  {
   "cell_type": "code",
   "execution_count": 22,
   "metadata": {},
   "outputs": [
    {
     "data": {
      "text/plain": [
       "Unknown    56724\n",
       "Known      12044\n",
       "None        9257\n",
       "Name: Compete Intel, dtype: int64"
      ]
     },
     "execution_count": 22,
     "metadata": {},
     "output_type": "execute_result"
    }
   ],
   "source": [
    "it[\"Compete Intel\"].value_counts()"
   ]
  },
  {
   "cell_type": "code",
   "execution_count": 23,
   "metadata": {},
   "outputs": [
    {
     "data": {
      "text/plain": [
       "40K to 50K       18074\n",
       "10K to 20K       15123\n",
       "30K to 40K       13628\n",
       "10K or less      12095\n",
       "20K to 30K       11968\n",
       "50K to 60K        4934\n",
       "More than 60K     2203\n",
       "Name: Opportunity Sizing, dtype: int64"
      ]
     },
     "execution_count": 23,
     "metadata": {},
     "output_type": "execute_result"
    }
   ],
   "source": [
    "it[\"Opportunity Sizing\"].value_counts()"
   ]
  },
  {
   "cell_type": "code",
   "execution_count": 24,
   "metadata": {},
   "outputs": [
    {
     "data": {
      "text/html": [
       "<div>\n",
       "<style scoped>\n",
       "    .dataframe tbody tr th:only-of-type {\n",
       "        vertical-align: middle;\n",
       "    }\n",
       "\n",
       "    .dataframe tbody tr th {\n",
       "        vertical-align: top;\n",
       "    }\n",
       "\n",
       "    .dataframe thead th {\n",
       "        text-align: right;\n",
       "    }\n",
       "</style>\n",
       "<table border=\"1\" class=\"dataframe\">\n",
       "  <thead>\n",
       "    <tr style=\"text-align: right;\">\n",
       "      <th></th>\n",
       "      <th>Opportunity ID</th>\n",
       "      <th>Technology\\nPrimary</th>\n",
       "      <th>City</th>\n",
       "      <th>B2B Sales Medium</th>\n",
       "      <th>Sales Velocity</th>\n",
       "      <th>Opportunity Status</th>\n",
       "      <th>Sales Stage Iterations</th>\n",
       "      <th>Opportunity Size (USD)</th>\n",
       "      <th>Client Revenue Sizing</th>\n",
       "      <th>Client Employee Sizing</th>\n",
       "      <th>Business from Client Last Year</th>\n",
       "      <th>Compete Intel</th>\n",
       "      <th>Opportunity Sizing</th>\n",
       "    </tr>\n",
       "  </thead>\n",
       "  <tbody>\n",
       "    <tr>\n",
       "      <th>0</th>\n",
       "      <td>N00000001</td>\n",
       "      <td>ERP Implementation</td>\n",
       "      <td>Bengaluru</td>\n",
       "      <td>Marketing</td>\n",
       "      <td>76</td>\n",
       "      <td>Won</td>\n",
       "      <td>13</td>\n",
       "      <td>0</td>\n",
       "      <td>More than 1M</td>\n",
       "      <td>More than 25K</td>\n",
       "      <td>0 (No business)</td>\n",
       "      <td>Unknown</td>\n",
       "      <td>10K or less</td>\n",
       "    </tr>\n",
       "    <tr>\n",
       "      <th>1</th>\n",
       "      <td>N00000002</td>\n",
       "      <td>ERP Implementation</td>\n",
       "      <td>Delhi</td>\n",
       "      <td>Enterprise Sellers</td>\n",
       "      <td>63</td>\n",
       "      <td>Loss</td>\n",
       "      <td>2</td>\n",
       "      <td>0</td>\n",
       "      <td>250K to 500K</td>\n",
       "      <td>More than 25K</td>\n",
       "      <td>0 (No business)</td>\n",
       "      <td>Unknown</td>\n",
       "      <td>10K or less</td>\n",
       "    </tr>\n",
       "    <tr>\n",
       "      <th>2</th>\n",
       "      <td>N00000003</td>\n",
       "      <td>Technical Business Solutions</td>\n",
       "      <td>Delhi</td>\n",
       "      <td>Enterprise Sellers</td>\n",
       "      <td>24</td>\n",
       "      <td>Won</td>\n",
       "      <td>7</td>\n",
       "      <td>7750</td>\n",
       "      <td>100K or less</td>\n",
       "      <td>1K or less</td>\n",
       "      <td>0 (No business)</td>\n",
       "      <td>Unknown</td>\n",
       "      <td>10K or less</td>\n",
       "    </tr>\n",
       "    <tr>\n",
       "      <th>3</th>\n",
       "      <td>N00000004</td>\n",
       "      <td>Technical Business Solutions</td>\n",
       "      <td>Mumbai</td>\n",
       "      <td>Enterprise Sellers</td>\n",
       "      <td>16</td>\n",
       "      <td>Loss</td>\n",
       "      <td>5</td>\n",
       "      <td>0</td>\n",
       "      <td>100K or less</td>\n",
       "      <td>1K or less</td>\n",
       "      <td>0 (No business)</td>\n",
       "      <td>Known</td>\n",
       "      <td>10K or less</td>\n",
       "    </tr>\n",
       "    <tr>\n",
       "      <th>4</th>\n",
       "      <td>N00000005</td>\n",
       "      <td>ERP Implementation</td>\n",
       "      <td>Delhi</td>\n",
       "      <td>Enterprise Sellers</td>\n",
       "      <td>69</td>\n",
       "      <td>Loss</td>\n",
       "      <td>11</td>\n",
       "      <td>32886</td>\n",
       "      <td>100K or less</td>\n",
       "      <td>1K or less</td>\n",
       "      <td>0 (No business)</td>\n",
       "      <td>Unknown</td>\n",
       "      <td>30K to 40K</td>\n",
       "    </tr>\n",
       "  </tbody>\n",
       "</table>\n",
       "</div>"
      ],
      "text/plain": [
       "  Opportunity ID           Technology\\nPrimary       City    B2B Sales Medium  \\\n",
       "0      N00000001            ERP Implementation  Bengaluru           Marketing   \n",
       "1      N00000002            ERP Implementation      Delhi  Enterprise Sellers   \n",
       "2      N00000003  Technical Business Solutions      Delhi  Enterprise Sellers   \n",
       "3      N00000004  Technical Business Solutions     Mumbai  Enterprise Sellers   \n",
       "4      N00000005            ERP Implementation      Delhi  Enterprise Sellers   \n",
       "\n",
       "   Sales Velocity Opportunity Status  Sales Stage Iterations  \\\n",
       "0              76                Won                      13   \n",
       "1              63               Loss                       2   \n",
       "2              24                Won                       7   \n",
       "3              16               Loss                       5   \n",
       "4              69               Loss                      11   \n",
       "\n",
       "   Opportunity Size (USD) Client Revenue Sizing Client Employee Sizing  \\\n",
       "0                       0          More than 1M          More than 25K   \n",
       "1                       0          250K to 500K          More than 25K   \n",
       "2                    7750          100K or less             1K or less   \n",
       "3                       0          100K or less             1K or less   \n",
       "4                   32886          100K or less             1K or less   \n",
       "\n",
       "  Business from Client Last Year Compete Intel Opportunity Sizing  \n",
       "0                0 (No business)       Unknown        10K or less  \n",
       "1                0 (No business)       Unknown        10K or less  \n",
       "2                0 (No business)       Unknown        10K or less  \n",
       "3                0 (No business)         Known        10K or less  \n",
       "4                0 (No business)       Unknown         30K to 40K  "
      ]
     },
     "execution_count": 24,
     "metadata": {},
     "output_type": "execute_result"
    }
   ],
   "source": [
    "it.head()"
   ]
  },
  {
   "cell_type": "code",
   "execution_count": null,
   "metadata": {},
   "outputs": [],
   "source": []
  },
  {
   "cell_type": "code",
   "execution_count": null,
   "metadata": {},
   "outputs": [],
   "source": []
  },
  {
   "cell_type": "code",
   "execution_count": null,
   "metadata": {},
   "outputs": [],
   "source": []
  },
  {
   "cell_type": "code",
   "execution_count": null,
   "metadata": {},
   "outputs": [],
   "source": []
  },
  {
   "cell_type": "code",
   "execution_count": null,
   "metadata": {},
   "outputs": [],
   "source": []
  },
  {
   "cell_type": "code",
   "execution_count": null,
   "metadata": {},
   "outputs": [],
   "source": []
  }
 ],
 "metadata": {
  "kernelspec": {
   "display_name": "Python 3",
   "language": "python",
   "name": "python3"
  },
  "language_info": {
   "codemirror_mode": {
    "name": "ipython",
    "version": 3
   },
   "file_extension": ".py",
   "mimetype": "text/x-python",
   "name": "python",
   "nbconvert_exporter": "python",
   "pygments_lexer": "ipython3",
   "version": "3.7.6"
  }
 },
 "nbformat": 4,
 "nbformat_minor": 4
}
