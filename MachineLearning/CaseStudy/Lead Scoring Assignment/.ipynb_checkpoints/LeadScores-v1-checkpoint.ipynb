{
 "cells": [
  {
   "cell_type": "code",
   "execution_count": 126,
   "metadata": {},
   "outputs": [],
   "source": [
    "# Importing required libraries\n",
    "import pandas as pd\n",
    "import numpy as np\n",
    "import matplotlib.pyplot as plt\n",
    "import seaborn as sns\n",
    "import warnings\n",
    "warnings.filterwarnings('ignore')"
   ]
  },
  {
   "cell_type": "code",
   "execution_count": 127,
   "metadata": {},
   "outputs": [],
   "source": [
    "# Importing dataset\n",
    "df = pd.read_csv('Leads.csv')"
   ]
  },
  {
   "cell_type": "markdown",
   "metadata": {},
   "source": [
    "## Data Inspection"
   ]
  },
  {
   "cell_type": "code",
   "execution_count": 128,
   "metadata": {},
   "outputs": [],
   "source": [
    "# To see whole dataset field values\n",
    "pd.set_option('display.max_columns',50)"
   ]
  },
  {
   "cell_type": "code",
   "execution_count": 129,
   "metadata": {},
   "outputs": [
    {
     "data": {
      "text/plain": [
       "(9240, 37)"
      ]
     },
     "execution_count": 129,
     "metadata": {},
     "output_type": "execute_result"
    }
   ],
   "source": [
    "df.shape"
   ]
  },
  {
   "cell_type": "code",
   "execution_count": 130,
   "metadata": {},
   "outputs": [
    {
     "data": {
      "text/html": [
       "<div>\n",
       "<style scoped>\n",
       "    .dataframe tbody tr th:only-of-type {\n",
       "        vertical-align: middle;\n",
       "    }\n",
       "\n",
       "    .dataframe tbody tr th {\n",
       "        vertical-align: top;\n",
       "    }\n",
       "\n",
       "    .dataframe thead th {\n",
       "        text-align: right;\n",
       "    }\n",
       "</style>\n",
       "<table border=\"1\" class=\"dataframe\">\n",
       "  <thead>\n",
       "    <tr style=\"text-align: right;\">\n",
       "      <th></th>\n",
       "      <th>Prospect ID</th>\n",
       "      <th>Lead Number</th>\n",
       "      <th>Lead Origin</th>\n",
       "      <th>Lead Source</th>\n",
       "      <th>Do Not Email</th>\n",
       "      <th>Do Not Call</th>\n",
       "      <th>Converted</th>\n",
       "      <th>TotalVisits</th>\n",
       "      <th>Total Time Spent on Website</th>\n",
       "      <th>Page Views Per Visit</th>\n",
       "      <th>Last Activity</th>\n",
       "      <th>Country</th>\n",
       "      <th>Specialization</th>\n",
       "      <th>How did you hear about X Education</th>\n",
       "      <th>What is your current occupation</th>\n",
       "      <th>What matters most to you in choosing a course</th>\n",
       "      <th>Search</th>\n",
       "      <th>Magazine</th>\n",
       "      <th>Newspaper Article</th>\n",
       "      <th>X Education Forums</th>\n",
       "      <th>Newspaper</th>\n",
       "      <th>Digital Advertisement</th>\n",
       "      <th>Through Recommendations</th>\n",
       "      <th>Receive More Updates About Our Courses</th>\n",
       "      <th>Tags</th>\n",
       "      <th>Lead Quality</th>\n",
       "      <th>Update me on Supply Chain Content</th>\n",
       "      <th>Get updates on DM Content</th>\n",
       "      <th>Lead Profile</th>\n",
       "      <th>City</th>\n",
       "      <th>Asymmetrique Activity Index</th>\n",
       "      <th>Asymmetrique Profile Index</th>\n",
       "      <th>Asymmetrique Activity Score</th>\n",
       "      <th>Asymmetrique Profile Score</th>\n",
       "      <th>I agree to pay the amount through cheque</th>\n",
       "      <th>A free copy of Mastering The Interview</th>\n",
       "      <th>Last Notable Activity</th>\n",
       "    </tr>\n",
       "  </thead>\n",
       "  <tbody>\n",
       "    <tr>\n",
       "      <th>0</th>\n",
       "      <td>7927b2df-8bba-4d29-b9a2-b6e0beafe620</td>\n",
       "      <td>660737</td>\n",
       "      <td>API</td>\n",
       "      <td>Olark Chat</td>\n",
       "      <td>No</td>\n",
       "      <td>No</td>\n",
       "      <td>0</td>\n",
       "      <td>0.0</td>\n",
       "      <td>0</td>\n",
       "      <td>0.0</td>\n",
       "      <td>Page Visited on Website</td>\n",
       "      <td>NaN</td>\n",
       "      <td>Select</td>\n",
       "      <td>Select</td>\n",
       "      <td>Unemployed</td>\n",
       "      <td>Better Career Prospects</td>\n",
       "      <td>No</td>\n",
       "      <td>No</td>\n",
       "      <td>No</td>\n",
       "      <td>No</td>\n",
       "      <td>No</td>\n",
       "      <td>No</td>\n",
       "      <td>No</td>\n",
       "      <td>No</td>\n",
       "      <td>Interested in other courses</td>\n",
       "      <td>Low in Relevance</td>\n",
       "      <td>No</td>\n",
       "      <td>No</td>\n",
       "      <td>Select</td>\n",
       "      <td>Select</td>\n",
       "      <td>02.Medium</td>\n",
       "      <td>02.Medium</td>\n",
       "      <td>15.0</td>\n",
       "      <td>15.0</td>\n",
       "      <td>No</td>\n",
       "      <td>No</td>\n",
       "      <td>Modified</td>\n",
       "    </tr>\n",
       "    <tr>\n",
       "      <th>1</th>\n",
       "      <td>2a272436-5132-4136-86fa-dcc88c88f482</td>\n",
       "      <td>660728</td>\n",
       "      <td>API</td>\n",
       "      <td>Organic Search</td>\n",
       "      <td>No</td>\n",
       "      <td>No</td>\n",
       "      <td>0</td>\n",
       "      <td>5.0</td>\n",
       "      <td>674</td>\n",
       "      <td>2.5</td>\n",
       "      <td>Email Opened</td>\n",
       "      <td>India</td>\n",
       "      <td>Select</td>\n",
       "      <td>Select</td>\n",
       "      <td>Unemployed</td>\n",
       "      <td>Better Career Prospects</td>\n",
       "      <td>No</td>\n",
       "      <td>No</td>\n",
       "      <td>No</td>\n",
       "      <td>No</td>\n",
       "      <td>No</td>\n",
       "      <td>No</td>\n",
       "      <td>No</td>\n",
       "      <td>No</td>\n",
       "      <td>Ringing</td>\n",
       "      <td>NaN</td>\n",
       "      <td>No</td>\n",
       "      <td>No</td>\n",
       "      <td>Select</td>\n",
       "      <td>Select</td>\n",
       "      <td>02.Medium</td>\n",
       "      <td>02.Medium</td>\n",
       "      <td>15.0</td>\n",
       "      <td>15.0</td>\n",
       "      <td>No</td>\n",
       "      <td>No</td>\n",
       "      <td>Email Opened</td>\n",
       "    </tr>\n",
       "    <tr>\n",
       "      <th>2</th>\n",
       "      <td>8cc8c611-a219-4f35-ad23-fdfd2656bd8a</td>\n",
       "      <td>660727</td>\n",
       "      <td>Landing Page Submission</td>\n",
       "      <td>Direct Traffic</td>\n",
       "      <td>No</td>\n",
       "      <td>No</td>\n",
       "      <td>1</td>\n",
       "      <td>2.0</td>\n",
       "      <td>1532</td>\n",
       "      <td>2.0</td>\n",
       "      <td>Email Opened</td>\n",
       "      <td>India</td>\n",
       "      <td>Business Administration</td>\n",
       "      <td>Select</td>\n",
       "      <td>Student</td>\n",
       "      <td>Better Career Prospects</td>\n",
       "      <td>No</td>\n",
       "      <td>No</td>\n",
       "      <td>No</td>\n",
       "      <td>No</td>\n",
       "      <td>No</td>\n",
       "      <td>No</td>\n",
       "      <td>No</td>\n",
       "      <td>No</td>\n",
       "      <td>Will revert after reading the email</td>\n",
       "      <td>Might be</td>\n",
       "      <td>No</td>\n",
       "      <td>No</td>\n",
       "      <td>Potential Lead</td>\n",
       "      <td>Mumbai</td>\n",
       "      <td>02.Medium</td>\n",
       "      <td>01.High</td>\n",
       "      <td>14.0</td>\n",
       "      <td>20.0</td>\n",
       "      <td>No</td>\n",
       "      <td>Yes</td>\n",
       "      <td>Email Opened</td>\n",
       "    </tr>\n",
       "    <tr>\n",
       "      <th>3</th>\n",
       "      <td>0cc2df48-7cf4-4e39-9de9-19797f9b38cc</td>\n",
       "      <td>660719</td>\n",
       "      <td>Landing Page Submission</td>\n",
       "      <td>Direct Traffic</td>\n",
       "      <td>No</td>\n",
       "      <td>No</td>\n",
       "      <td>0</td>\n",
       "      <td>1.0</td>\n",
       "      <td>305</td>\n",
       "      <td>1.0</td>\n",
       "      <td>Unreachable</td>\n",
       "      <td>India</td>\n",
       "      <td>Media and Advertising</td>\n",
       "      <td>Word Of Mouth</td>\n",
       "      <td>Unemployed</td>\n",
       "      <td>Better Career Prospects</td>\n",
       "      <td>No</td>\n",
       "      <td>No</td>\n",
       "      <td>No</td>\n",
       "      <td>No</td>\n",
       "      <td>No</td>\n",
       "      <td>No</td>\n",
       "      <td>No</td>\n",
       "      <td>No</td>\n",
       "      <td>Ringing</td>\n",
       "      <td>Not Sure</td>\n",
       "      <td>No</td>\n",
       "      <td>No</td>\n",
       "      <td>Select</td>\n",
       "      <td>Mumbai</td>\n",
       "      <td>02.Medium</td>\n",
       "      <td>01.High</td>\n",
       "      <td>13.0</td>\n",
       "      <td>17.0</td>\n",
       "      <td>No</td>\n",
       "      <td>No</td>\n",
       "      <td>Modified</td>\n",
       "    </tr>\n",
       "    <tr>\n",
       "      <th>4</th>\n",
       "      <td>3256f628-e534-4826-9d63-4a8b88782852</td>\n",
       "      <td>660681</td>\n",
       "      <td>Landing Page Submission</td>\n",
       "      <td>Google</td>\n",
       "      <td>No</td>\n",
       "      <td>No</td>\n",
       "      <td>1</td>\n",
       "      <td>2.0</td>\n",
       "      <td>1428</td>\n",
       "      <td>1.0</td>\n",
       "      <td>Converted to Lead</td>\n",
       "      <td>India</td>\n",
       "      <td>Select</td>\n",
       "      <td>Other</td>\n",
       "      <td>Unemployed</td>\n",
       "      <td>Better Career Prospects</td>\n",
       "      <td>No</td>\n",
       "      <td>No</td>\n",
       "      <td>No</td>\n",
       "      <td>No</td>\n",
       "      <td>No</td>\n",
       "      <td>No</td>\n",
       "      <td>No</td>\n",
       "      <td>No</td>\n",
       "      <td>Will revert after reading the email</td>\n",
       "      <td>Might be</td>\n",
       "      <td>No</td>\n",
       "      <td>No</td>\n",
       "      <td>Select</td>\n",
       "      <td>Mumbai</td>\n",
       "      <td>02.Medium</td>\n",
       "      <td>01.High</td>\n",
       "      <td>15.0</td>\n",
       "      <td>18.0</td>\n",
       "      <td>No</td>\n",
       "      <td>No</td>\n",
       "      <td>Modified</td>\n",
       "    </tr>\n",
       "  </tbody>\n",
       "</table>\n",
       "</div>"
      ],
      "text/plain": [
       "                            Prospect ID  Lead Number              Lead Origin  \\\n",
       "0  7927b2df-8bba-4d29-b9a2-b6e0beafe620       660737                      API   \n",
       "1  2a272436-5132-4136-86fa-dcc88c88f482       660728                      API   \n",
       "2  8cc8c611-a219-4f35-ad23-fdfd2656bd8a       660727  Landing Page Submission   \n",
       "3  0cc2df48-7cf4-4e39-9de9-19797f9b38cc       660719  Landing Page Submission   \n",
       "4  3256f628-e534-4826-9d63-4a8b88782852       660681  Landing Page Submission   \n",
       "\n",
       "      Lead Source Do Not Email Do Not Call  Converted  TotalVisits  \\\n",
       "0      Olark Chat           No          No          0          0.0   \n",
       "1  Organic Search           No          No          0          5.0   \n",
       "2  Direct Traffic           No          No          1          2.0   \n",
       "3  Direct Traffic           No          No          0          1.0   \n",
       "4          Google           No          No          1          2.0   \n",
       "\n",
       "   Total Time Spent on Website  Page Views Per Visit            Last Activity  \\\n",
       "0                            0                   0.0  Page Visited on Website   \n",
       "1                          674                   2.5             Email Opened   \n",
       "2                         1532                   2.0             Email Opened   \n",
       "3                          305                   1.0              Unreachable   \n",
       "4                         1428                   1.0        Converted to Lead   \n",
       "\n",
       "  Country           Specialization How did you hear about X Education  \\\n",
       "0     NaN                   Select                             Select   \n",
       "1   India                   Select                             Select   \n",
       "2   India  Business Administration                             Select   \n",
       "3   India    Media and Advertising                      Word Of Mouth   \n",
       "4   India                   Select                              Other   \n",
       "\n",
       "  What is your current occupation  \\\n",
       "0                      Unemployed   \n",
       "1                      Unemployed   \n",
       "2                         Student   \n",
       "3                      Unemployed   \n",
       "4                      Unemployed   \n",
       "\n",
       "  What matters most to you in choosing a course Search Magazine  \\\n",
       "0                       Better Career Prospects     No       No   \n",
       "1                       Better Career Prospects     No       No   \n",
       "2                       Better Career Prospects     No       No   \n",
       "3                       Better Career Prospects     No       No   \n",
       "4                       Better Career Prospects     No       No   \n",
       "\n",
       "  Newspaper Article X Education Forums Newspaper Digital Advertisement  \\\n",
       "0                No                 No        No                    No   \n",
       "1                No                 No        No                    No   \n",
       "2                No                 No        No                    No   \n",
       "3                No                 No        No                    No   \n",
       "4                No                 No        No                    No   \n",
       "\n",
       "  Through Recommendations Receive More Updates About Our Courses  \\\n",
       "0                      No                                     No   \n",
       "1                      No                                     No   \n",
       "2                      No                                     No   \n",
       "3                      No                                     No   \n",
       "4                      No                                     No   \n",
       "\n",
       "                                  Tags      Lead Quality  \\\n",
       "0          Interested in other courses  Low in Relevance   \n",
       "1                              Ringing               NaN   \n",
       "2  Will revert after reading the email          Might be   \n",
       "3                              Ringing          Not Sure   \n",
       "4  Will revert after reading the email          Might be   \n",
       "\n",
       "  Update me on Supply Chain Content Get updates on DM Content    Lead Profile  \\\n",
       "0                                No                        No          Select   \n",
       "1                                No                        No          Select   \n",
       "2                                No                        No  Potential Lead   \n",
       "3                                No                        No          Select   \n",
       "4                                No                        No          Select   \n",
       "\n",
       "     City Asymmetrique Activity Index Asymmetrique Profile Index  \\\n",
       "0  Select                   02.Medium                  02.Medium   \n",
       "1  Select                   02.Medium                  02.Medium   \n",
       "2  Mumbai                   02.Medium                    01.High   \n",
       "3  Mumbai                   02.Medium                    01.High   \n",
       "4  Mumbai                   02.Medium                    01.High   \n",
       "\n",
       "   Asymmetrique Activity Score  Asymmetrique Profile Score  \\\n",
       "0                         15.0                        15.0   \n",
       "1                         15.0                        15.0   \n",
       "2                         14.0                        20.0   \n",
       "3                         13.0                        17.0   \n",
       "4                         15.0                        18.0   \n",
       "\n",
       "  I agree to pay the amount through cheque  \\\n",
       "0                                       No   \n",
       "1                                       No   \n",
       "2                                       No   \n",
       "3                                       No   \n",
       "4                                       No   \n",
       "\n",
       "  A free copy of Mastering The Interview Last Notable Activity  \n",
       "0                                     No              Modified  \n",
       "1                                     No          Email Opened  \n",
       "2                                    Yes          Email Opened  \n",
       "3                                     No              Modified  \n",
       "4                                     No              Modified  "
      ]
     },
     "execution_count": 130,
     "metadata": {},
     "output_type": "execute_result"
    }
   ],
   "source": [
    "df.head()"
   ]
  },
  {
   "cell_type": "code",
   "execution_count": 131,
   "metadata": {},
   "outputs": [
    {
     "name": "stdout",
     "output_type": "stream",
     "text": [
      "<class 'pandas.core.frame.DataFrame'>\n",
      "RangeIndex: 9240 entries, 0 to 9239\n",
      "Data columns (total 37 columns):\n",
      " #   Column                                         Non-Null Count  Dtype  \n",
      "---  ------                                         --------------  -----  \n",
      " 0   Prospect ID                                    9240 non-null   object \n",
      " 1   Lead Number                                    9240 non-null   int64  \n",
      " 2   Lead Origin                                    9240 non-null   object \n",
      " 3   Lead Source                                    9204 non-null   object \n",
      " 4   Do Not Email                                   9240 non-null   object \n",
      " 5   Do Not Call                                    9240 non-null   object \n",
      " 6   Converted                                      9240 non-null   int64  \n",
      " 7   TotalVisits                                    9103 non-null   float64\n",
      " 8   Total Time Spent on Website                    9240 non-null   int64  \n",
      " 9   Page Views Per Visit                           9103 non-null   float64\n",
      " 10  Last Activity                                  9137 non-null   object \n",
      " 11  Country                                        6779 non-null   object \n",
      " 12  Specialization                                 7802 non-null   object \n",
      " 13  How did you hear about X Education             7033 non-null   object \n",
      " 14  What is your current occupation                6550 non-null   object \n",
      " 15  What matters most to you in choosing a course  6531 non-null   object \n",
      " 16  Search                                         9240 non-null   object \n",
      " 17  Magazine                                       9240 non-null   object \n",
      " 18  Newspaper Article                              9240 non-null   object \n",
      " 19  X Education Forums                             9240 non-null   object \n",
      " 20  Newspaper                                      9240 non-null   object \n",
      " 21  Digital Advertisement                          9240 non-null   object \n",
      " 22  Through Recommendations                        9240 non-null   object \n",
      " 23  Receive More Updates About Our Courses         9240 non-null   object \n",
      " 24  Tags                                           5887 non-null   object \n",
      " 25  Lead Quality                                   4473 non-null   object \n",
      " 26  Update me on Supply Chain Content              9240 non-null   object \n",
      " 27  Get updates on DM Content                      9240 non-null   object \n",
      " 28  Lead Profile                                   6531 non-null   object \n",
      " 29  City                                           7820 non-null   object \n",
      " 30  Asymmetrique Activity Index                    5022 non-null   object \n",
      " 31  Asymmetrique Profile Index                     5022 non-null   object \n",
      " 32  Asymmetrique Activity Score                    5022 non-null   float64\n",
      " 33  Asymmetrique Profile Score                     5022 non-null   float64\n",
      " 34  I agree to pay the amount through cheque       9240 non-null   object \n",
      " 35  A free copy of Mastering The Interview         9240 non-null   object \n",
      " 36  Last Notable Activity                          9240 non-null   object \n",
      "dtypes: float64(4), int64(3), object(30)\n",
      "memory usage: 2.6+ MB\n"
     ]
    }
   ],
   "source": [
    "df.info()"
   ]
  },
  {
   "cell_type": "markdown",
   "metadata": {},
   "source": [
    "# Data Cleaning"
   ]
  },
  {
   "cell_type": "markdown",
   "metadata": {},
   "source": [
    "### Dropping some fields which were assigned as an indicator to customers to get status as Lead(It will not be avaialbe when applying the model"
   ]
  },
  {
   "cell_type": "code",
   "execution_count": 132,
   "metadata": {},
   "outputs": [],
   "source": [
    "# Dropping columns 'Tags', 'Lead Quality','Lead Profile',Asymmetrique Activity Index','Asymmetrique Profile Index','Asymmetrique Activity Score','Asymmetrique Profile Score'\n",
    "\n",
    "drop_vars = ['Tags', 'Lead Quality','Lead Profile','Asymmetrique Activity Index','Asymmetrique Profile Index','Asymmetrique Activity Score','Asymmetrique Profile Score']\n",
    "df.drop(drop_vars, axis=1, inplace=True)"
   ]
  },
  {
   "cell_type": "markdown",
   "metadata": {},
   "source": [
    "### Missing values treatment and Categorisation"
   ]
  },
  {
   "cell_type": "code",
   "execution_count": 133,
   "metadata": {},
   "outputs": [],
   "source": [
    "# There are some categorical fields which have values as \"Select\" which is equevalant to null so replacing them with NaN\n",
    "df=df.replace('Select', np.NaN)"
   ]
  },
  {
   "cell_type": "code",
   "execution_count": 134,
   "metadata": {},
   "outputs": [
    {
     "data": {
      "text/plain": [
       "Prospect ID                                      0.000000\n",
       "Lead Number                                      0.000000\n",
       "Lead Origin                                      0.000000\n",
       "Lead Source                                      0.003896\n",
       "Do Not Email                                     0.000000\n",
       "Do Not Call                                      0.000000\n",
       "Converted                                        0.000000\n",
       "TotalVisits                                      0.014827\n",
       "Total Time Spent on Website                      0.000000\n",
       "Page Views Per Visit                             0.014827\n",
       "Last Activity                                    0.011147\n",
       "Country                                          0.266342\n",
       "Specialization                                   0.365801\n",
       "How did you hear about X Education               0.784632\n",
       "What is your current occupation                  0.291126\n",
       "What matters most to you in choosing a course    0.293182\n",
       "Search                                           0.000000\n",
       "Magazine                                         0.000000\n",
       "Newspaper Article                                0.000000\n",
       "X Education Forums                               0.000000\n",
       "Newspaper                                        0.000000\n",
       "Digital Advertisement                            0.000000\n",
       "Through Recommendations                          0.000000\n",
       "Receive More Updates About Our Courses           0.000000\n",
       "Update me on Supply Chain Content                0.000000\n",
       "Get updates on DM Content                        0.000000\n",
       "City                                             0.397078\n",
       "I agree to pay the amount through cheque         0.000000\n",
       "A free copy of Mastering The Interview           0.000000\n",
       "Last Notable Activity                            0.000000\n",
       "dtype: float64"
      ]
     },
     "execution_count": 134,
     "metadata": {},
     "output_type": "execute_result"
    }
   ],
   "source": [
    "# Getting percentage of missing values\n",
    "df.isnull().sum(axis=0)/len(df)"
   ]
  },
  {
   "cell_type": "code",
   "execution_count": 135,
   "metadata": {},
   "outputs": [],
   "source": [
    "# Dropping rows of columns which are having very less percentage null values\n",
    "df.dropna(subset=['Lead Source','TotalVisits','Page Views Per Visit'], inplace = True)"
   ]
  },
  {
   "cell_type": "code",
   "execution_count": 136,
   "metadata": {},
   "outputs": [],
   "source": [
    "# Dropping the feature as they have very large percentage of missing values(around 78%)\n",
    "df.drop('How did you hear about X Education', axis =1, inplace = True)"
   ]
  },
  {
   "cell_type": "code",
   "execution_count": 137,
   "metadata": {},
   "outputs": [
    {
     "data": {
      "text/plain": [
       "India                   6491\n",
       "United States             69\n",
       "United Arab Emirates      53\n",
       "Singapore                 24\n",
       "Saudi Arabia              21\n",
       "United Kingdom            15\n",
       "Australia                 13\n",
       "Qatar                     10\n",
       "Bahrain                    7\n",
       "Hong Kong                  7\n",
       "Oman                       6\n",
       "France                     6\n",
       "unknown                    5\n",
       "Kuwait                     4\n",
       "Canada                     4\n",
       "Germany                    4\n",
       "South Africa               4\n",
       "Nigeria                    4\n",
       "Sweden                     3\n",
       "Bangladesh                 2\n",
       "Asia/Pacific Region        2\n",
       "Italy                      2\n",
       "China                      2\n",
       "Ghana                      2\n",
       "Philippines                2\n",
       "Uganda                     2\n",
       "Netherlands                2\n",
       "Belgium                    2\n",
       "Sri Lanka                  1\n",
       "Vietnam                    1\n",
       "Denmark                    1\n",
       "Kenya                      1\n",
       "Tanzania                   1\n",
       "Malaysia                   1\n",
       "Indonesia                  1\n",
       "Switzerland                1\n",
       "Russia                     1\n",
       "Liberia                    1\n",
       "Name: Country, dtype: int64"
      ]
     },
     "execution_count": 137,
     "metadata": {},
     "output_type": "execute_result"
    }
   ],
   "source": [
    "# Checkig values in field 'Country'\n",
    "df.Country.value_counts()"
   ]
  },
  {
   "cell_type": "markdown",
   "metadata": {},
   "source": [
    "We can drop 'Country' as its very much skewed. 71% is India and 25% null."
   ]
  },
  {
   "cell_type": "code",
   "execution_count": 138,
   "metadata": {},
   "outputs": [],
   "source": [
    "# Dropping the country column due to skewness in the data\n",
    "df.drop('Country', axis=1, inplace = True)"
   ]
  },
  {
   "cell_type": "code",
   "execution_count": 139,
   "metadata": {},
   "outputs": [
    {
     "data": {
      "text/plain": [
       "Finance Management                   959\n",
       "Human Resource Management            837\n",
       "Marketing Management                 823\n",
       "Operations Management                499\n",
       "Business Administration              399\n",
       "IT Projects Management               366\n",
       "Supply Chain Management              346\n",
       "Banking, Investment And Insurance    335\n",
       "Media and Advertising                202\n",
       "Travel and Tourism                   202\n",
       "International Business               176\n",
       "Healthcare Management                156\n",
       "Hospitality Management               111\n",
       "E-COMMERCE                           111\n",
       "Retail Management                    100\n",
       "Rural and Agribusiness                73\n",
       "E-Business                            57\n",
       "Services Excellence                   40\n",
       "Name: Specialization, dtype: int64"
      ]
     },
     "execution_count": 139,
     "metadata": {},
     "output_type": "execute_result"
    }
   ],
   "source": [
    "# Checking values of feature \"Specialization\". It has 36.17 percentage null value\n",
    "df['Specialization'].value_counts()"
   ]
  },
  {
   "cell_type": "markdown",
   "metadata": {},
   "source": [
    "Replacing the null values with Other category"
   ]
  },
  {
   "cell_type": "code",
   "execution_count": 140,
   "metadata": {},
   "outputs": [],
   "source": [
    "# Replacing the null values with category as Other\n",
    "df['Specialization'].fillna('Other',inplace=True)"
   ]
  },
  {
   "cell_type": "code",
   "execution_count": 141,
   "metadata": {},
   "outputs": [
    {
     "data": {
      "text/plain": [
       "Unemployed              5476\n",
       "Working Professional     677\n",
       "Student                  206\n",
       "Other                     15\n",
       "Housewife                  9\n",
       "Businessman                8\n",
       "Name: What is your current occupation, dtype: int64"
      ]
     },
     "execution_count": 141,
     "metadata": {},
     "output_type": "execute_result"
    }
   ],
   "source": [
    "# Checking the values of the field \"What is your current occupation\"\n",
    "df['What is your current occupation'].value_counts()"
   ]
  },
  {
   "cell_type": "markdown",
   "metadata": {},
   "source": [
    "Mostly the value of the field is 'Unemployed' so replacing the null values with mode of the field. As per business perspective too most interested people in education would be 'Unemployed'"
   ]
  },
  {
   "cell_type": "code",
   "execution_count": 142,
   "metadata": {},
   "outputs": [],
   "source": [
    "# Replacing the null values with mode of the field\n",
    "df['What is your current occupation'] = df['What is your current occupation'].fillna(df['What is your current occupation'].mode()[0])"
   ]
  },
  {
   "cell_type": "code",
   "execution_count": 143,
   "metadata": {},
   "outputs": [],
   "source": [
    "# Grouping the Housewife and Busunessman with Other category reduce number of category in dummification\n",
    "df['What is your current occupation'] = df['What is your current occupation'].replace({'Housewife':'Other','Businessman':'Other'})"
   ]
  },
  {
   "cell_type": "code",
   "execution_count": 144,
   "metadata": {},
   "outputs": [
    {
     "data": {
      "text/plain": [
       "Unemployed              8159\n",
       "Working Professional     677\n",
       "Student                  206\n",
       "Other                     32\n",
       "Name: What is your current occupation, dtype: int64"
      ]
     },
     "execution_count": 144,
     "metadata": {},
     "output_type": "execute_result"
    }
   ],
   "source": [
    "# Checking data again in the field in  'What is your current occupation'\n",
    "df['What is your current occupation'].value_counts()"
   ]
  },
  {
   "cell_type": "code",
   "execution_count": 145,
   "metadata": {},
   "outputs": [
    {
     "data": {
      "text/plain": [
       "Better Career Prospects      6370\n",
       "Flexibility & Convenience       1\n",
       "Other                           1\n",
       "Name: What matters most to you in choosing a course, dtype: int64"
      ]
     },
     "execution_count": 145,
     "metadata": {},
     "output_type": "execute_result"
    }
   ],
   "source": [
    "# Checking data in the field \"What matters most to you in choosing a course\"\n",
    "df['What matters most to you in choosing a course'].value_counts()"
   ]
  },
  {
   "cell_type": "markdown",
   "metadata": {},
   "source": [
    "The data in the field is skewed so it is better to drop the field."
   ]
  },
  {
   "cell_type": "code",
   "execution_count": 146,
   "metadata": {},
   "outputs": [],
   "source": [
    "# Dropping the field \"What matters most to you in choosing a course\"\n",
    "df.drop('What matters most to you in choosing a course', axis=1, inplace = True)"
   ]
  },
  {
   "cell_type": "code",
   "execution_count": 147,
   "metadata": {},
   "outputs": [
    {
     "data": {
      "text/plain": [
       "Mumbai                         3177\n",
       "Thane & Outskirts               745\n",
       "Other Cities                    680\n",
       "Other Cities of Maharashtra     446\n",
       "Other Metro Cities              377\n",
       "Tier II Cities                   74\n",
       "Name: City, dtype: int64"
      ]
     },
     "execution_count": 147,
     "metadata": {},
     "output_type": "execute_result"
    }
   ],
   "source": [
    "# Checking data in City\n",
    "df.City.value_counts()"
   ]
  },
  {
   "cell_type": "code",
   "execution_count": 148,
   "metadata": {},
   "outputs": [],
   "source": [
    "# Dropping City field as it around 40 % of data missing\n",
    "df.drop('City',axis=1, inplace = True)"
   ]
  },
  {
   "cell_type": "code",
   "execution_count": 149,
   "metadata": {},
   "outputs": [
    {
     "data": {
      "text/plain": [
       "Prospect ID                                 0.0\n",
       "Lead Number                                 0.0\n",
       "Lead Origin                                 0.0\n",
       "Lead Source                                 0.0\n",
       "Do Not Email                                0.0\n",
       "Do Not Call                                 0.0\n",
       "Converted                                   0.0\n",
       "TotalVisits                                 0.0\n",
       "Total Time Spent on Website                 0.0\n",
       "Page Views Per Visit                        0.0\n",
       "Last Activity                               0.0\n",
       "Specialization                              0.0\n",
       "What is your current occupation             0.0\n",
       "Search                                      0.0\n",
       "Magazine                                    0.0\n",
       "Newspaper Article                           0.0\n",
       "X Education Forums                          0.0\n",
       "Newspaper                                   0.0\n",
       "Digital Advertisement                       0.0\n",
       "Through Recommendations                     0.0\n",
       "Receive More Updates About Our Courses      0.0\n",
       "Update me on Supply Chain Content           0.0\n",
       "Get updates on DM Content                   0.0\n",
       "I agree to pay the amount through cheque    0.0\n",
       "A free copy of Mastering The Interview      0.0\n",
       "Last Notable Activity                       0.0\n",
       "dtype: float64"
      ]
     },
     "execution_count": 149,
     "metadata": {},
     "output_type": "execute_result"
    }
   ],
   "source": [
    "df.isnull().sum(axis=0)/len(df)"
   ]
  },
  {
   "cell_type": "code",
   "execution_count": 150,
   "metadata": {},
   "outputs": [],
   "source": [
    "# Dropping field 'Lead Number' as this is assigned to each customer so it is not usefull for machine learning\n",
    "df.drop(['Lead Number'],axis=1, inplace = True)"
   ]
  },
  {
   "cell_type": "code",
   "execution_count": 151,
   "metadata": {},
   "outputs": [
    {
     "data": {
      "text/html": [
       "<div>\n",
       "<style scoped>\n",
       "    .dataframe tbody tr th:only-of-type {\n",
       "        vertical-align: middle;\n",
       "    }\n",
       "\n",
       "    .dataframe tbody tr th {\n",
       "        vertical-align: top;\n",
       "    }\n",
       "\n",
       "    .dataframe thead th {\n",
       "        text-align: right;\n",
       "    }\n",
       "</style>\n",
       "<table border=\"1\" class=\"dataframe\">\n",
       "  <thead>\n",
       "    <tr style=\"text-align: right;\">\n",
       "      <th></th>\n",
       "      <th>Prospect ID</th>\n",
       "      <th>Lead Origin</th>\n",
       "      <th>Lead Source</th>\n",
       "      <th>Do Not Email</th>\n",
       "      <th>Do Not Call</th>\n",
       "      <th>Converted</th>\n",
       "      <th>TotalVisits</th>\n",
       "      <th>Total Time Spent on Website</th>\n",
       "      <th>Page Views Per Visit</th>\n",
       "      <th>Last Activity</th>\n",
       "      <th>Specialization</th>\n",
       "      <th>What is your current occupation</th>\n",
       "      <th>Search</th>\n",
       "      <th>Magazine</th>\n",
       "      <th>Newspaper Article</th>\n",
       "      <th>X Education Forums</th>\n",
       "      <th>Newspaper</th>\n",
       "      <th>Digital Advertisement</th>\n",
       "      <th>Through Recommendations</th>\n",
       "      <th>Receive More Updates About Our Courses</th>\n",
       "      <th>Update me on Supply Chain Content</th>\n",
       "      <th>Get updates on DM Content</th>\n",
       "      <th>I agree to pay the amount through cheque</th>\n",
       "      <th>A free copy of Mastering The Interview</th>\n",
       "      <th>Last Notable Activity</th>\n",
       "    </tr>\n",
       "  </thead>\n",
       "  <tbody>\n",
       "    <tr>\n",
       "      <th>0</th>\n",
       "      <td>7927b2df-8bba-4d29-b9a2-b6e0beafe620</td>\n",
       "      <td>API</td>\n",
       "      <td>Olark Chat</td>\n",
       "      <td>No</td>\n",
       "      <td>No</td>\n",
       "      <td>0</td>\n",
       "      <td>0.0</td>\n",
       "      <td>0</td>\n",
       "      <td>0.0</td>\n",
       "      <td>Page Visited on Website</td>\n",
       "      <td>Other</td>\n",
       "      <td>Unemployed</td>\n",
       "      <td>No</td>\n",
       "      <td>No</td>\n",
       "      <td>No</td>\n",
       "      <td>No</td>\n",
       "      <td>No</td>\n",
       "      <td>No</td>\n",
       "      <td>No</td>\n",
       "      <td>No</td>\n",
       "      <td>No</td>\n",
       "      <td>No</td>\n",
       "      <td>No</td>\n",
       "      <td>No</td>\n",
       "      <td>Modified</td>\n",
       "    </tr>\n",
       "    <tr>\n",
       "      <th>1</th>\n",
       "      <td>2a272436-5132-4136-86fa-dcc88c88f482</td>\n",
       "      <td>API</td>\n",
       "      <td>Organic Search</td>\n",
       "      <td>No</td>\n",
       "      <td>No</td>\n",
       "      <td>0</td>\n",
       "      <td>5.0</td>\n",
       "      <td>674</td>\n",
       "      <td>2.5</td>\n",
       "      <td>Email Opened</td>\n",
       "      <td>Other</td>\n",
       "      <td>Unemployed</td>\n",
       "      <td>No</td>\n",
       "      <td>No</td>\n",
       "      <td>No</td>\n",
       "      <td>No</td>\n",
       "      <td>No</td>\n",
       "      <td>No</td>\n",
       "      <td>No</td>\n",
       "      <td>No</td>\n",
       "      <td>No</td>\n",
       "      <td>No</td>\n",
       "      <td>No</td>\n",
       "      <td>No</td>\n",
       "      <td>Email Opened</td>\n",
       "    </tr>\n",
       "    <tr>\n",
       "      <th>2</th>\n",
       "      <td>8cc8c611-a219-4f35-ad23-fdfd2656bd8a</td>\n",
       "      <td>Landing Page Submission</td>\n",
       "      <td>Direct Traffic</td>\n",
       "      <td>No</td>\n",
       "      <td>No</td>\n",
       "      <td>1</td>\n",
       "      <td>2.0</td>\n",
       "      <td>1532</td>\n",
       "      <td>2.0</td>\n",
       "      <td>Email Opened</td>\n",
       "      <td>Business Administration</td>\n",
       "      <td>Student</td>\n",
       "      <td>No</td>\n",
       "      <td>No</td>\n",
       "      <td>No</td>\n",
       "      <td>No</td>\n",
       "      <td>No</td>\n",
       "      <td>No</td>\n",
       "      <td>No</td>\n",
       "      <td>No</td>\n",
       "      <td>No</td>\n",
       "      <td>No</td>\n",
       "      <td>No</td>\n",
       "      <td>Yes</td>\n",
       "      <td>Email Opened</td>\n",
       "    </tr>\n",
       "    <tr>\n",
       "      <th>3</th>\n",
       "      <td>0cc2df48-7cf4-4e39-9de9-19797f9b38cc</td>\n",
       "      <td>Landing Page Submission</td>\n",
       "      <td>Direct Traffic</td>\n",
       "      <td>No</td>\n",
       "      <td>No</td>\n",
       "      <td>0</td>\n",
       "      <td>1.0</td>\n",
       "      <td>305</td>\n",
       "      <td>1.0</td>\n",
       "      <td>Unreachable</td>\n",
       "      <td>Media and Advertising</td>\n",
       "      <td>Unemployed</td>\n",
       "      <td>No</td>\n",
       "      <td>No</td>\n",
       "      <td>No</td>\n",
       "      <td>No</td>\n",
       "      <td>No</td>\n",
       "      <td>No</td>\n",
       "      <td>No</td>\n",
       "      <td>No</td>\n",
       "      <td>No</td>\n",
       "      <td>No</td>\n",
       "      <td>No</td>\n",
       "      <td>No</td>\n",
       "      <td>Modified</td>\n",
       "    </tr>\n",
       "    <tr>\n",
       "      <th>4</th>\n",
       "      <td>3256f628-e534-4826-9d63-4a8b88782852</td>\n",
       "      <td>Landing Page Submission</td>\n",
       "      <td>Google</td>\n",
       "      <td>No</td>\n",
       "      <td>No</td>\n",
       "      <td>1</td>\n",
       "      <td>2.0</td>\n",
       "      <td>1428</td>\n",
       "      <td>1.0</td>\n",
       "      <td>Converted to Lead</td>\n",
       "      <td>Other</td>\n",
       "      <td>Unemployed</td>\n",
       "      <td>No</td>\n",
       "      <td>No</td>\n",
       "      <td>No</td>\n",
       "      <td>No</td>\n",
       "      <td>No</td>\n",
       "      <td>No</td>\n",
       "      <td>No</td>\n",
       "      <td>No</td>\n",
       "      <td>No</td>\n",
       "      <td>No</td>\n",
       "      <td>No</td>\n",
       "      <td>No</td>\n",
       "      <td>Modified</td>\n",
       "    </tr>\n",
       "  </tbody>\n",
       "</table>\n",
       "</div>"
      ],
      "text/plain": [
       "                            Prospect ID              Lead Origin  \\\n",
       "0  7927b2df-8bba-4d29-b9a2-b6e0beafe620                      API   \n",
       "1  2a272436-5132-4136-86fa-dcc88c88f482                      API   \n",
       "2  8cc8c611-a219-4f35-ad23-fdfd2656bd8a  Landing Page Submission   \n",
       "3  0cc2df48-7cf4-4e39-9de9-19797f9b38cc  Landing Page Submission   \n",
       "4  3256f628-e534-4826-9d63-4a8b88782852  Landing Page Submission   \n",
       "\n",
       "      Lead Source Do Not Email Do Not Call  Converted  TotalVisits  \\\n",
       "0      Olark Chat           No          No          0          0.0   \n",
       "1  Organic Search           No          No          0          5.0   \n",
       "2  Direct Traffic           No          No          1          2.0   \n",
       "3  Direct Traffic           No          No          0          1.0   \n",
       "4          Google           No          No          1          2.0   \n",
       "\n",
       "   Total Time Spent on Website  Page Views Per Visit            Last Activity  \\\n",
       "0                            0                   0.0  Page Visited on Website   \n",
       "1                          674                   2.5             Email Opened   \n",
       "2                         1532                   2.0             Email Opened   \n",
       "3                          305                   1.0              Unreachable   \n",
       "4                         1428                   1.0        Converted to Lead   \n",
       "\n",
       "            Specialization What is your current occupation Search Magazine  \\\n",
       "0                    Other                      Unemployed     No       No   \n",
       "1                    Other                      Unemployed     No       No   \n",
       "2  Business Administration                         Student     No       No   \n",
       "3    Media and Advertising                      Unemployed     No       No   \n",
       "4                    Other                      Unemployed     No       No   \n",
       "\n",
       "  Newspaper Article X Education Forums Newspaper Digital Advertisement  \\\n",
       "0                No                 No        No                    No   \n",
       "1                No                 No        No                    No   \n",
       "2                No                 No        No                    No   \n",
       "3                No                 No        No                    No   \n",
       "4                No                 No        No                    No   \n",
       "\n",
       "  Through Recommendations Receive More Updates About Our Courses  \\\n",
       "0                      No                                     No   \n",
       "1                      No                                     No   \n",
       "2                      No                                     No   \n",
       "3                      No                                     No   \n",
       "4                      No                                     No   \n",
       "\n",
       "  Update me on Supply Chain Content Get updates on DM Content  \\\n",
       "0                                No                        No   \n",
       "1                                No                        No   \n",
       "2                                No                        No   \n",
       "3                                No                        No   \n",
       "4                                No                        No   \n",
       "\n",
       "  I agree to pay the amount through cheque  \\\n",
       "0                                       No   \n",
       "1                                       No   \n",
       "2                                       No   \n",
       "3                                       No   \n",
       "4                                       No   \n",
       "\n",
       "  A free copy of Mastering The Interview Last Notable Activity  \n",
       "0                                     No              Modified  \n",
       "1                                     No          Email Opened  \n",
       "2                                    Yes          Email Opened  \n",
       "3                                     No              Modified  \n",
       "4                                     No              Modified  "
      ]
     },
     "execution_count": 151,
     "metadata": {},
     "output_type": "execute_result"
    }
   ],
   "source": [
    "df.head()"
   ]
  },
  {
   "cell_type": "markdown",
   "metadata": {},
   "source": [
    "### Checking other fields for skewness and Data Mapping"
   ]
  },
  {
   "cell_type": "code",
   "execution_count": 152,
   "metadata": {},
   "outputs": [
    {
     "name": "stdout",
     "output_type": "stream",
     "text": [
      "['Do Not Call', 'Search', 'Magazine', 'Newspaper Article', 'X Education Forums', 'Newspaper', 'Digital Advertisement', 'Through Recommendations', 'Receive More Updates About Our Courses', 'Update me on Supply Chain Content', 'Get updates on DM Content', 'I agree to pay the amount through cheque']\n"
     ]
    }
   ],
   "source": [
    "# Identify the Categorical columns which has skewed data\n",
    "Cols_skewed = []\n",
    "for i in df.select_dtypes(include='object').columns:\n",
    "    if df[i].value_counts(normalize=True)[0] > 0.97:\n",
    "        Cols_skewed.append(i)\n",
    "print(Cols_skewed)"
   ]
  },
  {
   "cell_type": "code",
   "execution_count": 153,
   "metadata": {},
   "outputs": [
    {
     "data": {
      "text/plain": [
       "No     9072\n",
       "Yes       2\n",
       "Name: Do Not Call, dtype: int64"
      ]
     },
     "execution_count": 153,
     "metadata": {},
     "output_type": "execute_result"
    }
   ],
   "source": [
    "# Checking values in the field 'Do Not Call'\n",
    "df['Do Not Call'].value_counts()"
   ]
  },
  {
   "cell_type": "code",
   "execution_count": 154,
   "metadata": {},
   "outputs": [],
   "source": [
    "# Data in the field \"Do Not Call\" is very skewed so dropping the field\n",
    "df.drop('Do Not Call',axis=1,inplace=True)"
   ]
  },
  {
   "cell_type": "code",
   "execution_count": 155,
   "metadata": {},
   "outputs": [
    {
     "data": {
      "text/plain": [
       "No     9060\n",
       "Yes      14\n",
       "Name: Search, dtype: int64"
      ]
     },
     "execution_count": 155,
     "metadata": {},
     "output_type": "execute_result"
    }
   ],
   "source": [
    "# Checking values in the field 'Search'\n",
    "df['Search'].value_counts()"
   ]
  },
  {
   "cell_type": "code",
   "execution_count": 156,
   "metadata": {},
   "outputs": [],
   "source": [
    "# Data in the field \"Seach\" is very skewed so dropping the field\n",
    "df.drop('Search',axis=1,inplace=True) "
   ]
  },
  {
   "cell_type": "code",
   "execution_count": 157,
   "metadata": {},
   "outputs": [
    {
     "data": {
      "text/plain": [
       "No    9074\n",
       "Name: Magazine, dtype: int64"
      ]
     },
     "execution_count": 157,
     "metadata": {},
     "output_type": "execute_result"
    }
   ],
   "source": [
    "# Checking values in the field 'Magazine'\n",
    "df['Magazine'].value_counts()"
   ]
  },
  {
   "cell_type": "code",
   "execution_count": 158,
   "metadata": {},
   "outputs": [],
   "source": [
    "# Droppoing the field 'Magazine' as it has single category\n",
    "df.drop('Magazine', axis=1,inplace=True)"
   ]
  },
  {
   "cell_type": "code",
   "execution_count": 159,
   "metadata": {},
   "outputs": [
    {
     "data": {
      "text/plain": [
       "No     9072\n",
       "Yes       2\n",
       "Name: Newspaper Article, dtype: int64"
      ]
     },
     "execution_count": 159,
     "metadata": {},
     "output_type": "execute_result"
    }
   ],
   "source": [
    "# Checking values in the field 'Newspaper Article'\n",
    "df['Newspaper Article'].value_counts()"
   ]
  },
  {
   "cell_type": "code",
   "execution_count": 160,
   "metadata": {},
   "outputs": [],
   "source": [
    "# Data in the field \"Newspaper Article\" is very skewed so dropping the field\n",
    "df.drop('Newspaper Article',axis=1,inplace=True)"
   ]
  },
  {
   "cell_type": "code",
   "execution_count": 161,
   "metadata": {},
   "outputs": [
    {
     "data": {
      "text/plain": [
       "No     9073\n",
       "Yes       1\n",
       "Name: X Education Forums, dtype: int64"
      ]
     },
     "execution_count": 161,
     "metadata": {},
     "output_type": "execute_result"
    }
   ],
   "source": [
    "# Checking values in the field 'X Education Forums'\n",
    "df['X Education Forums'].value_counts()"
   ]
  },
  {
   "cell_type": "code",
   "execution_count": 162,
   "metadata": {},
   "outputs": [],
   "source": [
    "# Data in the field \"X Education Forums\" is very skewed so dropping the field\n",
    "df.drop('X Education Forums',axis=1,inplace=True)"
   ]
  },
  {
   "cell_type": "code",
   "execution_count": 163,
   "metadata": {},
   "outputs": [
    {
     "data": {
      "text/plain": [
       "No     9073\n",
       "Yes       1\n",
       "Name: Newspaper, dtype: int64"
      ]
     },
     "execution_count": 163,
     "metadata": {},
     "output_type": "execute_result"
    }
   ],
   "source": [
    "# Checking values in the field 'Newspaper'\n",
    "df.Newspaper.value_counts()"
   ]
  },
  {
   "cell_type": "code",
   "execution_count": 164,
   "metadata": {},
   "outputs": [],
   "source": [
    "# Data in the field \"Newspaper\" is very skewed so dropping the field\n",
    "df.drop('Newspaper',axis=1,inplace=True)"
   ]
  },
  {
   "cell_type": "code",
   "execution_count": 165,
   "metadata": {},
   "outputs": [
    {
     "data": {
      "text/plain": [
       "No     9070\n",
       "Yes       4\n",
       "Name: Digital Advertisement, dtype: int64"
      ]
     },
     "execution_count": 165,
     "metadata": {},
     "output_type": "execute_result"
    }
   ],
   "source": [
    "# Checking data in Digital Advertisement\n",
    "df['Digital Advertisement'].value_counts()"
   ]
  },
  {
   "cell_type": "code",
   "execution_count": 166,
   "metadata": {},
   "outputs": [],
   "source": [
    "# Data in the field \"Digital Advertisement\" is very skewed so dropping the field\n",
    "df.drop('Digital Advertisement',axis=1,inplace=True)"
   ]
  },
  {
   "cell_type": "code",
   "execution_count": 167,
   "metadata": {},
   "outputs": [
    {
     "data": {
      "text/plain": [
       "No     9067\n",
       "Yes       7\n",
       "Name: Through Recommendations, dtype: int64"
      ]
     },
     "execution_count": 167,
     "metadata": {},
     "output_type": "execute_result"
    }
   ],
   "source": [
    "# Checking data in Through Recommendations\n",
    "df['Through Recommendations'].value_counts()"
   ]
  },
  {
   "cell_type": "code",
   "execution_count": 168,
   "metadata": {},
   "outputs": [],
   "source": [
    "# Data in the field \"Through Recommendations\" is very skewed so dropping the field\n",
    "df.drop('Through Recommendations',axis=1,inplace=True)"
   ]
  },
  {
   "cell_type": "code",
   "execution_count": 169,
   "metadata": {},
   "outputs": [
    {
     "data": {
      "text/plain": [
       "No    9074\n",
       "Name: Receive More Updates About Our Courses, dtype: int64"
      ]
     },
     "execution_count": 169,
     "metadata": {},
     "output_type": "execute_result"
    }
   ],
   "source": [
    "# Checking data in feature 'Receive More Updates About Our Courses'\n",
    "df['Receive More Updates About Our Courses'].value_counts()"
   ]
  },
  {
   "cell_type": "code",
   "execution_count": 170,
   "metadata": {},
   "outputs": [],
   "source": [
    "# Data in the field \"Receive More Updates About Our Courses\" has only one category. So dropping the variable\n",
    "df.drop('Receive More Updates About Our Courses',axis=1,inplace=True)"
   ]
  },
  {
   "cell_type": "code",
   "execution_count": 171,
   "metadata": {},
   "outputs": [
    {
     "data": {
      "text/plain": [
       "No    9074\n",
       "Name: Update me on Supply Chain Content, dtype: int64"
      ]
     },
     "execution_count": 171,
     "metadata": {},
     "output_type": "execute_result"
    }
   ],
   "source": [
    "# Checking data in 'Update me on Supply Chain Content'\n",
    "df['Update me on Supply Chain Content'].value_counts()"
   ]
  },
  {
   "cell_type": "code",
   "execution_count": 172,
   "metadata": {},
   "outputs": [],
   "source": [
    "# Data in the field \"Update me on Supply Chain Content\" has only one category. So dropping the variable\n",
    "df.drop('Update me on Supply Chain Content',axis=1,inplace=True)"
   ]
  },
  {
   "cell_type": "code",
   "execution_count": 173,
   "metadata": {},
   "outputs": [
    {
     "data": {
      "text/plain": [
       "No    9074\n",
       "Name: Get updates on DM Content, dtype: int64"
      ]
     },
     "execution_count": 173,
     "metadata": {},
     "output_type": "execute_result"
    }
   ],
   "source": [
    "# Checking data in 'Get updates on DM Content'\n",
    "df['Get updates on DM Content'].value_counts()"
   ]
  },
  {
   "cell_type": "code",
   "execution_count": 174,
   "metadata": {},
   "outputs": [],
   "source": [
    "# Data in the field \"Get updates on DM Content\" has only one category. So dropping the variable\n",
    "df.drop('Get updates on DM Content',axis=1,inplace=True)"
   ]
  },
  {
   "cell_type": "code",
   "execution_count": 175,
   "metadata": {},
   "outputs": [
    {
     "data": {
      "text/plain": [
       "No    9074\n",
       "Name: I agree to pay the amount through cheque, dtype: int64"
      ]
     },
     "execution_count": 175,
     "metadata": {},
     "output_type": "execute_result"
    }
   ],
   "source": [
    "# Checking data in 'I agree to pay the amount through cheque'\n",
    "df['I agree to pay the amount through cheque'].value_counts()"
   ]
  },
  {
   "cell_type": "code",
   "execution_count": 176,
   "metadata": {},
   "outputs": [],
   "source": [
    "# Data in the field \"I agree to pay the amount through cheque\" has only one category. So dropping the variable\n",
    "df.drop('I agree to pay the amount through cheque',axis=1,inplace=True)"
   ]
  },
  {
   "cell_type": "markdown",
   "metadata": {},
   "source": [
    "#### Mapping data for categorical fieds"
   ]
  },
  {
   "cell_type": "code",
   "execution_count": 177,
   "metadata": {},
   "outputs": [
    {
     "data": {
      "text/plain": [
       "No     8358\n",
       "Yes     716\n",
       "Name: Do Not Email, dtype: int64"
      ]
     },
     "execution_count": 177,
     "metadata": {},
     "output_type": "execute_result"
    }
   ],
   "source": [
    "# Checking values in the field 'Do Not Email'\n",
    "df['Do Not Email'].value_counts()"
   ]
  },
  {
   "cell_type": "code",
   "execution_count": 178,
   "metadata": {},
   "outputs": [],
   "source": [
    "# Mapping the category into binary number for the field 'Do Not Email'\n",
    "df['Do Not Email']=df['Do Not Email'].map({'Yes':1,'No':0})"
   ]
  },
  {
   "cell_type": "code",
   "execution_count": 179,
   "metadata": {},
   "outputs": [
    {
     "data": {
      "text/plain": [
       "No     6186\n",
       "Yes    2888\n",
       "Name: A free copy of Mastering The Interview, dtype: int64"
      ]
     },
     "execution_count": 179,
     "metadata": {},
     "output_type": "execute_result"
    }
   ],
   "source": [
    "# Checking data in 'A free copy of Mastering The Interview'\n",
    "df['A free copy of Mastering The Interview'].value_counts()"
   ]
  },
  {
   "cell_type": "code",
   "execution_count": 180,
   "metadata": {},
   "outputs": [],
   "source": [
    "# Mapping the values with numeric binary values\n",
    "df['A free copy of Mastering The Interview']=df['A free copy of Mastering The Interview'].map({'No':0,'Yes':1})"
   ]
  },
  {
   "cell_type": "code",
   "execution_count": 181,
   "metadata": {},
   "outputs": [
    {
     "data": {
      "text/html": [
       "<div>\n",
       "<style scoped>\n",
       "    .dataframe tbody tr th:only-of-type {\n",
       "        vertical-align: middle;\n",
       "    }\n",
       "\n",
       "    .dataframe tbody tr th {\n",
       "        vertical-align: top;\n",
       "    }\n",
       "\n",
       "    .dataframe thead th {\n",
       "        text-align: right;\n",
       "    }\n",
       "</style>\n",
       "<table border=\"1\" class=\"dataframe\">\n",
       "  <thead>\n",
       "    <tr style=\"text-align: right;\">\n",
       "      <th></th>\n",
       "      <th>Prospect ID</th>\n",
       "      <th>Lead Origin</th>\n",
       "      <th>Lead Source</th>\n",
       "      <th>Do Not Email</th>\n",
       "      <th>Converted</th>\n",
       "      <th>TotalVisits</th>\n",
       "      <th>Total Time Spent on Website</th>\n",
       "      <th>Page Views Per Visit</th>\n",
       "      <th>Last Activity</th>\n",
       "      <th>Specialization</th>\n",
       "      <th>What is your current occupation</th>\n",
       "      <th>A free copy of Mastering The Interview</th>\n",
       "      <th>Last Notable Activity</th>\n",
       "    </tr>\n",
       "  </thead>\n",
       "  <tbody>\n",
       "    <tr>\n",
       "      <th>0</th>\n",
       "      <td>7927b2df-8bba-4d29-b9a2-b6e0beafe620</td>\n",
       "      <td>API</td>\n",
       "      <td>Olark Chat</td>\n",
       "      <td>0</td>\n",
       "      <td>0</td>\n",
       "      <td>0.0</td>\n",
       "      <td>0</td>\n",
       "      <td>0.0</td>\n",
       "      <td>Page Visited on Website</td>\n",
       "      <td>Other</td>\n",
       "      <td>Unemployed</td>\n",
       "      <td>0</td>\n",
       "      <td>Modified</td>\n",
       "    </tr>\n",
       "    <tr>\n",
       "      <th>1</th>\n",
       "      <td>2a272436-5132-4136-86fa-dcc88c88f482</td>\n",
       "      <td>API</td>\n",
       "      <td>Organic Search</td>\n",
       "      <td>0</td>\n",
       "      <td>0</td>\n",
       "      <td>5.0</td>\n",
       "      <td>674</td>\n",
       "      <td>2.5</td>\n",
       "      <td>Email Opened</td>\n",
       "      <td>Other</td>\n",
       "      <td>Unemployed</td>\n",
       "      <td>0</td>\n",
       "      <td>Email Opened</td>\n",
       "    </tr>\n",
       "    <tr>\n",
       "      <th>2</th>\n",
       "      <td>8cc8c611-a219-4f35-ad23-fdfd2656bd8a</td>\n",
       "      <td>Landing Page Submission</td>\n",
       "      <td>Direct Traffic</td>\n",
       "      <td>0</td>\n",
       "      <td>1</td>\n",
       "      <td>2.0</td>\n",
       "      <td>1532</td>\n",
       "      <td>2.0</td>\n",
       "      <td>Email Opened</td>\n",
       "      <td>Business Administration</td>\n",
       "      <td>Student</td>\n",
       "      <td>1</td>\n",
       "      <td>Email Opened</td>\n",
       "    </tr>\n",
       "    <tr>\n",
       "      <th>3</th>\n",
       "      <td>0cc2df48-7cf4-4e39-9de9-19797f9b38cc</td>\n",
       "      <td>Landing Page Submission</td>\n",
       "      <td>Direct Traffic</td>\n",
       "      <td>0</td>\n",
       "      <td>0</td>\n",
       "      <td>1.0</td>\n",
       "      <td>305</td>\n",
       "      <td>1.0</td>\n",
       "      <td>Unreachable</td>\n",
       "      <td>Media and Advertising</td>\n",
       "      <td>Unemployed</td>\n",
       "      <td>0</td>\n",
       "      <td>Modified</td>\n",
       "    </tr>\n",
       "    <tr>\n",
       "      <th>4</th>\n",
       "      <td>3256f628-e534-4826-9d63-4a8b88782852</td>\n",
       "      <td>Landing Page Submission</td>\n",
       "      <td>Google</td>\n",
       "      <td>0</td>\n",
       "      <td>1</td>\n",
       "      <td>2.0</td>\n",
       "      <td>1428</td>\n",
       "      <td>1.0</td>\n",
       "      <td>Converted to Lead</td>\n",
       "      <td>Other</td>\n",
       "      <td>Unemployed</td>\n",
       "      <td>0</td>\n",
       "      <td>Modified</td>\n",
       "    </tr>\n",
       "  </tbody>\n",
       "</table>\n",
       "</div>"
      ],
      "text/plain": [
       "                            Prospect ID              Lead Origin  \\\n",
       "0  7927b2df-8bba-4d29-b9a2-b6e0beafe620                      API   \n",
       "1  2a272436-5132-4136-86fa-dcc88c88f482                      API   \n",
       "2  8cc8c611-a219-4f35-ad23-fdfd2656bd8a  Landing Page Submission   \n",
       "3  0cc2df48-7cf4-4e39-9de9-19797f9b38cc  Landing Page Submission   \n",
       "4  3256f628-e534-4826-9d63-4a8b88782852  Landing Page Submission   \n",
       "\n",
       "      Lead Source  Do Not Email  Converted  TotalVisits  \\\n",
       "0      Olark Chat             0          0          0.0   \n",
       "1  Organic Search             0          0          5.0   \n",
       "2  Direct Traffic             0          1          2.0   \n",
       "3  Direct Traffic             0          0          1.0   \n",
       "4          Google             0          1          2.0   \n",
       "\n",
       "   Total Time Spent on Website  Page Views Per Visit            Last Activity  \\\n",
       "0                            0                   0.0  Page Visited on Website   \n",
       "1                          674                   2.5             Email Opened   \n",
       "2                         1532                   2.0             Email Opened   \n",
       "3                          305                   1.0              Unreachable   \n",
       "4                         1428                   1.0        Converted to Lead   \n",
       "\n",
       "            Specialization What is your current occupation  \\\n",
       "0                    Other                      Unemployed   \n",
       "1                    Other                      Unemployed   \n",
       "2  Business Administration                         Student   \n",
       "3    Media and Advertising                      Unemployed   \n",
       "4                    Other                      Unemployed   \n",
       "\n",
       "   A free copy of Mastering The Interview Last Notable Activity  \n",
       "0                                       0              Modified  \n",
       "1                                       0          Email Opened  \n",
       "2                                       1          Email Opened  \n",
       "3                                       0              Modified  \n",
       "4                                       0              Modified  "
      ]
     },
     "execution_count": 181,
     "metadata": {},
     "output_type": "execute_result"
    }
   ],
   "source": [
    "df.head()"
   ]
  },
  {
   "cell_type": "markdown",
   "metadata": {},
   "source": [
    "### Checking categories of features"
   ]
  },
  {
   "cell_type": "code",
   "execution_count": 182,
   "metadata": {},
   "outputs": [
    {
     "data": {
      "text/plain": [
       "Landing Page Submission    4885\n",
       "API                        3578\n",
       "Lead Add Form               581\n",
       "Lead Import                  30\n",
       "Name: Lead Origin, dtype: int64"
      ]
     },
     "execution_count": 182,
     "metadata": {},
     "output_type": "execute_result"
    }
   ],
   "source": [
    "# Checking data in Lead Origin\n",
    "df['Lead Origin'].value_counts()"
   ]
  },
  {
   "cell_type": "code",
   "execution_count": 183,
   "metadata": {},
   "outputs": [
    {
     "data": {
      "text/plain": [
       "Google               2868\n",
       "Direct Traffic       2543\n",
       "Olark Chat           1753\n",
       "Organic Search       1154\n",
       "Reference             443\n",
       "Welingak Website      129\n",
       "Referral Sites        125\n",
       "Facebook               31\n",
       "bing                    6\n",
       "google                  5\n",
       "Click2call              4\n",
       "Press_Release           2\n",
       "Social Media            2\n",
       "Live Chat               2\n",
       "youtubechannel          1\n",
       "Pay per Click Ads       1\n",
       "NC_EDM                  1\n",
       "testone                 1\n",
       "blog                    1\n",
       "WeLearn                 1\n",
       "welearnblog_Home        1\n",
       "Name: Lead Source, dtype: int64"
      ]
     },
     "execution_count": 183,
     "metadata": {},
     "output_type": "execute_result"
    }
   ],
   "source": [
    "df['Lead Source'].value_counts()"
   ]
  },
  {
   "cell_type": "code",
   "execution_count": 184,
   "metadata": {},
   "outputs": [],
   "source": [
    "# Mapping categories with less number into Other category and grouping duplicate category together.\n",
    "# Correcting case sensitive in the categories name ex Google and google\n",
    "df['Lead Source']= df['Lead Source'].replace({'Facebook':'Other','bing':'Other','google':'Google','Click2call':'Other',\n",
    "                                              'Live Chat':'Other','Social Media':'Other','Press_Release':'Other','blog':'Other',\n",
    "                                              'Pay per Click Ads':'Other','youtubechannel':'Other','welearnblog_Home':'Other',\n",
    "                                              'testone':'Other','NC_EDM':'Other','WeLearn':'Other'})\n"
   ]
  },
  {
   "cell_type": "code",
   "execution_count": 185,
   "metadata": {},
   "outputs": [
    {
     "data": {
      "text/plain": [
       "Google              2873\n",
       "Direct Traffic      2543\n",
       "Olark Chat          1753\n",
       "Organic Search      1154\n",
       "Reference            443\n",
       "Welingak Website     129\n",
       "Referral Sites       125\n",
       "Other                 54\n",
       "Name: Lead Source, dtype: int64"
      ]
     },
     "execution_count": 185,
     "metadata": {},
     "output_type": "execute_result"
    }
   ],
   "source": [
    "df['Lead Source'].value_counts()"
   ]
  },
  {
   "cell_type": "code",
   "execution_count": 186,
   "metadata": {},
   "outputs": [
    {
     "data": {
      "text/plain": [
       "Email Opened                    3432\n",
       "SMS Sent                        2716\n",
       "Olark Chat Conversation          972\n",
       "Page Visited on Website          640\n",
       "Converted to Lead                428\n",
       "Email Bounced                    312\n",
       "Email Link Clicked               267\n",
       "Form Submitted on Website        116\n",
       "Unreachable                       90\n",
       "Unsubscribed                      59\n",
       "Had a Phone Conversation          25\n",
       "View in browser link Clicked       6\n",
       "Approached upfront                 5\n",
       "Email Marked Spam                  2\n",
       "Email Received                     2\n",
       "Visited Booth in Tradeshow         1\n",
       "Resubscribed to emails             1\n",
       "Name: Last Activity, dtype: int64"
      ]
     },
     "execution_count": 186,
     "metadata": {},
     "output_type": "execute_result"
    }
   ],
   "source": [
    "# Checking category of the field 'Last Activity'\n",
    "df['Last Activity'].value_counts()"
   ]
  },
  {
   "cell_type": "code",
   "execution_count": 187,
   "metadata": {},
   "outputs": [],
   "source": [
    "# Mapping categories with less presence into Other category of the featue 'Last Activity'\n",
    "df['Last Activity'] = df['Last Activity'].replace({'Had a Phone Conversation':'Other','View in browser link Clicked':'Other','Approached upfront':'Other','Email Received':'Other','Email Marked Spam':'Other','Resubscribed to emails':'Other','Visited Booth in Tradeshow':'Other','Had a Phone Conversation':'Other','Unreachable':'Other','Unsubscribed':'Other'})"
   ]
  },
  {
   "cell_type": "code",
   "execution_count": 188,
   "metadata": {},
   "outputs": [
    {
     "data": {
      "text/plain": [
       "Email Opened                 3432\n",
       "SMS Sent                     2716\n",
       "Olark Chat Conversation       972\n",
       "Page Visited on Website       640\n",
       "Converted to Lead             428\n",
       "Email Bounced                 312\n",
       "Email Link Clicked            267\n",
       "Other                         191\n",
       "Form Submitted on Website     116\n",
       "Name: Last Activity, dtype: int64"
      ]
     },
     "execution_count": 188,
     "metadata": {},
     "output_type": "execute_result"
    }
   ],
   "source": [
    "# Checking data after replacing\n",
    "df['Last Activity'].value_counts()"
   ]
  },
  {
   "cell_type": "code",
   "execution_count": 189,
   "metadata": {},
   "outputs": [
    {
     "data": {
      "text/plain": [
       "Modified                        3267\n",
       "Email Opened                    2823\n",
       "SMS Sent                        2152\n",
       "Page Visited on Website          318\n",
       "Olark Chat Conversation          183\n",
       "Email Link Clicked               173\n",
       "Email Bounced                     60\n",
       "Unsubscribed                      45\n",
       "Unreachable                       32\n",
       "Had a Phone Conversation          14\n",
       "Email Marked Spam                  2\n",
       "Resubscribed to emails             1\n",
       "Email Received                     1\n",
       "Form Submitted on Website          1\n",
       "View in browser link Clicked       1\n",
       "Approached upfront                 1\n",
       "Name: Last Notable Activity, dtype: int64"
      ]
     },
     "execution_count": 189,
     "metadata": {},
     "output_type": "execute_result"
    }
   ],
   "source": [
    "# Checking Data in 'Last Notable Activity'\n",
    "df['Last Notable Activity'].value_counts()"
   ]
  },
  {
   "cell_type": "code",
   "execution_count": 190,
   "metadata": {},
   "outputs": [],
   "source": [
    "# Mapping categories with less presence into Last Activity to reduce number of categories for dummification\n",
    "df['Last Notable Activity'] = df['Last Notable Activity'].replace({\n",
    "'Had a Phone Conversation':'Other',\n",
    "'Email Marked Spam':'Other',\n",
    "'Approached upfront':'Other',          \n",
    "'Email Received':'Other',         \n",
    "'Resubscribed to emails':'Other',\n",
    "'View in browser link Clicked':'Other',\n",
    "'Form Submitted on Website':'Other',\n",
    "'Email Bounced':'Other',\n",
    "'Unsubscribed':'Other',\n",
    "'Unreachable':'Other'\n",
    "}\n",
    ")"
   ]
  },
  {
   "cell_type": "code",
   "execution_count": 191,
   "metadata": {},
   "outputs": [
    {
     "data": {
      "text/plain": [
       "Modified                   3267\n",
       "Email Opened               2823\n",
       "SMS Sent                   2152\n",
       "Page Visited on Website     318\n",
       "Olark Chat Conversation     183\n",
       "Email Link Clicked          173\n",
       "Other                       158\n",
       "Name: Last Notable Activity, dtype: int64"
      ]
     },
     "execution_count": 191,
     "metadata": {},
     "output_type": "execute_result"
    }
   ],
   "source": [
    "# Checking data after replacing\n",
    "df['Last Notable Activity'].value_counts()"
   ]
  },
  {
   "cell_type": "code",
   "execution_count": 192,
   "metadata": {},
   "outputs": [
    {
     "data": {
      "text/html": [
       "<div>\n",
       "<style scoped>\n",
       "    .dataframe tbody tr th:only-of-type {\n",
       "        vertical-align: middle;\n",
       "    }\n",
       "\n",
       "    .dataframe tbody tr th {\n",
       "        vertical-align: top;\n",
       "    }\n",
       "\n",
       "    .dataframe thead th {\n",
       "        text-align: right;\n",
       "    }\n",
       "</style>\n",
       "<table border=\"1\" class=\"dataframe\">\n",
       "  <thead>\n",
       "    <tr style=\"text-align: right;\">\n",
       "      <th></th>\n",
       "      <th>Prospect ID</th>\n",
       "      <th>Lead Origin</th>\n",
       "      <th>Lead Source</th>\n",
       "      <th>Do Not Email</th>\n",
       "      <th>Converted</th>\n",
       "      <th>TotalVisits</th>\n",
       "      <th>Total Time Spent on Website</th>\n",
       "      <th>Page Views Per Visit</th>\n",
       "      <th>Last Activity</th>\n",
       "      <th>Specialization</th>\n",
       "      <th>What is your current occupation</th>\n",
       "      <th>A free copy of Mastering The Interview</th>\n",
       "      <th>Last Notable Activity</th>\n",
       "    </tr>\n",
       "  </thead>\n",
       "  <tbody>\n",
       "    <tr>\n",
       "      <th>0</th>\n",
       "      <td>7927b2df-8bba-4d29-b9a2-b6e0beafe620</td>\n",
       "      <td>API</td>\n",
       "      <td>Olark Chat</td>\n",
       "      <td>0</td>\n",
       "      <td>0</td>\n",
       "      <td>0.0</td>\n",
       "      <td>0</td>\n",
       "      <td>0.0</td>\n",
       "      <td>Page Visited on Website</td>\n",
       "      <td>Other</td>\n",
       "      <td>Unemployed</td>\n",
       "      <td>0</td>\n",
       "      <td>Modified</td>\n",
       "    </tr>\n",
       "    <tr>\n",
       "      <th>1</th>\n",
       "      <td>2a272436-5132-4136-86fa-dcc88c88f482</td>\n",
       "      <td>API</td>\n",
       "      <td>Organic Search</td>\n",
       "      <td>0</td>\n",
       "      <td>0</td>\n",
       "      <td>5.0</td>\n",
       "      <td>674</td>\n",
       "      <td>2.5</td>\n",
       "      <td>Email Opened</td>\n",
       "      <td>Other</td>\n",
       "      <td>Unemployed</td>\n",
       "      <td>0</td>\n",
       "      <td>Email Opened</td>\n",
       "    </tr>\n",
       "    <tr>\n",
       "      <th>2</th>\n",
       "      <td>8cc8c611-a219-4f35-ad23-fdfd2656bd8a</td>\n",
       "      <td>Landing Page Submission</td>\n",
       "      <td>Direct Traffic</td>\n",
       "      <td>0</td>\n",
       "      <td>1</td>\n",
       "      <td>2.0</td>\n",
       "      <td>1532</td>\n",
       "      <td>2.0</td>\n",
       "      <td>Email Opened</td>\n",
       "      <td>Business Administration</td>\n",
       "      <td>Student</td>\n",
       "      <td>1</td>\n",
       "      <td>Email Opened</td>\n",
       "    </tr>\n",
       "    <tr>\n",
       "      <th>3</th>\n",
       "      <td>0cc2df48-7cf4-4e39-9de9-19797f9b38cc</td>\n",
       "      <td>Landing Page Submission</td>\n",
       "      <td>Direct Traffic</td>\n",
       "      <td>0</td>\n",
       "      <td>0</td>\n",
       "      <td>1.0</td>\n",
       "      <td>305</td>\n",
       "      <td>1.0</td>\n",
       "      <td>Other</td>\n",
       "      <td>Media and Advertising</td>\n",
       "      <td>Unemployed</td>\n",
       "      <td>0</td>\n",
       "      <td>Modified</td>\n",
       "    </tr>\n",
       "    <tr>\n",
       "      <th>4</th>\n",
       "      <td>3256f628-e534-4826-9d63-4a8b88782852</td>\n",
       "      <td>Landing Page Submission</td>\n",
       "      <td>Google</td>\n",
       "      <td>0</td>\n",
       "      <td>1</td>\n",
       "      <td>2.0</td>\n",
       "      <td>1428</td>\n",
       "      <td>1.0</td>\n",
       "      <td>Converted to Lead</td>\n",
       "      <td>Other</td>\n",
       "      <td>Unemployed</td>\n",
       "      <td>0</td>\n",
       "      <td>Modified</td>\n",
       "    </tr>\n",
       "  </tbody>\n",
       "</table>\n",
       "</div>"
      ],
      "text/plain": [
       "                            Prospect ID              Lead Origin  \\\n",
       "0  7927b2df-8bba-4d29-b9a2-b6e0beafe620                      API   \n",
       "1  2a272436-5132-4136-86fa-dcc88c88f482                      API   \n",
       "2  8cc8c611-a219-4f35-ad23-fdfd2656bd8a  Landing Page Submission   \n",
       "3  0cc2df48-7cf4-4e39-9de9-19797f9b38cc  Landing Page Submission   \n",
       "4  3256f628-e534-4826-9d63-4a8b88782852  Landing Page Submission   \n",
       "\n",
       "      Lead Source  Do Not Email  Converted  TotalVisits  \\\n",
       "0      Olark Chat             0          0          0.0   \n",
       "1  Organic Search             0          0          5.0   \n",
       "2  Direct Traffic             0          1          2.0   \n",
       "3  Direct Traffic             0          0          1.0   \n",
       "4          Google             0          1          2.0   \n",
       "\n",
       "   Total Time Spent on Website  Page Views Per Visit            Last Activity  \\\n",
       "0                            0                   0.0  Page Visited on Website   \n",
       "1                          674                   2.5             Email Opened   \n",
       "2                         1532                   2.0             Email Opened   \n",
       "3                          305                   1.0                    Other   \n",
       "4                         1428                   1.0        Converted to Lead   \n",
       "\n",
       "            Specialization What is your current occupation  \\\n",
       "0                    Other                      Unemployed   \n",
       "1                    Other                      Unemployed   \n",
       "2  Business Administration                         Student   \n",
       "3    Media and Advertising                      Unemployed   \n",
       "4                    Other                      Unemployed   \n",
       "\n",
       "   A free copy of Mastering The Interview Last Notable Activity  \n",
       "0                                       0              Modified  \n",
       "1                                       0          Email Opened  \n",
       "2                                       1          Email Opened  \n",
       "3                                       0              Modified  \n",
       "4                                       0              Modified  "
      ]
     },
     "execution_count": 192,
     "metadata": {},
     "output_type": "execute_result"
    }
   ],
   "source": [
    "df.head()"
   ]
  },
  {
   "cell_type": "markdown",
   "metadata": {},
   "source": [
    "# EDA"
   ]
  },
  {
   "cell_type": "markdown",
   "metadata": {},
   "source": [
    "### Univariate Analysis"
   ]
  },
  {
   "cell_type": "code",
   "execution_count": 193,
   "metadata": {},
   "outputs": [
    {
     "data": {
      "text/plain": [
       "<matplotlib.axes._subplots.AxesSubplot at 0x156bf0a7e08>"
      ]
     },
     "execution_count": 193,
     "metadata": {},
     "output_type": "execute_result"
    },
    {
     "data": {
      "image/png": "[encoded data removed]",
      "text/plain": [
       "<Figure size 720x360 with 2 Axes>"
      ]
     },
     "metadata": {
      "needs_background": "light"
     },
     "output_type": "display_data"
    }
   ],
   "source": [
    "# Univaraite Analysis\n",
    "plt.figure(figsize=(10,5))\n",
    "plt.subplot(1,2,1)\n",
    "sns.boxplot(df['TotalVisits'])\n",
    "plt.subplot(1,2,2)\n",
    "sns.boxplot(df['Total Time Spent on Website'])"
   ]
  },
  {
   "cell_type": "markdown",
   "metadata": {},
   "source": [
    "There are some outliers in the featue 'TotalVisits' that we need to address"
   ]
  },
  {
   "cell_type": "markdown",
   "metadata": {},
   "source": [
    "# Bivariate Analysis"
   ]
  },
  {
   "cell_type": "code",
   "execution_count": 194,
   "metadata": {},
   "outputs": [
    {
     "data": {
      "image/png": "[encoded data removed]",
      "text/plain": [
       "<Figure size 432x288 with 1 Axes>"
      ]
     },
     "metadata": {
      "needs_background": "light"
     },
     "output_type": "display_data"
    }
   ],
   "source": [
    "# Checking the 'Lead Origin' and Converted relation\n",
    "df[['Lead Origin', 'Converted']].groupby(by = 'Lead Origin').sum().plot.bar()\n",
    "plt.show()"
   ]
  },
  {
   "cell_type": "markdown",
   "metadata": {},
   "source": [
    "Landing Page Submission gives highest lead whereas Lead Import least"
   ]
  },
  {
   "cell_type": "code",
   "execution_count": 195,
   "metadata": {},
   "outputs": [
    {
     "data": {
      "image/png": "[encoded data removed]",
      "text/plain": [
       "<Figure size 432x288 with 1 Axes>"
      ]
     },
     "metadata": {
      "needs_background": "light"
     },
     "output_type": "display_data"
    }
   ],
   "source": [
    "# Checking the 'Lead Source' and Converted relation\n",
    "df[['Lead Source', 'Converted']].groupby(by = 'Lead Source').sum().plot.bar()\n",
    "plt.show()"
   ]
  },
  {
   "cell_type": "markdown",
   "metadata": {},
   "source": [
    "Sudents do google much for the course and then  'Direct Traffic' sees more convertion."
   ]
  },
  {
   "cell_type": "code",
   "execution_count": 196,
   "metadata": {},
   "outputs": [
    {
     "data": {
      "image/png": "[encoded data removed]",
      "text/plain": [
       "<Figure size 432x288 with 1 Axes>"
      ]
     },
     "metadata": {
      "needs_background": "light"
     },
     "output_type": "display_data"
    }
   ],
   "source": [
    "# Checking relation between 'Last Activity', 'Converted'\n",
    "df[['Last Activity', 'Converted']].groupby(by = 'Last Activity').sum().plot.bar()\n",
    "plt.show()"
   ]
  },
  {
   "cell_type": "markdown",
   "metadata": {},
   "source": [
    "Email Opened and SMS Sent are a good indicator for conversion"
   ]
  },
  {
   "cell_type": "code",
   "execution_count": 197,
   "metadata": {},
   "outputs": [
    {
     "data": {
      "image/png": "[encoded data removed]",
      "text/plain": [
       "<Figure size 432x288 with 1 Axes>"
      ]
     },
     "metadata": {
      "needs_background": "light"
     },
     "output_type": "display_data"
    }
   ],
   "source": [
    "sns.boxplot(data=df, x='Converted', y='Total Time Spent on Website')\n",
    "plt.show()"
   ]
  },
  {
   "cell_type": "markdown",
   "metadata": {},
   "source": [
    "Here total time spent on the website by intrested students in course is much higher then other category"
   ]
  },
  {
   "cell_type": "markdown",
   "metadata": {},
   "source": [
    "# Multivariate Data Analysis"
   ]
  },
  {
   "cell_type": "code",
   "execution_count": 198,
   "metadata": {
    "scrolled": true
   },
   "outputs": [
    {
     "data": {
      "text/plain": [
       "<matplotlib.axes._subplots.AxesSubplot at 0x156c05d2808>"
      ]
     },
     "execution_count": 198,
     "metadata": {},
     "output_type": "execute_result"
    },
    {
     "data": {
      "image/png": "[encoded data removed]",
      "text/plain": [
       "<Figure size 432x288 with 2 Axes>"
      ]
     },
     "metadata": {
      "needs_background": "light"
     },
     "output_type": "display_data"
    }
   ],
   "source": [
    "# Checking co-relation between variables\n",
    "sns.heatmap(df.corr(), annot=True)"
   ]
  },
  {
   "cell_type": "markdown",
   "metadata": {},
   "source": [
    "- 'Total Time Spent on Website' feature shows correlation pattern with 'Converted'. \n",
    "- 'Total Visits and Page View Per Visit are  highly correlated\n"
   ]
  },
  {
   "cell_type": "markdown",
   "metadata": {},
   "source": [
    "# Data Preparation"
   ]
  },
  {
   "cell_type": "markdown",
   "metadata": {},
   "source": [
    "### Dummification of features"
   ]
  },
  {
   "cell_type": "code",
   "execution_count": 199,
   "metadata": {},
   "outputs": [],
   "source": [
    "# Dummifying categorical variables\n",
    "dummy_vars = ['Lead Origin','Lead Source','Last Activity','Specialization','What is your current occupation','Last Notable Activity']\n",
    "for i in dummy_vars:\n",
    "    j = '_'.join(i.split(' '))\n",
    "    j = pd.get_dummies(df[i], drop_first=True,prefix=j)\n",
    "    df = pd.concat([df,j],axis=1)\n",
    "    df.drop(i,axis=1,inplace=True)"
   ]
  },
  {
   "cell_type": "code",
   "execution_count": 200,
   "metadata": {},
   "outputs": [
    {
     "data": {
      "text/html": [
       "<div>\n",
       "<style scoped>\n",
       "    .dataframe tbody tr th:only-of-type {\n",
       "        vertical-align: middle;\n",
       "    }\n",
       "\n",
       "    .dataframe tbody tr th {\n",
       "        vertical-align: top;\n",
       "    }\n",
       "\n",
       "    .dataframe thead th {\n",
       "        text-align: right;\n",
       "    }\n",
       "</style>\n",
       "<table border=\"1\" class=\"dataframe\">\n",
       "  <thead>\n",
       "    <tr style=\"text-align: right;\">\n",
       "      <th></th>\n",
       "      <th>Prospect ID</th>\n",
       "      <th>Do Not Email</th>\n",
       "      <th>Converted</th>\n",
       "      <th>TotalVisits</th>\n",
       "      <th>Total Time Spent on Website</th>\n",
       "      <th>Page Views Per Visit</th>\n",
       "      <th>A free copy of Mastering The Interview</th>\n",
       "      <th>Lead_Origin_Landing Page Submission</th>\n",
       "      <th>Lead_Origin_Lead Add Form</th>\n",
       "      <th>Lead_Origin_Lead Import</th>\n",
       "      <th>Lead_Source_Google</th>\n",
       "      <th>Lead_Source_Olark Chat</th>\n",
       "      <th>Lead_Source_Organic Search</th>\n",
       "      <th>Lead_Source_Other</th>\n",
       "      <th>Lead_Source_Reference</th>\n",
       "      <th>Lead_Source_Referral Sites</th>\n",
       "      <th>Lead_Source_Welingak Website</th>\n",
       "      <th>Last_Activity_Email Bounced</th>\n",
       "      <th>Last_Activity_Email Link Clicked</th>\n",
       "      <th>Last_Activity_Email Opened</th>\n",
       "      <th>Last_Activity_Form Submitted on Website</th>\n",
       "      <th>Last_Activity_Olark Chat Conversation</th>\n",
       "      <th>Last_Activity_Other</th>\n",
       "      <th>Last_Activity_Page Visited on Website</th>\n",
       "      <th>Last_Activity_SMS Sent</th>\n",
       "      <th>...</th>\n",
       "      <th>Specialization_E-COMMERCE</th>\n",
       "      <th>Specialization_Finance Management</th>\n",
       "      <th>Specialization_Healthcare Management</th>\n",
       "      <th>Specialization_Hospitality Management</th>\n",
       "      <th>Specialization_Human Resource Management</th>\n",
       "      <th>Specialization_IT Projects Management</th>\n",
       "      <th>Specialization_International Business</th>\n",
       "      <th>Specialization_Marketing Management</th>\n",
       "      <th>Specialization_Media and Advertising</th>\n",
       "      <th>Specialization_Operations Management</th>\n",
       "      <th>Specialization_Other</th>\n",
       "      <th>Specialization_Retail Management</th>\n",
       "      <th>Specialization_Rural and Agribusiness</th>\n",
       "      <th>Specialization_Services Excellence</th>\n",
       "      <th>Specialization_Supply Chain Management</th>\n",
       "      <th>Specialization_Travel and Tourism</th>\n",
       "      <th>What_is_your_current_occupation_Student</th>\n",
       "      <th>What_is_your_current_occupation_Unemployed</th>\n",
       "      <th>What_is_your_current_occupation_Working Professional</th>\n",
       "      <th>Last_Notable_Activity_Email Opened</th>\n",
       "      <th>Last_Notable_Activity_Modified</th>\n",
       "      <th>Last_Notable_Activity_Olark Chat Conversation</th>\n",
       "      <th>Last_Notable_Activity_Other</th>\n",
       "      <th>Last_Notable_Activity_Page Visited on Website</th>\n",
       "      <th>Last_Notable_Activity_SMS Sent</th>\n",
       "    </tr>\n",
       "  </thead>\n",
       "  <tbody>\n",
       "    <tr>\n",
       "      <th>0</th>\n",
       "      <td>7927b2df-8bba-4d29-b9a2-b6e0beafe620</td>\n",
       "      <td>0</td>\n",
       "      <td>0</td>\n",
       "      <td>0.0</td>\n",
       "      <td>0</td>\n",
       "      <td>0.0</td>\n",
       "      <td>0</td>\n",
       "      <td>0</td>\n",
       "      <td>0</td>\n",
       "      <td>0</td>\n",
       "      <td>0</td>\n",
       "      <td>1</td>\n",
       "      <td>0</td>\n",
       "      <td>0</td>\n",
       "      <td>0</td>\n",
       "      <td>0</td>\n",
       "      <td>0</td>\n",
       "      <td>0</td>\n",
       "      <td>0</td>\n",
       "      <td>0</td>\n",
       "      <td>0</td>\n",
       "      <td>0</td>\n",
       "      <td>0</td>\n",
       "      <td>1</td>\n",
       "      <td>0</td>\n",
       "      <td>...</td>\n",
       "      <td>0</td>\n",
       "      <td>0</td>\n",
       "      <td>0</td>\n",
       "      <td>0</td>\n",
       "      <td>0</td>\n",
       "      <td>0</td>\n",
       "      <td>0</td>\n",
       "      <td>0</td>\n",
       "      <td>0</td>\n",
       "      <td>0</td>\n",
       "      <td>1</td>\n",
       "      <td>0</td>\n",
       "      <td>0</td>\n",
       "      <td>0</td>\n",
       "      <td>0</td>\n",
       "      <td>0</td>\n",
       "      <td>0</td>\n",
       "      <td>1</td>\n",
       "      <td>0</td>\n",
       "      <td>0</td>\n",
       "      <td>1</td>\n",
       "      <td>0</td>\n",
       "      <td>0</td>\n",
       "      <td>0</td>\n",
       "      <td>0</td>\n",
       "    </tr>\n",
       "    <tr>\n",
       "      <th>1</th>\n",
       "      <td>2a272436-5132-4136-86fa-dcc88c88f482</td>\n",
       "      <td>0</td>\n",
       "      <td>0</td>\n",
       "      <td>5.0</td>\n",
       "      <td>674</td>\n",
       "      <td>2.5</td>\n",
       "      <td>0</td>\n",
       "      <td>0</td>\n",
       "      <td>0</td>\n",
       "      <td>0</td>\n",
       "      <td>0</td>\n",
       "      <td>0</td>\n",
       "      <td>1</td>\n",
       "      <td>0</td>\n",
       "      <td>0</td>\n",
       "      <td>0</td>\n",
       "      <td>0</td>\n",
       "      <td>0</td>\n",
       "      <td>0</td>\n",
       "      <td>1</td>\n",
       "      <td>0</td>\n",
       "      <td>0</td>\n",
       "      <td>0</td>\n",
       "      <td>0</td>\n",
       "      <td>0</td>\n",
       "      <td>...</td>\n",
       "      <td>0</td>\n",
       "      <td>0</td>\n",
       "      <td>0</td>\n",
       "      <td>0</td>\n",
       "      <td>0</td>\n",
       "      <td>0</td>\n",
       "      <td>0</td>\n",
       "      <td>0</td>\n",
       "      <td>0</td>\n",
       "      <td>0</td>\n",
       "      <td>1</td>\n",
       "      <td>0</td>\n",
       "      <td>0</td>\n",
       "      <td>0</td>\n",
       "      <td>0</td>\n",
       "      <td>0</td>\n",
       "      <td>0</td>\n",
       "      <td>1</td>\n",
       "      <td>0</td>\n",
       "      <td>1</td>\n",
       "      <td>0</td>\n",
       "      <td>0</td>\n",
       "      <td>0</td>\n",
       "      <td>0</td>\n",
       "      <td>0</td>\n",
       "    </tr>\n",
       "    <tr>\n",
       "      <th>2</th>\n",
       "      <td>8cc8c611-a219-4f35-ad23-fdfd2656bd8a</td>\n",
       "      <td>0</td>\n",
       "      <td>1</td>\n",
       "      <td>2.0</td>\n",
       "      <td>1532</td>\n",
       "      <td>2.0</td>\n",
       "      <td>1</td>\n",
       "      <td>1</td>\n",
       "      <td>0</td>\n",
       "      <td>0</td>\n",
       "      <td>0</td>\n",
       "      <td>0</td>\n",
       "      <td>0</td>\n",
       "      <td>0</td>\n",
       "      <td>0</td>\n",
       "      <td>0</td>\n",
       "      <td>0</td>\n",
       "      <td>0</td>\n",
       "      <td>0</td>\n",
       "      <td>1</td>\n",
       "      <td>0</td>\n",
       "      <td>0</td>\n",
       "      <td>0</td>\n",
       "      <td>0</td>\n",
       "      <td>0</td>\n",
       "      <td>...</td>\n",
       "      <td>0</td>\n",
       "      <td>0</td>\n",
       "      <td>0</td>\n",
       "      <td>0</td>\n",
       "      <td>0</td>\n",
       "      <td>0</td>\n",
       "      <td>0</td>\n",
       "      <td>0</td>\n",
       "      <td>0</td>\n",
       "      <td>0</td>\n",
       "      <td>0</td>\n",
       "      <td>0</td>\n",
       "      <td>0</td>\n",
       "      <td>0</td>\n",
       "      <td>0</td>\n",
       "      <td>0</td>\n",
       "      <td>1</td>\n",
       "      <td>0</td>\n",
       "      <td>0</td>\n",
       "      <td>1</td>\n",
       "      <td>0</td>\n",
       "      <td>0</td>\n",
       "      <td>0</td>\n",
       "      <td>0</td>\n",
       "      <td>0</td>\n",
       "    </tr>\n",
       "    <tr>\n",
       "      <th>3</th>\n",
       "      <td>0cc2df48-7cf4-4e39-9de9-19797f9b38cc</td>\n",
       "      <td>0</td>\n",
       "      <td>0</td>\n",
       "      <td>1.0</td>\n",
       "      <td>305</td>\n",
       "      <td>1.0</td>\n",
       "      <td>0</td>\n",
       "      <td>1</td>\n",
       "      <td>0</td>\n",
       "      <td>0</td>\n",
       "      <td>0</td>\n",
       "      <td>0</td>\n",
       "      <td>0</td>\n",
       "      <td>0</td>\n",
       "      <td>0</td>\n",
       "      <td>0</td>\n",
       "      <td>0</td>\n",
       "      <td>0</td>\n",
       "      <td>0</td>\n",
       "      <td>0</td>\n",
       "      <td>0</td>\n",
       "      <td>0</td>\n",
       "      <td>1</td>\n",
       "      <td>0</td>\n",
       "      <td>0</td>\n",
       "      <td>...</td>\n",
       "      <td>0</td>\n",
       "      <td>0</td>\n",
       "      <td>0</td>\n",
       "      <td>0</td>\n",
       "      <td>0</td>\n",
       "      <td>0</td>\n",
       "      <td>0</td>\n",
       "      <td>0</td>\n",
       "      <td>1</td>\n",
       "      <td>0</td>\n",
       "      <td>0</td>\n",
       "      <td>0</td>\n",
       "      <td>0</td>\n",
       "      <td>0</td>\n",
       "      <td>0</td>\n",
       "      <td>0</td>\n",
       "      <td>0</td>\n",
       "      <td>1</td>\n",
       "      <td>0</td>\n",
       "      <td>0</td>\n",
       "      <td>1</td>\n",
       "      <td>0</td>\n",
       "      <td>0</td>\n",
       "      <td>0</td>\n",
       "      <td>0</td>\n",
       "    </tr>\n",
       "    <tr>\n",
       "      <th>4</th>\n",
       "      <td>3256f628-e534-4826-9d63-4a8b88782852</td>\n",
       "      <td>0</td>\n",
       "      <td>1</td>\n",
       "      <td>2.0</td>\n",
       "      <td>1428</td>\n",
       "      <td>1.0</td>\n",
       "      <td>0</td>\n",
       "      <td>1</td>\n",
       "      <td>0</td>\n",
       "      <td>0</td>\n",
       "      <td>1</td>\n",
       "      <td>0</td>\n",
       "      <td>0</td>\n",
       "      <td>0</td>\n",
       "      <td>0</td>\n",
       "      <td>0</td>\n",
       "      <td>0</td>\n",
       "      <td>0</td>\n",
       "      <td>0</td>\n",
       "      <td>0</td>\n",
       "      <td>0</td>\n",
       "      <td>0</td>\n",
       "      <td>0</td>\n",
       "      <td>0</td>\n",
       "      <td>0</td>\n",
       "      <td>...</td>\n",
       "      <td>0</td>\n",
       "      <td>0</td>\n",
       "      <td>0</td>\n",
       "      <td>0</td>\n",
       "      <td>0</td>\n",
       "      <td>0</td>\n",
       "      <td>0</td>\n",
       "      <td>0</td>\n",
       "      <td>0</td>\n",
       "      <td>0</td>\n",
       "      <td>1</td>\n",
       "      <td>0</td>\n",
       "      <td>0</td>\n",
       "      <td>0</td>\n",
       "      <td>0</td>\n",
       "      <td>0</td>\n",
       "      <td>0</td>\n",
       "      <td>1</td>\n",
       "      <td>0</td>\n",
       "      <td>0</td>\n",
       "      <td>1</td>\n",
       "      <td>0</td>\n",
       "      <td>0</td>\n",
       "      <td>0</td>\n",
       "      <td>0</td>\n",
       "    </tr>\n",
       "  </tbody>\n",
       "</table>\n",
       "<p>5 rows × 52 columns</p>\n",
       "</div>"
      ],
      "text/plain": [
       "                            Prospect ID  Do Not Email  Converted  TotalVisits  \\\n",
       "0  7927b2df-8bba-4d29-b9a2-b6e0beafe620             0          0          0.0   \n",
       "1  2a272436-5132-4136-86fa-dcc88c88f482             0          0          5.0   \n",
       "2  8cc8c611-a219-4f35-ad23-fdfd2656bd8a             0          1          2.0   \n",
       "3  0cc2df48-7cf4-4e39-9de9-19797f9b38cc             0          0          1.0   \n",
       "4  3256f628-e534-4826-9d63-4a8b88782852             0          1          2.0   \n",
       "\n",
       "   Total Time Spent on Website  Page Views Per Visit  \\\n",
       "0                            0                   0.0   \n",
       "1                          674                   2.5   \n",
       "2                         1532                   2.0   \n",
       "3                          305                   1.0   \n",
       "4                         1428                   1.0   \n",
       "\n",
       "   A free copy of Mastering The Interview  \\\n",
       "0                                       0   \n",
       "1                                       0   \n",
       "2                                       1   \n",
       "3                                       0   \n",
       "4                                       0   \n",
       "\n",
       "   Lead_Origin_Landing Page Submission  Lead_Origin_Lead Add Form  \\\n",
       "0                                    0                          0   \n",
       "1                                    0                          0   \n",
       "2                                    1                          0   \n",
       "3                                    1                          0   \n",
       "4                                    1                          0   \n",
       "\n",
       "   Lead_Origin_Lead Import  Lead_Source_Google  Lead_Source_Olark Chat  \\\n",
       "0                        0                   0                       1   \n",
       "1                        0                   0                       0   \n",
       "2                        0                   0                       0   \n",
       "3                        0                   0                       0   \n",
       "4                        0                   1                       0   \n",
       "\n",
       "   Lead_Source_Organic Search  Lead_Source_Other  Lead_Source_Reference  \\\n",
       "0                           0                  0                      0   \n",
       "1                           1                  0                      0   \n",
       "2                           0                  0                      0   \n",
       "3                           0                  0                      0   \n",
       "4                           0                  0                      0   \n",
       "\n",
       "   Lead_Source_Referral Sites  Lead_Source_Welingak Website  \\\n",
       "0                           0                             0   \n",
       "1                           0                             0   \n",
       "2                           0                             0   \n",
       "3                           0                             0   \n",
       "4                           0                             0   \n",
       "\n",
       "   Last_Activity_Email Bounced  Last_Activity_Email Link Clicked  \\\n",
       "0                            0                                 0   \n",
       "1                            0                                 0   \n",
       "2                            0                                 0   \n",
       "3                            0                                 0   \n",
       "4                            0                                 0   \n",
       "\n",
       "   Last_Activity_Email Opened  Last_Activity_Form Submitted on Website  \\\n",
       "0                           0                                        0   \n",
       "1                           1                                        0   \n",
       "2                           1                                        0   \n",
       "3                           0                                        0   \n",
       "4                           0                                        0   \n",
       "\n",
       "   Last_Activity_Olark Chat Conversation  Last_Activity_Other  \\\n",
       "0                                      0                    0   \n",
       "1                                      0                    0   \n",
       "2                                      0                    0   \n",
       "3                                      0                    1   \n",
       "4                                      0                    0   \n",
       "\n",
       "   Last_Activity_Page Visited on Website  Last_Activity_SMS Sent  ...  \\\n",
       "0                                      1                       0  ...   \n",
       "1                                      0                       0  ...   \n",
       "2                                      0                       0  ...   \n",
       "3                                      0                       0  ...   \n",
       "4                                      0                       0  ...   \n",
       "\n",
       "   Specialization_E-COMMERCE  Specialization_Finance Management  \\\n",
       "0                          0                                  0   \n",
       "1                          0                                  0   \n",
       "2                          0                                  0   \n",
       "3                          0                                  0   \n",
       "4                          0                                  0   \n",
       "\n",
       "   Specialization_Healthcare Management  \\\n",
       "0                                     0   \n",
       "1                                     0   \n",
       "2                                     0   \n",
       "3                                     0   \n",
       "4                                     0   \n",
       "\n",
       "   Specialization_Hospitality Management  \\\n",
       "0                                      0   \n",
       "1                                      0   \n",
       "2                                      0   \n",
       "3                                      0   \n",
       "4                                      0   \n",
       "\n",
       "   Specialization_Human Resource Management  \\\n",
       "0                                         0   \n",
       "1                                         0   \n",
       "2                                         0   \n",
       "3                                         0   \n",
       "4                                         0   \n",
       "\n",
       "   Specialization_IT Projects Management  \\\n",
       "0                                      0   \n",
       "1                                      0   \n",
       "2                                      0   \n",
       "3                                      0   \n",
       "4                                      0   \n",
       "\n",
       "   Specialization_International Business  Specialization_Marketing Management  \\\n",
       "0                                      0                                    0   \n",
       "1                                      0                                    0   \n",
       "2                                      0                                    0   \n",
       "3                                      0                                    0   \n",
       "4                                      0                                    0   \n",
       "\n",
       "   Specialization_Media and Advertising  Specialization_Operations Management  \\\n",
       "0                                     0                                     0   \n",
       "1                                     0                                     0   \n",
       "2                                     0                                     0   \n",
       "3                                     1                                     0   \n",
       "4                                     0                                     0   \n",
       "\n",
       "   Specialization_Other  Specialization_Retail Management  \\\n",
       "0                     1                                 0   \n",
       "1                     1                                 0   \n",
       "2                     0                                 0   \n",
       "3                     0                                 0   \n",
       "4                     1                                 0   \n",
       "\n",
       "   Specialization_Rural and Agribusiness  Specialization_Services Excellence  \\\n",
       "0                                      0                                   0   \n",
       "1                                      0                                   0   \n",
       "2                                      0                                   0   \n",
       "3                                      0                                   0   \n",
       "4                                      0                                   0   \n",
       "\n",
       "   Specialization_Supply Chain Management  Specialization_Travel and Tourism  \\\n",
       "0                                       0                                  0   \n",
       "1                                       0                                  0   \n",
       "2                                       0                                  0   \n",
       "3                                       0                                  0   \n",
       "4                                       0                                  0   \n",
       "\n",
       "   What_is_your_current_occupation_Student  \\\n",
       "0                                        0   \n",
       "1                                        0   \n",
       "2                                        1   \n",
       "3                                        0   \n",
       "4                                        0   \n",
       "\n",
       "   What_is_your_current_occupation_Unemployed  \\\n",
       "0                                           1   \n",
       "1                                           1   \n",
       "2                                           0   \n",
       "3                                           1   \n",
       "4                                           1   \n",
       "\n",
       "   What_is_your_current_occupation_Working Professional  \\\n",
       "0                                                  0      \n",
       "1                                                  0      \n",
       "2                                                  0      \n",
       "3                                                  0      \n",
       "4                                                  0      \n",
       "\n",
       "   Last_Notable_Activity_Email Opened  Last_Notable_Activity_Modified  \\\n",
       "0                                   0                               1   \n",
       "1                                   1                               0   \n",
       "2                                   1                               0   \n",
       "3                                   0                               1   \n",
       "4                                   0                               1   \n",
       "\n",
       "   Last_Notable_Activity_Olark Chat Conversation  Last_Notable_Activity_Other  \\\n",
       "0                                              0                            0   \n",
       "1                                              0                            0   \n",
       "2                                              0                            0   \n",
       "3                                              0                            0   \n",
       "4                                              0                            0   \n",
       "\n",
       "   Last_Notable_Activity_Page Visited on Website  \\\n",
       "0                                              0   \n",
       "1                                              0   \n",
       "2                                              0   \n",
       "3                                              0   \n",
       "4                                              0   \n",
       "\n",
       "   Last_Notable_Activity_SMS Sent  \n",
       "0                               0  \n",
       "1                               0  \n",
       "2                               0  \n",
       "3                               0  \n",
       "4                               0  \n",
       "\n",
       "[5 rows x 52 columns]"
      ]
     },
     "execution_count": 200,
     "metadata": {},
     "output_type": "execute_result"
    }
   ],
   "source": [
    "df.head()"
   ]
  },
  {
   "cell_type": "code",
   "execution_count": 201,
   "metadata": {},
   "outputs": [
    {
     "name": "stdout",
     "output_type": "stream",
     "text": [
      "<class 'pandas.core.frame.DataFrame'>\n",
      "Int64Index: 9074 entries, 0 to 9239\n",
      "Data columns (total 52 columns):\n",
      " #   Column                                                Non-Null Count  Dtype  \n",
      "---  ------                                                --------------  -----  \n",
      " 0   Prospect ID                                           9074 non-null   object \n",
      " 1   Do Not Email                                          9074 non-null   int64  \n",
      " 2   Converted                                             9074 non-null   int64  \n",
      " 3   TotalVisits                                           9074 non-null   float64\n",
      " 4   Total Time Spent on Website                           9074 non-null   int64  \n",
      " 5   Page Views Per Visit                                  9074 non-null   float64\n",
      " 6   A free copy of Mastering The Interview                9074 non-null   int64  \n",
      " 7   Lead_Origin_Landing Page Submission                   9074 non-null   uint8  \n",
      " 8   Lead_Origin_Lead Add Form                             9074 non-null   uint8  \n",
      " 9   Lead_Origin_Lead Import                               9074 non-null   uint8  \n",
      " 10  Lead_Source_Google                                    9074 non-null   uint8  \n",
      " 11  Lead_Source_Olark Chat                                9074 non-null   uint8  \n",
      " 12  Lead_Source_Organic Search                            9074 non-null   uint8  \n",
      " 13  Lead_Source_Other                                     9074 non-null   uint8  \n",
      " 14  Lead_Source_Reference                                 9074 non-null   uint8  \n",
      " 15  Lead_Source_Referral Sites                            9074 non-null   uint8  \n",
      " 16  Lead_Source_Welingak Website                          9074 non-null   uint8  \n",
      " 17  Last_Activity_Email Bounced                           9074 non-null   uint8  \n",
      " 18  Last_Activity_Email Link Clicked                      9074 non-null   uint8  \n",
      " 19  Last_Activity_Email Opened                            9074 non-null   uint8  \n",
      " 20  Last_Activity_Form Submitted on Website               9074 non-null   uint8  \n",
      " 21  Last_Activity_Olark Chat Conversation                 9074 non-null   uint8  \n",
      " 22  Last_Activity_Other                                   9074 non-null   uint8  \n",
      " 23  Last_Activity_Page Visited on Website                 9074 non-null   uint8  \n",
      " 24  Last_Activity_SMS Sent                                9074 non-null   uint8  \n",
      " 25  Specialization_Business Administration                9074 non-null   uint8  \n",
      " 26  Specialization_E-Business                             9074 non-null   uint8  \n",
      " 27  Specialization_E-COMMERCE                             9074 non-null   uint8  \n",
      " 28  Specialization_Finance Management                     9074 non-null   uint8  \n",
      " 29  Specialization_Healthcare Management                  9074 non-null   uint8  \n",
      " 30  Specialization_Hospitality Management                 9074 non-null   uint8  \n",
      " 31  Specialization_Human Resource Management              9074 non-null   uint8  \n",
      " 32  Specialization_IT Projects Management                 9074 non-null   uint8  \n",
      " 33  Specialization_International Business                 9074 non-null   uint8  \n",
      " 34  Specialization_Marketing Management                   9074 non-null   uint8  \n",
      " 35  Specialization_Media and Advertising                  9074 non-null   uint8  \n",
      " 36  Specialization_Operations Management                  9074 non-null   uint8  \n",
      " 37  Specialization_Other                                  9074 non-null   uint8  \n",
      " 38  Specialization_Retail Management                      9074 non-null   uint8  \n",
      " 39  Specialization_Rural and Agribusiness                 9074 non-null   uint8  \n",
      " 40  Specialization_Services Excellence                    9074 non-null   uint8  \n",
      " 41  Specialization_Supply Chain Management                9074 non-null   uint8  \n",
      " 42  Specialization_Travel and Tourism                     9074 non-null   uint8  \n",
      " 43  What_is_your_current_occupation_Student               9074 non-null   uint8  \n",
      " 44  What_is_your_current_occupation_Unemployed            9074 non-null   uint8  \n",
      " 45  What_is_your_current_occupation_Working Professional  9074 non-null   uint8  \n",
      " 46  Last_Notable_Activity_Email Opened                    9074 non-null   uint8  \n",
      " 47  Last_Notable_Activity_Modified                        9074 non-null   uint8  \n",
      " 48  Last_Notable_Activity_Olark Chat Conversation         9074 non-null   uint8  \n",
      " 49  Last_Notable_Activity_Other                           9074 non-null   uint8  \n",
      " 50  Last_Notable_Activity_Page Visited on Website         9074 non-null   uint8  \n",
      " 51  Last_Notable_Activity_SMS Sent                        9074 non-null   uint8  \n",
      "dtypes: float64(2), int64(4), object(1), uint8(45)\n",
      "memory usage: 1.3+ MB\n"
     ]
    }
   ],
   "source": [
    "df.info()"
   ]
  },
  {
   "cell_type": "code",
   "execution_count": 202,
   "metadata": {},
   "outputs": [
    {
     "data": {
      "text/plain": [
       "(9074, 52)"
      ]
     },
     "execution_count": 202,
     "metadata": {},
     "output_type": "execute_result"
    }
   ],
   "source": [
    "df.shape"
   ]
  },
  {
   "cell_type": "markdown",
   "metadata": {},
   "source": [
    "## Checking Outliers"
   ]
  },
  {
   "cell_type": "code",
   "execution_count": 203,
   "metadata": {},
   "outputs": [
    {
     "data": {
      "image/png": "[encoded data removed]",
      "text/plain": [
       "<Figure size 1080x360 with 3 Axes>"
      ]
     },
     "metadata": {
      "needs_background": "light"
     },
     "output_type": "display_data"
    }
   ],
   "source": [
    "num_vars = ['TotalVisits','Total Time Spent on Website','Page Views Per Visit']\n",
    "plt.figure(figsize=(15,5))\n",
    "for i in enumerate(num_vars):\n",
    "    plt.subplot(1,3,i[0]+1)\n",
    "    sns.boxplot(df[i[1]])\n",
    "plt.show()"
   ]
  },
  {
   "cell_type": "code",
   "execution_count": 204,
   "metadata": {},
   "outputs": [
    {
     "data": {
      "text/plain": [
       "0.50     3.0\n",
       "0.75     5.0\n",
       "0.95    10.0\n",
       "0.99    17.0\n",
       "Name: TotalVisits, dtype: float64"
      ]
     },
     "execution_count": 204,
     "metadata": {},
     "output_type": "execute_result"
    }
   ],
   "source": [
    "# Checking data in the field\n",
    "df['TotalVisits'].quantile([.5,.75,.95,.99])"
   ]
  },
  {
   "cell_type": "code",
   "execution_count": 205,
   "metadata": {},
   "outputs": [
    {
     "data": {
      "text/plain": [
       "0.50    2.0\n",
       "0.75    3.2\n",
       "0.95    6.0\n",
       "0.99    9.0\n",
       "Name: Page Views Per Visit, dtype: float64"
      ]
     },
     "execution_count": 205,
     "metadata": {},
     "output_type": "execute_result"
    }
   ],
   "source": [
    "# Checking data in the field\n",
    "df['Page Views Per Visit'].quantile([.5,.75,.95,.99])"
   ]
  },
  {
   "cell_type": "code",
   "execution_count": 206,
   "metadata": {},
   "outputs": [],
   "source": [
    "q4 = df['TotalVisits'].quantile(.95)\n",
    "df['TotalVisits'][df['TotalVisits'] > q4] = q4"
   ]
  },
  {
   "cell_type": "code",
   "execution_count": 207,
   "metadata": {},
   "outputs": [],
   "source": [
    "q4 = df['Page Views Per Visit'].quantile(.95)\n",
    "df['Page Views Per Visit'][df['Page Views Per Visit'] > q4] = q4"
   ]
  },
  {
   "cell_type": "code",
   "execution_count": 208,
   "metadata": {},
   "outputs": [
    {
     "data": {
      "image/png": "[encoded data removed]",
      "text/plain": [
       "<Figure size 1080x360 with 3 Axes>"
      ]
     },
     "metadata": {
      "needs_background": "light"
     },
     "output_type": "display_data"
    }
   ],
   "source": [
    "num_vars = ['TotalVisits','Total Time Spent on Website','Page Views Per Visit']\n",
    "plt.figure(figsize=(15,5))\n",
    "for i in enumerate(num_vars):\n",
    "    plt.subplot(1,3,i[0]+1)\n",
    "    sns.boxplot(df[i[1]])\n",
    "plt.show()"
   ]
  },
  {
   "cell_type": "markdown",
   "metadata": {},
   "source": [
    "### After data preparation, number of records retained"
   ]
  },
  {
   "cell_type": "code",
   "execution_count": 209,
   "metadata": {},
   "outputs": [
    {
     "data": {
      "text/plain": [
       "98.2"
      ]
     },
     "execution_count": 209,
     "metadata": {},
     "output_type": "execute_result"
    }
   ],
   "source": [
    "round(100*(len(df)/9240),2)"
   ]
  },
  {
   "cell_type": "markdown",
   "metadata": {},
   "source": [
    "Data retained after cleaning is 98.2%"
   ]
  },
  {
   "cell_type": "markdown",
   "metadata": {},
   "source": [
    "#### Data Imbalance check"
   ]
  },
  {
   "cell_type": "code",
   "execution_count": 210,
   "metadata": {},
   "outputs": [
    {
     "data": {
      "text/plain": [
       "0    0.621446\n",
       "1    0.378554\n",
       "Name: Converted, dtype: float64"
      ]
     },
     "execution_count": 210,
     "metadata": {},
     "output_type": "execute_result"
    }
   ],
   "source": [
    "df.Converted.value_counts(normalize=True)"
   ]
  },
  {
   "cell_type": "markdown",
   "metadata": {},
   "source": [
    "Data is 60%-40% and hence There is NO data Imbalance"
   ]
  },
  {
   "cell_type": "markdown",
   "metadata": {},
   "source": [
    "### Train-Test split"
   ]
  },
  {
   "cell_type": "code",
   "execution_count": 211,
   "metadata": {},
   "outputs": [],
   "source": [
    "# Import library\n",
    "from sklearn.model_selection import train_test_split"
   ]
  },
  {
   "cell_type": "code",
   "execution_count": 212,
   "metadata": {},
   "outputs": [],
   "source": [
    "# Train test split\n",
    "df_train, df_test =  train_test_split(df, train_size = .7, test_size = .3, random_state=100)"
   ]
  },
  {
   "cell_type": "code",
   "execution_count": 213,
   "metadata": {},
   "outputs": [
    {
     "name": "stdout",
     "output_type": "stream",
     "text": [
      "(6351, 52)\n",
      "(2723, 52)\n"
     ]
    }
   ],
   "source": [
    "print(df_train.shape)\n",
    "print(df_test.shape)"
   ]
  },
  {
   "cell_type": "markdown",
   "metadata": {},
   "source": [
    "## Re-Scaling"
   ]
  },
  {
   "cell_type": "code",
   "execution_count": 214,
   "metadata": {},
   "outputs": [],
   "source": [
    "from sklearn.preprocessing import StandardScaler"
   ]
  },
  {
   "cell_type": "code",
   "execution_count": 215,
   "metadata": {},
   "outputs": [],
   "source": [
    "# Scaling of continuous variables\n",
    "num_vars = ['TotalVisits','Total Time Spent on Website','Page Views Per Visit']\n",
    "scaler = StandardScaler()\n",
    "df_train[num_vars] = scaler.fit_transform(df_train[num_vars])"
   ]
  },
  {
   "cell_type": "code",
   "execution_count": 216,
   "metadata": {},
   "outputs": [
    {
     "data": {
      "text/html": [
       "<div>\n",
       "<style scoped>\n",
       "    .dataframe tbody tr th:only-of-type {\n",
       "        vertical-align: middle;\n",
       "    }\n",
       "\n",
       "    .dataframe tbody tr th {\n",
       "        vertical-align: top;\n",
       "    }\n",
       "\n",
       "    .dataframe thead th {\n",
       "        text-align: right;\n",
       "    }\n",
       "</style>\n",
       "<table border=\"1\" class=\"dataframe\">\n",
       "  <thead>\n",
       "    <tr style=\"text-align: right;\">\n",
       "      <th></th>\n",
       "      <th>Prospect ID</th>\n",
       "      <th>Do Not Email</th>\n",
       "      <th>Converted</th>\n",
       "      <th>TotalVisits</th>\n",
       "      <th>Total Time Spent on Website</th>\n",
       "      <th>Page Views Per Visit</th>\n",
       "      <th>A free copy of Mastering The Interview</th>\n",
       "      <th>Lead_Origin_Landing Page Submission</th>\n",
       "      <th>Lead_Origin_Lead Add Form</th>\n",
       "      <th>Lead_Origin_Lead Import</th>\n",
       "      <th>Lead_Source_Google</th>\n",
       "      <th>Lead_Source_Olark Chat</th>\n",
       "      <th>Lead_Source_Organic Search</th>\n",
       "      <th>Lead_Source_Other</th>\n",
       "      <th>Lead_Source_Reference</th>\n",
       "      <th>Lead_Source_Referral Sites</th>\n",
       "      <th>Lead_Source_Welingak Website</th>\n",
       "      <th>Last_Activity_Email Bounced</th>\n",
       "      <th>Last_Activity_Email Link Clicked</th>\n",
       "      <th>Last_Activity_Email Opened</th>\n",
       "      <th>Last_Activity_Form Submitted on Website</th>\n",
       "      <th>Last_Activity_Olark Chat Conversation</th>\n",
       "      <th>Last_Activity_Other</th>\n",
       "      <th>Last_Activity_Page Visited on Website</th>\n",
       "      <th>Last_Activity_SMS Sent</th>\n",
       "      <th>...</th>\n",
       "      <th>Specialization_E-COMMERCE</th>\n",
       "      <th>Specialization_Finance Management</th>\n",
       "      <th>Specialization_Healthcare Management</th>\n",
       "      <th>Specialization_Hospitality Management</th>\n",
       "      <th>Specialization_Human Resource Management</th>\n",
       "      <th>Specialization_IT Projects Management</th>\n",
       "      <th>Specialization_International Business</th>\n",
       "      <th>Specialization_Marketing Management</th>\n",
       "      <th>Specialization_Media and Advertising</th>\n",
       "      <th>Specialization_Operations Management</th>\n",
       "      <th>Specialization_Other</th>\n",
       "      <th>Specialization_Retail Management</th>\n",
       "      <th>Specialization_Rural and Agribusiness</th>\n",
       "      <th>Specialization_Services Excellence</th>\n",
       "      <th>Specialization_Supply Chain Management</th>\n",
       "      <th>Specialization_Travel and Tourism</th>\n",
       "      <th>What_is_your_current_occupation_Student</th>\n",
       "      <th>What_is_your_current_occupation_Unemployed</th>\n",
       "      <th>What_is_your_current_occupation_Working Professional</th>\n",
       "      <th>Last_Notable_Activity_Email Opened</th>\n",
       "      <th>Last_Notable_Activity_Modified</th>\n",
       "      <th>Last_Notable_Activity_Olark Chat Conversation</th>\n",
       "      <th>Last_Notable_Activity_Other</th>\n",
       "      <th>Last_Notable_Activity_Page Visited on Website</th>\n",
       "      <th>Last_Notable_Activity_SMS Sent</th>\n",
       "    </tr>\n",
       "  </thead>\n",
       "  <tbody>\n",
       "    <tr>\n",
       "      <th>3009</th>\n",
       "      <td>42a4d521-df88-4b5a-b198-50594a407a2d</td>\n",
       "      <td>0</td>\n",
       "      <td>0</td>\n",
       "      <td>-0.432779</td>\n",
       "      <td>-0.160255</td>\n",
       "      <td>-0.155018</td>\n",
       "      <td>1</td>\n",
       "      <td>1</td>\n",
       "      <td>0</td>\n",
       "      <td>0</td>\n",
       "      <td>0</td>\n",
       "      <td>0</td>\n",
       "      <td>0</td>\n",
       "      <td>0</td>\n",
       "      <td>0</td>\n",
       "      <td>0</td>\n",
       "      <td>0</td>\n",
       "      <td>0</td>\n",
       "      <td>0</td>\n",
       "      <td>1</td>\n",
       "      <td>0</td>\n",
       "      <td>0</td>\n",
       "      <td>0</td>\n",
       "      <td>0</td>\n",
       "      <td>0</td>\n",
       "      <td>...</td>\n",
       "      <td>0</td>\n",
       "      <td>1</td>\n",
       "      <td>0</td>\n",
       "      <td>0</td>\n",
       "      <td>0</td>\n",
       "      <td>0</td>\n",
       "      <td>0</td>\n",
       "      <td>0</td>\n",
       "      <td>0</td>\n",
       "      <td>0</td>\n",
       "      <td>0</td>\n",
       "      <td>0</td>\n",
       "      <td>0</td>\n",
       "      <td>0</td>\n",
       "      <td>0</td>\n",
       "      <td>0</td>\n",
       "      <td>0</td>\n",
       "      <td>1</td>\n",
       "      <td>0</td>\n",
       "      <td>1</td>\n",
       "      <td>0</td>\n",
       "      <td>0</td>\n",
       "      <td>0</td>\n",
       "      <td>0</td>\n",
       "      <td>0</td>\n",
       "    </tr>\n",
       "    <tr>\n",
       "      <th>1012</th>\n",
       "      <td>4594be86-3b2e-4b55-866b-5a4b05ffd0f6</td>\n",
       "      <td>1</td>\n",
       "      <td>0</td>\n",
       "      <td>-0.432779</td>\n",
       "      <td>-0.540048</td>\n",
       "      <td>-0.155018</td>\n",
       "      <td>0</td>\n",
       "      <td>1</td>\n",
       "      <td>0</td>\n",
       "      <td>0</td>\n",
       "      <td>0</td>\n",
       "      <td>0</td>\n",
       "      <td>0</td>\n",
       "      <td>0</td>\n",
       "      <td>0</td>\n",
       "      <td>0</td>\n",
       "      <td>0</td>\n",
       "      <td>1</td>\n",
       "      <td>0</td>\n",
       "      <td>0</td>\n",
       "      <td>0</td>\n",
       "      <td>0</td>\n",
       "      <td>0</td>\n",
       "      <td>0</td>\n",
       "      <td>0</td>\n",
       "      <td>...</td>\n",
       "      <td>0</td>\n",
       "      <td>0</td>\n",
       "      <td>0</td>\n",
       "      <td>0</td>\n",
       "      <td>0</td>\n",
       "      <td>0</td>\n",
       "      <td>0</td>\n",
       "      <td>0</td>\n",
       "      <td>0</td>\n",
       "      <td>0</td>\n",
       "      <td>1</td>\n",
       "      <td>0</td>\n",
       "      <td>0</td>\n",
       "      <td>0</td>\n",
       "      <td>0</td>\n",
       "      <td>0</td>\n",
       "      <td>0</td>\n",
       "      <td>0</td>\n",
       "      <td>1</td>\n",
       "      <td>0</td>\n",
       "      <td>0</td>\n",
       "      <td>0</td>\n",
       "      <td>1</td>\n",
       "      <td>0</td>\n",
       "      <td>0</td>\n",
       "    </tr>\n",
       "    <tr>\n",
       "      <th>9226</th>\n",
       "      <td>c3bb1471-53d5-4244-b2e5-4bbb543835c1</td>\n",
       "      <td>0</td>\n",
       "      <td>0</td>\n",
       "      <td>-1.150329</td>\n",
       "      <td>-0.888650</td>\n",
       "      <td>-1.265540</td>\n",
       "      <td>0</td>\n",
       "      <td>0</td>\n",
       "      <td>0</td>\n",
       "      <td>0</td>\n",
       "      <td>0</td>\n",
       "      <td>1</td>\n",
       "      <td>0</td>\n",
       "      <td>0</td>\n",
       "      <td>0</td>\n",
       "      <td>0</td>\n",
       "      <td>0</td>\n",
       "      <td>0</td>\n",
       "      <td>0</td>\n",
       "      <td>0</td>\n",
       "      <td>0</td>\n",
       "      <td>0</td>\n",
       "      <td>0</td>\n",
       "      <td>0</td>\n",
       "      <td>1</td>\n",
       "      <td>...</td>\n",
       "      <td>0</td>\n",
       "      <td>0</td>\n",
       "      <td>0</td>\n",
       "      <td>0</td>\n",
       "      <td>0</td>\n",
       "      <td>0</td>\n",
       "      <td>0</td>\n",
       "      <td>0</td>\n",
       "      <td>0</td>\n",
       "      <td>0</td>\n",
       "      <td>1</td>\n",
       "      <td>0</td>\n",
       "      <td>0</td>\n",
       "      <td>0</td>\n",
       "      <td>0</td>\n",
       "      <td>0</td>\n",
       "      <td>0</td>\n",
       "      <td>1</td>\n",
       "      <td>0</td>\n",
       "      <td>0</td>\n",
       "      <td>1</td>\n",
       "      <td>0</td>\n",
       "      <td>0</td>\n",
       "      <td>0</td>\n",
       "      <td>0</td>\n",
       "    </tr>\n",
       "    <tr>\n",
       "      <th>4750</th>\n",
       "      <td>9bce5fbc-8d57-4dc9-8f82-fd11d94d9969</td>\n",
       "      <td>0</td>\n",
       "      <td>1</td>\n",
       "      <td>-0.432779</td>\n",
       "      <td>1.643304</td>\n",
       "      <td>-0.155018</td>\n",
       "      <td>0</td>\n",
       "      <td>1</td>\n",
       "      <td>0</td>\n",
       "      <td>0</td>\n",
       "      <td>0</td>\n",
       "      <td>0</td>\n",
       "      <td>0</td>\n",
       "      <td>0</td>\n",
       "      <td>0</td>\n",
       "      <td>0</td>\n",
       "      <td>0</td>\n",
       "      <td>0</td>\n",
       "      <td>0</td>\n",
       "      <td>0</td>\n",
       "      <td>0</td>\n",
       "      <td>0</td>\n",
       "      <td>0</td>\n",
       "      <td>0</td>\n",
       "      <td>1</td>\n",
       "      <td>...</td>\n",
       "      <td>0</td>\n",
       "      <td>0</td>\n",
       "      <td>0</td>\n",
       "      <td>0</td>\n",
       "      <td>0</td>\n",
       "      <td>0</td>\n",
       "      <td>0</td>\n",
       "      <td>1</td>\n",
       "      <td>0</td>\n",
       "      <td>0</td>\n",
       "      <td>0</td>\n",
       "      <td>0</td>\n",
       "      <td>0</td>\n",
       "      <td>0</td>\n",
       "      <td>0</td>\n",
       "      <td>0</td>\n",
       "      <td>0</td>\n",
       "      <td>1</td>\n",
       "      <td>0</td>\n",
       "      <td>0</td>\n",
       "      <td>0</td>\n",
       "      <td>0</td>\n",
       "      <td>0</td>\n",
       "      <td>0</td>\n",
       "      <td>1</td>\n",
       "    </tr>\n",
       "    <tr>\n",
       "      <th>7987</th>\n",
       "      <td>b0bfbc32-bd4a-4376-a829-5318bc0e9547</td>\n",
       "      <td>0</td>\n",
       "      <td>1</td>\n",
       "      <td>0.643547</td>\n",
       "      <td>2.017593</td>\n",
       "      <td>0.122613</td>\n",
       "      <td>0</td>\n",
       "      <td>1</td>\n",
       "      <td>0</td>\n",
       "      <td>0</td>\n",
       "      <td>0</td>\n",
       "      <td>0</td>\n",
       "      <td>0</td>\n",
       "      <td>0</td>\n",
       "      <td>0</td>\n",
       "      <td>0</td>\n",
       "      <td>0</td>\n",
       "      <td>0</td>\n",
       "      <td>0</td>\n",
       "      <td>0</td>\n",
       "      <td>0</td>\n",
       "      <td>0</td>\n",
       "      <td>0</td>\n",
       "      <td>0</td>\n",
       "      <td>1</td>\n",
       "      <td>...</td>\n",
       "      <td>0</td>\n",
       "      <td>1</td>\n",
       "      <td>0</td>\n",
       "      <td>0</td>\n",
       "      <td>0</td>\n",
       "      <td>0</td>\n",
       "      <td>0</td>\n",
       "      <td>0</td>\n",
       "      <td>0</td>\n",
       "      <td>0</td>\n",
       "      <td>0</td>\n",
       "      <td>0</td>\n",
       "      <td>0</td>\n",
       "      <td>0</td>\n",
       "      <td>0</td>\n",
       "      <td>0</td>\n",
       "      <td>0</td>\n",
       "      <td>1</td>\n",
       "      <td>0</td>\n",
       "      <td>0</td>\n",
       "      <td>1</td>\n",
       "      <td>0</td>\n",
       "      <td>0</td>\n",
       "      <td>0</td>\n",
       "      <td>0</td>\n",
       "    </tr>\n",
       "  </tbody>\n",
       "</table>\n",
       "<p>5 rows × 52 columns</p>\n",
       "</div>"
      ],
      "text/plain": [
       "                               Prospect ID  Do Not Email  Converted  \\\n",
       "3009  42a4d521-df88-4b5a-b198-50594a407a2d             0          0   \n",
       "1012  4594be86-3b2e-4b55-866b-5a4b05ffd0f6             1          0   \n",
       "9226  c3bb1471-53d5-4244-b2e5-4bbb543835c1             0          0   \n",
       "4750  9bce5fbc-8d57-4dc9-8f82-fd11d94d9969             0          1   \n",
       "7987  b0bfbc32-bd4a-4376-a829-5318bc0e9547             0          1   \n",
       "\n",
       "      TotalVisits  Total Time Spent on Website  Page Views Per Visit  \\\n",
       "3009    -0.432779                    -0.160255             -0.155018   \n",
       "1012    -0.432779                    -0.540048             -0.155018   \n",
       "9226    -1.150329                    -0.888650             -1.265540   \n",
       "4750    -0.432779                     1.643304             -0.155018   \n",
       "7987     0.643547                     2.017593              0.122613   \n",
       "\n",
       "      A free copy of Mastering The Interview  \\\n",
       "3009                                       1   \n",
       "1012                                       0   \n",
       "9226                                       0   \n",
       "4750                                       0   \n",
       "7987                                       0   \n",
       "\n",
       "      Lead_Origin_Landing Page Submission  Lead_Origin_Lead Add Form  \\\n",
       "3009                                    1                          0   \n",
       "1012                                    1                          0   \n",
       "9226                                    0                          0   \n",
       "4750                                    1                          0   \n",
       "7987                                    1                          0   \n",
       "\n",
       "      Lead_Origin_Lead Import  Lead_Source_Google  Lead_Source_Olark Chat  \\\n",
       "3009                        0                   0                       0   \n",
       "1012                        0                   0                       0   \n",
       "9226                        0                   0                       1   \n",
       "4750                        0                   0                       0   \n",
       "7987                        0                   0                       0   \n",
       "\n",
       "      Lead_Source_Organic Search  Lead_Source_Other  Lead_Source_Reference  \\\n",
       "3009                           0                  0                      0   \n",
       "1012                           0                  0                      0   \n",
       "9226                           0                  0                      0   \n",
       "4750                           0                  0                      0   \n",
       "7987                           0                  0                      0   \n",
       "\n",
       "      Lead_Source_Referral Sites  Lead_Source_Welingak Website  \\\n",
       "3009                           0                             0   \n",
       "1012                           0                             0   \n",
       "9226                           0                             0   \n",
       "4750                           0                             0   \n",
       "7987                           0                             0   \n",
       "\n",
       "      Last_Activity_Email Bounced  Last_Activity_Email Link Clicked  \\\n",
       "3009                            0                                 0   \n",
       "1012                            1                                 0   \n",
       "9226                            0                                 0   \n",
       "4750                            0                                 0   \n",
       "7987                            0                                 0   \n",
       "\n",
       "      Last_Activity_Email Opened  Last_Activity_Form Submitted on Website  \\\n",
       "3009                           1                                        0   \n",
       "1012                           0                                        0   \n",
       "9226                           0                                        0   \n",
       "4750                           0                                        0   \n",
       "7987                           0                                        0   \n",
       "\n",
       "      Last_Activity_Olark Chat Conversation  Last_Activity_Other  \\\n",
       "3009                                      0                    0   \n",
       "1012                                      0                    0   \n",
       "9226                                      0                    0   \n",
       "4750                                      0                    0   \n",
       "7987                                      0                    0   \n",
       "\n",
       "      Last_Activity_Page Visited on Website  Last_Activity_SMS Sent  ...  \\\n",
       "3009                                      0                       0  ...   \n",
       "1012                                      0                       0  ...   \n",
       "9226                                      0                       1  ...   \n",
       "4750                                      0                       1  ...   \n",
       "7987                                      0                       1  ...   \n",
       "\n",
       "      Specialization_E-COMMERCE  Specialization_Finance Management  \\\n",
       "3009                          0                                  1   \n",
       "1012                          0                                  0   \n",
       "9226                          0                                  0   \n",
       "4750                          0                                  0   \n",
       "7987                          0                                  1   \n",
       "\n",
       "      Specialization_Healthcare Management  \\\n",
       "3009                                     0   \n",
       "1012                                     0   \n",
       "9226                                     0   \n",
       "4750                                     0   \n",
       "7987                                     0   \n",
       "\n",
       "      Specialization_Hospitality Management  \\\n",
       "3009                                      0   \n",
       "1012                                      0   \n",
       "9226                                      0   \n",
       "4750                                      0   \n",
       "7987                                      0   \n",
       "\n",
       "      Specialization_Human Resource Management  \\\n",
       "3009                                         0   \n",
       "1012                                         0   \n",
       "9226                                         0   \n",
       "4750                                         0   \n",
       "7987                                         0   \n",
       "\n",
       "      Specialization_IT Projects Management  \\\n",
       "3009                                      0   \n",
       "1012                                      0   \n",
       "9226                                      0   \n",
       "4750                                      0   \n",
       "7987                                      0   \n",
       "\n",
       "      Specialization_International Business  \\\n",
       "3009                                      0   \n",
       "1012                                      0   \n",
       "9226                                      0   \n",
       "4750                                      0   \n",
       "7987                                      0   \n",
       "\n",
       "      Specialization_Marketing Management  \\\n",
       "3009                                    0   \n",
       "1012                                    0   \n",
       "9226                                    0   \n",
       "4750                                    1   \n",
       "7987                                    0   \n",
       "\n",
       "      Specialization_Media and Advertising  \\\n",
       "3009                                     0   \n",
       "1012                                     0   \n",
       "9226                                     0   \n",
       "4750                                     0   \n",
       "7987                                     0   \n",
       "\n",
       "      Specialization_Operations Management  Specialization_Other  \\\n",
       "3009                                     0                     0   \n",
       "1012                                     0                     1   \n",
       "9226                                     0                     1   \n",
       "4750                                     0                     0   \n",
       "7987                                     0                     0   \n",
       "\n",
       "      Specialization_Retail Management  Specialization_Rural and Agribusiness  \\\n",
       "3009                                 0                                      0   \n",
       "1012                                 0                                      0   \n",
       "9226                                 0                                      0   \n",
       "4750                                 0                                      0   \n",
       "7987                                 0                                      0   \n",
       "\n",
       "      Specialization_Services Excellence  \\\n",
       "3009                                   0   \n",
       "1012                                   0   \n",
       "9226                                   0   \n",
       "4750                                   0   \n",
       "7987                                   0   \n",
       "\n",
       "      Specialization_Supply Chain Management  \\\n",
       "3009                                       0   \n",
       "1012                                       0   \n",
       "9226                                       0   \n",
       "4750                                       0   \n",
       "7987                                       0   \n",
       "\n",
       "      Specialization_Travel and Tourism  \\\n",
       "3009                                  0   \n",
       "1012                                  0   \n",
       "9226                                  0   \n",
       "4750                                  0   \n",
       "7987                                  0   \n",
       "\n",
       "      What_is_your_current_occupation_Student  \\\n",
       "3009                                        0   \n",
       "1012                                        0   \n",
       "9226                                        0   \n",
       "4750                                        0   \n",
       "7987                                        0   \n",
       "\n",
       "      What_is_your_current_occupation_Unemployed  \\\n",
       "3009                                           1   \n",
       "1012                                           0   \n",
       "9226                                           1   \n",
       "4750                                           1   \n",
       "7987                                           1   \n",
       "\n",
       "      What_is_your_current_occupation_Working Professional  \\\n",
       "3009                                                  0      \n",
       "1012                                                  1      \n",
       "9226                                                  0      \n",
       "4750                                                  0      \n",
       "7987                                                  0      \n",
       "\n",
       "      Last_Notable_Activity_Email Opened  Last_Notable_Activity_Modified  \\\n",
       "3009                                   1                               0   \n",
       "1012                                   0                               0   \n",
       "9226                                   0                               1   \n",
       "4750                                   0                               0   \n",
       "7987                                   0                               1   \n",
       "\n",
       "      Last_Notable_Activity_Olark Chat Conversation  \\\n",
       "3009                                              0   \n",
       "1012                                              0   \n",
       "9226                                              0   \n",
       "4750                                              0   \n",
       "7987                                              0   \n",
       "\n",
       "      Last_Notable_Activity_Other  \\\n",
       "3009                            0   \n",
       "1012                            1   \n",
       "9226                            0   \n",
       "4750                            0   \n",
       "7987                            0   \n",
       "\n",
       "      Last_Notable_Activity_Page Visited on Website  \\\n",
       "3009                                              0   \n",
       "1012                                              0   \n",
       "9226                                              0   \n",
       "4750                                              0   \n",
       "7987                                              0   \n",
       "\n",
       "      Last_Notable_Activity_SMS Sent  \n",
       "3009                               0  \n",
       "1012                               0  \n",
       "9226                               0  \n",
       "4750                               1  \n",
       "7987                               0  \n",
       "\n",
       "[5 rows x 52 columns]"
      ]
     },
     "execution_count": 216,
     "metadata": {},
     "output_type": "execute_result"
    }
   ],
   "source": [
    "df_train.head()"
   ]
  },
  {
   "cell_type": "markdown",
   "metadata": {},
   "source": [
    "# Model Building"
   ]
  },
  {
   "cell_type": "code",
   "execution_count": 217,
   "metadata": {},
   "outputs": [],
   "source": [
    "# Data for X and Y axis. \n",
    "y_train = df_train.pop('Converted')\n",
    "x_train = df_train.drop('Prospect ID',axis=1)"
   ]
  },
  {
   "cell_type": "markdown",
   "metadata": {},
   "source": [
    "Dropped Prospect ID from x_train as this is a numer assinged to each customer for unique identification"
   ]
  },
  {
   "cell_type": "markdown",
   "metadata": {},
   "source": [
    "### Model 1"
   ]
  },
  {
   "cell_type": "code",
   "execution_count": 218,
   "metadata": {},
   "outputs": [],
   "source": [
    "import statsmodels.api as sm"
   ]
  },
  {
   "cell_type": "code",
   "execution_count": 219,
   "metadata": {},
   "outputs": [
    {
     "data": {
      "text/html": [
       "<table class=\"simpletable\">\n",
       "<caption>Generalized Linear Model Regression Results</caption>\n",
       "<tr>\n",
       "  <th>Dep. Variable:</th>       <td>Converted</td>    <th>  No. Observations:  </th>  <td>  6351</td> \n",
       "</tr>\n",
       "<tr>\n",
       "  <th>Model:</th>                  <td>GLM</td>       <th>  Df Residuals:      </th>  <td>  6300</td> \n",
       "</tr>\n",
       "<tr>\n",
       "  <th>Model Family:</th>        <td>Binomial</td>     <th>  Df Model:          </th>  <td>    50</td> \n",
       "</tr>\n",
       "<tr>\n",
       "  <th>Link Function:</th>         <td>logit</td>      <th>  Scale:             </th> <td>  1.0000</td>\n",
       "</tr>\n",
       "<tr>\n",
       "  <th>Method:</th>                <td>IRLS</td>       <th>  Log-Likelihood:    </th> <td> -2544.5</td>\n",
       "</tr>\n",
       "<tr>\n",
       "  <th>Date:</th>            <td>Mon, 07 Sep 2020</td> <th>  Deviance:          </th> <td>  5089.0</td>\n",
       "</tr>\n",
       "<tr>\n",
       "  <th>Time:</th>                <td>00:30:56</td>     <th>  Pearson chi2:      </th> <td>6.44e+03</td>\n",
       "</tr>\n",
       "<tr>\n",
       "  <th>No. Iterations:</th>          <td>7</td>        <th>                     </th>     <td> </td>   \n",
       "</tr>\n",
       "<tr>\n",
       "  <th>Covariance Type:</th>     <td>nonrobust</td>    <th>                     </th>     <td> </td>   \n",
       "</tr>\n",
       "</table>\n",
       "<table class=\"simpletable\">\n",
       "<tr>\n",
       "                            <td></td>                              <th>coef</th>     <th>std err</th>      <th>z</th>      <th>P>|z|</th>  <th>[0.025</th>    <th>0.975]</th>  \n",
       "</tr>\n",
       "<tr>\n",
       "  <th>const</th>                                                <td>    0.1422</td> <td>    0.812</td> <td>    0.175</td> <td> 0.861</td> <td>   -1.449</td> <td>    1.734</td>\n",
       "</tr>\n",
       "<tr>\n",
       "  <th>Do Not Email</th>                                         <td>   -1.6077</td> <td>    0.212</td> <td>   -7.570</td> <td> 0.000</td> <td>   -2.024</td> <td>   -1.191</td>\n",
       "</tr>\n",
       "<tr>\n",
       "  <th>TotalVisits</th>                                          <td>    0.3016</td> <td>    0.057</td> <td>    5.309</td> <td> 0.000</td> <td>    0.190</td> <td>    0.413</td>\n",
       "</tr>\n",
       "<tr>\n",
       "  <th>Total Time Spent on Website</th>                          <td>    1.1100</td> <td>    0.041</td> <td>   26.793</td> <td> 0.000</td> <td>    1.029</td> <td>    1.191</td>\n",
       "</tr>\n",
       "<tr>\n",
       "  <th>Page Views Per Visit</th>                                 <td>   -0.3361</td> <td>    0.064</td> <td>   -5.270</td> <td> 0.000</td> <td>   -0.461</td> <td>   -0.211</td>\n",
       "</tr>\n",
       "<tr>\n",
       "  <th>A free copy of Mastering The Interview</th>               <td>   -0.2229</td> <td>    0.111</td> <td>   -2.011</td> <td> 0.044</td> <td>   -0.440</td> <td>   -0.006</td>\n",
       "</tr>\n",
       "<tr>\n",
       "  <th>Lead_Origin_Landing Page Submission</th>                  <td>   -0.8858</td> <td>    0.139</td> <td>   -6.392</td> <td> 0.000</td> <td>   -1.157</td> <td>   -0.614</td>\n",
       "</tr>\n",
       "<tr>\n",
       "  <th>Lead_Origin_Lead Add Form</th>                            <td>    1.1803</td> <td>    1.020</td> <td>    1.157</td> <td> 0.247</td> <td>   -0.818</td> <td>    3.179</td>\n",
       "</tr>\n",
       "<tr>\n",
       "  <th>Lead_Origin_Lead Import</th>                              <td>    0.5308</td> <td>    0.800</td> <td>    0.664</td> <td> 0.507</td> <td>   -1.036</td> <td>    2.098</td>\n",
       "</tr>\n",
       "<tr>\n",
       "  <th>Lead_Source_Google</th>                                   <td>    0.2064</td> <td>    0.116</td> <td>    1.780</td> <td> 0.075</td> <td>   -0.021</td> <td>    0.434</td>\n",
       "</tr>\n",
       "<tr>\n",
       "  <th>Lead_Source_Olark Chat</th>                               <td>    1.2000</td> <td>    0.169</td> <td>    7.084</td> <td> 0.000</td> <td>    0.868</td> <td>    1.532</td>\n",
       "</tr>\n",
       "<tr>\n",
       "  <th>Lead_Source_Organic Search</th>                           <td>    0.1261</td> <td>    0.134</td> <td>    0.940</td> <td> 0.347</td> <td>   -0.137</td> <td>    0.389</td>\n",
       "</tr>\n",
       "<tr>\n",
       "  <th>Lead_Source_Other</th>                                    <td>    0.4916</td> <td>    0.647</td> <td>    0.760</td> <td> 0.447</td> <td>   -0.776</td> <td>    1.759</td>\n",
       "</tr>\n",
       "<tr>\n",
       "  <th>Lead_Source_Reference</th>                                <td>    2.2415</td> <td>    1.045</td> <td>    2.146</td> <td> 0.032</td> <td>    0.194</td> <td>    4.289</td>\n",
       "</tr>\n",
       "<tr>\n",
       "  <th>Lead_Source_Referral Sites</th>                           <td>   -0.0509</td> <td>    0.354</td> <td>   -0.144</td> <td> 0.885</td> <td>   -0.744</td> <td>    0.642</td>\n",
       "</tr>\n",
       "<tr>\n",
       "  <th>Lead_Source_Welingak Website</th>                         <td>    4.8079</td> <td>    1.253</td> <td>    3.836</td> <td> 0.000</td> <td>    2.351</td> <td>    7.265</td>\n",
       "</tr>\n",
       "<tr>\n",
       "  <th>Last_Activity_Email Bounced</th>                          <td>   -0.1999</td> <td>    0.529</td> <td>   -0.378</td> <td> 0.705</td> <td>   -1.237</td> <td>    0.837</td>\n",
       "</tr>\n",
       "<tr>\n",
       "  <th>Last_Activity_Email Link Clicked</th>                     <td>    0.7266</td> <td>    0.433</td> <td>    1.677</td> <td> 0.093</td> <td>   -0.122</td> <td>    1.576</td>\n",
       "</tr>\n",
       "<tr>\n",
       "  <th>Last_Activity_Email Opened</th>                           <td>    0.9573</td> <td>    0.255</td> <td>    3.752</td> <td> 0.000</td> <td>    0.457</td> <td>    1.457</td>\n",
       "</tr>\n",
       "<tr>\n",
       "  <th>Last_Activity_Form Submitted on Website</th>              <td>    0.3456</td> <td>    0.399</td> <td>    0.866</td> <td> 0.387</td> <td>   -0.437</td> <td>    1.128</td>\n",
       "</tr>\n",
       "<tr>\n",
       "  <th>Last_Activity_Olark Chat Conversation</th>                <td>   -0.3550</td> <td>    0.287</td> <td>   -1.235</td> <td> 0.217</td> <td>   -0.918</td> <td>    0.208</td>\n",
       "</tr>\n",
       "<tr>\n",
       "  <th>Last_Activity_Other</th>                                  <td>    1.2426</td> <td>    0.379</td> <td>    3.282</td> <td> 0.001</td> <td>    0.501</td> <td>    1.985</td>\n",
       "</tr>\n",
       "<tr>\n",
       "  <th>Last_Activity_Page Visited on Website</th>                <td>    0.6185</td> <td>    0.302</td> <td>    2.045</td> <td> 0.041</td> <td>    0.026</td> <td>    1.211</td>\n",
       "</tr>\n",
       "<tr>\n",
       "  <th>Last_Activity_SMS Sent</th>                               <td>    1.4291</td> <td>    0.258</td> <td>    5.545</td> <td> 0.000</td> <td>    0.924</td> <td>    1.934</td>\n",
       "</tr>\n",
       "<tr>\n",
       "  <th>Specialization_Business Administration</th>               <td>   -0.3206</td> <td>    0.244</td> <td>   -1.314</td> <td> 0.189</td> <td>   -0.799</td> <td>    0.158</td>\n",
       "</tr>\n",
       "<tr>\n",
       "  <th>Specialization_E-Business</th>                            <td>    0.2071</td> <td>    0.471</td> <td>    0.440</td> <td> 0.660</td> <td>   -0.715</td> <td>    1.130</td>\n",
       "</tr>\n",
       "<tr>\n",
       "  <th>Specialization_E-COMMERCE</th>                            <td>    0.0251</td> <td>    0.365</td> <td>    0.069</td> <td> 0.945</td> <td>   -0.690</td> <td>    0.740</td>\n",
       "</tr>\n",
       "<tr>\n",
       "  <th>Specialization_Finance Management</th>                    <td>   -0.1711</td> <td>    0.206</td> <td>   -0.833</td> <td> 0.405</td> <td>   -0.574</td> <td>    0.232</td>\n",
       "</tr>\n",
       "<tr>\n",
       "  <th>Specialization_Healthcare Management</th>                 <td>   -0.2346</td> <td>    0.316</td> <td>   -0.742</td> <td> 0.458</td> <td>   -0.854</td> <td>    0.385</td>\n",
       "</tr>\n",
       "<tr>\n",
       "  <th>Specialization_Hospitality Management</th>                <td>   -0.6340</td> <td>    0.373</td> <td>   -1.702</td> <td> 0.089</td> <td>   -1.364</td> <td>    0.096</td>\n",
       "</tr>\n",
       "<tr>\n",
       "  <th>Specialization_Human Resource Management</th>             <td>   -0.1878</td> <td>    0.208</td> <td>   -0.904</td> <td> 0.366</td> <td>   -0.595</td> <td>    0.219</td>\n",
       "</tr>\n",
       "<tr>\n",
       "  <th>Specialization_IT Projects Management</th>                <td>   -0.0494</td> <td>    0.252</td> <td>   -0.196</td> <td> 0.844</td> <td>   -0.543</td> <td>    0.444</td>\n",
       "</tr>\n",
       "<tr>\n",
       "  <th>Specialization_International Business</th>                <td>   -0.4032</td> <td>    0.296</td> <td>   -1.364</td> <td> 0.173</td> <td>   -0.983</td> <td>    0.176</td>\n",
       "</tr>\n",
       "<tr>\n",
       "  <th>Specialization_Marketing Management</th>                  <td>   -0.0177</td> <td>    0.209</td> <td>   -0.085</td> <td> 0.932</td> <td>   -0.427</td> <td>    0.392</td>\n",
       "</tr>\n",
       "<tr>\n",
       "  <th>Specialization_Media and Advertising</th>                 <td>   -0.4645</td> <td>    0.285</td> <td>   -1.628</td> <td> 0.104</td> <td>   -1.024</td> <td>    0.095</td>\n",
       "</tr>\n",
       "<tr>\n",
       "  <th>Specialization_Operations Management</th>                 <td>   -0.2244</td> <td>    0.232</td> <td>   -0.965</td> <td> 0.334</td> <td>   -0.680</td> <td>    0.231</td>\n",
       "</tr>\n",
       "<tr>\n",
       "  <th>Specialization_Other</th>                                 <td>   -1.3187</td> <td>    0.214</td> <td>   -6.155</td> <td> 0.000</td> <td>   -1.739</td> <td>   -0.899</td>\n",
       "</tr>\n",
       "<tr>\n",
       "  <th>Specialization_Retail Management</th>                     <td>   -0.3940</td> <td>    0.366</td> <td>   -1.076</td> <td> 0.282</td> <td>   -1.112</td> <td>    0.324</td>\n",
       "</tr>\n",
       "<tr>\n",
       "  <th>Specialization_Rural and Agribusiness</th>                <td>   -0.2850</td> <td>    0.417</td> <td>   -0.684</td> <td> 0.494</td> <td>   -1.102</td> <td>    0.532</td>\n",
       "</tr>\n",
       "<tr>\n",
       "  <th>Specialization_Services Excellence</th>                   <td>   -0.5907</td> <td>    0.696</td> <td>   -0.849</td> <td> 0.396</td> <td>   -1.955</td> <td>    0.773</td>\n",
       "</tr>\n",
       "<tr>\n",
       "  <th>Specialization_Supply Chain Management</th>               <td>   -0.1208</td> <td>    0.252</td> <td>   -0.479</td> <td> 0.632</td> <td>   -0.615</td> <td>    0.373</td>\n",
       "</tr>\n",
       "<tr>\n",
       "  <th>Specialization_Travel and Tourism</th>                    <td>   -0.2928</td> <td>    0.306</td> <td>   -0.957</td> <td> 0.339</td> <td>   -0.893</td> <td>    0.307</td>\n",
       "</tr>\n",
       "<tr>\n",
       "  <th>What_is_your_current_occupation_Student</th>              <td>   -1.0428</td> <td>    0.645</td> <td>   -1.618</td> <td> 0.106</td> <td>   -2.306</td> <td>    0.220</td>\n",
       "</tr>\n",
       "<tr>\n",
       "  <th>What_is_your_current_occupation_Unemployed</th>           <td>   -1.5147</td> <td>    0.603</td> <td>   -2.512</td> <td> 0.012</td> <td>   -2.696</td> <td>   -0.333</td>\n",
       "</tr>\n",
       "<tr>\n",
       "  <th>What_is_your_current_occupation_Working Professional</th> <td>    1.1449</td> <td>    0.631</td> <td>    1.814</td> <td> 0.070</td> <td>   -0.092</td> <td>    2.382</td>\n",
       "</tr>\n",
       "<tr>\n",
       "  <th>Last_Notable_Activity_Email Opened</th>                   <td>    0.2348</td> <td>    0.471</td> <td>    0.498</td> <td> 0.618</td> <td>   -0.689</td> <td>    1.159</td>\n",
       "</tr>\n",
       "<tr>\n",
       "  <th>Last_Notable_Activity_Modified</th>                       <td>   -0.1198</td> <td>    0.450</td> <td>   -0.266</td> <td> 0.790</td> <td>   -1.002</td> <td>    0.762</td>\n",
       "</tr>\n",
       "<tr>\n",
       "  <th>Last_Notable_Activity_Olark Chat Conversation</th>        <td>    0.1035</td> <td>    0.582</td> <td>    0.178</td> <td> 0.859</td> <td>   -1.038</td> <td>    1.245</td>\n",
       "</tr>\n",
       "<tr>\n",
       "  <th>Last_Notable_Activity_Other</th>                          <td>    1.6564</td> <td>    0.594</td> <td>    2.790</td> <td> 0.005</td> <td>    0.493</td> <td>    2.820</td>\n",
       "</tr>\n",
       "<tr>\n",
       "  <th>Last_Notable_Activity_Page Visited on Website</th>        <td>    0.0098</td> <td>    0.532</td> <td>    0.018</td> <td> 0.985</td> <td>   -1.033</td> <td>    1.053</td>\n",
       "</tr>\n",
       "<tr>\n",
       "  <th>Last_Notable_Activity_SMS Sent</th>                       <td>    1.2682</td> <td>    0.474</td> <td>    2.676</td> <td> 0.007</td> <td>    0.339</td> <td>    2.197</td>\n",
       "</tr>\n",
       "</table>"
      ],
      "text/plain": [
       "<class 'statsmodels.iolib.summary.Summary'>\n",
       "\"\"\"\n",
       "                 Generalized Linear Model Regression Results                  \n",
       "==============================================================================\n",
       "Dep. Variable:              Converted   No. Observations:                 6351\n",
       "Model:                            GLM   Df Residuals:                     6300\n",
       "Model Family:                Binomial   Df Model:                           50\n",
       "Link Function:                  logit   Scale:                          1.0000\n",
       "Method:                          IRLS   Log-Likelihood:                -2544.5\n",
       "Date:                Mon, 07 Sep 2020   Deviance:                       5089.0\n",
       "Time:                        00:30:56   Pearson chi2:                 6.44e+03\n",
       "No. Iterations:                     7                                         \n",
       "Covariance Type:            nonrobust                                         \n",
       "========================================================================================================================\n",
       "                                                           coef    std err          z      P>|z|      [0.025      0.975]\n",
       "------------------------------------------------------------------------------------------------------------------------\n",
       "const                                                    0.1422      0.812      0.175      0.861      -1.449       1.734\n",
       "Do Not Email                                            -1.6077      0.212     -7.570      0.000      -2.024      -1.191\n",
       "TotalVisits                                              0.3016      0.057      5.309      0.000       0.190       0.413\n",
       "Total Time Spent on Website                              1.1100      0.041     26.793      0.000       1.029       1.191\n",
       "Page Views Per Visit                                    -0.3361      0.064     -5.270      0.000      -0.461      -0.211\n",
       "A free copy of Mastering The Interview                  -0.2229      0.111     -2.011      0.044      -0.440      -0.006\n",
       "Lead_Origin_Landing Page Submission                     -0.8858      0.139     -6.392      0.000      -1.157      -0.614\n",
       "Lead_Origin_Lead Add Form                                1.1803      1.020      1.157      0.247      -0.818       3.179\n",
       "Lead_Origin_Lead Import                                  0.5308      0.800      0.664      0.507      -1.036       2.098\n",
       "Lead_Source_Google                                       0.2064      0.116      1.780      0.075      -0.021       0.434\n",
       "Lead_Source_Olark Chat                                   1.2000      0.169      7.084      0.000       0.868       1.532\n",
       "Lead_Source_Organic Search                               0.1261      0.134      0.940      0.347      -0.137       0.389\n",
       "Lead_Source_Other                                        0.4916      0.647      0.760      0.447      -0.776       1.759\n",
       "Lead_Source_Reference                                    2.2415      1.045      2.146      0.032       0.194       4.289\n",
       "Lead_Source_Referral Sites                              -0.0509      0.354     -0.144      0.885      -0.744       0.642\n",
       "Lead_Source_Welingak Website                             4.8079      1.253      3.836      0.000       2.351       7.265\n",
       "Last_Activity_Email Bounced                             -0.1999      0.529     -0.378      0.705      -1.237       0.837\n",
       "Last_Activity_Email Link Clicked                         0.7266      0.433      1.677      0.093      -0.122       1.576\n",
       "Last_Activity_Email Opened                               0.9573      0.255      3.752      0.000       0.457       1.457\n",
       "Last_Activity_Form Submitted on Website                  0.3456      0.399      0.866      0.387      -0.437       1.128\n",
       "Last_Activity_Olark Chat Conversation                   -0.3550      0.287     -1.235      0.217      -0.918       0.208\n",
       "Last_Activity_Other                                      1.2426      0.379      3.282      0.001       0.501       1.985\n",
       "Last_Activity_Page Visited on Website                    0.6185      0.302      2.045      0.041       0.026       1.211\n",
       "Last_Activity_SMS Sent                                   1.4291      0.258      5.545      0.000       0.924       1.934\n",
       "Specialization_Business Administration                  -0.3206      0.244     -1.314      0.189      -0.799       0.158\n",
       "Specialization_E-Business                                0.2071      0.471      0.440      0.660      -0.715       1.130\n",
       "Specialization_E-COMMERCE                                0.0251      0.365      0.069      0.945      -0.690       0.740\n",
       "Specialization_Finance Management                       -0.1711      0.206     -0.833      0.405      -0.574       0.232\n",
       "Specialization_Healthcare Management                    -0.2346      0.316     -0.742      0.458      -0.854       0.385\n",
       "Specialization_Hospitality Management                   -0.6340      0.373     -1.702      0.089      -1.364       0.096\n",
       "Specialization_Human Resource Management                -0.1878      0.208     -0.904      0.366      -0.595       0.219\n",
       "Specialization_IT Projects Management                   -0.0494      0.252     -0.196      0.844      -0.543       0.444\n",
       "Specialization_International Business                   -0.4032      0.296     -1.364      0.173      -0.983       0.176\n",
       "Specialization_Marketing Management                     -0.0177      0.209     -0.085      0.932      -0.427       0.392\n",
       "Specialization_Media and Advertising                    -0.4645      0.285     -1.628      0.104      -1.024       0.095\n",
       "Specialization_Operations Management                    -0.2244      0.232     -0.965      0.334      -0.680       0.231\n",
       "Specialization_Other                                    -1.3187      0.214     -6.155      0.000      -1.739      -0.899\n",
       "Specialization_Retail Management                        -0.3940      0.366     -1.076      0.282      -1.112       0.324\n",
       "Specialization_Rural and Agribusiness                   -0.2850      0.417     -0.684      0.494      -1.102       0.532\n",
       "Specialization_Services Excellence                      -0.5907      0.696     -0.849      0.396      -1.955       0.773\n",
       "Specialization_Supply Chain Management                  -0.1208      0.252     -0.479      0.632      -0.615       0.373\n",
       "Specialization_Travel and Tourism                       -0.2928      0.306     -0.957      0.339      -0.893       0.307\n",
       "What_is_your_current_occupation_Student                 -1.0428      0.645     -1.618      0.106      -2.306       0.220\n",
       "What_is_your_current_occupation_Unemployed              -1.5147      0.603     -2.512      0.012      -2.696      -0.333\n",
       "What_is_your_current_occupation_Working Professional     1.1449      0.631      1.814      0.070      -0.092       2.382\n",
       "Last_Notable_Activity_Email Opened                       0.2348      0.471      0.498      0.618      -0.689       1.159\n",
       "Last_Notable_Activity_Modified                          -0.1198      0.450     -0.266      0.790      -1.002       0.762\n",
       "Last_Notable_Activity_Olark Chat Conversation            0.1035      0.582      0.178      0.859      -1.038       1.245\n",
       "Last_Notable_Activity_Other                              1.6564      0.594      2.790      0.005       0.493       2.820\n",
       "Last_Notable_Activity_Page Visited on Website            0.0098      0.532      0.018      0.985      -1.033       1.053\n",
       "Last_Notable_Activity_SMS Sent                           1.2682      0.474      2.676      0.007       0.339       2.197\n",
       "========================================================================================================================\n",
       "\"\"\""
      ]
     },
     "execution_count": 219,
     "metadata": {},
     "output_type": "execute_result"
    }
   ],
   "source": [
    "x_train_sm = sm.add_constant(x_train)\n",
    "model1 = sm.GLM(y_train,x_train_sm, family=sm.families.Binomial()).fit()\n",
    "model1.summary()"
   ]
  },
  {
   "cell_type": "markdown",
   "metadata": {},
   "source": [
    "### Doing RFE to select 22 columns"
   ]
  },
  {
   "cell_type": "code",
   "execution_count": 220,
   "metadata": {},
   "outputs": [],
   "source": [
    "# Importing library\n",
    "from sklearn.linear_model import LogisticRegression\n",
    "from sklearn.feature_selection import RFE"
   ]
  },
  {
   "cell_type": "code",
   "execution_count": 221,
   "metadata": {},
   "outputs": [],
   "source": [
    "# Doing RFE for 22 coulumns\n",
    "logreg = LogisticRegression()\n",
    "x_train_rfe = RFE(logreg,22)\n",
    "x_train_rfe = x_train_rfe.fit(x_train,y_train)"
   ]
  },
  {
   "cell_type": "code",
   "execution_count": 222,
   "metadata": {},
   "outputs": [
    {
     "data": {
      "text/plain": [
       "array([ True, False,  True, False, False,  True,  True,  True, False,\n",
       "        True, False, False,  True, False,  True, False,  True,  True,\n",
       "       False,  True,  True,  True,  True, False, False, False, False,\n",
       "       False,  True, False, False, False, False, False, False,  True,\n",
       "       False, False, False, False, False,  True,  True,  True, False,\n",
       "        True, False,  True, False,  True])"
      ]
     },
     "execution_count": 222,
     "metadata": {},
     "output_type": "execute_result"
    }
   ],
   "source": [
    "# Supported Columns\n",
    "x_train_rfe.support_"
   ]
  },
  {
   "cell_type": "code",
   "execution_count": 223,
   "metadata": {},
   "outputs": [
    {
     "data": {
      "text/plain": [
       "[('Do Not Email', True, 1),\n",
       " ('TotalVisits', False, 7),\n",
       " ('Total Time Spent on Website', True, 1),\n",
       " ('Page Views Per Visit', False, 6),\n",
       " ('A free copy of Mastering The Interview', False, 4),\n",
       " ('Lead_Origin_Landing Page Submission', True, 1),\n",
       " ('Lead_Origin_Lead Add Form', True, 1),\n",
       " ('Lead_Origin_Lead Import', True, 1),\n",
       " ('Lead_Source_Google', False, 18),\n",
       " ('Lead_Source_Olark Chat', True, 1),\n",
       " ('Lead_Source_Organic Search', False, 24),\n",
       " ('Lead_Source_Other', False, 17),\n",
       " ('Lead_Source_Reference', True, 1),\n",
       " ('Lead_Source_Referral Sites', False, 13),\n",
       " ('Lead_Source_Welingak Website', True, 1),\n",
       " ('Last_Activity_Email Bounced', False, 3),\n",
       " ('Last_Activity_Email Link Clicked', True, 1),\n",
       " ('Last_Activity_Email Opened', True, 1),\n",
       " ('Last_Activity_Form Submitted on Website', False, 12),\n",
       " ('Last_Activity_Olark Chat Conversation', True, 1),\n",
       " ('Last_Activity_Other', True, 1),\n",
       " ('Last_Activity_Page Visited on Website', True, 1),\n",
       " ('Last_Activity_SMS Sent', True, 1),\n",
       " ('Specialization_Business Administration', False, 14),\n",
       " ('Specialization_E-Business', False, 5),\n",
       " ('Specialization_E-COMMERCE', False, 25),\n",
       " ('Specialization_Finance Management', False, 23),\n",
       " ('Specialization_Healthcare Management', False, 20),\n",
       " ('Specialization_Hospitality Management', True, 1),\n",
       " ('Specialization_Human Resource Management', False, 22),\n",
       " ('Specialization_IT Projects Management', False, 28),\n",
       " ('Specialization_International Business', False, 9),\n",
       " ('Specialization_Marketing Management', False, 26),\n",
       " ('Specialization_Media and Advertising', False, 8),\n",
       " ('Specialization_Operations Management', False, 21),\n",
       " ('Specialization_Other', True, 1),\n",
       " ('Specialization_Retail Management', False, 11),\n",
       " ('Specialization_Rural and Agribusiness', False, 19),\n",
       " ('Specialization_Services Excellence', False, 2),\n",
       " ('Specialization_Supply Chain Management', False, 29),\n",
       " ('Specialization_Travel and Tourism', False, 15),\n",
       " ('What_is_your_current_occupation_Student', True, 1),\n",
       " ('What_is_your_current_occupation_Unemployed', True, 1),\n",
       " ('What_is_your_current_occupation_Working Professional', True, 1),\n",
       " ('Last_Notable_Activity_Email Opened', False, 27),\n",
       " ('Last_Notable_Activity_Modified', True, 1),\n",
       " ('Last_Notable_Activity_Olark Chat Conversation', False, 16),\n",
       " ('Last_Notable_Activity_Other', True, 1),\n",
       " ('Last_Notable_Activity_Page Visited on Website', False, 10),\n",
       " ('Last_Notable_Activity_SMS Sent', True, 1)]"
      ]
     },
     "execution_count": 223,
     "metadata": {},
     "output_type": "execute_result"
    }
   ],
   "source": [
    "# Ranking of features\n",
    "list(zip(x_train.columns,x_train_rfe.support_,x_train_rfe.ranking_))"
   ]
  },
  {
   "cell_type": "markdown",
   "metadata": {},
   "source": [
    "#### Columns Supported by RFE"
   ]
  },
  {
   "cell_type": "code",
   "execution_count": 224,
   "metadata": {},
   "outputs": [
    {
     "data": {
      "text/plain": [
       "Index(['Do Not Email', 'Total Time Spent on Website',\n",
       "       'Lead_Origin_Landing Page Submission', 'Lead_Origin_Lead Add Form',\n",
       "       'Lead_Origin_Lead Import', 'Lead_Source_Olark Chat',\n",
       "       'Lead_Source_Reference', 'Lead_Source_Welingak Website',\n",
       "       'Last_Activity_Email Link Clicked', 'Last_Activity_Email Opened',\n",
       "       'Last_Activity_Olark Chat Conversation', 'Last_Activity_Other',\n",
       "       'Last_Activity_Page Visited on Website', 'Last_Activity_SMS Sent',\n",
       "       'Specialization_Hospitality Management', 'Specialization_Other',\n",
       "       'What_is_your_current_occupation_Student',\n",
       "       'What_is_your_current_occupation_Unemployed',\n",
       "       'What_is_your_current_occupation_Working Professional',\n",
       "       'Last_Notable_Activity_Modified', 'Last_Notable_Activity_Other',\n",
       "       'Last_Notable_Activity_SMS Sent'],\n",
       "      dtype='object')"
      ]
     },
     "execution_count": 224,
     "metadata": {},
     "output_type": "execute_result"
    }
   ],
   "source": [
    "col=x_train.columns[x_train_rfe.support_]\n",
    "col"
   ]
  },
  {
   "cell_type": "code",
   "execution_count": 225,
   "metadata": {},
   "outputs": [
    {
     "data": {
      "text/plain": [
       "Index(['TotalVisits', 'Page Views Per Visit',\n",
       "       'A free copy of Mastering The Interview', 'Lead_Source_Google',\n",
       "       'Lead_Source_Organic Search', 'Lead_Source_Other',\n",
       "       'Lead_Source_Referral Sites', 'Last_Activity_Email Bounced',\n",
       "       'Last_Activity_Form Submitted on Website',\n",
       "       'Specialization_Business Administration', 'Specialization_E-Business',\n",
       "       'Specialization_E-COMMERCE', 'Specialization_Finance Management',\n",
       "       'Specialization_Healthcare Management',\n",
       "       'Specialization_Human Resource Management',\n",
       "       'Specialization_IT Projects Management',\n",
       "       'Specialization_International Business',\n",
       "       'Specialization_Marketing Management',\n",
       "       'Specialization_Media and Advertising',\n",
       "       'Specialization_Operations Management',\n",
       "       'Specialization_Retail Management',\n",
       "       'Specialization_Rural and Agribusiness',\n",
       "       'Specialization_Services Excellence',\n",
       "       'Specialization_Supply Chain Management',\n",
       "       'Specialization_Travel and Tourism',\n",
       "       'Last_Notable_Activity_Email Opened',\n",
       "       'Last_Notable_Activity_Olark Chat Conversation',\n",
       "       'Last_Notable_Activity_Page Visited on Website'],\n",
       "      dtype='object')"
      ]
     },
     "execution_count": 225,
     "metadata": {},
     "output_type": "execute_result"
    }
   ],
   "source": [
    "# columns not supported\n",
    "x_train.columns[~x_train_rfe.support_]"
   ]
  },
  {
   "cell_type": "code",
   "execution_count": 226,
   "metadata": {},
   "outputs": [],
   "source": [
    "# Check Correlation on columns supported by RFE together with Target\n",
    "check_cor = ['Converted','Do Not Email', 'Total Time Spent on Website',\n",
    "       'Lead_Origin_Landing Page Submission', 'Lead_Origin_Lead Add Form',\n",
    "       'Lead_Origin_Lead Import', 'Lead_Source_Olark Chat',\n",
    "       'Lead_Source_Reference', 'Lead_Source_Welingak Website',\n",
    "       'Last_Activity_Email Link Clicked', 'Last_Activity_Email Opened',\n",
    "       'Last_Activity_Olark Chat Conversation', 'Last_Activity_Other',\n",
    "       'Last_Activity_Page Visited on Website', 'Last_Activity_SMS Sent',\n",
    "       'Specialization_Hospitality Management', 'Specialization_Other',\n",
    "       'What_is_your_current_occupation_Student',\n",
    "       'What_is_your_current_occupation_Unemployed',\n",
    "       'What_is_your_current_occupation_Working Professional',\n",
    "       'Last_Notable_Activity_Modified', 'Last_Notable_Activity_Other',\n",
    "       'Last_Notable_Activity_SMS Sent']"
   ]
  },
  {
   "cell_type": "code",
   "execution_count": 227,
   "metadata": {},
   "outputs": [
    {
     "data": {
      "image/png": "[encoded data removed]",
      "text/plain": [
       "<Figure size 1440x720 with 2 Axes>"
      ]
     },
     "metadata": {
      "needs_background": "light"
     },
     "output_type": "display_data"
    }
   ],
   "source": [
    "# Checking correlation between variables\n",
    "plt.figure(figsize=(20,10))\n",
    "sns.heatmap(df[check_cor].corr(),annot=True)\n",
    "plt.show()"
   ]
  },
  {
   "cell_type": "markdown",
   "metadata": {},
   "source": [
    "## Model 2"
   ]
  },
  {
   "cell_type": "code",
   "execution_count": 228,
   "metadata": {},
   "outputs": [
    {
     "data": {
      "text/html": [
       "<table class=\"simpletable\">\n",
       "<caption>Generalized Linear Model Regression Results</caption>\n",
       "<tr>\n",
       "  <th>Dep. Variable:</th>       <td>Converted</td>    <th>  No. Observations:  </th>  <td>  6351</td> \n",
       "</tr>\n",
       "<tr>\n",
       "  <th>Model:</th>                  <td>GLM</td>       <th>  Df Residuals:      </th>  <td>  6328</td> \n",
       "</tr>\n",
       "<tr>\n",
       "  <th>Model Family:</th>        <td>Binomial</td>     <th>  Df Model:          </th>  <td>    22</td> \n",
       "</tr>\n",
       "<tr>\n",
       "  <th>Link Function:</th>         <td>logit</td>      <th>  Scale:             </th> <td>  1.0000</td>\n",
       "</tr>\n",
       "<tr>\n",
       "  <th>Method:</th>                <td>IRLS</td>       <th>  Log-Likelihood:    </th> <td> -2575.0</td>\n",
       "</tr>\n",
       "<tr>\n",
       "  <th>Date:</th>            <td>Mon, 07 Sep 2020</td> <th>  Deviance:          </th> <td>  5149.9</td>\n",
       "</tr>\n",
       "<tr>\n",
       "  <th>Time:</th>                <td>00:31:03</td>     <th>  Pearson chi2:      </th> <td>6.43e+03</td>\n",
       "</tr>\n",
       "<tr>\n",
       "  <th>No. Iterations:</th>          <td>7</td>        <th>                     </th>     <td> </td>   \n",
       "</tr>\n",
       "<tr>\n",
       "  <th>Covariance Type:</th>     <td>nonrobust</td>    <th>                     </th>     <td> </td>   \n",
       "</tr>\n",
       "</table>\n",
       "<table class=\"simpletable\">\n",
       "<tr>\n",
       "                            <td></td>                              <th>coef</th>     <th>std err</th>      <th>z</th>      <th>P>|z|</th>  <th>[0.025</th>    <th>0.975]</th>  \n",
       "</tr>\n",
       "<tr>\n",
       "  <th>const</th>                                                <td>    0.3714</td> <td>    0.627</td> <td>    0.592</td> <td> 0.554</td> <td>   -0.858</td> <td>    1.601</td>\n",
       "</tr>\n",
       "<tr>\n",
       "  <th>Do Not Email</th>                                         <td>   -1.7054</td> <td>    0.197</td> <td>   -8.642</td> <td> 0.000</td> <td>   -2.092</td> <td>   -1.319</td>\n",
       "</tr>\n",
       "<tr>\n",
       "  <th>Total Time Spent on Website</th>                          <td>    1.1090</td> <td>    0.041</td> <td>   27.086</td> <td> 0.000</td> <td>    1.029</td> <td>    1.189</td>\n",
       "</tr>\n",
       "<tr>\n",
       "  <th>Lead_Origin_Landing Page Submission</th>                  <td>   -1.1130</td> <td>    0.130</td> <td>   -8.570</td> <td> 0.000</td> <td>   -1.368</td> <td>   -0.858</td>\n",
       "</tr>\n",
       "<tr>\n",
       "  <th>Lead_Origin_Lead Add Form</th>                            <td>    1.4839</td> <td>    0.893</td> <td>    1.662</td> <td> 0.097</td> <td>   -0.266</td> <td>    3.234</td>\n",
       "</tr>\n",
       "<tr>\n",
       "  <th>Lead_Origin_Lead Import</th>                              <td>    0.9098</td> <td>    0.476</td> <td>    1.909</td> <td> 0.056</td> <td>   -0.024</td> <td>    1.844</td>\n",
       "</tr>\n",
       "<tr>\n",
       "  <th>Lead_Source_Olark Chat</th>                               <td>    1.1049</td> <td>    0.124</td> <td>    8.883</td> <td> 0.000</td> <td>    0.861</td> <td>    1.349</td>\n",
       "</tr>\n",
       "<tr>\n",
       "  <th>Lead_Source_Reference</th>                                <td>    1.8678</td> <td>    0.917</td> <td>    2.037</td> <td> 0.042</td> <td>    0.071</td> <td>    3.665</td>\n",
       "</tr>\n",
       "<tr>\n",
       "  <th>Lead_Source_Welingak Website</th>                         <td>    4.4184</td> <td>    1.149</td> <td>    3.844</td> <td> 0.000</td> <td>    2.166</td> <td>    6.671</td>\n",
       "</tr>\n",
       "<tr>\n",
       "  <th>Last_Activity_Email Link Clicked</th>                     <td>    0.5397</td> <td>    0.280</td> <td>    1.929</td> <td> 0.054</td> <td>   -0.009</td> <td>    1.088</td>\n",
       "</tr>\n",
       "<tr>\n",
       "  <th>Last_Activity_Email Opened</th>                           <td>    0.9131</td> <td>    0.201</td> <td>    4.537</td> <td> 0.000</td> <td>    0.519</td> <td>    1.308</td>\n",
       "</tr>\n",
       "<tr>\n",
       "  <th>Last_Activity_Olark Chat Conversation</th>                <td>   -0.3973</td> <td>    0.236</td> <td>   -1.682</td> <td> 0.092</td> <td>   -0.860</td> <td>    0.066</td>\n",
       "</tr>\n",
       "<tr>\n",
       "  <th>Last_Activity_Other</th>                                  <td>    1.2638</td> <td>    0.314</td> <td>    4.026</td> <td> 0.000</td> <td>    0.648</td> <td>    1.879</td>\n",
       "</tr>\n",
       "<tr>\n",
       "  <th>Last_Activity_Page Visited on Website</th>                <td>    0.6085</td> <td>    0.226</td> <td>    2.698</td> <td> 0.007</td> <td>    0.167</td> <td>    1.051</td>\n",
       "</tr>\n",
       "<tr>\n",
       "  <th>Last_Activity_SMS Sent</th>                               <td>    1.3505</td> <td>    0.214</td> <td>    6.304</td> <td> 0.000</td> <td>    0.931</td> <td>    1.770</td>\n",
       "</tr>\n",
       "<tr>\n",
       "  <th>Specialization_Hospitality Management</th>                <td>   -0.4342</td> <td>    0.329</td> <td>   -1.320</td> <td> 0.187</td> <td>   -1.079</td> <td>    0.211</td>\n",
       "</tr>\n",
       "<tr>\n",
       "  <th>Specialization_Other</th>                                 <td>   -1.1369</td> <td>    0.126</td> <td>   -8.998</td> <td> 0.000</td> <td>   -1.385</td> <td>   -0.889</td>\n",
       "</tr>\n",
       "<tr>\n",
       "  <th>What_is_your_current_occupation_Student</th>              <td>   -1.0195</td> <td>    0.631</td> <td>   -1.617</td> <td> 0.106</td> <td>   -2.255</td> <td>    0.216</td>\n",
       "</tr>\n",
       "<tr>\n",
       "  <th>What_is_your_current_occupation_Unemployed</th>           <td>   -1.4692</td> <td>    0.588</td> <td>   -2.497</td> <td> 0.013</td> <td>   -2.623</td> <td>   -0.316</td>\n",
       "</tr>\n",
       "<tr>\n",
       "  <th>What_is_your_current_occupation_Working Professional</th> <td>    1.1772</td> <td>    0.617</td> <td>    1.907</td> <td> 0.057</td> <td>   -0.033</td> <td>    2.387</td>\n",
       "</tr>\n",
       "<tr>\n",
       "  <th>Last_Notable_Activity_Modified</th>                       <td>   -0.3485</td> <td>    0.115</td> <td>   -3.040</td> <td> 0.002</td> <td>   -0.573</td> <td>   -0.124</td>\n",
       "</tr>\n",
       "<tr>\n",
       "  <th>Last_Notable_Activity_Other</th>                          <td>    1.3714</td> <td>    0.374</td> <td>    3.663</td> <td> 0.000</td> <td>    0.638</td> <td>    2.105</td>\n",
       "</tr>\n",
       "<tr>\n",
       "  <th>Last_Notable_Activity_SMS Sent</th>                       <td>    1.0295</td> <td>    0.188</td> <td>    5.490</td> <td> 0.000</td> <td>    0.662</td> <td>    1.397</td>\n",
       "</tr>\n",
       "</table>"
      ],
      "text/plain": [
       "<class 'statsmodels.iolib.summary.Summary'>\n",
       "\"\"\"\n",
       "                 Generalized Linear Model Regression Results                  \n",
       "==============================================================================\n",
       "Dep. Variable:              Converted   No. Observations:                 6351\n",
       "Model:                            GLM   Df Residuals:                     6328\n",
       "Model Family:                Binomial   Df Model:                           22\n",
       "Link Function:                  logit   Scale:                          1.0000\n",
       "Method:                          IRLS   Log-Likelihood:                -2575.0\n",
       "Date:                Mon, 07 Sep 2020   Deviance:                       5149.9\n",
       "Time:                        00:31:03   Pearson chi2:                 6.43e+03\n",
       "No. Iterations:                     7                                         \n",
       "Covariance Type:            nonrobust                                         \n",
       "========================================================================================================================\n",
       "                                                           coef    std err          z      P>|z|      [0.025      0.975]\n",
       "------------------------------------------------------------------------------------------------------------------------\n",
       "const                                                    0.3714      0.627      0.592      0.554      -0.858       1.601\n",
       "Do Not Email                                            -1.7054      0.197     -8.642      0.000      -2.092      -1.319\n",
       "Total Time Spent on Website                              1.1090      0.041     27.086      0.000       1.029       1.189\n",
       "Lead_Origin_Landing Page Submission                     -1.1130      0.130     -8.570      0.000      -1.368      -0.858\n",
       "Lead_Origin_Lead Add Form                                1.4839      0.893      1.662      0.097      -0.266       3.234\n",
       "Lead_Origin_Lead Import                                  0.9098      0.476      1.909      0.056      -0.024       1.844\n",
       "Lead_Source_Olark Chat                                   1.1049      0.124      8.883      0.000       0.861       1.349\n",
       "Lead_Source_Reference                                    1.8678      0.917      2.037      0.042       0.071       3.665\n",
       "Lead_Source_Welingak Website                             4.4184      1.149      3.844      0.000       2.166       6.671\n",
       "Last_Activity_Email Link Clicked                         0.5397      0.280      1.929      0.054      -0.009       1.088\n",
       "Last_Activity_Email Opened                               0.9131      0.201      4.537      0.000       0.519       1.308\n",
       "Last_Activity_Olark Chat Conversation                   -0.3973      0.236     -1.682      0.092      -0.860       0.066\n",
       "Last_Activity_Other                                      1.2638      0.314      4.026      0.000       0.648       1.879\n",
       "Last_Activity_Page Visited on Website                    0.6085      0.226      2.698      0.007       0.167       1.051\n",
       "Last_Activity_SMS Sent                                   1.3505      0.214      6.304      0.000       0.931       1.770\n",
       "Specialization_Hospitality Management                   -0.4342      0.329     -1.320      0.187      -1.079       0.211\n",
       "Specialization_Other                                    -1.1369      0.126     -8.998      0.000      -1.385      -0.889\n",
       "What_is_your_current_occupation_Student                 -1.0195      0.631     -1.617      0.106      -2.255       0.216\n",
       "What_is_your_current_occupation_Unemployed              -1.4692      0.588     -2.497      0.013      -2.623      -0.316\n",
       "What_is_your_current_occupation_Working Professional     1.1772      0.617      1.907      0.057      -0.033       2.387\n",
       "Last_Notable_Activity_Modified                          -0.3485      0.115     -3.040      0.002      -0.573      -0.124\n",
       "Last_Notable_Activity_Other                              1.3714      0.374      3.663      0.000       0.638       2.105\n",
       "Last_Notable_Activity_SMS Sent                           1.0295      0.188      5.490      0.000       0.662       1.397\n",
       "========================================================================================================================\n",
       "\"\"\""
      ]
     },
     "execution_count": 228,
     "metadata": {},
     "output_type": "execute_result"
    }
   ],
   "source": [
    "# Builing model on featues supported by RFE\n",
    "x_train_sm = sm.add_constant(x_train[col])\n",
    "model2=sm.GLM(y_train, x_train_sm, family=sm.families.Binomial()).fit()\n",
    "model2.summary()"
   ]
  },
  {
   "cell_type": "markdown",
   "metadata": {},
   "source": [
    "### Model 3"
   ]
  },
  {
   "cell_type": "code",
   "execution_count": 229,
   "metadata": {},
   "outputs": [],
   "source": [
    "# Dropping 'Specialization_Hospitality Management' as p-value is very high\n",
    "col = ['Do Not Email', 'Total Time Spent on Website',\n",
    "       'Lead_Origin_Landing Page Submission', 'Lead_Origin_Lead Add Form',\n",
    "       'Lead_Origin_Lead Import', 'Lead_Source_Olark Chat',\n",
    "       'Lead_Source_Reference', 'Lead_Source_Welingak Website',\n",
    "       'Last_Activity_Email Link Clicked', 'Last_Activity_Email Opened',\n",
    "       'Last_Activity_Olark Chat Conversation', 'Last_Activity_Other',\n",
    "       'Last_Activity_Page Visited on Website', 'Last_Activity_SMS Sent',\n",
    "       'Specialization_Other',\n",
    "       'What_is_your_current_occupation_Student',\n",
    "       'What_is_your_current_occupation_Unemployed',\n",
    "       'What_is_your_current_occupation_Working Professional',\n",
    "       'Last_Notable_Activity_Modified', 'Last_Notable_Activity_Other',\n",
    "       'Last_Notable_Activity_SMS Sent']"
   ]
  },
  {
   "cell_type": "code",
   "execution_count": 230,
   "metadata": {},
   "outputs": [
    {
     "data": {
      "text/html": [
       "<table class=\"simpletable\">\n",
       "<caption>Generalized Linear Model Regression Results</caption>\n",
       "<tr>\n",
       "  <th>Dep. Variable:</th>       <td>Converted</td>    <th>  No. Observations:  </th>  <td>  6351</td> \n",
       "</tr>\n",
       "<tr>\n",
       "  <th>Model:</th>                  <td>GLM</td>       <th>  Df Residuals:      </th>  <td>  6329</td> \n",
       "</tr>\n",
       "<tr>\n",
       "  <th>Model Family:</th>        <td>Binomial</td>     <th>  Df Model:          </th>  <td>    21</td> \n",
       "</tr>\n",
       "<tr>\n",
       "  <th>Link Function:</th>         <td>logit</td>      <th>  Scale:             </th> <td>  1.0000</td>\n",
       "</tr>\n",
       "<tr>\n",
       "  <th>Method:</th>                <td>IRLS</td>       <th>  Log-Likelihood:    </th> <td> -2575.9</td>\n",
       "</tr>\n",
       "<tr>\n",
       "  <th>Date:</th>            <td>Mon, 07 Sep 2020</td> <th>  Deviance:          </th> <td>  5151.7</td>\n",
       "</tr>\n",
       "<tr>\n",
       "  <th>Time:</th>                <td>00:31:03</td>     <th>  Pearson chi2:      </th> <td>6.45e+03</td>\n",
       "</tr>\n",
       "<tr>\n",
       "  <th>No. Iterations:</th>          <td>7</td>        <th>                     </th>     <td> </td>   \n",
       "</tr>\n",
       "<tr>\n",
       "  <th>Covariance Type:</th>     <td>nonrobust</td>    <th>                     </th>     <td> </td>   \n",
       "</tr>\n",
       "</table>\n",
       "<table class=\"simpletable\">\n",
       "<tr>\n",
       "                            <td></td>                              <th>coef</th>     <th>std err</th>      <th>z</th>      <th>P>|z|</th>  <th>[0.025</th>    <th>0.975]</th>  \n",
       "</tr>\n",
       "<tr>\n",
       "  <th>const</th>                                                <td>    0.3693</td> <td>    0.627</td> <td>    0.589</td> <td> 0.556</td> <td>   -0.860</td> <td>    1.598</td>\n",
       "</tr>\n",
       "<tr>\n",
       "  <th>Do Not Email</th>                                         <td>   -1.7074</td> <td>    0.197</td> <td>   -8.654</td> <td> 0.000</td> <td>   -2.094</td> <td>   -1.321</td>\n",
       "</tr>\n",
       "<tr>\n",
       "  <th>Total Time Spent on Website</th>                          <td>    1.1072</td> <td>    0.041</td> <td>   27.075</td> <td> 0.000</td> <td>    1.027</td> <td>    1.187</td>\n",
       "</tr>\n",
       "<tr>\n",
       "  <th>Lead_Origin_Landing Page Submission</th>                  <td>   -1.1120</td> <td>    0.130</td> <td>   -8.563</td> <td> 0.000</td> <td>   -1.367</td> <td>   -0.857</td>\n",
       "</tr>\n",
       "<tr>\n",
       "  <th>Lead_Origin_Lead Add Form</th>                            <td>    1.4864</td> <td>    0.893</td> <td>    1.665</td> <td> 0.096</td> <td>   -0.264</td> <td>    3.237</td>\n",
       "</tr>\n",
       "<tr>\n",
       "  <th>Lead_Origin_Lead Import</th>                              <td>    0.9127</td> <td>    0.476</td> <td>    1.917</td> <td> 0.055</td> <td>   -0.021</td> <td>    1.846</td>\n",
       "</tr>\n",
       "<tr>\n",
       "  <th>Lead_Source_Olark Chat</th>                               <td>    1.1025</td> <td>    0.124</td> <td>    8.867</td> <td> 0.000</td> <td>    0.859</td> <td>    1.346</td>\n",
       "</tr>\n",
       "<tr>\n",
       "  <th>Lead_Source_Reference</th>                                <td>    1.8525</td> <td>    0.917</td> <td>    2.020</td> <td> 0.043</td> <td>    0.055</td> <td>    3.649</td>\n",
       "</tr>\n",
       "<tr>\n",
       "  <th>Lead_Source_Welingak Website</th>                         <td>    4.4142</td> <td>    1.149</td> <td>    3.840</td> <td> 0.000</td> <td>    2.161</td> <td>    6.667</td>\n",
       "</tr>\n",
       "<tr>\n",
       "  <th>Last_Activity_Email Link Clicked</th>                     <td>    0.5408</td> <td>    0.280</td> <td>    1.932</td> <td> 0.053</td> <td>   -0.008</td> <td>    1.089</td>\n",
       "</tr>\n",
       "<tr>\n",
       "  <th>Last_Activity_Email Opened</th>                           <td>    0.9140</td> <td>    0.201</td> <td>    4.540</td> <td> 0.000</td> <td>    0.519</td> <td>    1.309</td>\n",
       "</tr>\n",
       "<tr>\n",
       "  <th>Last_Activity_Olark Chat Conversation</th>                <td>   -0.3954</td> <td>    0.236</td> <td>   -1.674</td> <td> 0.094</td> <td>   -0.858</td> <td>    0.067</td>\n",
       "</tr>\n",
       "<tr>\n",
       "  <th>Last_Activity_Other</th>                                  <td>    1.2680</td> <td>    0.313</td> <td>    4.045</td> <td> 0.000</td> <td>    0.654</td> <td>    1.882</td>\n",
       "</tr>\n",
       "<tr>\n",
       "  <th>Last_Activity_Page Visited on Website</th>                <td>    0.6146</td> <td>    0.225</td> <td>    2.726</td> <td> 0.006</td> <td>    0.173</td> <td>    1.056</td>\n",
       "</tr>\n",
       "<tr>\n",
       "  <th>Last_Activity_SMS Sent</th>                               <td>    1.3503</td> <td>    0.214</td> <td>    6.303</td> <td> 0.000</td> <td>    0.930</td> <td>    1.770</td>\n",
       "</tr>\n",
       "<tr>\n",
       "  <th>Specialization_Other</th>                                 <td>   -1.1284</td> <td>    0.126</td> <td>   -8.943</td> <td> 0.000</td> <td>   -1.376</td> <td>   -0.881</td>\n",
       "</tr>\n",
       "<tr>\n",
       "  <th>What_is_your_current_occupation_Student</th>              <td>   -1.0291</td> <td>    0.630</td> <td>   -1.634</td> <td> 0.102</td> <td>   -2.264</td> <td>    0.205</td>\n",
       "</tr>\n",
       "<tr>\n",
       "  <th>What_is_your_current_occupation_Unemployed</th>           <td>   -1.4752</td> <td>    0.588</td> <td>   -2.509</td> <td> 0.012</td> <td>   -2.628</td> <td>   -0.323</td>\n",
       "</tr>\n",
       "<tr>\n",
       "  <th>What_is_your_current_occupation_Working Professional</th> <td>    1.1658</td> <td>    0.617</td> <td>    1.890</td> <td> 0.059</td> <td>   -0.043</td> <td>    2.375</td>\n",
       "</tr>\n",
       "<tr>\n",
       "  <th>Last_Notable_Activity_Modified</th>                       <td>   -0.3497</td> <td>    0.115</td> <td>   -3.051</td> <td> 0.002</td> <td>   -0.574</td> <td>   -0.125</td>\n",
       "</tr>\n",
       "<tr>\n",
       "  <th>Last_Notable_Activity_Other</th>                          <td>    1.3667</td> <td>    0.374</td> <td>    3.656</td> <td> 0.000</td> <td>    0.634</td> <td>    2.099</td>\n",
       "</tr>\n",
       "<tr>\n",
       "  <th>Last_Notable_Activity_SMS Sent</th>                       <td>    1.0309</td> <td>    0.188</td> <td>    5.498</td> <td> 0.000</td> <td>    0.663</td> <td>    1.398</td>\n",
       "</tr>\n",
       "</table>"
      ],
      "text/plain": [
       "<class 'statsmodels.iolib.summary.Summary'>\n",
       "\"\"\"\n",
       "                 Generalized Linear Model Regression Results                  \n",
       "==============================================================================\n",
       "Dep. Variable:              Converted   No. Observations:                 6351\n",
       "Model:                            GLM   Df Residuals:                     6329\n",
       "Model Family:                Binomial   Df Model:                           21\n",
       "Link Function:                  logit   Scale:                          1.0000\n",
       "Method:                          IRLS   Log-Likelihood:                -2575.9\n",
       "Date:                Mon, 07 Sep 2020   Deviance:                       5151.7\n",
       "Time:                        00:31:03   Pearson chi2:                 6.45e+03\n",
       "No. Iterations:                     7                                         \n",
       "Covariance Type:            nonrobust                                         \n",
       "========================================================================================================================\n",
       "                                                           coef    std err          z      P>|z|      [0.025      0.975]\n",
       "------------------------------------------------------------------------------------------------------------------------\n",
       "const                                                    0.3693      0.627      0.589      0.556      -0.860       1.598\n",
       "Do Not Email                                            -1.7074      0.197     -8.654      0.000      -2.094      -1.321\n",
       "Total Time Spent on Website                              1.1072      0.041     27.075      0.000       1.027       1.187\n",
       "Lead_Origin_Landing Page Submission                     -1.1120      0.130     -8.563      0.000      -1.367      -0.857\n",
       "Lead_Origin_Lead Add Form                                1.4864      0.893      1.665      0.096      -0.264       3.237\n",
       "Lead_Origin_Lead Import                                  0.9127      0.476      1.917      0.055      -0.021       1.846\n",
       "Lead_Source_Olark Chat                                   1.1025      0.124      8.867      0.000       0.859       1.346\n",
       "Lead_Source_Reference                                    1.8525      0.917      2.020      0.043       0.055       3.649\n",
       "Lead_Source_Welingak Website                             4.4142      1.149      3.840      0.000       2.161       6.667\n",
       "Last_Activity_Email Link Clicked                         0.5408      0.280      1.932      0.053      -0.008       1.089\n",
       "Last_Activity_Email Opened                               0.9140      0.201      4.540      0.000       0.519       1.309\n",
       "Last_Activity_Olark Chat Conversation                   -0.3954      0.236     -1.674      0.094      -0.858       0.067\n",
       "Last_Activity_Other                                      1.2680      0.313      4.045      0.000       0.654       1.882\n",
       "Last_Activity_Page Visited on Website                    0.6146      0.225      2.726      0.006       0.173       1.056\n",
       "Last_Activity_SMS Sent                                   1.3503      0.214      6.303      0.000       0.930       1.770\n",
       "Specialization_Other                                    -1.1284      0.126     -8.943      0.000      -1.376      -0.881\n",
       "What_is_your_current_occupation_Student                 -1.0291      0.630     -1.634      0.102      -2.264       0.205\n",
       "What_is_your_current_occupation_Unemployed              -1.4752      0.588     -2.509      0.012      -2.628      -0.323\n",
       "What_is_your_current_occupation_Working Professional     1.1658      0.617      1.890      0.059      -0.043       2.375\n",
       "Last_Notable_Activity_Modified                          -0.3497      0.115     -3.051      0.002      -0.574      -0.125\n",
       "Last_Notable_Activity_Other                              1.3667      0.374      3.656      0.000       0.634       2.099\n",
       "Last_Notable_Activity_SMS Sent                           1.0309      0.188      5.498      0.000       0.663       1.398\n",
       "========================================================================================================================\n",
       "\"\"\""
      ]
     },
     "execution_count": 230,
     "metadata": {},
     "output_type": "execute_result"
    }
   ],
   "source": [
    "x_train_sm = sm.add_constant(x_train[col])\n",
    "model3=sm.GLM(y_train, x_train_sm, family=sm.families.Binomial()).fit()\n",
    "model3.summary()"
   ]
  },
  {
   "cell_type": "markdown",
   "metadata": {},
   "source": [
    "## Model 4"
   ]
  },
  {
   "cell_type": "code",
   "execution_count": 231,
   "metadata": {},
   "outputs": [],
   "source": [
    "# Dropping 'What_is_your_current_occupation_Student' as p-value is very high\n",
    "col = ['Do Not Email', 'Total Time Spent on Website',\n",
    "       'Lead_Origin_Landing Page Submission', 'Lead_Origin_Lead Add Form',\n",
    "       'Lead_Origin_Lead Import', 'Lead_Source_Olark Chat',\n",
    "       'Lead_Source_Reference', 'Lead_Source_Welingak Website',\n",
    "       'Last_Activity_Email Link Clicked', 'Last_Activity_Email Opened',\n",
    "       'Last_Activity_Olark Chat Conversation', 'Last_Activity_Other',\n",
    "       'Last_Activity_Page Visited on Website', 'Last_Activity_SMS Sent',\n",
    "       'Specialization_Other',\n",
    "       'What_is_your_current_occupation_Unemployed',\n",
    "       'What_is_your_current_occupation_Working Professional',\n",
    "       'Last_Notable_Activity_Modified', 'Last_Notable_Activity_Other',\n",
    "       'Last_Notable_Activity_SMS Sent']"
   ]
  },
  {
   "cell_type": "code",
   "execution_count": 232,
   "metadata": {},
   "outputs": [
    {
     "data": {
      "text/html": [
       "<table class=\"simpletable\">\n",
       "<caption>Generalized Linear Model Regression Results</caption>\n",
       "<tr>\n",
       "  <th>Dep. Variable:</th>       <td>Converted</td>    <th>  No. Observations:  </th>  <td>  6351</td> \n",
       "</tr>\n",
       "<tr>\n",
       "  <th>Model:</th>                  <td>GLM</td>       <th>  Df Residuals:      </th>  <td>  6330</td> \n",
       "</tr>\n",
       "<tr>\n",
       "  <th>Model Family:</th>        <td>Binomial</td>     <th>  Df Model:          </th>  <td>    20</td> \n",
       "</tr>\n",
       "<tr>\n",
       "  <th>Link Function:</th>         <td>logit</td>      <th>  Scale:             </th> <td>  1.0000</td>\n",
       "</tr>\n",
       "<tr>\n",
       "  <th>Method:</th>                <td>IRLS</td>       <th>  Log-Likelihood:    </th> <td> -2577.3</td>\n",
       "</tr>\n",
       "<tr>\n",
       "  <th>Date:</th>            <td>Mon, 07 Sep 2020</td> <th>  Deviance:          </th> <td>  5154.5</td>\n",
       "</tr>\n",
       "<tr>\n",
       "  <th>Time:</th>                <td>00:31:03</td>     <th>  Pearson chi2:      </th> <td>6.45e+03</td>\n",
       "</tr>\n",
       "<tr>\n",
       "  <th>No. Iterations:</th>          <td>7</td>        <th>                     </th>     <td> </td>   \n",
       "</tr>\n",
       "<tr>\n",
       "  <th>Covariance Type:</th>     <td>nonrobust</td>    <th>                     </th>     <td> </td>   \n",
       "</tr>\n",
       "</table>\n",
       "<table class=\"simpletable\">\n",
       "<tr>\n",
       "                            <td></td>                              <th>coef</th>     <th>std err</th>      <th>z</th>      <th>P>|z|</th>  <th>[0.025</th>    <th>0.975]</th>  \n",
       "</tr>\n",
       "<tr>\n",
       "  <th>const</th>                                                <td>   -0.5060</td> <td>    0.313</td> <td>   -1.616</td> <td> 0.106</td> <td>   -1.120</td> <td>    0.108</td>\n",
       "</tr>\n",
       "<tr>\n",
       "  <th>Do Not Email</th>                                         <td>   -1.7036</td> <td>    0.197</td> <td>   -8.646</td> <td> 0.000</td> <td>   -2.090</td> <td>   -1.317</td>\n",
       "</tr>\n",
       "<tr>\n",
       "  <th>Total Time Spent on Website</th>                          <td>    1.1078</td> <td>    0.041</td> <td>   27.098</td> <td> 0.000</td> <td>    1.028</td> <td>    1.188</td>\n",
       "</tr>\n",
       "<tr>\n",
       "  <th>Lead_Origin_Landing Page Submission</th>                  <td>   -1.1252</td> <td>    0.130</td> <td>   -8.681</td> <td> 0.000</td> <td>   -1.379</td> <td>   -0.871</td>\n",
       "</tr>\n",
       "<tr>\n",
       "  <th>Lead_Origin_Lead Add Form</th>                            <td>    1.4791</td> <td>    0.893</td> <td>    1.656</td> <td> 0.098</td> <td>   -0.271</td> <td>    3.229</td>\n",
       "</tr>\n",
       "<tr>\n",
       "  <th>Lead_Origin_Lead Import</th>                              <td>    0.9059</td> <td>    0.476</td> <td>    1.901</td> <td> 0.057</td> <td>   -0.028</td> <td>    1.840</td>\n",
       "</tr>\n",
       "<tr>\n",
       "  <th>Lead_Source_Olark Chat</th>                               <td>    1.0974</td> <td>    0.124</td> <td>    8.832</td> <td> 0.000</td> <td>    0.854</td> <td>    1.341</td>\n",
       "</tr>\n",
       "<tr>\n",
       "  <th>Lead_Source_Reference</th>                                <td>    1.8594</td> <td>    0.917</td> <td>    2.028</td> <td> 0.043</td> <td>    0.062</td> <td>    3.656</td>\n",
       "</tr>\n",
       "<tr>\n",
       "  <th>Lead_Source_Welingak Website</th>                         <td>    4.4205</td> <td>    1.149</td> <td>    3.846</td> <td> 0.000</td> <td>    2.168</td> <td>    6.673</td>\n",
       "</tr>\n",
       "<tr>\n",
       "  <th>Last_Activity_Email Link Clicked</th>                     <td>    0.5414</td> <td>    0.280</td> <td>    1.935</td> <td> 0.053</td> <td>   -0.007</td> <td>    1.090</td>\n",
       "</tr>\n",
       "<tr>\n",
       "  <th>Last_Activity_Email Opened</th>                           <td>    0.9167</td> <td>    0.201</td> <td>    4.554</td> <td> 0.000</td> <td>    0.522</td> <td>    1.311</td>\n",
       "</tr>\n",
       "<tr>\n",
       "  <th>Last_Activity_Olark Chat Conversation</th>                <td>   -0.3934</td> <td>    0.236</td> <td>   -1.667</td> <td> 0.096</td> <td>   -0.856</td> <td>    0.069</td>\n",
       "</tr>\n",
       "<tr>\n",
       "  <th>Last_Activity_Other</th>                                  <td>    1.2710</td> <td>    0.313</td> <td>    4.056</td> <td> 0.000</td> <td>    0.657</td> <td>    1.885</td>\n",
       "</tr>\n",
       "<tr>\n",
       "  <th>Last_Activity_Page Visited on Website</th>                <td>    0.6274</td> <td>    0.225</td> <td>    2.785</td> <td> 0.005</td> <td>    0.186</td> <td>    1.069</td>\n",
       "</tr>\n",
       "<tr>\n",
       "  <th>Last_Activity_SMS Sent</th>                               <td>    1.3521</td> <td>    0.214</td> <td>    6.311</td> <td> 0.000</td> <td>    0.932</td> <td>    1.772</td>\n",
       "</tr>\n",
       "<tr>\n",
       "  <th>Specialization_Other</th>                                 <td>   -1.1404</td> <td>    0.126</td> <td>   -9.052</td> <td> 0.000</td> <td>   -1.387</td> <td>   -0.893</td>\n",
       "</tr>\n",
       "<tr>\n",
       "  <th>What_is_your_current_occupation_Unemployed</th>           <td>   -0.5910</td> <td>    0.213</td> <td>   -2.773</td> <td> 0.006</td> <td>   -1.009</td> <td>   -0.173</td>\n",
       "</tr>\n",
       "<tr>\n",
       "  <th>What_is_your_current_occupation_Working Professional</th> <td>    2.0489</td> <td>    0.285</td> <td>    7.200</td> <td> 0.000</td> <td>    1.491</td> <td>    2.607</td>\n",
       "</tr>\n",
       "<tr>\n",
       "  <th>Last_Notable_Activity_Modified</th>                       <td>   -0.3477</td> <td>    0.115</td> <td>   -3.036</td> <td> 0.002</td> <td>   -0.572</td> <td>   -0.123</td>\n",
       "</tr>\n",
       "<tr>\n",
       "  <th>Last_Notable_Activity_Other</th>                          <td>    1.3657</td> <td>    0.374</td> <td>    3.656</td> <td> 0.000</td> <td>    0.634</td> <td>    2.098</td>\n",
       "</tr>\n",
       "<tr>\n",
       "  <th>Last_Notable_Activity_SMS Sent</th>                       <td>    1.0314</td> <td>    0.187</td> <td>    5.503</td> <td> 0.000</td> <td>    0.664</td> <td>    1.399</td>\n",
       "</tr>\n",
       "</table>"
      ],
      "text/plain": [
       "<class 'statsmodels.iolib.summary.Summary'>\n",
       "\"\"\"\n",
       "                 Generalized Linear Model Regression Results                  \n",
       "==============================================================================\n",
       "Dep. Variable:              Converted   No. Observations:                 6351\n",
       "Model:                            GLM   Df Residuals:                     6330\n",
       "Model Family:                Binomial   Df Model:                           20\n",
       "Link Function:                  logit   Scale:                          1.0000\n",
       "Method:                          IRLS   Log-Likelihood:                -2577.3\n",
       "Date:                Mon, 07 Sep 2020   Deviance:                       5154.5\n",
       "Time:                        00:31:03   Pearson chi2:                 6.45e+03\n",
       "No. Iterations:                     7                                         \n",
       "Covariance Type:            nonrobust                                         \n",
       "========================================================================================================================\n",
       "                                                           coef    std err          z      P>|z|      [0.025      0.975]\n",
       "------------------------------------------------------------------------------------------------------------------------\n",
       "const                                                   -0.5060      0.313     -1.616      0.106      -1.120       0.108\n",
       "Do Not Email                                            -1.7036      0.197     -8.646      0.000      -2.090      -1.317\n",
       "Total Time Spent on Website                              1.1078      0.041     27.098      0.000       1.028       1.188\n",
       "Lead_Origin_Landing Page Submission                     -1.1252      0.130     -8.681      0.000      -1.379      -0.871\n",
       "Lead_Origin_Lead Add Form                                1.4791      0.893      1.656      0.098      -0.271       3.229\n",
       "Lead_Origin_Lead Import                                  0.9059      0.476      1.901      0.057      -0.028       1.840\n",
       "Lead_Source_Olark Chat                                   1.0974      0.124      8.832      0.000       0.854       1.341\n",
       "Lead_Source_Reference                                    1.8594      0.917      2.028      0.043       0.062       3.656\n",
       "Lead_Source_Welingak Website                             4.4205      1.149      3.846      0.000       2.168       6.673\n",
       "Last_Activity_Email Link Clicked                         0.5414      0.280      1.935      0.053      -0.007       1.090\n",
       "Last_Activity_Email Opened                               0.9167      0.201      4.554      0.000       0.522       1.311\n",
       "Last_Activity_Olark Chat Conversation                   -0.3934      0.236     -1.667      0.096      -0.856       0.069\n",
       "Last_Activity_Other                                      1.2710      0.313      4.056      0.000       0.657       1.885\n",
       "Last_Activity_Page Visited on Website                    0.6274      0.225      2.785      0.005       0.186       1.069\n",
       "Last_Activity_SMS Sent                                   1.3521      0.214      6.311      0.000       0.932       1.772\n",
       "Specialization_Other                                    -1.1404      0.126     -9.052      0.000      -1.387      -0.893\n",
       "What_is_your_current_occupation_Unemployed              -0.5910      0.213     -2.773      0.006      -1.009      -0.173\n",
       "What_is_your_current_occupation_Working Professional     2.0489      0.285      7.200      0.000       1.491       2.607\n",
       "Last_Notable_Activity_Modified                          -0.3477      0.115     -3.036      0.002      -0.572      -0.123\n",
       "Last_Notable_Activity_Other                              1.3657      0.374      3.656      0.000       0.634       2.098\n",
       "Last_Notable_Activity_SMS Sent                           1.0314      0.187      5.503      0.000       0.664       1.399\n",
       "========================================================================================================================\n",
       "\"\"\""
      ]
     },
     "execution_count": 232,
     "metadata": {},
     "output_type": "execute_result"
    }
   ],
   "source": [
    "x_train_sm = sm.add_constant(x_train[col])\n",
    "model4=sm.GLM(y_train, x_train_sm, family=sm.families.Binomial()).fit()\n",
    "model4.summary()"
   ]
  },
  {
   "cell_type": "markdown",
   "metadata": {},
   "source": [
    "'Lead_Origin_Lead Add Form' and 'Last_Activity_Olark Chat Conversation' have same p-value so checking VIFs"
   ]
  },
  {
   "cell_type": "markdown",
   "metadata": {},
   "source": [
    "## Checking VIFs"
   ]
  },
  {
   "cell_type": "code",
   "execution_count": 233,
   "metadata": {},
   "outputs": [],
   "source": [
    "from statsmodels.stats.outliers_influence import variance_inflation_factor"
   ]
  },
  {
   "cell_type": "code",
   "execution_count": 234,
   "metadata": {},
   "outputs": [
    {
     "data": {
      "text/html": [
       "<div>\n",
       "<style scoped>\n",
       "    .dataframe tbody tr th:only-of-type {\n",
       "        vertical-align: middle;\n",
       "    }\n",
       "\n",
       "    .dataframe tbody tr th {\n",
       "        vertical-align: top;\n",
       "    }\n",
       "\n",
       "    .dataframe thead th {\n",
       "        text-align: right;\n",
       "    }\n",
       "</style>\n",
       "<table border=\"1\" class=\"dataframe\">\n",
       "  <thead>\n",
       "    <tr style=\"text-align: right;\">\n",
       "      <th></th>\n",
       "      <th>Feature</th>\n",
       "      <th>VIF</th>\n",
       "    </tr>\n",
       "  </thead>\n",
       "  <tbody>\n",
       "    <tr>\n",
       "      <th>3</th>\n",
       "      <td>Lead_Origin_Lead Add Form</td>\n",
       "      <td>62.69</td>\n",
       "    </tr>\n",
       "    <tr>\n",
       "      <th>6</th>\n",
       "      <td>Lead_Source_Reference</td>\n",
       "      <td>48.13</td>\n",
       "    </tr>\n",
       "    <tr>\n",
       "      <th>15</th>\n",
       "      <td>What_is_your_current_occupation_Unemployed</td>\n",
       "      <td>17.64</td>\n",
       "    </tr>\n",
       "    <tr>\n",
       "      <th>7</th>\n",
       "      <td>Lead_Source_Welingak Website</td>\n",
       "      <td>15.53</td>\n",
       "    </tr>\n",
       "    <tr>\n",
       "      <th>13</th>\n",
       "      <td>Last_Activity_SMS Sent</td>\n",
       "      <td>8.14</td>\n",
       "    </tr>\n",
       "    <tr>\n",
       "      <th>19</th>\n",
       "      <td>Last_Notable_Activity_SMS Sent</td>\n",
       "      <td>7.04</td>\n",
       "    </tr>\n",
       "    <tr>\n",
       "      <th>9</th>\n",
       "      <td>Last_Activity_Email Opened</td>\n",
       "      <td>6.15</td>\n",
       "    </tr>\n",
       "    <tr>\n",
       "      <th>2</th>\n",
       "      <td>Lead_Origin_Landing Page Submission</td>\n",
       "      <td>6.15</td>\n",
       "    </tr>\n",
       "    <tr>\n",
       "      <th>14</th>\n",
       "      <td>Specialization_Other</td>\n",
       "      <td>4.15</td>\n",
       "    </tr>\n",
       "    <tr>\n",
       "      <th>17</th>\n",
       "      <td>Last_Notable_Activity_Modified</td>\n",
       "      <td>3.26</td>\n",
       "    </tr>\n",
       "    <tr>\n",
       "      <th>10</th>\n",
       "      <td>Last_Activity_Olark Chat Conversation</td>\n",
       "      <td>2.43</td>\n",
       "    </tr>\n",
       "    <tr>\n",
       "      <th>16</th>\n",
       "      <td>What_is_your_current_occupation_Working Profes...</td>\n",
       "      <td>2.39</td>\n",
       "    </tr>\n",
       "    <tr>\n",
       "      <th>5</th>\n",
       "      <td>Lead_Source_Olark Chat</td>\n",
       "      <td>2.31</td>\n",
       "    </tr>\n",
       "    <tr>\n",
       "      <th>12</th>\n",
       "      <td>Last_Activity_Page Visited on Website</td>\n",
       "      <td>1.73</td>\n",
       "    </tr>\n",
       "    <tr>\n",
       "      <th>18</th>\n",
       "      <td>Last_Notable_Activity_Other</td>\n",
       "      <td>1.72</td>\n",
       "    </tr>\n",
       "    <tr>\n",
       "      <th>11</th>\n",
       "      <td>Last_Activity_Other</td>\n",
       "      <td>1.57</td>\n",
       "    </tr>\n",
       "    <tr>\n",
       "      <th>8</th>\n",
       "      <td>Last_Activity_Email Link Clicked</td>\n",
       "      <td>1.36</td>\n",
       "    </tr>\n",
       "    <tr>\n",
       "      <th>0</th>\n",
       "      <td>Do Not Email</td>\n",
       "      <td>1.35</td>\n",
       "    </tr>\n",
       "    <tr>\n",
       "      <th>1</th>\n",
       "      <td>Total Time Spent on Website</td>\n",
       "      <td>1.33</td>\n",
       "    </tr>\n",
       "    <tr>\n",
       "      <th>4</th>\n",
       "      <td>Lead_Origin_Lead Import</td>\n",
       "      <td>1.03</td>\n",
       "    </tr>\n",
       "  </tbody>\n",
       "</table>\n",
       "</div>"
      ],
      "text/plain": [
       "                                              Feature    VIF\n",
       "3                           Lead_Origin_Lead Add Form  62.69\n",
       "6                               Lead_Source_Reference  48.13\n",
       "15         What_is_your_current_occupation_Unemployed  17.64\n",
       "7                        Lead_Source_Welingak Website  15.53\n",
       "13                             Last_Activity_SMS Sent   8.14\n",
       "19                     Last_Notable_Activity_SMS Sent   7.04\n",
       "9                          Last_Activity_Email Opened   6.15\n",
       "2                 Lead_Origin_Landing Page Submission   6.15\n",
       "14                               Specialization_Other   4.15\n",
       "17                     Last_Notable_Activity_Modified   3.26\n",
       "10              Last_Activity_Olark Chat Conversation   2.43\n",
       "16  What_is_your_current_occupation_Working Profes...   2.39\n",
       "5                              Lead_Source_Olark Chat   2.31\n",
       "12              Last_Activity_Page Visited on Website   1.73\n",
       "18                        Last_Notable_Activity_Other   1.72\n",
       "11                                Last_Activity_Other   1.57\n",
       "8                    Last_Activity_Email Link Clicked   1.36\n",
       "0                                        Do Not Email   1.35\n",
       "1                         Total Time Spent on Website   1.33\n",
       "4                             Lead_Origin_Lead Import   1.03"
      ]
     },
     "execution_count": 234,
     "metadata": {},
     "output_type": "execute_result"
    }
   ],
   "source": [
    "vif = pd.DataFrame()\n",
    "vif['Feature'] = col\n",
    "vif['VIF'] = [variance_inflation_factor(x_train[col].values, i) for i in range(len(col))]\n",
    "vif = vif.sort_values(by='VIF', ascending = False)\n",
    "vif['VIF'] = round(vif['VIF'],2)\n",
    "vif"
   ]
  },
  {
   "cell_type": "markdown",
   "metadata": {},
   "source": [
    "### Model 5"
   ]
  },
  {
   "cell_type": "code",
   "execution_count": 235,
   "metadata": {},
   "outputs": [],
   "source": [
    "# Dropping 'Lead_Origin_Lead Add Form' as p-value is very high\n",
    "col = ['Do Not Email', 'Total Time Spent on Website',\n",
    "       'Lead_Origin_Landing Page Submission',\n",
    "       'Lead_Origin_Lead Import', 'Lead_Source_Olark Chat',\n",
    "       'Lead_Source_Reference', 'Lead_Source_Welingak Website',\n",
    "       'Last_Activity_Email Link Clicked', 'Last_Activity_Email Opened',\n",
    "       'Last_Activity_Olark Chat Conversation', 'Last_Activity_Other',\n",
    "       'Last_Activity_Page Visited on Website', 'Last_Activity_SMS Sent',\n",
    "       'Specialization_Other',\n",
    "       'What_is_your_current_occupation_Unemployed',\n",
    "       'What_is_your_current_occupation_Working Professional',\n",
    "       'Last_Notable_Activity_Modified', 'Last_Notable_Activity_Other',\n",
    "       'Last_Notable_Activity_SMS Sent']"
   ]
  },
  {
   "cell_type": "code",
   "execution_count": 236,
   "metadata": {},
   "outputs": [
    {
     "data": {
      "text/html": [
       "<table class=\"simpletable\">\n",
       "<caption>Generalized Linear Model Regression Results</caption>\n",
       "<tr>\n",
       "  <th>Dep. Variable:</th>       <td>Converted</td>    <th>  No. Observations:  </th>  <td>  6351</td> \n",
       "</tr>\n",
       "<tr>\n",
       "  <th>Model:</th>                  <td>GLM</td>       <th>  Df Residuals:      </th>  <td>  6331</td> \n",
       "</tr>\n",
       "<tr>\n",
       "  <th>Model Family:</th>        <td>Binomial</td>     <th>  Df Model:          </th>  <td>    19</td> \n",
       "</tr>\n",
       "<tr>\n",
       "  <th>Link Function:</th>         <td>logit</td>      <th>  Scale:             </th> <td>  1.0000</td>\n",
       "</tr>\n",
       "<tr>\n",
       "  <th>Method:</th>                <td>IRLS</td>       <th>  Log-Likelihood:    </th> <td> -2578.8</td>\n",
       "</tr>\n",
       "<tr>\n",
       "  <th>Date:</th>            <td>Mon, 07 Sep 2020</td> <th>  Deviance:          </th> <td>  5157.5</td>\n",
       "</tr>\n",
       "<tr>\n",
       "  <th>Time:</th>                <td>00:31:04</td>     <th>  Pearson chi2:      </th> <td>6.45e+03</td>\n",
       "</tr>\n",
       "<tr>\n",
       "  <th>No. Iterations:</th>          <td>7</td>        <th>                     </th>     <td> </td>   \n",
       "</tr>\n",
       "<tr>\n",
       "  <th>Covariance Type:</th>     <td>nonrobust</td>    <th>                     </th>     <td> </td>   \n",
       "</tr>\n",
       "</table>\n",
       "<table class=\"simpletable\">\n",
       "<tr>\n",
       "                            <td></td>                              <th>coef</th>     <th>std err</th>      <th>z</th>      <th>P>|z|</th>  <th>[0.025</th>    <th>0.975]</th>  \n",
       "</tr>\n",
       "<tr>\n",
       "  <th>const</th>                                                <td>   -0.4922</td> <td>    0.313</td> <td>   -1.573</td> <td> 0.116</td> <td>   -1.105</td> <td>    0.121</td>\n",
       "</tr>\n",
       "<tr>\n",
       "  <th>Do Not Email</th>                                         <td>   -1.7051</td> <td>    0.197</td> <td>   -8.654</td> <td> 0.000</td> <td>   -2.091</td> <td>   -1.319</td>\n",
       "</tr>\n",
       "<tr>\n",
       "  <th>Total Time Spent on Website</th>                          <td>    1.1057</td> <td>    0.041</td> <td>   27.089</td> <td> 0.000</td> <td>    1.026</td> <td>    1.186</td>\n",
       "</tr>\n",
       "<tr>\n",
       "  <th>Lead_Origin_Landing Page Submission</th>                  <td>   -1.1439</td> <td>    0.129</td> <td>   -8.849</td> <td> 0.000</td> <td>   -1.397</td> <td>   -0.891</td>\n",
       "</tr>\n",
       "<tr>\n",
       "  <th>Lead_Origin_Lead Import</th>                              <td>    0.8894</td> <td>    0.477</td> <td>    1.866</td> <td> 0.062</td> <td>   -0.045</td> <td>    1.824</td>\n",
       "</tr>\n",
       "<tr>\n",
       "  <th>Lead_Source_Olark Chat</th>                               <td>    1.0903</td> <td>    0.124</td> <td>    8.793</td> <td> 0.000</td> <td>    0.847</td> <td>    1.333</td>\n",
       "</tr>\n",
       "<tr>\n",
       "  <th>Lead_Source_Reference</th>                                <td>    3.3239</td> <td>    0.243</td> <td>   13.665</td> <td> 0.000</td> <td>    2.847</td> <td>    3.801</td>\n",
       "</tr>\n",
       "<tr>\n",
       "  <th>Lead_Source_Welingak Website</th>                         <td>    5.8909</td> <td>    0.731</td> <td>    8.061</td> <td> 0.000</td> <td>    4.459</td> <td>    7.323</td>\n",
       "</tr>\n",
       "<tr>\n",
       "  <th>Last_Activity_Email Link Clicked</th>                     <td>    0.5415</td> <td>    0.280</td> <td>    1.936</td> <td> 0.053</td> <td>   -0.007</td> <td>    1.090</td>\n",
       "</tr>\n",
       "<tr>\n",
       "  <th>Last_Activity_Email Opened</th>                           <td>    0.9196</td> <td>    0.201</td> <td>    4.570</td> <td> 0.000</td> <td>    0.525</td> <td>    1.314</td>\n",
       "</tr>\n",
       "<tr>\n",
       "  <th>Last_Activity_Olark Chat Conversation</th>                <td>   -0.3953</td> <td>    0.236</td> <td>   -1.675</td> <td> 0.094</td> <td>   -0.858</td> <td>    0.067</td>\n",
       "</tr>\n",
       "<tr>\n",
       "  <th>Last_Activity_Other</th>                                  <td>    1.2707</td> <td>    0.313</td> <td>    4.054</td> <td> 0.000</td> <td>    0.656</td> <td>    1.885</td>\n",
       "</tr>\n",
       "<tr>\n",
       "  <th>Last_Activity_Page Visited on Website</th>                <td>    0.6357</td> <td>    0.225</td> <td>    2.826</td> <td> 0.005</td> <td>    0.195</td> <td>    1.077</td>\n",
       "</tr>\n",
       "<tr>\n",
       "  <th>Last_Activity_SMS Sent</th>                               <td>    1.3519</td> <td>    0.214</td> <td>    6.310</td> <td> 0.000</td> <td>    0.932</td> <td>    1.772</td>\n",
       "</tr>\n",
       "<tr>\n",
       "  <th>Specialization_Other</th>                                 <td>   -1.1528</td> <td>    0.126</td> <td>   -9.160</td> <td> 0.000</td> <td>   -1.399</td> <td>   -0.906</td>\n",
       "</tr>\n",
       "<tr>\n",
       "  <th>What_is_your_current_occupation_Unemployed</th>           <td>   -0.5880</td> <td>    0.213</td> <td>   -2.759</td> <td> 0.006</td> <td>   -1.006</td> <td>   -0.170</td>\n",
       "</tr>\n",
       "<tr>\n",
       "  <th>What_is_your_current_occupation_Working Professional</th> <td>    2.0489</td> <td>    0.285</td> <td>    7.198</td> <td> 0.000</td> <td>    1.491</td> <td>    2.607</td>\n",
       "</tr>\n",
       "<tr>\n",
       "  <th>Last_Notable_Activity_Modified</th>                       <td>   -0.3467</td> <td>    0.114</td> <td>   -3.029</td> <td> 0.002</td> <td>   -0.571</td> <td>   -0.122</td>\n",
       "</tr>\n",
       "<tr>\n",
       "  <th>Last_Notable_Activity_Other</th>                          <td>    1.3663</td> <td>    0.374</td> <td>    3.657</td> <td> 0.000</td> <td>    0.634</td> <td>    2.099</td>\n",
       "</tr>\n",
       "<tr>\n",
       "  <th>Last_Notable_Activity_SMS Sent</th>                       <td>    1.0357</td> <td>    0.187</td> <td>    5.528</td> <td> 0.000</td> <td>    0.668</td> <td>    1.403</td>\n",
       "</tr>\n",
       "</table>"
      ],
      "text/plain": [
       "<class 'statsmodels.iolib.summary.Summary'>\n",
       "\"\"\"\n",
       "                 Generalized Linear Model Regression Results                  \n",
       "==============================================================================\n",
       "Dep. Variable:              Converted   No. Observations:                 6351\n",
       "Model:                            GLM   Df Residuals:                     6331\n",
       "Model Family:                Binomial   Df Model:                           19\n",
       "Link Function:                  logit   Scale:                          1.0000\n",
       "Method:                          IRLS   Log-Likelihood:                -2578.8\n",
       "Date:                Mon, 07 Sep 2020   Deviance:                       5157.5\n",
       "Time:                        00:31:04   Pearson chi2:                 6.45e+03\n",
       "No. Iterations:                     7                                         \n",
       "Covariance Type:            nonrobust                                         \n",
       "========================================================================================================================\n",
       "                                                           coef    std err          z      P>|z|      [0.025      0.975]\n",
       "------------------------------------------------------------------------------------------------------------------------\n",
       "const                                                   -0.4922      0.313     -1.573      0.116      -1.105       0.121\n",
       "Do Not Email                                            -1.7051      0.197     -8.654      0.000      -2.091      -1.319\n",
       "Total Time Spent on Website                              1.1057      0.041     27.089      0.000       1.026       1.186\n",
       "Lead_Origin_Landing Page Submission                     -1.1439      0.129     -8.849      0.000      -1.397      -0.891\n",
       "Lead_Origin_Lead Import                                  0.8894      0.477      1.866      0.062      -0.045       1.824\n",
       "Lead_Source_Olark Chat                                   1.0903      0.124      8.793      0.000       0.847       1.333\n",
       "Lead_Source_Reference                                    3.3239      0.243     13.665      0.000       2.847       3.801\n",
       "Lead_Source_Welingak Website                             5.8909      0.731      8.061      0.000       4.459       7.323\n",
       "Last_Activity_Email Link Clicked                         0.5415      0.280      1.936      0.053      -0.007       1.090\n",
       "Last_Activity_Email Opened                               0.9196      0.201      4.570      0.000       0.525       1.314\n",
       "Last_Activity_Olark Chat Conversation                   -0.3953      0.236     -1.675      0.094      -0.858       0.067\n",
       "Last_Activity_Other                                      1.2707      0.313      4.054      0.000       0.656       1.885\n",
       "Last_Activity_Page Visited on Website                    0.6357      0.225      2.826      0.005       0.195       1.077\n",
       "Last_Activity_SMS Sent                                   1.3519      0.214      6.310      0.000       0.932       1.772\n",
       "Specialization_Other                                    -1.1528      0.126     -9.160      0.000      -1.399      -0.906\n",
       "What_is_your_current_occupation_Unemployed              -0.5880      0.213     -2.759      0.006      -1.006      -0.170\n",
       "What_is_your_current_occupation_Working Professional     2.0489      0.285      7.198      0.000       1.491       2.607\n",
       "Last_Notable_Activity_Modified                          -0.3467      0.114     -3.029      0.002      -0.571      -0.122\n",
       "Last_Notable_Activity_Other                              1.3663      0.374      3.657      0.000       0.634       2.099\n",
       "Last_Notable_Activity_SMS Sent                           1.0357      0.187      5.528      0.000       0.668       1.403\n",
       "========================================================================================================================\n",
       "\"\"\""
      ]
     },
     "execution_count": 236,
     "metadata": {},
     "output_type": "execute_result"
    }
   ],
   "source": [
    "x_train_sm = sm.add_constant(x_train[col])\n",
    "model5=sm.GLM(y_train, x_train_sm, family=sm.families.Binomial()).fit()\n",
    "model5.summary()"
   ]
  },
  {
   "cell_type": "markdown",
   "metadata": {},
   "source": [
    "### Model 6"
   ]
  },
  {
   "cell_type": "code",
   "execution_count": 237,
   "metadata": {},
   "outputs": [],
   "source": [
    "# Dropping 'Last_Activity_Olark Chat Conversation' as p-value is very high\n",
    "col = ['Do Not Email', 'Total Time Spent on Website',\n",
    "       'Lead_Origin_Landing Page Submission',\n",
    "       'Lead_Origin_Lead Import', 'Lead_Source_Olark Chat',\n",
    "       'Lead_Source_Reference', 'Lead_Source_Welingak Website',\n",
    "       'Last_Activity_Email Link Clicked', 'Last_Activity_Email Opened','Last_Activity_Other',\n",
    "       'Last_Activity_Page Visited on Website', 'Last_Activity_SMS Sent',\n",
    "       'Specialization_Other',\n",
    "       'What_is_your_current_occupation_Unemployed',\n",
    "       'What_is_your_current_occupation_Working Professional',\n",
    "       'Last_Notable_Activity_Modified', 'Last_Notable_Activity_Other',\n",
    "       'Last_Notable_Activity_SMS Sent']"
   ]
  },
  {
   "cell_type": "code",
   "execution_count": 238,
   "metadata": {},
   "outputs": [
    {
     "data": {
      "text/html": [
       "<table class=\"simpletable\">\n",
       "<caption>Generalized Linear Model Regression Results</caption>\n",
       "<tr>\n",
       "  <th>Dep. Variable:</th>       <td>Converted</td>    <th>  No. Observations:  </th>  <td>  6351</td> \n",
       "</tr>\n",
       "<tr>\n",
       "  <th>Model:</th>                  <td>GLM</td>       <th>  Df Residuals:      </th>  <td>  6332</td> \n",
       "</tr>\n",
       "<tr>\n",
       "  <th>Model Family:</th>        <td>Binomial</td>     <th>  Df Model:          </th>  <td>    18</td> \n",
       "</tr>\n",
       "<tr>\n",
       "  <th>Link Function:</th>         <td>logit</td>      <th>  Scale:             </th> <td>  1.0000</td>\n",
       "</tr>\n",
       "<tr>\n",
       "  <th>Method:</th>                <td>IRLS</td>       <th>  Log-Likelihood:    </th> <td> -2580.2</td>\n",
       "</tr>\n",
       "<tr>\n",
       "  <th>Date:</th>            <td>Mon, 07 Sep 2020</td> <th>  Deviance:          </th> <td>  5160.3</td>\n",
       "</tr>\n",
       "<tr>\n",
       "  <th>Time:</th>                <td>00:31:04</td>     <th>  Pearson chi2:      </th> <td>6.47e+03</td>\n",
       "</tr>\n",
       "<tr>\n",
       "  <th>No. Iterations:</th>          <td>7</td>        <th>                     </th>     <td> </td>   \n",
       "</tr>\n",
       "<tr>\n",
       "  <th>Covariance Type:</th>     <td>nonrobust</td>    <th>                     </th>     <td> </td>   \n",
       "</tr>\n",
       "</table>\n",
       "<table class=\"simpletable\">\n",
       "<tr>\n",
       "                            <td></td>                              <th>coef</th>     <th>std err</th>      <th>z</th>      <th>P>|z|</th>  <th>[0.025</th>    <th>0.975]</th>  \n",
       "</tr>\n",
       "<tr>\n",
       "  <th>const</th>                                                <td>   -0.7364</td> <td>    0.279</td> <td>   -2.641</td> <td> 0.008</td> <td>   -1.283</td> <td>   -0.190</td>\n",
       "</tr>\n",
       "<tr>\n",
       "  <th>Do Not Email</th>                                         <td>   -1.6741</td> <td>    0.197</td> <td>   -8.506</td> <td> 0.000</td> <td>   -2.060</td> <td>   -1.288</td>\n",
       "</tr>\n",
       "<tr>\n",
       "  <th>Total Time Spent on Website</th>                          <td>    1.1063</td> <td>    0.041</td> <td>   27.056</td> <td> 0.000</td> <td>    1.026</td> <td>    1.186</td>\n",
       "</tr>\n",
       "<tr>\n",
       "  <th>Lead_Origin_Landing Page Submission</th>                  <td>   -1.1379</td> <td>    0.129</td> <td>   -8.796</td> <td> 0.000</td> <td>   -1.391</td> <td>   -0.884</td>\n",
       "</tr>\n",
       "<tr>\n",
       "  <th>Lead_Origin_Lead Import</th>                              <td>    0.8892</td> <td>    0.477</td> <td>    1.865</td> <td> 0.062</td> <td>   -0.045</td> <td>    1.824</td>\n",
       "</tr>\n",
       "<tr>\n",
       "  <th>Lead_Source_Olark Chat</th>                               <td>    1.0626</td> <td>    0.123</td> <td>    8.659</td> <td> 0.000</td> <td>    0.822</td> <td>    1.303</td>\n",
       "</tr>\n",
       "<tr>\n",
       "  <th>Lead_Source_Reference</th>                                <td>    3.3221</td> <td>    0.243</td> <td>   13.661</td> <td> 0.000</td> <td>    2.845</td> <td>    3.799</td>\n",
       "</tr>\n",
       "<tr>\n",
       "  <th>Lead_Source_Welingak Website</th>                         <td>    5.8861</td> <td>    0.731</td> <td>    8.057</td> <td> 0.000</td> <td>    4.454</td> <td>    7.318</td>\n",
       "</tr>\n",
       "<tr>\n",
       "  <th>Last_Activity_Email Link Clicked</th>                     <td>    0.7771</td> <td>    0.245</td> <td>    3.178</td> <td> 0.001</td> <td>    0.298</td> <td>    1.256</td>\n",
       "</tr>\n",
       "<tr>\n",
       "  <th>Last_Activity_Email Opened</th>                           <td>    1.1540</td> <td>    0.149</td> <td>    7.754</td> <td> 0.000</td> <td>    0.862</td> <td>    1.446</td>\n",
       "</tr>\n",
       "<tr>\n",
       "  <th>Last_Activity_Other</th>                                  <td>    1.4335</td> <td>    0.303</td> <td>    4.733</td> <td> 0.000</td> <td>    0.840</td> <td>    2.027</td>\n",
       "</tr>\n",
       "<tr>\n",
       "  <th>Last_Activity_Page Visited on Website</th>                <td>    0.8565</td> <td>    0.186</td> <td>    4.609</td> <td> 0.000</td> <td>    0.492</td> <td>    1.221</td>\n",
       "</tr>\n",
       "<tr>\n",
       "  <th>Last_Activity_SMS Sent</th>                               <td>    1.5643</td> <td>    0.177</td> <td>    8.845</td> <td> 0.000</td> <td>    1.218</td> <td>    1.911</td>\n",
       "</tr>\n",
       "<tr>\n",
       "  <th>Specialization_Other</th>                                 <td>   -1.1573</td> <td>    0.126</td> <td>   -9.196</td> <td> 0.000</td> <td>   -1.404</td> <td>   -0.911</td>\n",
       "</tr>\n",
       "<tr>\n",
       "  <th>What_is_your_current_occupation_Unemployed</th>           <td>   -0.5788</td> <td>    0.213</td> <td>   -2.718</td> <td> 0.007</td> <td>   -0.996</td> <td>   -0.161</td>\n",
       "</tr>\n",
       "<tr>\n",
       "  <th>What_is_your_current_occupation_Working Professional</th> <td>    2.0705</td> <td>    0.285</td> <td>    7.265</td> <td> 0.000</td> <td>    1.512</td> <td>    2.629</td>\n",
       "</tr>\n",
       "<tr>\n",
       "  <th>Last_Notable_Activity_Modified</th>                       <td>   -0.3249</td> <td>    0.113</td> <td>   -2.872</td> <td> 0.004</td> <td>   -0.547</td> <td>   -0.103</td>\n",
       "</tr>\n",
       "<tr>\n",
       "  <th>Last_Notable_Activity_Other</th>                          <td>    1.4648</td> <td>    0.374</td> <td>    3.921</td> <td> 0.000</td> <td>    0.733</td> <td>    2.197</td>\n",
       "</tr>\n",
       "<tr>\n",
       "  <th>Last_Notable_Activity_SMS Sent</th>                       <td>    1.0583</td> <td>    0.187</td> <td>    5.673</td> <td> 0.000</td> <td>    0.693</td> <td>    1.424</td>\n",
       "</tr>\n",
       "</table>"
      ],
      "text/plain": [
       "<class 'statsmodels.iolib.summary.Summary'>\n",
       "\"\"\"\n",
       "                 Generalized Linear Model Regression Results                  \n",
       "==============================================================================\n",
       "Dep. Variable:              Converted   No. Observations:                 6351\n",
       "Model:                            GLM   Df Residuals:                     6332\n",
       "Model Family:                Binomial   Df Model:                           18\n",
       "Link Function:                  logit   Scale:                          1.0000\n",
       "Method:                          IRLS   Log-Likelihood:                -2580.2\n",
       "Date:                Mon, 07 Sep 2020   Deviance:                       5160.3\n",
       "Time:                        00:31:04   Pearson chi2:                 6.47e+03\n",
       "No. Iterations:                     7                                         \n",
       "Covariance Type:            nonrobust                                         \n",
       "========================================================================================================================\n",
       "                                                           coef    std err          z      P>|z|      [0.025      0.975]\n",
       "------------------------------------------------------------------------------------------------------------------------\n",
       "const                                                   -0.7364      0.279     -2.641      0.008      -1.283      -0.190\n",
       "Do Not Email                                            -1.6741      0.197     -8.506      0.000      -2.060      -1.288\n",
       "Total Time Spent on Website                              1.1063      0.041     27.056      0.000       1.026       1.186\n",
       "Lead_Origin_Landing Page Submission                     -1.1379      0.129     -8.796      0.000      -1.391      -0.884\n",
       "Lead_Origin_Lead Import                                  0.8892      0.477      1.865      0.062      -0.045       1.824\n",
       "Lead_Source_Olark Chat                                   1.0626      0.123      8.659      0.000       0.822       1.303\n",
       "Lead_Source_Reference                                    3.3221      0.243     13.661      0.000       2.845       3.799\n",
       "Lead_Source_Welingak Website                             5.8861      0.731      8.057      0.000       4.454       7.318\n",
       "Last_Activity_Email Link Clicked                         0.7771      0.245      3.178      0.001       0.298       1.256\n",
       "Last_Activity_Email Opened                               1.1540      0.149      7.754      0.000       0.862       1.446\n",
       "Last_Activity_Other                                      1.4335      0.303      4.733      0.000       0.840       2.027\n",
       "Last_Activity_Page Visited on Website                    0.8565      0.186      4.609      0.000       0.492       1.221\n",
       "Last_Activity_SMS Sent                                   1.5643      0.177      8.845      0.000       1.218       1.911\n",
       "Specialization_Other                                    -1.1573      0.126     -9.196      0.000      -1.404      -0.911\n",
       "What_is_your_current_occupation_Unemployed              -0.5788      0.213     -2.718      0.007      -0.996      -0.161\n",
       "What_is_your_current_occupation_Working Professional     2.0705      0.285      7.265      0.000       1.512       2.629\n",
       "Last_Notable_Activity_Modified                          -0.3249      0.113     -2.872      0.004      -0.547      -0.103\n",
       "Last_Notable_Activity_Other                              1.4648      0.374      3.921      0.000       0.733       2.197\n",
       "Last_Notable_Activity_SMS Sent                           1.0583      0.187      5.673      0.000       0.693       1.424\n",
       "========================================================================================================================\n",
       "\"\"\""
      ]
     },
     "execution_count": 238,
     "metadata": {},
     "output_type": "execute_result"
    }
   ],
   "source": [
    "x_train_sm = sm.add_constant(x_train[col])\n",
    "model6=sm.GLM(y_train, x_train_sm, family=sm.families.Binomial()).fit()\n",
    "model6.summary()"
   ]
  },
  {
   "cell_type": "markdown",
   "metadata": {},
   "source": [
    "## Model 7"
   ]
  },
  {
   "cell_type": "code",
   "execution_count": 239,
   "metadata": {},
   "outputs": [],
   "source": [
    "# Dropping 'Lead_Origin_Lead Import' as p-value is very high\n",
    "col = ['Do Not Email', 'Total Time Spent on Website',\n",
    "       'Lead_Origin_Landing Page Submission','Lead_Source_Olark Chat',\n",
    "       'Lead_Source_Reference', 'Lead_Source_Welingak Website',\n",
    "       'Last_Activity_Email Link Clicked', 'Last_Activity_Email Opened','Last_Activity_Other',\n",
    "       'Last_Activity_Page Visited on Website', 'Last_Activity_SMS Sent',\n",
    "       'Specialization_Other',\n",
    "       'What_is_your_current_occupation_Unemployed',\n",
    "       'What_is_your_current_occupation_Working Professional',\n",
    "       'Last_Notable_Activity_Modified', 'Last_Notable_Activity_Other',\n",
    "       'Last_Notable_Activity_SMS Sent']"
   ]
  },
  {
   "cell_type": "code",
   "execution_count": 240,
   "metadata": {},
   "outputs": [
    {
     "data": {
      "text/html": [
       "<table class=\"simpletable\">\n",
       "<caption>Generalized Linear Model Regression Results</caption>\n",
       "<tr>\n",
       "  <th>Dep. Variable:</th>       <td>Converted</td>    <th>  No. Observations:  </th>  <td>  6351</td> \n",
       "</tr>\n",
       "<tr>\n",
       "  <th>Model:</th>                  <td>GLM</td>       <th>  Df Residuals:      </th>  <td>  6333</td> \n",
       "</tr>\n",
       "<tr>\n",
       "  <th>Model Family:</th>        <td>Binomial</td>     <th>  Df Model:          </th>  <td>    17</td> \n",
       "</tr>\n",
       "<tr>\n",
       "  <th>Link Function:</th>         <td>logit</td>      <th>  Scale:             </th> <td>  1.0000</td>\n",
       "</tr>\n",
       "<tr>\n",
       "  <th>Method:</th>                <td>IRLS</td>       <th>  Log-Likelihood:    </th> <td> -2581.8</td>\n",
       "</tr>\n",
       "<tr>\n",
       "  <th>Date:</th>            <td>Mon, 07 Sep 2020</td> <th>  Deviance:          </th> <td>  5163.5</td>\n",
       "</tr>\n",
       "<tr>\n",
       "  <th>Time:</th>                <td>00:31:04</td>     <th>  Pearson chi2:      </th> <td>6.47e+03</td>\n",
       "</tr>\n",
       "<tr>\n",
       "  <th>No. Iterations:</th>          <td>7</td>        <th>                     </th>     <td> </td>   \n",
       "</tr>\n",
       "<tr>\n",
       "  <th>Covariance Type:</th>     <td>nonrobust</td>    <th>                     </th>     <td> </td>   \n",
       "</tr>\n",
       "</table>\n",
       "<table class=\"simpletable\">\n",
       "<tr>\n",
       "                            <td></td>                              <th>coef</th>     <th>std err</th>      <th>z</th>      <th>P>|z|</th>  <th>[0.025</th>    <th>0.975]</th>  \n",
       "</tr>\n",
       "<tr>\n",
       "  <th>const</th>                                                <td>   -0.7054</td> <td>    0.278</td> <td>   -2.535</td> <td> 0.011</td> <td>   -1.251</td> <td>   -0.160</td>\n",
       "</tr>\n",
       "<tr>\n",
       "  <th>Do Not Email</th>                                         <td>   -1.6728</td> <td>    0.197</td> <td>   -8.502</td> <td> 0.000</td> <td>   -2.058</td> <td>   -1.287</td>\n",
       "</tr>\n",
       "<tr>\n",
       "  <th>Total Time Spent on Website</th>                          <td>    1.0989</td> <td>    0.041</td> <td>   27.057</td> <td> 0.000</td> <td>    1.019</td> <td>    1.179</td>\n",
       "</tr>\n",
       "<tr>\n",
       "  <th>Lead_Origin_Landing Page Submission</th>                  <td>   -1.1739</td> <td>    0.128</td> <td>   -9.160</td> <td> 0.000</td> <td>   -1.425</td> <td>   -0.923</td>\n",
       "</tr>\n",
       "<tr>\n",
       "  <th>Lead_Source_Olark Chat</th>                               <td>    1.0364</td> <td>    0.122</td> <td>    8.516</td> <td> 0.000</td> <td>    0.798</td> <td>    1.275</td>\n",
       "</tr>\n",
       "<tr>\n",
       "  <th>Lead_Source_Reference</th>                                <td>    3.2870</td> <td>    0.242</td> <td>   13.560</td> <td> 0.000</td> <td>    2.812</td> <td>    3.762</td>\n",
       "</tr>\n",
       "<tr>\n",
       "  <th>Lead_Source_Welingak Website</th>                         <td>    5.8604</td> <td>    0.730</td> <td>    8.024</td> <td> 0.000</td> <td>    4.429</td> <td>    7.292</td>\n",
       "</tr>\n",
       "<tr>\n",
       "  <th>Last_Activity_Email Link Clicked</th>                     <td>    0.7773</td> <td>    0.244</td> <td>    3.180</td> <td> 0.001</td> <td>    0.298</td> <td>    1.256</td>\n",
       "</tr>\n",
       "<tr>\n",
       "  <th>Last_Activity_Email Opened</th>                           <td>    1.1605</td> <td>    0.149</td> <td>    7.801</td> <td> 0.000</td> <td>    0.869</td> <td>    1.452</td>\n",
       "</tr>\n",
       "<tr>\n",
       "  <th>Last_Activity_Other</th>                                  <td>    1.4328</td> <td>    0.303</td> <td>    4.732</td> <td> 0.000</td> <td>    0.839</td> <td>    2.026</td>\n",
       "</tr>\n",
       "<tr>\n",
       "  <th>Last_Activity_Page Visited on Website</th>                <td>    0.8560</td> <td>    0.186</td> <td>    4.609</td> <td> 0.000</td> <td>    0.492</td> <td>    1.220</td>\n",
       "</tr>\n",
       "<tr>\n",
       "  <th>Last_Activity_SMS Sent</th>                               <td>    1.5727</td> <td>    0.177</td> <td>    8.898</td> <td> 0.000</td> <td>    1.226</td> <td>    1.919</td>\n",
       "</tr>\n",
       "<tr>\n",
       "  <th>Specialization_Other</th>                                 <td>   -1.1793</td> <td>    0.126</td> <td>   -9.383</td> <td> 0.000</td> <td>   -1.426</td> <td>   -0.933</td>\n",
       "</tr>\n",
       "<tr>\n",
       "  <th>What_is_your_current_occupation_Unemployed</th>           <td>   -0.5732</td> <td>    0.213</td> <td>   -2.693</td> <td> 0.007</td> <td>   -0.991</td> <td>   -0.156</td>\n",
       "</tr>\n",
       "<tr>\n",
       "  <th>What_is_your_current_occupation_Working Professional</th> <td>    2.0763</td> <td>    0.285</td> <td>    7.287</td> <td> 0.000</td> <td>    1.518</td> <td>    2.635</td>\n",
       "</tr>\n",
       "<tr>\n",
       "  <th>Last_Notable_Activity_Modified</th>                       <td>   -0.3258</td> <td>    0.113</td> <td>   -2.880</td> <td> 0.004</td> <td>   -0.548</td> <td>   -0.104</td>\n",
       "</tr>\n",
       "<tr>\n",
       "  <th>Last_Notable_Activity_Other</th>                          <td>    1.4607</td> <td>    0.374</td> <td>    3.911</td> <td> 0.000</td> <td>    0.729</td> <td>    2.193</td>\n",
       "</tr>\n",
       "<tr>\n",
       "  <th>Last_Notable_Activity_SMS Sent</th>                       <td>    1.0495</td> <td>    0.186</td> <td>    5.630</td> <td> 0.000</td> <td>    0.684</td> <td>    1.415</td>\n",
       "</tr>\n",
       "</table>"
      ],
      "text/plain": [
       "<class 'statsmodels.iolib.summary.Summary'>\n",
       "\"\"\"\n",
       "                 Generalized Linear Model Regression Results                  \n",
       "==============================================================================\n",
       "Dep. Variable:              Converted   No. Observations:                 6351\n",
       "Model:                            GLM   Df Residuals:                     6333\n",
       "Model Family:                Binomial   Df Model:                           17\n",
       "Link Function:                  logit   Scale:                          1.0000\n",
       "Method:                          IRLS   Log-Likelihood:                -2581.8\n",
       "Date:                Mon, 07 Sep 2020   Deviance:                       5163.5\n",
       "Time:                        00:31:04   Pearson chi2:                 6.47e+03\n",
       "No. Iterations:                     7                                         \n",
       "Covariance Type:            nonrobust                                         \n",
       "========================================================================================================================\n",
       "                                                           coef    std err          z      P>|z|      [0.025      0.975]\n",
       "------------------------------------------------------------------------------------------------------------------------\n",
       "const                                                   -0.7054      0.278     -2.535      0.011      -1.251      -0.160\n",
       "Do Not Email                                            -1.6728      0.197     -8.502      0.000      -2.058      -1.287\n",
       "Total Time Spent on Website                              1.0989      0.041     27.057      0.000       1.019       1.179\n",
       "Lead_Origin_Landing Page Submission                     -1.1739      0.128     -9.160      0.000      -1.425      -0.923\n",
       "Lead_Source_Olark Chat                                   1.0364      0.122      8.516      0.000       0.798       1.275\n",
       "Lead_Source_Reference                                    3.2870      0.242     13.560      0.000       2.812       3.762\n",
       "Lead_Source_Welingak Website                             5.8604      0.730      8.024      0.000       4.429       7.292\n",
       "Last_Activity_Email Link Clicked                         0.7773      0.244      3.180      0.001       0.298       1.256\n",
       "Last_Activity_Email Opened                               1.1605      0.149      7.801      0.000       0.869       1.452\n",
       "Last_Activity_Other                                      1.4328      0.303      4.732      0.000       0.839       2.026\n",
       "Last_Activity_Page Visited on Website                    0.8560      0.186      4.609      0.000       0.492       1.220\n",
       "Last_Activity_SMS Sent                                   1.5727      0.177      8.898      0.000       1.226       1.919\n",
       "Specialization_Other                                    -1.1793      0.126     -9.383      0.000      -1.426      -0.933\n",
       "What_is_your_current_occupation_Unemployed              -0.5732      0.213     -2.693      0.007      -0.991      -0.156\n",
       "What_is_your_current_occupation_Working Professional     2.0763      0.285      7.287      0.000       1.518       2.635\n",
       "Last_Notable_Activity_Modified                          -0.3258      0.113     -2.880      0.004      -0.548      -0.104\n",
       "Last_Notable_Activity_Other                              1.4607      0.374      3.911      0.000       0.729       2.193\n",
       "Last_Notable_Activity_SMS Sent                           1.0495      0.186      5.630      0.000       0.684       1.415\n",
       "========================================================================================================================\n",
       "\"\"\""
      ]
     },
     "execution_count": 240,
     "metadata": {},
     "output_type": "execute_result"
    }
   ],
   "source": [
    "x_train_sm = sm.add_constant(x_train[col])\n",
    "model7=sm.GLM(y_train, x_train_sm, family=sm.families.Binomial()).fit()\n",
    "model7.summary()"
   ]
  },
  {
   "cell_type": "markdown",
   "metadata": {},
   "source": [
    "### Checking VIF"
   ]
  },
  {
   "cell_type": "code",
   "execution_count": 241,
   "metadata": {},
   "outputs": [
    {
     "data": {
      "text/html": [
       "<div>\n",
       "<style scoped>\n",
       "    .dataframe tbody tr th:only-of-type {\n",
       "        vertical-align: middle;\n",
       "    }\n",
       "\n",
       "    .dataframe tbody tr th {\n",
       "        vertical-align: top;\n",
       "    }\n",
       "\n",
       "    .dataframe thead th {\n",
       "        text-align: right;\n",
       "    }\n",
       "</style>\n",
       "<table border=\"1\" class=\"dataframe\">\n",
       "  <thead>\n",
       "    <tr style=\"text-align: right;\">\n",
       "      <th></th>\n",
       "      <th>Feature</th>\n",
       "      <th>VIF</th>\n",
       "    </tr>\n",
       "  </thead>\n",
       "  <tbody>\n",
       "    <tr>\n",
       "      <th>12</th>\n",
       "      <td>What_is_your_current_occupation_Unemployed</td>\n",
       "      <td>15.10</td>\n",
       "    </tr>\n",
       "    <tr>\n",
       "      <th>16</th>\n",
       "      <td>Last_Notable_Activity_SMS Sent</td>\n",
       "      <td>7.03</td>\n",
       "    </tr>\n",
       "    <tr>\n",
       "      <th>10</th>\n",
       "      <td>Last_Activity_SMS Sent</td>\n",
       "      <td>6.67</td>\n",
       "    </tr>\n",
       "    <tr>\n",
       "      <th>2</th>\n",
       "      <td>Lead_Origin_Landing Page Submission</td>\n",
       "      <td>5.95</td>\n",
       "    </tr>\n",
       "    <tr>\n",
       "      <th>7</th>\n",
       "      <td>Last_Activity_Email Opened</td>\n",
       "      <td>4.27</td>\n",
       "    </tr>\n",
       "    <tr>\n",
       "      <th>11</th>\n",
       "      <td>Specialization_Other</td>\n",
       "      <td>3.99</td>\n",
       "    </tr>\n",
       "    <tr>\n",
       "      <th>14</th>\n",
       "      <td>Last_Notable_Activity_Modified</td>\n",
       "      <td>3.26</td>\n",
       "    </tr>\n",
       "    <tr>\n",
       "      <th>13</th>\n",
       "      <td>What_is_your_current_occupation_Working Profes...</td>\n",
       "      <td>2.16</td>\n",
       "    </tr>\n",
       "    <tr>\n",
       "      <th>3</th>\n",
       "      <td>Lead_Source_Olark Chat</td>\n",
       "      <td>2.09</td>\n",
       "    </tr>\n",
       "    <tr>\n",
       "      <th>15</th>\n",
       "      <td>Last_Notable_Activity_Other</td>\n",
       "      <td>1.71</td>\n",
       "    </tr>\n",
       "    <tr>\n",
       "      <th>8</th>\n",
       "      <td>Last_Activity_Other</td>\n",
       "      <td>1.52</td>\n",
       "    </tr>\n",
       "    <tr>\n",
       "      <th>4</th>\n",
       "      <td>Lead_Source_Reference</td>\n",
       "      <td>1.49</td>\n",
       "    </tr>\n",
       "    <tr>\n",
       "      <th>9</th>\n",
       "      <td>Last_Activity_Page Visited on Website</td>\n",
       "      <td>1.44</td>\n",
       "    </tr>\n",
       "    <tr>\n",
       "      <th>1</th>\n",
       "      <td>Total Time Spent on Website</td>\n",
       "      <td>1.32</td>\n",
       "    </tr>\n",
       "    <tr>\n",
       "      <th>0</th>\n",
       "      <td>Do Not Email</td>\n",
       "      <td>1.30</td>\n",
       "    </tr>\n",
       "    <tr>\n",
       "      <th>6</th>\n",
       "      <td>Last_Activity_Email Link Clicked</td>\n",
       "      <td>1.20</td>\n",
       "    </tr>\n",
       "    <tr>\n",
       "      <th>5</th>\n",
       "      <td>Lead_Source_Welingak Website</td>\n",
       "      <td>1.11</td>\n",
       "    </tr>\n",
       "  </tbody>\n",
       "</table>\n",
       "</div>"
      ],
      "text/plain": [
       "                                              Feature    VIF\n",
       "12         What_is_your_current_occupation_Unemployed  15.10\n",
       "16                     Last_Notable_Activity_SMS Sent   7.03\n",
       "10                             Last_Activity_SMS Sent   6.67\n",
       "2                 Lead_Origin_Landing Page Submission   5.95\n",
       "7                          Last_Activity_Email Opened   4.27\n",
       "11                               Specialization_Other   3.99\n",
       "14                     Last_Notable_Activity_Modified   3.26\n",
       "13  What_is_your_current_occupation_Working Profes...   2.16\n",
       "3                              Lead_Source_Olark Chat   2.09\n",
       "15                        Last_Notable_Activity_Other   1.71\n",
       "8                                 Last_Activity_Other   1.52\n",
       "4                               Lead_Source_Reference   1.49\n",
       "9               Last_Activity_Page Visited on Website   1.44\n",
       "1                         Total Time Spent on Website   1.32\n",
       "0                                        Do Not Email   1.30\n",
       "6                    Last_Activity_Email Link Clicked   1.20\n",
       "5                        Lead_Source_Welingak Website   1.11"
      ]
     },
     "execution_count": 241,
     "metadata": {},
     "output_type": "execute_result"
    }
   ],
   "source": [
    "vif = pd.DataFrame()\n",
    "vif['Feature'] = col\n",
    "vif['VIF'] = [variance_inflation_factor(x_train[col].values, i) for i in range(len(col))]\n",
    "vif = vif.sort_values(by='VIF', ascending = False)\n",
    "vif['VIF'] = round(vif['VIF'],2)\n",
    "vif"
   ]
  },
  {
   "cell_type": "markdown",
   "metadata": {},
   "source": [
    "# Model 8"
   ]
  },
  {
   "cell_type": "code",
   "execution_count": 242,
   "metadata": {},
   "outputs": [],
   "source": [
    "# Dropping 'What_is_your_current_occupation_Unemployed' as p-value is very high\n",
    "col = ['Do Not Email', 'Total Time Spent on Website',\n",
    "       'Lead_Origin_Landing Page Submission','Lead_Source_Olark Chat',\n",
    "       'Lead_Source_Reference', 'Lead_Source_Welingak Website',\n",
    "       'Last_Activity_Email Link Clicked', 'Last_Activity_Email Opened','Last_Activity_Other',\n",
    "       'Last_Activity_Page Visited on Website', 'Last_Activity_SMS Sent',\n",
    "       'Specialization_Other','What_is_your_current_occupation_Working Professional',\n",
    "       'Last_Notable_Activity_Modified', 'Last_Notable_Activity_Other',\n",
    "       'Last_Notable_Activity_SMS Sent']"
   ]
  },
  {
   "cell_type": "code",
   "execution_count": 243,
   "metadata": {},
   "outputs": [
    {
     "data": {
      "text/html": [
       "<table class=\"simpletable\">\n",
       "<caption>Generalized Linear Model Regression Results</caption>\n",
       "<tr>\n",
       "  <th>Dep. Variable:</th>       <td>Converted</td>    <th>  No. Observations:  </th>  <td>  6351</td> \n",
       "</tr>\n",
       "<tr>\n",
       "  <th>Model:</th>                  <td>GLM</td>       <th>  Df Residuals:      </th>  <td>  6334</td> \n",
       "</tr>\n",
       "<tr>\n",
       "  <th>Model Family:</th>        <td>Binomial</td>     <th>  Df Model:          </th>  <td>    16</td> \n",
       "</tr>\n",
       "<tr>\n",
       "  <th>Link Function:</th>         <td>logit</td>      <th>  Scale:             </th> <td>  1.0000</td>\n",
       "</tr>\n",
       "<tr>\n",
       "  <th>Method:</th>                <td>IRLS</td>       <th>  Log-Likelihood:    </th> <td> -2585.3</td>\n",
       "</tr>\n",
       "<tr>\n",
       "  <th>Date:</th>            <td>Mon, 07 Sep 2020</td> <th>  Deviance:          </th> <td>  5170.6</td>\n",
       "</tr>\n",
       "<tr>\n",
       "  <th>Time:</th>                <td>00:31:04</td>     <th>  Pearson chi2:      </th> <td>6.48e+03</td>\n",
       "</tr>\n",
       "<tr>\n",
       "  <th>No. Iterations:</th>          <td>7</td>        <th>                     </th>     <td> </td>   \n",
       "</tr>\n",
       "<tr>\n",
       "  <th>Covariance Type:</th>     <td>nonrobust</td>    <th>                     </th>     <td> </td>   \n",
       "</tr>\n",
       "</table>\n",
       "<table class=\"simpletable\">\n",
       "<tr>\n",
       "                            <td></td>                              <th>coef</th>     <th>std err</th>      <th>z</th>      <th>P>|z|</th>  <th>[0.025</th>    <th>0.975]</th>  \n",
       "</tr>\n",
       "<tr>\n",
       "  <th>const</th>                                                <td>   -1.2508</td> <td>    0.191</td> <td>   -6.554</td> <td> 0.000</td> <td>   -1.625</td> <td>   -0.877</td>\n",
       "</tr>\n",
       "<tr>\n",
       "  <th>Do Not Email</th>                                         <td>   -1.6678</td> <td>    0.197</td> <td>   -8.471</td> <td> 0.000</td> <td>   -2.054</td> <td>   -1.282</td>\n",
       "</tr>\n",
       "<tr>\n",
       "  <th>Total Time Spent on Website</th>                          <td>    1.0991</td> <td>    0.041</td> <td>   27.075</td> <td> 0.000</td> <td>    1.020</td> <td>    1.179</td>\n",
       "</tr>\n",
       "<tr>\n",
       "  <th>Lead_Origin_Landing Page Submission</th>                  <td>   -1.1780</td> <td>    0.128</td> <td>   -9.188</td> <td> 0.000</td> <td>   -1.429</td> <td>   -0.927</td>\n",
       "</tr>\n",
       "<tr>\n",
       "  <th>Lead_Source_Olark Chat</th>                               <td>    1.0434</td> <td>    0.122</td> <td>    8.574</td> <td> 0.000</td> <td>    0.805</td> <td>    1.282</td>\n",
       "</tr>\n",
       "<tr>\n",
       "  <th>Lead_Source_Reference</th>                                <td>    3.2980</td> <td>    0.242</td> <td>   13.624</td> <td> 0.000</td> <td>    2.824</td> <td>    3.772</td>\n",
       "</tr>\n",
       "<tr>\n",
       "  <th>Lead_Source_Welingak Website</th>                         <td>    5.8531</td> <td>    0.730</td> <td>    8.014</td> <td> 0.000</td> <td>    4.422</td> <td>    7.285</td>\n",
       "</tr>\n",
       "<tr>\n",
       "  <th>Last_Activity_Email Link Clicked</th>                     <td>    0.7748</td> <td>    0.244</td> <td>    3.170</td> <td> 0.002</td> <td>    0.296</td> <td>    1.254</td>\n",
       "</tr>\n",
       "<tr>\n",
       "  <th>Last_Activity_Email Opened</th>                           <td>    1.1610</td> <td>    0.149</td> <td>    7.804</td> <td> 0.000</td> <td>    0.869</td> <td>    1.453</td>\n",
       "</tr>\n",
       "<tr>\n",
       "  <th>Last_Activity_Other</th>                                  <td>    1.4182</td> <td>    0.303</td> <td>    4.686</td> <td> 0.000</td> <td>    0.825</td> <td>    2.011</td>\n",
       "</tr>\n",
       "<tr>\n",
       "  <th>Last_Activity_Page Visited on Website</th>                <td>    0.8545</td> <td>    0.186</td> <td>    4.596</td> <td> 0.000</td> <td>    0.490</td> <td>    1.219</td>\n",
       "</tr>\n",
       "<tr>\n",
       "  <th>Last_Activity_SMS Sent</th>                               <td>    1.5592</td> <td>    0.176</td> <td>    8.834</td> <td> 0.000</td> <td>    1.213</td> <td>    1.905</td>\n",
       "</tr>\n",
       "<tr>\n",
       "  <th>Specialization_Other</th>                                 <td>   -1.1908</td> <td>    0.126</td> <td>   -9.464</td> <td> 0.000</td> <td>   -1.437</td> <td>   -0.944</td>\n",
       "</tr>\n",
       "<tr>\n",
       "  <th>What_is_your_current_occupation_Working Professional</th> <td>    2.6309</td> <td>    0.197</td> <td>   13.325</td> <td> 0.000</td> <td>    2.244</td> <td>    3.018</td>\n",
       "</tr>\n",
       "<tr>\n",
       "  <th>Last_Notable_Activity_Modified</th>                       <td>   -0.3316</td> <td>    0.113</td> <td>   -2.932</td> <td> 0.003</td> <td>   -0.553</td> <td>   -0.110</td>\n",
       "</tr>\n",
       "<tr>\n",
       "  <th>Last_Notable_Activity_Other</th>                          <td>    1.4512</td> <td>    0.373</td> <td>    3.887</td> <td> 0.000</td> <td>    0.719</td> <td>    2.183</td>\n",
       "</tr>\n",
       "<tr>\n",
       "  <th>Last_Notable_Activity_SMS Sent</th>                       <td>    1.0474</td> <td>    0.186</td> <td>    5.622</td> <td> 0.000</td> <td>    0.682</td> <td>    1.413</td>\n",
       "</tr>\n",
       "</table>"
      ],
      "text/plain": [
       "<class 'statsmodels.iolib.summary.Summary'>\n",
       "\"\"\"\n",
       "                 Generalized Linear Model Regression Results                  \n",
       "==============================================================================\n",
       "Dep. Variable:              Converted   No. Observations:                 6351\n",
       "Model:                            GLM   Df Residuals:                     6334\n",
       "Model Family:                Binomial   Df Model:                           16\n",
       "Link Function:                  logit   Scale:                          1.0000\n",
       "Method:                          IRLS   Log-Likelihood:                -2585.3\n",
       "Date:                Mon, 07 Sep 2020   Deviance:                       5170.6\n",
       "Time:                        00:31:04   Pearson chi2:                 6.48e+03\n",
       "No. Iterations:                     7                                         \n",
       "Covariance Type:            nonrobust                                         \n",
       "========================================================================================================================\n",
       "                                                           coef    std err          z      P>|z|      [0.025      0.975]\n",
       "------------------------------------------------------------------------------------------------------------------------\n",
       "const                                                   -1.2508      0.191     -6.554      0.000      -1.625      -0.877\n",
       "Do Not Email                                            -1.6678      0.197     -8.471      0.000      -2.054      -1.282\n",
       "Total Time Spent on Website                              1.0991      0.041     27.075      0.000       1.020       1.179\n",
       "Lead_Origin_Landing Page Submission                     -1.1780      0.128     -9.188      0.000      -1.429      -0.927\n",
       "Lead_Source_Olark Chat                                   1.0434      0.122      8.574      0.000       0.805       1.282\n",
       "Lead_Source_Reference                                    3.2980      0.242     13.624      0.000       2.824       3.772\n",
       "Lead_Source_Welingak Website                             5.8531      0.730      8.014      0.000       4.422       7.285\n",
       "Last_Activity_Email Link Clicked                         0.7748      0.244      3.170      0.002       0.296       1.254\n",
       "Last_Activity_Email Opened                               1.1610      0.149      7.804      0.000       0.869       1.453\n",
       "Last_Activity_Other                                      1.4182      0.303      4.686      0.000       0.825       2.011\n",
       "Last_Activity_Page Visited on Website                    0.8545      0.186      4.596      0.000       0.490       1.219\n",
       "Last_Activity_SMS Sent                                   1.5592      0.176      8.834      0.000       1.213       1.905\n",
       "Specialization_Other                                    -1.1908      0.126     -9.464      0.000      -1.437      -0.944\n",
       "What_is_your_current_occupation_Working Professional     2.6309      0.197     13.325      0.000       2.244       3.018\n",
       "Last_Notable_Activity_Modified                          -0.3316      0.113     -2.932      0.003      -0.553      -0.110\n",
       "Last_Notable_Activity_Other                              1.4512      0.373      3.887      0.000       0.719       2.183\n",
       "Last_Notable_Activity_SMS Sent                           1.0474      0.186      5.622      0.000       0.682       1.413\n",
       "========================================================================================================================\n",
       "\"\"\""
      ]
     },
     "execution_count": 243,
     "metadata": {},
     "output_type": "execute_result"
    }
   ],
   "source": [
    "x_train_sm = sm.add_constant(x_train[col])\n",
    "model8=sm.GLM(y_train, x_train_sm, family=sm.families.Binomial()).fit()\n",
    "model8.summary()"
   ]
  },
  {
   "cell_type": "markdown",
   "metadata": {},
   "source": [
    "### Checking VIF"
   ]
  },
  {
   "cell_type": "code",
   "execution_count": 244,
   "metadata": {},
   "outputs": [
    {
     "data": {
      "text/html": [
       "<div>\n",
       "<style scoped>\n",
       "    .dataframe tbody tr th:only-of-type {\n",
       "        vertical-align: middle;\n",
       "    }\n",
       "\n",
       "    .dataframe tbody tr th {\n",
       "        vertical-align: top;\n",
       "    }\n",
       "\n",
       "    .dataframe thead th {\n",
       "        text-align: right;\n",
       "    }\n",
       "</style>\n",
       "<table border=\"1\" class=\"dataframe\">\n",
       "  <thead>\n",
       "    <tr style=\"text-align: right;\">\n",
       "      <th></th>\n",
       "      <th>Feature</th>\n",
       "      <th>VIF</th>\n",
       "    </tr>\n",
       "  </thead>\n",
       "  <tbody>\n",
       "    <tr>\n",
       "      <th>15</th>\n",
       "      <td>Last_Notable_Activity_SMS Sent</td>\n",
       "      <td>6.58</td>\n",
       "    </tr>\n",
       "    <tr>\n",
       "      <th>10</th>\n",
       "      <td>Last_Activity_SMS Sent</td>\n",
       "      <td>6.41</td>\n",
       "    </tr>\n",
       "    <tr>\n",
       "      <th>2</th>\n",
       "      <td>Lead_Origin_Landing Page Submission</td>\n",
       "      <td>4.35</td>\n",
       "    </tr>\n",
       "    <tr>\n",
       "      <th>11</th>\n",
       "      <td>Specialization_Other</td>\n",
       "      <td>3.10</td>\n",
       "    </tr>\n",
       "    <tr>\n",
       "      <th>7</th>\n",
       "      <td>Last_Activity_Email Opened</td>\n",
       "      <td>2.78</td>\n",
       "    </tr>\n",
       "    <tr>\n",
       "      <th>13</th>\n",
       "      <td>Last_Notable_Activity_Modified</td>\n",
       "      <td>2.54</td>\n",
       "    </tr>\n",
       "    <tr>\n",
       "      <th>3</th>\n",
       "      <td>Lead_Source_Olark Chat</td>\n",
       "      <td>1.96</td>\n",
       "    </tr>\n",
       "    <tr>\n",
       "      <th>14</th>\n",
       "      <td>Last_Notable_Activity_Other</td>\n",
       "      <td>1.66</td>\n",
       "    </tr>\n",
       "    <tr>\n",
       "      <th>8</th>\n",
       "      <td>Last_Activity_Other</td>\n",
       "      <td>1.50</td>\n",
       "    </tr>\n",
       "    <tr>\n",
       "      <th>4</th>\n",
       "      <td>Lead_Source_Reference</td>\n",
       "      <td>1.42</td>\n",
       "    </tr>\n",
       "    <tr>\n",
       "      <th>1</th>\n",
       "      <td>Total Time Spent on Website</td>\n",
       "      <td>1.31</td>\n",
       "    </tr>\n",
       "    <tr>\n",
       "      <th>0</th>\n",
       "      <td>Do Not Email</td>\n",
       "      <td>1.29</td>\n",
       "    </tr>\n",
       "    <tr>\n",
       "      <th>9</th>\n",
       "      <td>Last_Activity_Page Visited on Website</td>\n",
       "      <td>1.28</td>\n",
       "    </tr>\n",
       "    <tr>\n",
       "      <th>12</th>\n",
       "      <td>What_is_your_current_occupation_Working Profes...</td>\n",
       "      <td>1.21</td>\n",
       "    </tr>\n",
       "    <tr>\n",
       "      <th>6</th>\n",
       "      <td>Last_Activity_Email Link Clicked</td>\n",
       "      <td>1.12</td>\n",
       "    </tr>\n",
       "    <tr>\n",
       "      <th>5</th>\n",
       "      <td>Lead_Source_Welingak Website</td>\n",
       "      <td>1.11</td>\n",
       "    </tr>\n",
       "  </tbody>\n",
       "</table>\n",
       "</div>"
      ],
      "text/plain": [
       "                                              Feature   VIF\n",
       "15                     Last_Notable_Activity_SMS Sent  6.58\n",
       "10                             Last_Activity_SMS Sent  6.41\n",
       "2                 Lead_Origin_Landing Page Submission  4.35\n",
       "11                               Specialization_Other  3.10\n",
       "7                          Last_Activity_Email Opened  2.78\n",
       "13                     Last_Notable_Activity_Modified  2.54\n",
       "3                              Lead_Source_Olark Chat  1.96\n",
       "14                        Last_Notable_Activity_Other  1.66\n",
       "8                                 Last_Activity_Other  1.50\n",
       "4                               Lead_Source_Reference  1.42\n",
       "1                         Total Time Spent on Website  1.31\n",
       "0                                        Do Not Email  1.29\n",
       "9               Last_Activity_Page Visited on Website  1.28\n",
       "12  What_is_your_current_occupation_Working Profes...  1.21\n",
       "6                    Last_Activity_Email Link Clicked  1.12\n",
       "5                        Lead_Source_Welingak Website  1.11"
      ]
     },
     "execution_count": 244,
     "metadata": {},
     "output_type": "execute_result"
    }
   ],
   "source": [
    "vif = pd.DataFrame()\n",
    "vif['Feature'] = col\n",
    "vif['VIF'] = [variance_inflation_factor(x_train[col].values, i) for i in range(len(col))]\n",
    "vif = vif.sort_values(by='VIF', ascending = False)\n",
    "vif['VIF'] = round(vif['VIF'],2)\n",
    "vif"
   ]
  },
  {
   "cell_type": "markdown",
   "metadata": {},
   "source": [
    "# Model 9"
   ]
  },
  {
   "cell_type": "code",
   "execution_count": 245,
   "metadata": {},
   "outputs": [],
   "source": [
    "# Dropping 'Last_Notable_Activity_SMS Sent' as p-value is very high > .05\n",
    "col = ['Do Not Email', 'Total Time Spent on Website',\n",
    "       'Lead_Origin_Landing Page Submission','Lead_Source_Olark Chat',\n",
    "       'Lead_Source_Reference', 'Lead_Source_Welingak Website',\n",
    "       'Last_Activity_Email Link Clicked', 'Last_Activity_Email Opened','Last_Activity_Other',\n",
    "       'Last_Activity_Page Visited on Website', 'Last_Activity_SMS Sent',\n",
    "       'Specialization_Other','What_is_your_current_occupation_Working Professional',\n",
    "       'Last_Notable_Activity_Modified', 'Last_Notable_Activity_Other']"
   ]
  },
  {
   "cell_type": "code",
   "execution_count": 246,
   "metadata": {},
   "outputs": [
    {
     "data": {
      "text/html": [
       "<table class=\"simpletable\">\n",
       "<caption>Generalized Linear Model Regression Results</caption>\n",
       "<tr>\n",
       "  <th>Dep. Variable:</th>       <td>Converted</td>    <th>  No. Observations:  </th>  <td>  6351</td> \n",
       "</tr>\n",
       "<tr>\n",
       "  <th>Model:</th>                  <td>GLM</td>       <th>  Df Residuals:      </th>  <td>  6335</td> \n",
       "</tr>\n",
       "<tr>\n",
       "  <th>Model Family:</th>        <td>Binomial</td>     <th>  Df Model:          </th>  <td>    15</td> \n",
       "</tr>\n",
       "<tr>\n",
       "  <th>Link Function:</th>         <td>logit</td>      <th>  Scale:             </th> <td>  1.0000</td>\n",
       "</tr>\n",
       "<tr>\n",
       "  <th>Method:</th>                <td>IRLS</td>       <th>  Log-Likelihood:    </th> <td> -2601.3</td>\n",
       "</tr>\n",
       "<tr>\n",
       "  <th>Date:</th>            <td>Mon, 07 Sep 2020</td> <th>  Deviance:          </th> <td>  5202.7</td>\n",
       "</tr>\n",
       "<tr>\n",
       "  <th>Time:</th>                <td>00:31:05</td>     <th>  Pearson chi2:      </th> <td>6.60e+03</td>\n",
       "</tr>\n",
       "<tr>\n",
       "  <th>No. Iterations:</th>          <td>7</td>        <th>                     </th>     <td> </td>   \n",
       "</tr>\n",
       "<tr>\n",
       "  <th>Covariance Type:</th>     <td>nonrobust</td>    <th>                     </th>     <td> </td>   \n",
       "</tr>\n",
       "</table>\n",
       "<table class=\"simpletable\">\n",
       "<tr>\n",
       "                            <td></td>                              <th>coef</th>     <th>std err</th>      <th>z</th>      <th>P>|z|</th>  <th>[0.025</th>    <th>0.975]</th>  \n",
       "</tr>\n",
       "<tr>\n",
       "  <th>const</th>                                                <td>   -0.9134</td> <td>    0.182</td> <td>   -5.029</td> <td> 0.000</td> <td>   -1.269</td> <td>   -0.557</td>\n",
       "</tr>\n",
       "<tr>\n",
       "  <th>Do Not Email</th>                                         <td>   -1.6619</td> <td>    0.196</td> <td>   -8.483</td> <td> 0.000</td> <td>   -2.046</td> <td>   -1.278</td>\n",
       "</tr>\n",
       "<tr>\n",
       "  <th>Total Time Spent on Website</th>                          <td>    1.1015</td> <td>    0.041</td> <td>   27.178</td> <td> 0.000</td> <td>    1.022</td> <td>    1.181</td>\n",
       "</tr>\n",
       "<tr>\n",
       "  <th>Lead_Origin_Landing Page Submission</th>                  <td>   -1.1742</td> <td>    0.128</td> <td>   -9.174</td> <td> 0.000</td> <td>   -1.425</td> <td>   -0.923</td>\n",
       "</tr>\n",
       "<tr>\n",
       "  <th>Lead_Source_Olark Chat</th>                               <td>    1.0515</td> <td>    0.121</td> <td>    8.654</td> <td> 0.000</td> <td>    0.813</td> <td>    1.290</td>\n",
       "</tr>\n",
       "<tr>\n",
       "  <th>Lead_Source_Reference</th>                                <td>    3.3074</td> <td>    0.242</td> <td>   13.677</td> <td> 0.000</td> <td>    2.833</td> <td>    3.781</td>\n",
       "</tr>\n",
       "<tr>\n",
       "  <th>Lead_Source_Welingak Website</th>                         <td>    5.8043</td> <td>    0.728</td> <td>    7.970</td> <td> 0.000</td> <td>    4.377</td> <td>    7.232</td>\n",
       "</tr>\n",
       "<tr>\n",
       "  <th>Last_Activity_Email Link Clicked</th>                     <td>    0.5423</td> <td>    0.242</td> <td>    2.240</td> <td> 0.025</td> <td>    0.068</td> <td>    1.017</td>\n",
       "</tr>\n",
       "<tr>\n",
       "  <th>Last_Activity_Email Opened</th>                           <td>    0.8848</td> <td>    0.141</td> <td>    6.272</td> <td> 0.000</td> <td>    0.608</td> <td>    1.161</td>\n",
       "</tr>\n",
       "<tr>\n",
       "  <th>Last_Activity_Other</th>                                  <td>    1.4653</td> <td>    0.304</td> <td>    4.823</td> <td> 0.000</td> <td>    0.870</td> <td>    2.061</td>\n",
       "</tr>\n",
       "<tr>\n",
       "  <th>Last_Activity_Page Visited on Website</th>                <td>    0.6996</td> <td>    0.185</td> <td>    3.777</td> <td> 0.000</td> <td>    0.337</td> <td>    1.063</td>\n",
       "</tr>\n",
       "<tr>\n",
       "  <th>Last_Activity_SMS Sent</th>                               <td>    2.1309</td> <td>    0.142</td> <td>   15.039</td> <td> 0.000</td> <td>    1.853</td> <td>    2.409</td>\n",
       "</tr>\n",
       "<tr>\n",
       "  <th>Specialization_Other</th>                                 <td>   -1.1932</td> <td>    0.126</td> <td>   -9.492</td> <td> 0.000</td> <td>   -1.440</td> <td>   -0.947</td>\n",
       "</tr>\n",
       "<tr>\n",
       "  <th>What_is_your_current_occupation_Working Professional</th> <td>    2.6494</td> <td>    0.198</td> <td>   13.406</td> <td> 0.000</td> <td>    2.262</td> <td>    3.037</td>\n",
       "</tr>\n",
       "<tr>\n",
       "  <th>Last_Notable_Activity_Modified</th>                       <td>   -0.7342</td> <td>    0.090</td> <td>   -8.163</td> <td> 0.000</td> <td>   -0.910</td> <td>   -0.558</td>\n",
       "</tr>\n",
       "<tr>\n",
       "  <th>Last_Notable_Activity_Other</th>                          <td>    1.0717</td> <td>    0.369</td> <td>    2.907</td> <td> 0.004</td> <td>    0.349</td> <td>    1.794</td>\n",
       "</tr>\n",
       "</table>"
      ],
      "text/plain": [
       "<class 'statsmodels.iolib.summary.Summary'>\n",
       "\"\"\"\n",
       "                 Generalized Linear Model Regression Results                  \n",
       "==============================================================================\n",
       "Dep. Variable:              Converted   No. Observations:                 6351\n",
       "Model:                            GLM   Df Residuals:                     6335\n",
       "Model Family:                Binomial   Df Model:                           15\n",
       "Link Function:                  logit   Scale:                          1.0000\n",
       "Method:                          IRLS   Log-Likelihood:                -2601.3\n",
       "Date:                Mon, 07 Sep 2020   Deviance:                       5202.7\n",
       "Time:                        00:31:05   Pearson chi2:                 6.60e+03\n",
       "No. Iterations:                     7                                         \n",
       "Covariance Type:            nonrobust                                         \n",
       "========================================================================================================================\n",
       "                                                           coef    std err          z      P>|z|      [0.025      0.975]\n",
       "------------------------------------------------------------------------------------------------------------------------\n",
       "const                                                   -0.9134      0.182     -5.029      0.000      -1.269      -0.557\n",
       "Do Not Email                                            -1.6619      0.196     -8.483      0.000      -2.046      -1.278\n",
       "Total Time Spent on Website                              1.1015      0.041     27.178      0.000       1.022       1.181\n",
       "Lead_Origin_Landing Page Submission                     -1.1742      0.128     -9.174      0.000      -1.425      -0.923\n",
       "Lead_Source_Olark Chat                                   1.0515      0.121      8.654      0.000       0.813       1.290\n",
       "Lead_Source_Reference                                    3.3074      0.242     13.677      0.000       2.833       3.781\n",
       "Lead_Source_Welingak Website                             5.8043      0.728      7.970      0.000       4.377       7.232\n",
       "Last_Activity_Email Link Clicked                         0.5423      0.242      2.240      0.025       0.068       1.017\n",
       "Last_Activity_Email Opened                               0.8848      0.141      6.272      0.000       0.608       1.161\n",
       "Last_Activity_Other                                      1.4653      0.304      4.823      0.000       0.870       2.061\n",
       "Last_Activity_Page Visited on Website                    0.6996      0.185      3.777      0.000       0.337       1.063\n",
       "Last_Activity_SMS Sent                                   2.1309      0.142     15.039      0.000       1.853       2.409\n",
       "Specialization_Other                                    -1.1932      0.126     -9.492      0.000      -1.440      -0.947\n",
       "What_is_your_current_occupation_Working Professional     2.6494      0.198     13.406      0.000       2.262       3.037\n",
       "Last_Notable_Activity_Modified                          -0.7342      0.090     -8.163      0.000      -0.910      -0.558\n",
       "Last_Notable_Activity_Other                              1.0717      0.369      2.907      0.004       0.349       1.794\n",
       "========================================================================================================================\n",
       "\"\"\""
      ]
     },
     "execution_count": 246,
     "metadata": {},
     "output_type": "execute_result"
    }
   ],
   "source": [
    "x_train_sm = sm.add_constant(x_train[col])\n",
    "model9=sm.GLM(y_train, x_train_sm, family=sm.families.Binomial()).fit()\n",
    "model9.summary()"
   ]
  },
  {
   "cell_type": "code",
   "execution_count": 248,
   "metadata": {},
   "outputs": [
    {
     "data": {
      "text/html": [
       "<div>\n",
       "<style scoped>\n",
       "    .dataframe tbody tr th:only-of-type {\n",
       "        vertical-align: middle;\n",
       "    }\n",
       "\n",
       "    .dataframe tbody tr th {\n",
       "        vertical-align: top;\n",
       "    }\n",
       "\n",
       "    .dataframe thead th {\n",
       "        text-align: right;\n",
       "    }\n",
       "</style>\n",
       "<table border=\"1\" class=\"dataframe\">\n",
       "  <thead>\n",
       "    <tr style=\"text-align: right;\">\n",
       "      <th></th>\n",
       "      <th>Feature</th>\n",
       "      <th>VIF</th>\n",
       "    </tr>\n",
       "  </thead>\n",
       "  <tbody>\n",
       "    <tr>\n",
       "      <th>2</th>\n",
       "      <td>Lead_Origin_Landing Page Submission</td>\n",
       "      <td>4.01</td>\n",
       "    </tr>\n",
       "    <tr>\n",
       "      <th>11</th>\n",
       "      <td>Specialization_Other</td>\n",
       "      <td>2.93</td>\n",
       "    </tr>\n",
       "    <tr>\n",
       "      <th>7</th>\n",
       "      <td>Last_Activity_Email Opened</td>\n",
       "      <td>2.67</td>\n",
       "    </tr>\n",
       "    <tr>\n",
       "      <th>10</th>\n",
       "      <td>Last_Activity_SMS Sent</td>\n",
       "      <td>2.53</td>\n",
       "    </tr>\n",
       "    <tr>\n",
       "      <th>3</th>\n",
       "      <td>Lead_Source_Olark Chat</td>\n",
       "      <td>1.93</td>\n",
       "    </tr>\n",
       "    <tr>\n",
       "      <th>13</th>\n",
       "      <td>Last_Notable_Activity_Modified</td>\n",
       "      <td>1.88</td>\n",
       "    </tr>\n",
       "    <tr>\n",
       "      <th>14</th>\n",
       "      <td>Last_Notable_Activity_Other</td>\n",
       "      <td>1.64</td>\n",
       "    </tr>\n",
       "    <tr>\n",
       "      <th>8</th>\n",
       "      <td>Last_Activity_Other</td>\n",
       "      <td>1.50</td>\n",
       "    </tr>\n",
       "    <tr>\n",
       "      <th>4</th>\n",
       "      <td>Lead_Source_Reference</td>\n",
       "      <td>1.40</td>\n",
       "    </tr>\n",
       "    <tr>\n",
       "      <th>1</th>\n",
       "      <td>Total Time Spent on Website</td>\n",
       "      <td>1.31</td>\n",
       "    </tr>\n",
       "    <tr>\n",
       "      <th>0</th>\n",
       "      <td>Do Not Email</td>\n",
       "      <td>1.29</td>\n",
       "    </tr>\n",
       "    <tr>\n",
       "      <th>9</th>\n",
       "      <td>Last_Activity_Page Visited on Website</td>\n",
       "      <td>1.28</td>\n",
       "    </tr>\n",
       "    <tr>\n",
       "      <th>12</th>\n",
       "      <td>What_is_your_current_occupation_Working Profes...</td>\n",
       "      <td>1.21</td>\n",
       "    </tr>\n",
       "    <tr>\n",
       "      <th>6</th>\n",
       "      <td>Last_Activity_Email Link Clicked</td>\n",
       "      <td>1.12</td>\n",
       "    </tr>\n",
       "    <tr>\n",
       "      <th>5</th>\n",
       "      <td>Lead_Source_Welingak Website</td>\n",
       "      <td>1.11</td>\n",
       "    </tr>\n",
       "  </tbody>\n",
       "</table>\n",
       "</div>"
      ],
      "text/plain": [
       "                                              Feature   VIF\n",
       "2                 Lead_Origin_Landing Page Submission  4.01\n",
       "11                               Specialization_Other  2.93\n",
       "7                          Last_Activity_Email Opened  2.67\n",
       "10                             Last_Activity_SMS Sent  2.53\n",
       "3                              Lead_Source_Olark Chat  1.93\n",
       "13                     Last_Notable_Activity_Modified  1.88\n",
       "14                        Last_Notable_Activity_Other  1.64\n",
       "8                                 Last_Activity_Other  1.50\n",
       "4                               Lead_Source_Reference  1.40\n",
       "1                         Total Time Spent on Website  1.31\n",
       "0                                        Do Not Email  1.29\n",
       "9               Last_Activity_Page Visited on Website  1.28\n",
       "12  What_is_your_current_occupation_Working Profes...  1.21\n",
       "6                    Last_Activity_Email Link Clicked  1.12\n",
       "5                        Lead_Source_Welingak Website  1.11"
      ]
     },
     "execution_count": 248,
     "metadata": {},
     "output_type": "execute_result"
    }
   ],
   "source": [
    "vif = pd.DataFrame()\n",
    "vif['Feature'] = col\n",
    "vif['VIF'] = [variance_inflation_factor(x_train[col].values, i) for i in range(len(col))]\n",
    "vif = vif.sort_values(by='VIF', ascending = False)\n",
    "vif['VIF'] = round(vif['VIF'],2)\n",
    "vif"
   ]
  },
  {
   "cell_type": "markdown",
   "metadata": {},
   "source": [
    "#### P-Value and VIFs are fine for the model"
   ]
  },
  {
   "cell_type": "markdown",
   "metadata": {},
   "source": [
    "### Prediction on the model"
   ]
  },
  {
   "cell_type": "code",
   "execution_count": 249,
   "metadata": {},
   "outputs": [
    {
     "data": {
      "text/plain": [
       "3009    0.201118\n",
       "1012    0.139863\n",
       "9226    0.345873\n",
       "4750    0.864536\n",
       "7987    0.822240\n",
       "dtype: float64"
      ]
     },
     "execution_count": 249,
     "metadata": {},
     "output_type": "execute_result"
    }
   ],
   "source": [
    "# Predicting using the final model\n",
    "y_train_pred = model9.predict(x_train_sm)\n",
    "y_train_pred.head()"
   ]
  },
  {
   "cell_type": "code",
   "execution_count": 250,
   "metadata": {},
   "outputs": [
    {
     "data": {
      "text/plain": [
       "array([0.20111753, 0.13986257, 0.34587271, ..., 0.91316045, 0.22200503,\n",
       "       0.29361128])"
      ]
     },
     "execution_count": 250,
     "metadata": {},
     "output_type": "execute_result"
    }
   ],
   "source": [
    "y_train_pred = y_train_pred.values.reshape(-1)\n",
    "y_train_pred"
   ]
  },
  {
   "cell_type": "code",
   "execution_count": 251,
   "metadata": {},
   "outputs": [
    {
     "data": {
      "text/html": [
       "<div>\n",
       "<style scoped>\n",
       "    .dataframe tbody tr th:only-of-type {\n",
       "        vertical-align: middle;\n",
       "    }\n",
       "\n",
       "    .dataframe tbody tr th {\n",
       "        vertical-align: top;\n",
       "    }\n",
       "\n",
       "    .dataframe thead th {\n",
       "        text-align: right;\n",
       "    }\n",
       "</style>\n",
       "<table border=\"1\" class=\"dataframe\">\n",
       "  <thead>\n",
       "    <tr style=\"text-align: right;\">\n",
       "      <th></th>\n",
       "      <th>Converted</th>\n",
       "      <th>Convert_Prob</th>\n",
       "      <th>Prospect ID</th>\n",
       "    </tr>\n",
       "  </thead>\n",
       "  <tbody>\n",
       "    <tr>\n",
       "      <th>3009</th>\n",
       "      <td>0</td>\n",
       "      <td>0.201118</td>\n",
       "      <td>42a4d521-df88-4b5a-b198-50594a407a2d</td>\n",
       "    </tr>\n",
       "    <tr>\n",
       "      <th>1012</th>\n",
       "      <td>0</td>\n",
       "      <td>0.139863</td>\n",
       "      <td>4594be86-3b2e-4b55-866b-5a4b05ffd0f6</td>\n",
       "    </tr>\n",
       "    <tr>\n",
       "      <th>9226</th>\n",
       "      <td>0</td>\n",
       "      <td>0.345873</td>\n",
       "      <td>c3bb1471-53d5-4244-b2e5-4bbb543835c1</td>\n",
       "    </tr>\n",
       "    <tr>\n",
       "      <th>4750</th>\n",
       "      <td>1</td>\n",
       "      <td>0.864536</td>\n",
       "      <td>9bce5fbc-8d57-4dc9-8f82-fd11d94d9969</td>\n",
       "    </tr>\n",
       "    <tr>\n",
       "      <th>7987</th>\n",
       "      <td>1</td>\n",
       "      <td>0.822240</td>\n",
       "      <td>b0bfbc32-bd4a-4376-a829-5318bc0e9547</td>\n",
       "    </tr>\n",
       "  </tbody>\n",
       "</table>\n",
       "</div>"
      ],
      "text/plain": [
       "      Converted  Convert_Prob                           Prospect ID\n",
       "3009          0      0.201118  42a4d521-df88-4b5a-b198-50594a407a2d\n",
       "1012          0      0.139863  4594be86-3b2e-4b55-866b-5a4b05ffd0f6\n",
       "9226          0      0.345873  c3bb1471-53d5-4244-b2e5-4bbb543835c1\n",
       "4750          1      0.864536  9bce5fbc-8d57-4dc9-8f82-fd11d94d9969\n",
       "7987          1      0.822240  b0bfbc32-bd4a-4376-a829-5318bc0e9547"
      ]
     },
     "execution_count": 251,
     "metadata": {},
     "output_type": "execute_result"
    }
   ],
   "source": [
    "# Creating final predcited Dataframe\n",
    "y_train_pred_final = pd.DataFrame({'Converted':y_train.values, 'Convert_Prob':y_train_pred,'Prospect ID':df_train['Prospect ID']})\n",
    "y_train_pred_final.head()"
   ]
  },
  {
   "cell_type": "code",
   "execution_count": 252,
   "metadata": {},
   "outputs": [],
   "source": [
    "# taking threshold = 0.5 for conversion\n",
    "y_train_pred_final['Predicted'] = y_train_pred_final['Convert_Prob'].map(lambda x: 1 if x > .5 else 0)"
   ]
  },
  {
   "cell_type": "code",
   "execution_count": 253,
   "metadata": {},
   "outputs": [
    {
     "data": {
      "text/html": [
       "<div>\n",
       "<style scoped>\n",
       "    .dataframe tbody tr th:only-of-type {\n",
       "        vertical-align: middle;\n",
       "    }\n",
       "\n",
       "    .dataframe tbody tr th {\n",
       "        vertical-align: top;\n",
       "    }\n",
       "\n",
       "    .dataframe thead th {\n",
       "        text-align: right;\n",
       "    }\n",
       "</style>\n",
       "<table border=\"1\" class=\"dataframe\">\n",
       "  <thead>\n",
       "    <tr style=\"text-align: right;\">\n",
       "      <th></th>\n",
       "      <th>Converted</th>\n",
       "      <th>Convert_Prob</th>\n",
       "      <th>Prospect ID</th>\n",
       "      <th>Predicted</th>\n",
       "    </tr>\n",
       "  </thead>\n",
       "  <tbody>\n",
       "    <tr>\n",
       "      <th>3009</th>\n",
       "      <td>0</td>\n",
       "      <td>0.201118</td>\n",
       "      <td>42a4d521-df88-4b5a-b198-50594a407a2d</td>\n",
       "      <td>0</td>\n",
       "    </tr>\n",
       "    <tr>\n",
       "      <th>1012</th>\n",
       "      <td>0</td>\n",
       "      <td>0.139863</td>\n",
       "      <td>4594be86-3b2e-4b55-866b-5a4b05ffd0f6</td>\n",
       "      <td>0</td>\n",
       "    </tr>\n",
       "    <tr>\n",
       "      <th>9226</th>\n",
       "      <td>0</td>\n",
       "      <td>0.345873</td>\n",
       "      <td>c3bb1471-53d5-4244-b2e5-4bbb543835c1</td>\n",
       "      <td>0</td>\n",
       "    </tr>\n",
       "    <tr>\n",
       "      <th>4750</th>\n",
       "      <td>1</td>\n",
       "      <td>0.864536</td>\n",
       "      <td>9bce5fbc-8d57-4dc9-8f82-fd11d94d9969</td>\n",
       "      <td>1</td>\n",
       "    </tr>\n",
       "    <tr>\n",
       "      <th>7987</th>\n",
       "      <td>1</td>\n",
       "      <td>0.822240</td>\n",
       "      <td>b0bfbc32-bd4a-4376-a829-5318bc0e9547</td>\n",
       "      <td>1</td>\n",
       "    </tr>\n",
       "  </tbody>\n",
       "</table>\n",
       "</div>"
      ],
      "text/plain": [
       "      Converted  Convert_Prob                           Prospect ID  Predicted\n",
       "3009          0      0.201118  42a4d521-df88-4b5a-b198-50594a407a2d          0\n",
       "1012          0      0.139863  4594be86-3b2e-4b55-866b-5a4b05ffd0f6          0\n",
       "9226          0      0.345873  c3bb1471-53d5-4244-b2e5-4bbb543835c1          0\n",
       "4750          1      0.864536  9bce5fbc-8d57-4dc9-8f82-fd11d94d9969          1\n",
       "7987          1      0.822240  b0bfbc32-bd4a-4376-a829-5318bc0e9547          1"
      ]
     },
     "execution_count": 253,
     "metadata": {},
     "output_type": "execute_result"
    }
   ],
   "source": [
    "y_train_pred_final.head()"
   ]
  },
  {
   "cell_type": "markdown",
   "metadata": {},
   "source": [
    "### Adding Score to the y_train_pred_final"
   ]
  },
  {
   "cell_type": "code",
   "execution_count": 254,
   "metadata": {},
   "outputs": [],
   "source": [
    "y_train_pred_final['Score'] = round(y_train_pred_final['Convert_Prob']*100,2)"
   ]
  },
  {
   "cell_type": "code",
   "execution_count": 255,
   "metadata": {},
   "outputs": [
    {
     "data": {
      "text/html": [
       "<div>\n",
       "<style scoped>\n",
       "    .dataframe tbody tr th:only-of-type {\n",
       "        vertical-align: middle;\n",
       "    }\n",
       "\n",
       "    .dataframe tbody tr th {\n",
       "        vertical-align: top;\n",
       "    }\n",
       "\n",
       "    .dataframe thead th {\n",
       "        text-align: right;\n",
       "    }\n",
       "</style>\n",
       "<table border=\"1\" class=\"dataframe\">\n",
       "  <thead>\n",
       "    <tr style=\"text-align: right;\">\n",
       "      <th></th>\n",
       "      <th>Converted</th>\n",
       "      <th>Convert_Prob</th>\n",
       "      <th>Prospect ID</th>\n",
       "      <th>Predicted</th>\n",
       "      <th>Score</th>\n",
       "    </tr>\n",
       "  </thead>\n",
       "  <tbody>\n",
       "    <tr>\n",
       "      <th>3009</th>\n",
       "      <td>0</td>\n",
       "      <td>0.201118</td>\n",
       "      <td>42a4d521-df88-4b5a-b198-50594a407a2d</td>\n",
       "      <td>0</td>\n",
       "      <td>20.11</td>\n",
       "    </tr>\n",
       "    <tr>\n",
       "      <th>1012</th>\n",
       "      <td>0</td>\n",
       "      <td>0.139863</td>\n",
       "      <td>4594be86-3b2e-4b55-866b-5a4b05ffd0f6</td>\n",
       "      <td>0</td>\n",
       "      <td>13.99</td>\n",
       "    </tr>\n",
       "    <tr>\n",
       "      <th>9226</th>\n",
       "      <td>0</td>\n",
       "      <td>0.345873</td>\n",
       "      <td>c3bb1471-53d5-4244-b2e5-4bbb543835c1</td>\n",
       "      <td>0</td>\n",
       "      <td>34.59</td>\n",
       "    </tr>\n",
       "    <tr>\n",
       "      <th>4750</th>\n",
       "      <td>1</td>\n",
       "      <td>0.864536</td>\n",
       "      <td>9bce5fbc-8d57-4dc9-8f82-fd11d94d9969</td>\n",
       "      <td>1</td>\n",
       "      <td>86.45</td>\n",
       "    </tr>\n",
       "    <tr>\n",
       "      <th>7987</th>\n",
       "      <td>1</td>\n",
       "      <td>0.822240</td>\n",
       "      <td>b0bfbc32-bd4a-4376-a829-5318bc0e9547</td>\n",
       "      <td>1</td>\n",
       "      <td>82.22</td>\n",
       "    </tr>\n",
       "  </tbody>\n",
       "</table>\n",
       "</div>"
      ],
      "text/plain": [
       "      Converted  Convert_Prob                           Prospect ID  \\\n",
       "3009          0      0.201118  42a4d521-df88-4b5a-b198-50594a407a2d   \n",
       "1012          0      0.139863  4594be86-3b2e-4b55-866b-5a4b05ffd0f6   \n",
       "9226          0      0.345873  c3bb1471-53d5-4244-b2e5-4bbb543835c1   \n",
       "4750          1      0.864536  9bce5fbc-8d57-4dc9-8f82-fd11d94d9969   \n",
       "7987          1      0.822240  b0bfbc32-bd4a-4376-a829-5318bc0e9547   \n",
       "\n",
       "      Predicted  Score  \n",
       "3009          0  20.11  \n",
       "1012          0  13.99  \n",
       "9226          0  34.59  \n",
       "4750          1  86.45  \n",
       "7987          1  82.22  "
      ]
     },
     "execution_count": 255,
     "metadata": {},
     "output_type": "execute_result"
    }
   ],
   "source": [
    "y_train_pred_final.head()"
   ]
  },
  {
   "cell_type": "markdown",
   "metadata": {},
   "source": [
    "## Creating Confusion Matrix"
   ]
  },
  {
   "cell_type": "code",
   "execution_count": 256,
   "metadata": {},
   "outputs": [],
   "source": [
    "from sklearn.metrics import confusion_matrix, accuracy_score"
   ]
  },
  {
   "cell_type": "code",
   "execution_count": 257,
   "metadata": {},
   "outputs": [
    {
     "data": {
      "text/plain": [
       "array([[3470,  435],\n",
       "       [ 705, 1741]], dtype=int64)"
      ]
     },
     "execution_count": 257,
     "metadata": {},
     "output_type": "execute_result"
    }
   ],
   "source": [
    "confusion = confusion_matrix(y_train_pred_final['Converted'],y_train_pred_final['Predicted'])\n",
    "confusion"
   ]
  },
  {
   "cell_type": "code",
   "execution_count": 258,
   "metadata": {},
   "outputs": [
    {
     "data": {
      "text/plain": [
       "0.8205007085498347"
      ]
     },
     "execution_count": 258,
     "metadata": {},
     "output_type": "execute_result"
    }
   ],
   "source": [
    "accuracy_score(y_train_pred_final['Converted'],y_train_pred_final['Predicted'])"
   ]
  },
  {
   "cell_type": "markdown",
   "metadata": {},
   "source": [
    "### Other metrics"
   ]
  },
  {
   "cell_type": "code",
   "execution_count": 259,
   "metadata": {},
   "outputs": [],
   "source": [
    "from sklearn import metrics"
   ]
  },
  {
   "cell_type": "code",
   "execution_count": 260,
   "metadata": {},
   "outputs": [],
   "source": [
    "TP = confusion[1,1]   # True Positive\n",
    "TN = confusion[0,0]   # True Negative\n",
    "FP = confusion[0,1]   # False Positivea\n",
    "FN = confusion[1,0]   # False Negative"
   ]
  },
  {
   "cell_type": "code",
   "execution_count": 261,
   "metadata": {},
   "outputs": [
    {
     "data": {
      "text/plain": [
       "0.7117743254292723"
      ]
     },
     "execution_count": 261,
     "metadata": {},
     "output_type": "execute_result"
    }
   ],
   "source": [
    "# Check the Sensitivity of the model(Recall)\n",
    "TP/(TP+FN)   # TP/Total Positive"
   ]
  },
  {
   "cell_type": "code",
   "execution_count": 262,
   "metadata": {},
   "outputs": [
    {
     "data": {
      "text/plain": [
       "0.8886043533930857"
      ]
     },
     "execution_count": 262,
     "metadata": {},
     "output_type": "execute_result"
    }
   ],
   "source": [
    "# Check the Specifity\n",
    "TN/(TN+FP)"
   ]
  },
  {
   "cell_type": "code",
   "execution_count": 263,
   "metadata": {},
   "outputs": [
    {
     "data": {
      "text/plain": [
       "0.11139564660691421"
      ]
     },
     "execution_count": 263,
     "metadata": {},
     "output_type": "execute_result"
    }
   ],
   "source": [
    "# Calculate Fasle Positive Rate(FP divided by Total True Negative)\n",
    "FP/(FP+TN)"
   ]
  },
  {
   "cell_type": "code",
   "execution_count": 264,
   "metadata": {},
   "outputs": [
    {
     "data": {
      "text/plain": [
       "0.8000919117647058"
      ]
     },
     "execution_count": 264,
     "metadata": {},
     "output_type": "execute_result"
    }
   ],
   "source": [
    "# Positive Predictive Rate(Precision)\n",
    "TP/(TP+FP)"
   ]
  },
  {
   "cell_type": "code",
   "execution_count": 265,
   "metadata": {},
   "outputs": [
    {
     "data": {
      "text/plain": [
       "0.8311377245508982"
      ]
     },
     "execution_count": 265,
     "metadata": {},
     "output_type": "execute_result"
    }
   ],
   "source": [
    "# Negative Predictice Value\n",
    "TN/(TN+FN)"
   ]
  },
  {
   "cell_type": "markdown",
   "metadata": {},
   "source": [
    "## Plotting ROC Curve\n",
    "\n",
    "Trade off between sensitivity and specifity"
   ]
  },
  {
   "cell_type": "code",
   "execution_count": 266,
   "metadata": {},
   "outputs": [],
   "source": [
    "def draw_roc( actual, probs ):\n",
    "    fpr, tpr, thresholds = metrics.roc_curve( actual, probs,\n",
    "                                              drop_intermediate = False )\n",
    "    auc_score = metrics.roc_auc_score( actual, probs )\n",
    "    plt.figure(figsize=(5, 5))\n",
    "    plt.plot( fpr, tpr, label='ROC curve (area = %0.2f)' % auc_score )\n",
    "    plt.plot([0, 1], [0, 1], 'k--')\n",
    "    plt.xlim([0.0, 1.0])\n",
    "    plt.ylim([0.0, 1.05])\n",
    "    plt.xlabel('False Positive Rate or [1 - True Negative Rate]')\n",
    "    plt.ylabel('True Positive Rate')\n",
    "    plt.title('Receiver operating characteristic example')\n",
    "    plt.legend(loc=\"lower right\")\n",
    "    plt.show()\n",
    "\n",
    "    return None"
   ]
  },
  {
   "cell_type": "code",
   "execution_count": 267,
   "metadata": {},
   "outputs": [
    {
     "data": {
      "image/png": "[encoded data removed]",
      "text/plain": [
       "<Figure size 360x360 with 1 Axes>"
      ]
     },
     "metadata": {
      "needs_background": "light"
     },
     "output_type": "display_data"
    }
   ],
   "source": [
    "# Draw ROC\n",
    "draw_roc(y_train_pred_final['Converted'],y_train_pred_final['Convert_Prob'])"
   ]
  },
  {
   "cell_type": "markdown",
   "metadata": {},
   "source": [
    "Area under the curve is greater than .5 i.e .89. So the model seems to be good classifier. Also the curve stays far away from diagonal line(toward the top-left corner)."
   ]
  },
  {
   "cell_type": "markdown",
   "metadata": {},
   "source": [
    "### Finding optimal Cutoff Point\n",
    "\n",
    "Balance between sentivity and specifity"
   ]
  },
  {
   "cell_type": "code",
   "execution_count": 268,
   "metadata": {},
   "outputs": [
    {
     "data": {
      "text/html": [
       "<div>\n",
       "<style scoped>\n",
       "    .dataframe tbody tr th:only-of-type {\n",
       "        vertical-align: middle;\n",
       "    }\n",
       "\n",
       "    .dataframe tbody tr th {\n",
       "        vertical-align: top;\n",
       "    }\n",
       "\n",
       "    .dataframe thead th {\n",
       "        text-align: right;\n",
       "    }\n",
       "</style>\n",
       "<table border=\"1\" class=\"dataframe\">\n",
       "  <thead>\n",
       "    <tr style=\"text-align: right;\">\n",
       "      <th></th>\n",
       "      <th>Converted</th>\n",
       "      <th>Convert_Prob</th>\n",
       "      <th>Prospect ID</th>\n",
       "      <th>Predicted</th>\n",
       "      <th>Score</th>\n",
       "    </tr>\n",
       "  </thead>\n",
       "  <tbody>\n",
       "    <tr>\n",
       "      <th>3009</th>\n",
       "      <td>0</td>\n",
       "      <td>0.201118</td>\n",
       "      <td>42a4d521-df88-4b5a-b198-50594a407a2d</td>\n",
       "      <td>0</td>\n",
       "      <td>20.11</td>\n",
       "    </tr>\n",
       "    <tr>\n",
       "      <th>1012</th>\n",
       "      <td>0</td>\n",
       "      <td>0.139863</td>\n",
       "      <td>4594be86-3b2e-4b55-866b-5a4b05ffd0f6</td>\n",
       "      <td>0</td>\n",
       "      <td>13.99</td>\n",
       "    </tr>\n",
       "    <tr>\n",
       "      <th>9226</th>\n",
       "      <td>0</td>\n",
       "      <td>0.345873</td>\n",
       "      <td>c3bb1471-53d5-4244-b2e5-4bbb543835c1</td>\n",
       "      <td>0</td>\n",
       "      <td>34.59</td>\n",
       "    </tr>\n",
       "    <tr>\n",
       "      <th>4750</th>\n",
       "      <td>1</td>\n",
       "      <td>0.864536</td>\n",
       "      <td>9bce5fbc-8d57-4dc9-8f82-fd11d94d9969</td>\n",
       "      <td>1</td>\n",
       "      <td>86.45</td>\n",
       "    </tr>\n",
       "    <tr>\n",
       "      <th>7987</th>\n",
       "      <td>1</td>\n",
       "      <td>0.822240</td>\n",
       "      <td>b0bfbc32-bd4a-4376-a829-5318bc0e9547</td>\n",
       "      <td>1</td>\n",
       "      <td>82.22</td>\n",
       "    </tr>\n",
       "  </tbody>\n",
       "</table>\n",
       "</div>"
      ],
      "text/plain": [
       "      Converted  Convert_Prob                           Prospect ID  \\\n",
       "3009          0      0.201118  42a4d521-df88-4b5a-b198-50594a407a2d   \n",
       "1012          0      0.139863  4594be86-3b2e-4b55-866b-5a4b05ffd0f6   \n",
       "9226          0      0.345873  c3bb1471-53d5-4244-b2e5-4bbb543835c1   \n",
       "4750          1      0.864536  9bce5fbc-8d57-4dc9-8f82-fd11d94d9969   \n",
       "7987          1      0.822240  b0bfbc32-bd4a-4376-a829-5318bc0e9547   \n",
       "\n",
       "      Predicted  Score  \n",
       "3009          0  20.11  \n",
       "1012          0  13.99  \n",
       "9226          0  34.59  \n",
       "4750          1  86.45  \n",
       "7987          1  82.22  "
      ]
     },
     "execution_count": 268,
     "metadata": {},
     "output_type": "execute_result"
    }
   ],
   "source": [
    "y_train_pred_final.head()"
   ]
  },
  {
   "cell_type": "code",
   "execution_count": 269,
   "metadata": {},
   "outputs": [
    {
     "data": {
      "text/html": [
       "<div>\n",
       "<style scoped>\n",
       "    .dataframe tbody tr th:only-of-type {\n",
       "        vertical-align: middle;\n",
       "    }\n",
       "\n",
       "    .dataframe tbody tr th {\n",
       "        vertical-align: top;\n",
       "    }\n",
       "\n",
       "    .dataframe thead th {\n",
       "        text-align: right;\n",
       "    }\n",
       "</style>\n",
       "<table border=\"1\" class=\"dataframe\">\n",
       "  <thead>\n",
       "    <tr style=\"text-align: right;\">\n",
       "      <th></th>\n",
       "      <th>Converted</th>\n",
       "      <th>Convert_Prob</th>\n",
       "      <th>Prospect ID</th>\n",
       "      <th>Predicted</th>\n",
       "      <th>Score</th>\n",
       "      <th>0.0</th>\n",
       "      <th>0.1</th>\n",
       "      <th>0.2</th>\n",
       "      <th>0.3</th>\n",
       "      <th>0.4</th>\n",
       "      <th>0.5</th>\n",
       "      <th>0.6</th>\n",
       "      <th>0.7</th>\n",
       "      <th>0.8</th>\n",
       "      <th>0.9</th>\n",
       "    </tr>\n",
       "  </thead>\n",
       "  <tbody>\n",
       "    <tr>\n",
       "      <th>3009</th>\n",
       "      <td>0</td>\n",
       "      <td>0.201118</td>\n",
       "      <td>42a4d521-df88-4b5a-b198-50594a407a2d</td>\n",
       "      <td>0</td>\n",
       "      <td>20.11</td>\n",
       "      <td>1</td>\n",
       "      <td>1</td>\n",
       "      <td>1</td>\n",
       "      <td>0</td>\n",
       "      <td>0</td>\n",
       "      <td>0</td>\n",
       "      <td>0</td>\n",
       "      <td>0</td>\n",
       "      <td>0</td>\n",
       "      <td>0</td>\n",
       "    </tr>\n",
       "    <tr>\n",
       "      <th>1012</th>\n",
       "      <td>0</td>\n",
       "      <td>0.139863</td>\n",
       "      <td>4594be86-3b2e-4b55-866b-5a4b05ffd0f6</td>\n",
       "      <td>0</td>\n",
       "      <td>13.99</td>\n",
       "      <td>1</td>\n",
       "      <td>1</td>\n",
       "      <td>0</td>\n",
       "      <td>0</td>\n",
       "      <td>0</td>\n",
       "      <td>0</td>\n",
       "      <td>0</td>\n",
       "      <td>0</td>\n",
       "      <td>0</td>\n",
       "      <td>0</td>\n",
       "    </tr>\n",
       "    <tr>\n",
       "      <th>9226</th>\n",
       "      <td>0</td>\n",
       "      <td>0.345873</td>\n",
       "      <td>c3bb1471-53d5-4244-b2e5-4bbb543835c1</td>\n",
       "      <td>0</td>\n",
       "      <td>34.59</td>\n",
       "      <td>1</td>\n",
       "      <td>1</td>\n",
       "      <td>1</td>\n",
       "      <td>1</td>\n",
       "      <td>0</td>\n",
       "      <td>0</td>\n",
       "      <td>0</td>\n",
       "      <td>0</td>\n",
       "      <td>0</td>\n",
       "      <td>0</td>\n",
       "    </tr>\n",
       "    <tr>\n",
       "      <th>4750</th>\n",
       "      <td>1</td>\n",
       "      <td>0.864536</td>\n",
       "      <td>9bce5fbc-8d57-4dc9-8f82-fd11d94d9969</td>\n",
       "      <td>1</td>\n",
       "      <td>86.45</td>\n",
       "      <td>1</td>\n",
       "      <td>1</td>\n",
       "      <td>1</td>\n",
       "      <td>1</td>\n",
       "      <td>1</td>\n",
       "      <td>1</td>\n",
       "      <td>1</td>\n",
       "      <td>1</td>\n",
       "      <td>1</td>\n",
       "      <td>0</td>\n",
       "    </tr>\n",
       "    <tr>\n",
       "      <th>7987</th>\n",
       "      <td>1</td>\n",
       "      <td>0.822240</td>\n",
       "      <td>b0bfbc32-bd4a-4376-a829-5318bc0e9547</td>\n",
       "      <td>1</td>\n",
       "      <td>82.22</td>\n",
       "      <td>1</td>\n",
       "      <td>1</td>\n",
       "      <td>1</td>\n",
       "      <td>1</td>\n",
       "      <td>1</td>\n",
       "      <td>1</td>\n",
       "      <td>1</td>\n",
       "      <td>1</td>\n",
       "      <td>1</td>\n",
       "      <td>0</td>\n",
       "    </tr>\n",
       "  </tbody>\n",
       "</table>\n",
       "</div>"
      ],
      "text/plain": [
       "      Converted  Convert_Prob                           Prospect ID  \\\n",
       "3009          0      0.201118  42a4d521-df88-4b5a-b198-50594a407a2d   \n",
       "1012          0      0.139863  4594be86-3b2e-4b55-866b-5a4b05ffd0f6   \n",
       "9226          0      0.345873  c3bb1471-53d5-4244-b2e5-4bbb543835c1   \n",
       "4750          1      0.864536  9bce5fbc-8d57-4dc9-8f82-fd11d94d9969   \n",
       "7987          1      0.822240  b0bfbc32-bd4a-4376-a829-5318bc0e9547   \n",
       "\n",
       "      Predicted  Score  0.0  0.1  0.2  0.3  0.4  0.5  0.6  0.7  0.8  0.9  \n",
       "3009          0  20.11    1    1    1    0    0    0    0    0    0    0  \n",
       "1012          0  13.99    1    1    0    0    0    0    0    0    0    0  \n",
       "9226          0  34.59    1    1    1    1    0    0    0    0    0    0  \n",
       "4750          1  86.45    1    1    1    1    1    1    1    1    1    0  \n",
       "7987          1  82.22    1    1    1    1    1    1    1    1    1    0  "
      ]
     },
     "execution_count": 269,
     "metadata": {},
     "output_type": "execute_result"
    }
   ],
   "source": [
    "for i in range (0, 10):\n",
    "    j = i/10\n",
    "    y_train_pred_final[j] = y_train_pred_final['Convert_Prob'].map(lambda x : 1 if x > j else 0)\n",
    "y_train_pred_final.head()    "
   ]
  },
  {
   "cell_type": "code",
   "execution_count": 270,
   "metadata": {},
   "outputs": [
    {
     "name": "stdout",
     "output_type": "stream",
     "text": [
      "     prob      accu      sens      spec\n",
      "0.0   0.0  0.385136  1.000000  0.000000\n",
      "0.1   0.1  0.592190  0.971382  0.354673\n",
      "0.2   0.2  0.748858  0.917416  0.643278\n",
      "0.3   0.3  0.804283  0.852821  0.773880\n",
      "0.4   0.4  0.820973  0.780867  0.846095\n",
      "0.5   0.5  0.820501  0.711774  0.888604\n",
      "0.6   0.6  0.800346  0.608340  0.920615\n",
      "0.7   0.7  0.783814  0.525348  0.945711\n",
      "0.8   0.8  0.761612  0.426002  0.971831\n",
      "0.9   0.9  0.720989  0.295993  0.987196\n"
     ]
    }
   ],
   "source": [
    "# Calculate accuracy, sensitivity, specifity\n",
    "cut_off = pd.DataFrame(columns=['prob','accu','sens','spec'])\n",
    "for i in range(10):\n",
    "    j=i/10\n",
    "    confusion = confusion_matrix(y_train_pred_final['Converted'],y_train_pred_final[j])\n",
    "    accu = (confusion[0,0]+confusion[1,1])/sum(sum(confusion))\n",
    "    sens = confusion[1,1]/(confusion[1,1]+confusion[1,0])\n",
    "    spec = confusion[0,0]/(confusion[0,0]+confusion[0,1])\n",
    "    cut_off.loc[j]=[j,accu,sens,spec]\n",
    "print(cut_off)"
   ]
  },
  {
   "cell_type": "code",
   "execution_count": 271,
   "metadata": {},
   "outputs": [
    {
     "data": {
      "image/png": "[encoded data removed]",
      "text/plain": [
       "<Figure size 432x288 with 1 Axes>"
      ]
     },
     "metadata": {
      "needs_background": "light"
     },
     "output_type": "display_data"
    }
   ],
   "source": [
    "cut_off.plot.line(x='prob', y=['accu','sens','spec'])\n",
    "plt.show()"
   ]
  },
  {
   "cell_type": "markdown",
   "metadata": {},
   "source": [
    "- By looking at the above graph the optimal cut-off or balanced point between all the three lines is just below .4\n",
    "- Let check how is the sensitivity for on this cut-off"
   ]
  },
  {
   "cell_type": "code",
   "execution_count": 272,
   "metadata": {},
   "outputs": [],
   "source": [
    "# Finally accuracy, sensitivity and specifity meet at around cut-off = .35\n",
    "# Adding final predicted to the model\n",
    "y_train_pred_final['final_predicted'] = y_train_pred_final['Convert_Prob'].map(lambda x : 1 if x > .35 else 0)"
   ]
  },
  {
   "cell_type": "code",
   "execution_count": 273,
   "metadata": {},
   "outputs": [
    {
     "data": {
      "text/html": [
       "<div>\n",
       "<style scoped>\n",
       "    .dataframe tbody tr th:only-of-type {\n",
       "        vertical-align: middle;\n",
       "    }\n",
       "\n",
       "    .dataframe tbody tr th {\n",
       "        vertical-align: top;\n",
       "    }\n",
       "\n",
       "    .dataframe thead th {\n",
       "        text-align: right;\n",
       "    }\n",
       "</style>\n",
       "<table border=\"1\" class=\"dataframe\">\n",
       "  <thead>\n",
       "    <tr style=\"text-align: right;\">\n",
       "      <th></th>\n",
       "      <th>Converted</th>\n",
       "      <th>Convert_Prob</th>\n",
       "      <th>Prospect ID</th>\n",
       "      <th>Predicted</th>\n",
       "      <th>Score</th>\n",
       "      <th>0.0</th>\n",
       "      <th>0.1</th>\n",
       "      <th>0.2</th>\n",
       "      <th>0.3</th>\n",
       "      <th>0.4</th>\n",
       "      <th>0.5</th>\n",
       "      <th>0.6</th>\n",
       "      <th>0.7</th>\n",
       "      <th>0.8</th>\n",
       "      <th>0.9</th>\n",
       "      <th>final_predicted</th>\n",
       "    </tr>\n",
       "  </thead>\n",
       "  <tbody>\n",
       "    <tr>\n",
       "      <th>3009</th>\n",
       "      <td>0</td>\n",
       "      <td>0.201118</td>\n",
       "      <td>42a4d521-df88-4b5a-b198-50594a407a2d</td>\n",
       "      <td>0</td>\n",
       "      <td>20.11</td>\n",
       "      <td>1</td>\n",
       "      <td>1</td>\n",
       "      <td>1</td>\n",
       "      <td>0</td>\n",
       "      <td>0</td>\n",
       "      <td>0</td>\n",
       "      <td>0</td>\n",
       "      <td>0</td>\n",
       "      <td>0</td>\n",
       "      <td>0</td>\n",
       "      <td>0</td>\n",
       "    </tr>\n",
       "    <tr>\n",
       "      <th>1012</th>\n",
       "      <td>0</td>\n",
       "      <td>0.139863</td>\n",
       "      <td>4594be86-3b2e-4b55-866b-5a4b05ffd0f6</td>\n",
       "      <td>0</td>\n",
       "      <td>13.99</td>\n",
       "      <td>1</td>\n",
       "      <td>1</td>\n",
       "      <td>0</td>\n",
       "      <td>0</td>\n",
       "      <td>0</td>\n",
       "      <td>0</td>\n",
       "      <td>0</td>\n",
       "      <td>0</td>\n",
       "      <td>0</td>\n",
       "      <td>0</td>\n",
       "      <td>0</td>\n",
       "    </tr>\n",
       "    <tr>\n",
       "      <th>9226</th>\n",
       "      <td>0</td>\n",
       "      <td>0.345873</td>\n",
       "      <td>c3bb1471-53d5-4244-b2e5-4bbb543835c1</td>\n",
       "      <td>0</td>\n",
       "      <td>34.59</td>\n",
       "      <td>1</td>\n",
       "      <td>1</td>\n",
       "      <td>1</td>\n",
       "      <td>1</td>\n",
       "      <td>0</td>\n",
       "      <td>0</td>\n",
       "      <td>0</td>\n",
       "      <td>0</td>\n",
       "      <td>0</td>\n",
       "      <td>0</td>\n",
       "      <td>0</td>\n",
       "    </tr>\n",
       "    <tr>\n",
       "      <th>4750</th>\n",
       "      <td>1</td>\n",
       "      <td>0.864536</td>\n",
       "      <td>9bce5fbc-8d57-4dc9-8f82-fd11d94d9969</td>\n",
       "      <td>1</td>\n",
       "      <td>86.45</td>\n",
       "      <td>1</td>\n",
       "      <td>1</td>\n",
       "      <td>1</td>\n",
       "      <td>1</td>\n",
       "      <td>1</td>\n",
       "      <td>1</td>\n",
       "      <td>1</td>\n",
       "      <td>1</td>\n",
       "      <td>1</td>\n",
       "      <td>0</td>\n",
       "      <td>1</td>\n",
       "    </tr>\n",
       "    <tr>\n",
       "      <th>7987</th>\n",
       "      <td>1</td>\n",
       "      <td>0.822240</td>\n",
       "      <td>b0bfbc32-bd4a-4376-a829-5318bc0e9547</td>\n",
       "      <td>1</td>\n",
       "      <td>82.22</td>\n",
       "      <td>1</td>\n",
       "      <td>1</td>\n",
       "      <td>1</td>\n",
       "      <td>1</td>\n",
       "      <td>1</td>\n",
       "      <td>1</td>\n",
       "      <td>1</td>\n",
       "      <td>1</td>\n",
       "      <td>1</td>\n",
       "      <td>0</td>\n",
       "      <td>1</td>\n",
       "    </tr>\n",
       "  </tbody>\n",
       "</table>\n",
       "</div>"
      ],
      "text/plain": [
       "      Converted  Convert_Prob                           Prospect ID  \\\n",
       "3009          0      0.201118  42a4d521-df88-4b5a-b198-50594a407a2d   \n",
       "1012          0      0.139863  4594be86-3b2e-4b55-866b-5a4b05ffd0f6   \n",
       "9226          0      0.345873  c3bb1471-53d5-4244-b2e5-4bbb543835c1   \n",
       "4750          1      0.864536  9bce5fbc-8d57-4dc9-8f82-fd11d94d9969   \n",
       "7987          1      0.822240  b0bfbc32-bd4a-4376-a829-5318bc0e9547   \n",
       "\n",
       "      Predicted  Score  0.0  0.1  0.2  0.3  0.4  0.5  0.6  0.7  0.8  0.9  \\\n",
       "3009          0  20.11    1    1    1    0    0    0    0    0    0    0   \n",
       "1012          0  13.99    1    1    0    0    0    0    0    0    0    0   \n",
       "9226          0  34.59    1    1    1    1    0    0    0    0    0    0   \n",
       "4750          1  86.45    1    1    1    1    1    1    1    1    1    0   \n",
       "7987          1  82.22    1    1    1    1    1    1    1    1    1    0   \n",
       "\n",
       "      final_predicted  \n",
       "3009                0  \n",
       "1012                0  \n",
       "9226                0  \n",
       "4750                1  \n",
       "7987                1  "
      ]
     },
     "execution_count": 273,
     "metadata": {},
     "output_type": "execute_result"
    }
   ],
   "source": [
    "y_train_pred_final.head()"
   ]
  },
  {
   "cell_type": "code",
   "execution_count": 274,
   "metadata": {},
   "outputs": [],
   "source": [
    "# Adding final predicted to the model\n",
    "confusion = confusion_matrix(y_train_pred_final['Converted'],y_train_pred_final['final_predicted'])"
   ]
  },
  {
   "cell_type": "code",
   "execution_count": 275,
   "metadata": {},
   "outputs": [],
   "source": [
    "TP = confusion[1,1]   # True Positive\n",
    "TN = confusion[0,0]   # True Negative\n",
    "FP = confusion[0,1]   # False Positivea\n",
    "FN = confusion[1,0]   # False Negative"
   ]
  },
  {
   "cell_type": "code",
   "execution_count": 276,
   "metadata": {},
   "outputs": [
    {
     "data": {
      "text/plain": [
       "0.8135726657219335"
      ]
     },
     "execution_count": 276,
     "metadata": {},
     "output_type": "execute_result"
    }
   ],
   "source": [
    "accuracy_score(y_train_pred_final['Converted'],y_train_pred_final['final_predicted'])"
   ]
  },
  {
   "cell_type": "code",
   "execution_count": 277,
   "metadata": {},
   "outputs": [
    {
     "data": {
      "text/plain": [
       "81.03"
      ]
     },
     "execution_count": 277,
     "metadata": {},
     "output_type": "execute_result"
    }
   ],
   "source": [
    "# Check the Sensitivity of the model(Recall)\n",
    "round((100*TP/(TP+FN)),2)   # TP/Total Positive"
   ]
  },
  {
   "cell_type": "code",
   "execution_count": 278,
   "metadata": {},
   "outputs": [
    {
     "data": {
      "text/plain": [
       "0.8156209987195903"
      ]
     },
     "execution_count": 278,
     "metadata": {},
     "output_type": "execute_result"
    }
   ],
   "source": [
    "# Check the Specifity\n",
    "TN/(TN+FP)"
   ]
  },
  {
   "cell_type": "code",
   "execution_count": 279,
   "metadata": {},
   "outputs": [
    {
     "data": {
      "text/plain": [
       "0.18437900128040974"
      ]
     },
     "execution_count": 279,
     "metadata": {},
     "output_type": "execute_result"
    }
   ],
   "source": [
    "# Calculate Fasle Positive Rate(FP divided by Total True Negative)\n",
    "FP/(FP+TN)"
   ]
  },
  {
   "cell_type": "code",
   "execution_count": 280,
   "metadata": {},
   "outputs": [
    {
     "data": {
      "text/plain": [
       "0.7335307179866766"
      ]
     },
     "execution_count": 280,
     "metadata": {},
     "output_type": "execute_result"
    }
   ],
   "source": [
    "# Positive Predictive Rate(Precision)\n",
    "TP/(TP+FP)"
   ]
  },
  {
   "cell_type": "code",
   "execution_count": 281,
   "metadata": {},
   "outputs": [
    {
     "data": {
      "text/plain": [
       "0.8728418744861606"
      ]
     },
     "execution_count": 281,
     "metadata": {},
     "output_type": "execute_result"
    }
   ],
   "source": [
    "# Negative Predictice Value\n",
    "TN/(TN+FN)"
   ]
  },
  {
   "cell_type": "markdown",
   "metadata": {},
   "source": [
    "# Making Prediction on Test data"
   ]
  },
  {
   "cell_type": "code",
   "execution_count": 282,
   "metadata": {},
   "outputs": [],
   "source": [
    "# Scaling of continuous variables\n",
    "num_vars = ['TotalVisits','Total Time Spent on Website','Page Views Per Visit']\n",
    "df_test[num_vars] = scaler.fit_transform(df_test[num_vars])"
   ]
  },
  {
   "cell_type": "code",
   "execution_count": 283,
   "metadata": {},
   "outputs": [
    {
     "data": {
      "text/html": [
       "<div>\n",
       "<style scoped>\n",
       "    .dataframe tbody tr th:only-of-type {\n",
       "        vertical-align: middle;\n",
       "    }\n",
       "\n",
       "    .dataframe tbody tr th {\n",
       "        vertical-align: top;\n",
       "    }\n",
       "\n",
       "    .dataframe thead th {\n",
       "        text-align: right;\n",
       "    }\n",
       "</style>\n",
       "<table border=\"1\" class=\"dataframe\">\n",
       "  <thead>\n",
       "    <tr style=\"text-align: right;\">\n",
       "      <th></th>\n",
       "      <th>Prospect ID</th>\n",
       "      <th>Do Not Email</th>\n",
       "      <th>Converted</th>\n",
       "      <th>TotalVisits</th>\n",
       "      <th>Total Time Spent on Website</th>\n",
       "      <th>Page Views Per Visit</th>\n",
       "      <th>A free copy of Mastering The Interview</th>\n",
       "      <th>Lead_Origin_Landing Page Submission</th>\n",
       "      <th>Lead_Origin_Lead Add Form</th>\n",
       "      <th>Lead_Origin_Lead Import</th>\n",
       "      <th>Lead_Source_Google</th>\n",
       "      <th>Lead_Source_Olark Chat</th>\n",
       "      <th>Lead_Source_Organic Search</th>\n",
       "      <th>Lead_Source_Other</th>\n",
       "      <th>Lead_Source_Reference</th>\n",
       "      <th>Lead_Source_Referral Sites</th>\n",
       "      <th>Lead_Source_Welingak Website</th>\n",
       "      <th>Last_Activity_Email Bounced</th>\n",
       "      <th>Last_Activity_Email Link Clicked</th>\n",
       "      <th>Last_Activity_Email Opened</th>\n",
       "      <th>Last_Activity_Form Submitted on Website</th>\n",
       "      <th>Last_Activity_Olark Chat Conversation</th>\n",
       "      <th>Last_Activity_Other</th>\n",
       "      <th>Last_Activity_Page Visited on Website</th>\n",
       "      <th>Last_Activity_SMS Sent</th>\n",
       "      <th>...</th>\n",
       "      <th>Specialization_E-COMMERCE</th>\n",
       "      <th>Specialization_Finance Management</th>\n",
       "      <th>Specialization_Healthcare Management</th>\n",
       "      <th>Specialization_Hospitality Management</th>\n",
       "      <th>Specialization_Human Resource Management</th>\n",
       "      <th>Specialization_IT Projects Management</th>\n",
       "      <th>Specialization_International Business</th>\n",
       "      <th>Specialization_Marketing Management</th>\n",
       "      <th>Specialization_Media and Advertising</th>\n",
       "      <th>Specialization_Operations Management</th>\n",
       "      <th>Specialization_Other</th>\n",
       "      <th>Specialization_Retail Management</th>\n",
       "      <th>Specialization_Rural and Agribusiness</th>\n",
       "      <th>Specialization_Services Excellence</th>\n",
       "      <th>Specialization_Supply Chain Management</th>\n",
       "      <th>Specialization_Travel and Tourism</th>\n",
       "      <th>What_is_your_current_occupation_Student</th>\n",
       "      <th>What_is_your_current_occupation_Unemployed</th>\n",
       "      <th>What_is_your_current_occupation_Working Professional</th>\n",
       "      <th>Last_Notable_Activity_Email Opened</th>\n",
       "      <th>Last_Notable_Activity_Modified</th>\n",
       "      <th>Last_Notable_Activity_Olark Chat Conversation</th>\n",
       "      <th>Last_Notable_Activity_Other</th>\n",
       "      <th>Last_Notable_Activity_Page Visited on Website</th>\n",
       "      <th>Last_Notable_Activity_SMS Sent</th>\n",
       "    </tr>\n",
       "  </thead>\n",
       "  <tbody>\n",
       "    <tr>\n",
       "      <th>3271</th>\n",
       "      <td>afc71cc4-67a4-42ae-89f7-779d20c5810d</td>\n",
       "      <td>0</td>\n",
       "      <td>0</td>\n",
       "      <td>0.304501</td>\n",
       "      <td>-0.591008</td>\n",
       "      <td>0.998931</td>\n",
       "      <td>0</td>\n",
       "      <td>0</td>\n",
       "      <td>0</td>\n",
       "      <td>0</td>\n",
       "      <td>1</td>\n",
       "      <td>0</td>\n",
       "      <td>0</td>\n",
       "      <td>0</td>\n",
       "      <td>0</td>\n",
       "      <td>0</td>\n",
       "      <td>0</td>\n",
       "      <td>0</td>\n",
       "      <td>0</td>\n",
       "      <td>1</td>\n",
       "      <td>0</td>\n",
       "      <td>0</td>\n",
       "      <td>0</td>\n",
       "      <td>0</td>\n",
       "      <td>0</td>\n",
       "      <td>...</td>\n",
       "      <td>0</td>\n",
       "      <td>0</td>\n",
       "      <td>0</td>\n",
       "      <td>0</td>\n",
       "      <td>0</td>\n",
       "      <td>0</td>\n",
       "      <td>0</td>\n",
       "      <td>0</td>\n",
       "      <td>0</td>\n",
       "      <td>0</td>\n",
       "      <td>1</td>\n",
       "      <td>0</td>\n",
       "      <td>0</td>\n",
       "      <td>0</td>\n",
       "      <td>0</td>\n",
       "      <td>0</td>\n",
       "      <td>0</td>\n",
       "      <td>1</td>\n",
       "      <td>0</td>\n",
       "      <td>1</td>\n",
       "      <td>0</td>\n",
       "      <td>0</td>\n",
       "      <td>0</td>\n",
       "      <td>0</td>\n",
       "      <td>0</td>\n",
       "    </tr>\n",
       "    <tr>\n",
       "      <th>1490</th>\n",
       "      <td>a8b4e742-2cce-4280-8549-a4a7d51a0fe2</td>\n",
       "      <td>0</td>\n",
       "      <td>1</td>\n",
       "      <td>0.666261</td>\n",
       "      <td>1.894051</td>\n",
       "      <td>1.564920</td>\n",
       "      <td>1</td>\n",
       "      <td>1</td>\n",
       "      <td>0</td>\n",
       "      <td>0</td>\n",
       "      <td>0</td>\n",
       "      <td>0</td>\n",
       "      <td>0</td>\n",
       "      <td>0</td>\n",
       "      <td>0</td>\n",
       "      <td>0</td>\n",
       "      <td>0</td>\n",
       "      <td>0</td>\n",
       "      <td>0</td>\n",
       "      <td>1</td>\n",
       "      <td>0</td>\n",
       "      <td>0</td>\n",
       "      <td>0</td>\n",
       "      <td>0</td>\n",
       "      <td>0</td>\n",
       "      <td>...</td>\n",
       "      <td>0</td>\n",
       "      <td>0</td>\n",
       "      <td>0</td>\n",
       "      <td>0</td>\n",
       "      <td>0</td>\n",
       "      <td>0</td>\n",
       "      <td>0</td>\n",
       "      <td>0</td>\n",
       "      <td>1</td>\n",
       "      <td>0</td>\n",
       "      <td>0</td>\n",
       "      <td>0</td>\n",
       "      <td>0</td>\n",
       "      <td>0</td>\n",
       "      <td>0</td>\n",
       "      <td>0</td>\n",
       "      <td>0</td>\n",
       "      <td>0</td>\n",
       "      <td>1</td>\n",
       "      <td>1</td>\n",
       "      <td>0</td>\n",
       "      <td>0</td>\n",
       "      <td>0</td>\n",
       "      <td>0</td>\n",
       "      <td>0</td>\n",
       "    </tr>\n",
       "    <tr>\n",
       "      <th>7936</th>\n",
       "      <td>774a3b07-491d-4311-ad51-b25cc8cc59ec</td>\n",
       "      <td>0</td>\n",
       "      <td>0</td>\n",
       "      <td>-0.419021</td>\n",
       "      <td>-0.743117</td>\n",
       "      <td>-0.133048</td>\n",
       "      <td>0</td>\n",
       "      <td>0</td>\n",
       "      <td>0</td>\n",
       "      <td>0</td>\n",
       "      <td>1</td>\n",
       "      <td>0</td>\n",
       "      <td>0</td>\n",
       "      <td>0</td>\n",
       "      <td>0</td>\n",
       "      <td>0</td>\n",
       "      <td>0</td>\n",
       "      <td>0</td>\n",
       "      <td>0</td>\n",
       "      <td>1</td>\n",
       "      <td>0</td>\n",
       "      <td>0</td>\n",
       "      <td>0</td>\n",
       "      <td>0</td>\n",
       "      <td>0</td>\n",
       "      <td>...</td>\n",
       "      <td>0</td>\n",
       "      <td>0</td>\n",
       "      <td>0</td>\n",
       "      <td>0</td>\n",
       "      <td>0</td>\n",
       "      <td>0</td>\n",
       "      <td>0</td>\n",
       "      <td>0</td>\n",
       "      <td>0</td>\n",
       "      <td>0</td>\n",
       "      <td>1</td>\n",
       "      <td>0</td>\n",
       "      <td>0</td>\n",
       "      <td>0</td>\n",
       "      <td>0</td>\n",
       "      <td>0</td>\n",
       "      <td>0</td>\n",
       "      <td>1</td>\n",
       "      <td>0</td>\n",
       "      <td>1</td>\n",
       "      <td>0</td>\n",
       "      <td>0</td>\n",
       "      <td>0</td>\n",
       "      <td>0</td>\n",
       "      <td>0</td>\n",
       "    </tr>\n",
       "    <tr>\n",
       "      <th>4216</th>\n",
       "      <td>16b63196-0da9-4b2d-974d-21d8f625f5ef</td>\n",
       "      <td>0</td>\n",
       "      <td>1</td>\n",
       "      <td>-1.142542</td>\n",
       "      <td>-0.878732</td>\n",
       "      <td>-1.265027</td>\n",
       "      <td>0</td>\n",
       "      <td>0</td>\n",
       "      <td>1</td>\n",
       "      <td>0</td>\n",
       "      <td>0</td>\n",
       "      <td>0</td>\n",
       "      <td>0</td>\n",
       "      <td>0</td>\n",
       "      <td>1</td>\n",
       "      <td>0</td>\n",
       "      <td>0</td>\n",
       "      <td>0</td>\n",
       "      <td>0</td>\n",
       "      <td>1</td>\n",
       "      <td>0</td>\n",
       "      <td>0</td>\n",
       "      <td>0</td>\n",
       "      <td>0</td>\n",
       "      <td>0</td>\n",
       "      <td>...</td>\n",
       "      <td>1</td>\n",
       "      <td>0</td>\n",
       "      <td>0</td>\n",
       "      <td>0</td>\n",
       "      <td>0</td>\n",
       "      <td>0</td>\n",
       "      <td>0</td>\n",
       "      <td>0</td>\n",
       "      <td>0</td>\n",
       "      <td>0</td>\n",
       "      <td>0</td>\n",
       "      <td>0</td>\n",
       "      <td>0</td>\n",
       "      <td>0</td>\n",
       "      <td>0</td>\n",
       "      <td>0</td>\n",
       "      <td>1</td>\n",
       "      <td>0</td>\n",
       "      <td>0</td>\n",
       "      <td>0</td>\n",
       "      <td>1</td>\n",
       "      <td>0</td>\n",
       "      <td>0</td>\n",
       "      <td>0</td>\n",
       "      <td>0</td>\n",
       "    </tr>\n",
       "    <tr>\n",
       "      <th>3830</th>\n",
       "      <td>cbd89429-18cd-47b1-9699-21987bd70a8e</td>\n",
       "      <td>0</td>\n",
       "      <td>0</td>\n",
       "      <td>1.751544</td>\n",
       "      <td>-0.578179</td>\n",
       "      <td>2.130909</td>\n",
       "      <td>1</td>\n",
       "      <td>1</td>\n",
       "      <td>0</td>\n",
       "      <td>0</td>\n",
       "      <td>0</td>\n",
       "      <td>0</td>\n",
       "      <td>1</td>\n",
       "      <td>0</td>\n",
       "      <td>0</td>\n",
       "      <td>0</td>\n",
       "      <td>0</td>\n",
       "      <td>0</td>\n",
       "      <td>0</td>\n",
       "      <td>1</td>\n",
       "      <td>0</td>\n",
       "      <td>0</td>\n",
       "      <td>0</td>\n",
       "      <td>0</td>\n",
       "      <td>0</td>\n",
       "      <td>...</td>\n",
       "      <td>0</td>\n",
       "      <td>0</td>\n",
       "      <td>0</td>\n",
       "      <td>0</td>\n",
       "      <td>0</td>\n",
       "      <td>0</td>\n",
       "      <td>0</td>\n",
       "      <td>0</td>\n",
       "      <td>0</td>\n",
       "      <td>0</td>\n",
       "      <td>0</td>\n",
       "      <td>1</td>\n",
       "      <td>0</td>\n",
       "      <td>0</td>\n",
       "      <td>0</td>\n",
       "      <td>0</td>\n",
       "      <td>0</td>\n",
       "      <td>1</td>\n",
       "      <td>0</td>\n",
       "      <td>1</td>\n",
       "      <td>0</td>\n",
       "      <td>0</td>\n",
       "      <td>0</td>\n",
       "      <td>0</td>\n",
       "      <td>0</td>\n",
       "    </tr>\n",
       "  </tbody>\n",
       "</table>\n",
       "<p>5 rows × 52 columns</p>\n",
       "</div>"
      ],
      "text/plain": [
       "                               Prospect ID  Do Not Email  Converted  \\\n",
       "3271  afc71cc4-67a4-42ae-89f7-779d20c5810d             0          0   \n",
       "1490  a8b4e742-2cce-4280-8549-a4a7d51a0fe2             0          1   \n",
       "7936  774a3b07-491d-4311-ad51-b25cc8cc59ec             0          0   \n",
       "4216  16b63196-0da9-4b2d-974d-21d8f625f5ef             0          1   \n",
       "3830  cbd89429-18cd-47b1-9699-21987bd70a8e             0          0   \n",
       "\n",
       "      TotalVisits  Total Time Spent on Website  Page Views Per Visit  \\\n",
       "3271     0.304501                    -0.591008              0.998931   \n",
       "1490     0.666261                     1.894051              1.564920   \n",
       "7936    -0.419021                    -0.743117             -0.133048   \n",
       "4216    -1.142542                    -0.878732             -1.265027   \n",
       "3830     1.751544                    -0.578179              2.130909   \n",
       "\n",
       "      A free copy of Mastering The Interview  \\\n",
       "3271                                       0   \n",
       "1490                                       1   \n",
       "7936                                       0   \n",
       "4216                                       0   \n",
       "3830                                       1   \n",
       "\n",
       "      Lead_Origin_Landing Page Submission  Lead_Origin_Lead Add Form  \\\n",
       "3271                                    0                          0   \n",
       "1490                                    1                          0   \n",
       "7936                                    0                          0   \n",
       "4216                                    0                          1   \n",
       "3830                                    1                          0   \n",
       "\n",
       "      Lead_Origin_Lead Import  Lead_Source_Google  Lead_Source_Olark Chat  \\\n",
       "3271                        0                   1                       0   \n",
       "1490                        0                   0                       0   \n",
       "7936                        0                   1                       0   \n",
       "4216                        0                   0                       0   \n",
       "3830                        0                   0                       0   \n",
       "\n",
       "      Lead_Source_Organic Search  Lead_Source_Other  Lead_Source_Reference  \\\n",
       "3271                           0                  0                      0   \n",
       "1490                           0                  0                      0   \n",
       "7936                           0                  0                      0   \n",
       "4216                           0                  0                      1   \n",
       "3830                           1                  0                      0   \n",
       "\n",
       "      Lead_Source_Referral Sites  Lead_Source_Welingak Website  \\\n",
       "3271                           0                             0   \n",
       "1490                           0                             0   \n",
       "7936                           0                             0   \n",
       "4216                           0                             0   \n",
       "3830                           0                             0   \n",
       "\n",
       "      Last_Activity_Email Bounced  Last_Activity_Email Link Clicked  \\\n",
       "3271                            0                                 0   \n",
       "1490                            0                                 0   \n",
       "7936                            0                                 0   \n",
       "4216                            0                                 0   \n",
       "3830                            0                                 0   \n",
       "\n",
       "      Last_Activity_Email Opened  Last_Activity_Form Submitted on Website  \\\n",
       "3271                           1                                        0   \n",
       "1490                           1                                        0   \n",
       "7936                           1                                        0   \n",
       "4216                           1                                        0   \n",
       "3830                           1                                        0   \n",
       "\n",
       "      Last_Activity_Olark Chat Conversation  Last_Activity_Other  \\\n",
       "3271                                      0                    0   \n",
       "1490                                      0                    0   \n",
       "7936                                      0                    0   \n",
       "4216                                      0                    0   \n",
       "3830                                      0                    0   \n",
       "\n",
       "      Last_Activity_Page Visited on Website  Last_Activity_SMS Sent  ...  \\\n",
       "3271                                      0                       0  ...   \n",
       "1490                                      0                       0  ...   \n",
       "7936                                      0                       0  ...   \n",
       "4216                                      0                       0  ...   \n",
       "3830                                      0                       0  ...   \n",
       "\n",
       "      Specialization_E-COMMERCE  Specialization_Finance Management  \\\n",
       "3271                          0                                  0   \n",
       "1490                          0                                  0   \n",
       "7936                          0                                  0   \n",
       "4216                          1                                  0   \n",
       "3830                          0                                  0   \n",
       "\n",
       "      Specialization_Healthcare Management  \\\n",
       "3271                                     0   \n",
       "1490                                     0   \n",
       "7936                                     0   \n",
       "4216                                     0   \n",
       "3830                                     0   \n",
       "\n",
       "      Specialization_Hospitality Management  \\\n",
       "3271                                      0   \n",
       "1490                                      0   \n",
       "7936                                      0   \n",
       "4216                                      0   \n",
       "3830                                      0   \n",
       "\n",
       "      Specialization_Human Resource Management  \\\n",
       "3271                                         0   \n",
       "1490                                         0   \n",
       "7936                                         0   \n",
       "4216                                         0   \n",
       "3830                                         0   \n",
       "\n",
       "      Specialization_IT Projects Management  \\\n",
       "3271                                      0   \n",
       "1490                                      0   \n",
       "7936                                      0   \n",
       "4216                                      0   \n",
       "3830                                      0   \n",
       "\n",
       "      Specialization_International Business  \\\n",
       "3271                                      0   \n",
       "1490                                      0   \n",
       "7936                                      0   \n",
       "4216                                      0   \n",
       "3830                                      0   \n",
       "\n",
       "      Specialization_Marketing Management  \\\n",
       "3271                                    0   \n",
       "1490                                    0   \n",
       "7936                                    0   \n",
       "4216                                    0   \n",
       "3830                                    0   \n",
       "\n",
       "      Specialization_Media and Advertising  \\\n",
       "3271                                     0   \n",
       "1490                                     1   \n",
       "7936                                     0   \n",
       "4216                                     0   \n",
       "3830                                     0   \n",
       "\n",
       "      Specialization_Operations Management  Specialization_Other  \\\n",
       "3271                                     0                     1   \n",
       "1490                                     0                     0   \n",
       "7936                                     0                     1   \n",
       "4216                                     0                     0   \n",
       "3830                                     0                     0   \n",
       "\n",
       "      Specialization_Retail Management  Specialization_Rural and Agribusiness  \\\n",
       "3271                                 0                                      0   \n",
       "1490                                 0                                      0   \n",
       "7936                                 0                                      0   \n",
       "4216                                 0                                      0   \n",
       "3830                                 1                                      0   \n",
       "\n",
       "      Specialization_Services Excellence  \\\n",
       "3271                                   0   \n",
       "1490                                   0   \n",
       "7936                                   0   \n",
       "4216                                   0   \n",
       "3830                                   0   \n",
       "\n",
       "      Specialization_Supply Chain Management  \\\n",
       "3271                                       0   \n",
       "1490                                       0   \n",
       "7936                                       0   \n",
       "4216                                       0   \n",
       "3830                                       0   \n",
       "\n",
       "      Specialization_Travel and Tourism  \\\n",
       "3271                                  0   \n",
       "1490                                  0   \n",
       "7936                                  0   \n",
       "4216                                  0   \n",
       "3830                                  0   \n",
       "\n",
       "      What_is_your_current_occupation_Student  \\\n",
       "3271                                        0   \n",
       "1490                                        0   \n",
       "7936                                        0   \n",
       "4216                                        1   \n",
       "3830                                        0   \n",
       "\n",
       "      What_is_your_current_occupation_Unemployed  \\\n",
       "3271                                           1   \n",
       "1490                                           0   \n",
       "7936                                           1   \n",
       "4216                                           0   \n",
       "3830                                           1   \n",
       "\n",
       "      What_is_your_current_occupation_Working Professional  \\\n",
       "3271                                                  0      \n",
       "1490                                                  1      \n",
       "7936                                                  0      \n",
       "4216                                                  0      \n",
       "3830                                                  0      \n",
       "\n",
       "      Last_Notable_Activity_Email Opened  Last_Notable_Activity_Modified  \\\n",
       "3271                                   1                               0   \n",
       "1490                                   1                               0   \n",
       "7936                                   1                               0   \n",
       "4216                                   0                               1   \n",
       "3830                                   1                               0   \n",
       "\n",
       "      Last_Notable_Activity_Olark Chat Conversation  \\\n",
       "3271                                              0   \n",
       "1490                                              0   \n",
       "7936                                              0   \n",
       "4216                                              0   \n",
       "3830                                              0   \n",
       "\n",
       "      Last_Notable_Activity_Other  \\\n",
       "3271                            0   \n",
       "1490                            0   \n",
       "7936                            0   \n",
       "4216                            0   \n",
       "3830                            0   \n",
       "\n",
       "      Last_Notable_Activity_Page Visited on Website  \\\n",
       "3271                                              0   \n",
       "1490                                              0   \n",
       "7936                                              0   \n",
       "4216                                              0   \n",
       "3830                                              0   \n",
       "\n",
       "      Last_Notable_Activity_SMS Sent  \n",
       "3271                               0  \n",
       "1490                               0  \n",
       "7936                               0  \n",
       "4216                               0  \n",
       "3830                               0  \n",
       "\n",
       "[5 rows x 52 columns]"
      ]
     },
     "execution_count": 283,
     "metadata": {},
     "output_type": "execute_result"
    }
   ],
   "source": [
    "# Checking data\n",
    "df_test.head()"
   ]
  },
  {
   "cell_type": "code",
   "execution_count": 284,
   "metadata": {},
   "outputs": [],
   "source": [
    "# putting data for x and y axis\n",
    "y_test = df_test.pop('Converted')\n",
    "x_test = df_test[col]"
   ]
  },
  {
   "cell_type": "code",
   "execution_count": 285,
   "metadata": {},
   "outputs": [],
   "source": [
    "# Predicting on test data set\n",
    "x_test_sm = sm.add_constant(x_test)\n",
    "y_test_pred = model9.predict(x_test_sm)"
   ]
  },
  {
   "cell_type": "code",
   "execution_count": 286,
   "metadata": {},
   "outputs": [],
   "source": [
    "# Creating data set\n",
    "y_test_pred_final = pd.DataFrame({'Prospect ID':df_test['Prospect ID'].values,'Converted':y_test.values,'Convert_Prob':y_test_pred})"
   ]
  },
  {
   "cell_type": "code",
   "execution_count": 287,
   "metadata": {},
   "outputs": [],
   "source": [
    "# Cut-off = .35\n",
    "y_test_pred_final['final_predicted'] = y_test_pred_final['Convert_Prob'].map(lambda x: 1 if x > .35 else 0)"
   ]
  },
  {
   "cell_type": "code",
   "execution_count": 294,
   "metadata": {},
   "outputs": [],
   "source": [
    "# Adding Score in the result data set\n",
    "y_test_pred_final['Score'] = y_test_pred_final['Convert_Prob'] * 100"
   ]
  },
  {
   "cell_type": "code",
   "execution_count": 295,
   "metadata": {},
   "outputs": [
    {
     "data": {
      "text/html": [
       "<div>\n",
       "<style scoped>\n",
       "    .dataframe tbody tr th:only-of-type {\n",
       "        vertical-align: middle;\n",
       "    }\n",
       "\n",
       "    .dataframe tbody tr th {\n",
       "        vertical-align: top;\n",
       "    }\n",
       "\n",
       "    .dataframe thead th {\n",
       "        text-align: right;\n",
       "    }\n",
       "</style>\n",
       "<table border=\"1\" class=\"dataframe\">\n",
       "  <thead>\n",
       "    <tr style=\"text-align: right;\">\n",
       "      <th></th>\n",
       "      <th>Prospect ID</th>\n",
       "      <th>Converted</th>\n",
       "      <th>Convert_Prob</th>\n",
       "      <th>final_predicted</th>\n",
       "      <th>Score</th>\n",
       "    </tr>\n",
       "  </thead>\n",
       "  <tbody>\n",
       "    <tr>\n",
       "      <th>3271</th>\n",
       "      <td>afc71cc4-67a4-42ae-89f7-779d20c5810d</td>\n",
       "      <td>0</td>\n",
       "      <td>0.133216</td>\n",
       "      <td>0</td>\n",
       "      <td>13.321609</td>\n",
       "    </tr>\n",
       "    <tr>\n",
       "      <th>1490</th>\n",
       "      <td>a8b4e742-2cce-4280-8549-a4a7d51a0fe2</td>\n",
       "      <td>1</td>\n",
       "      <td>0.971610</td>\n",
       "      <td>1</td>\n",
       "      <td>97.160991</td>\n",
       "    </tr>\n",
       "    <tr>\n",
       "      <th>7936</th>\n",
       "      <td>774a3b07-491d-4311-ad51-b25cc8cc59ec</td>\n",
       "      <td>0</td>\n",
       "      <td>0.115029</td>\n",
       "      <td>0</td>\n",
       "      <td>11.502903</td>\n",
       "    </tr>\n",
       "    <tr>\n",
       "      <th>4216</th>\n",
       "      <td>16b63196-0da9-4b2d-974d-21d8f625f5ef</td>\n",
       "      <td>1</td>\n",
       "      <td>0.828728</td>\n",
       "      <td>1</td>\n",
       "      <td>82.872757</td>\n",
       "    </tr>\n",
       "    <tr>\n",
       "      <th>3830</th>\n",
       "      <td>cbd89429-18cd-47b1-9699-21987bd70a8e</td>\n",
       "      <td>0</td>\n",
       "      <td>0.137089</td>\n",
       "      <td>0</td>\n",
       "      <td>13.708889</td>\n",
       "    </tr>\n",
       "  </tbody>\n",
       "</table>\n",
       "</div>"
      ],
      "text/plain": [
       "                               Prospect ID  Converted  Convert_Prob  \\\n",
       "3271  afc71cc4-67a4-42ae-89f7-779d20c5810d          0      0.133216   \n",
       "1490  a8b4e742-2cce-4280-8549-a4a7d51a0fe2          1      0.971610   \n",
       "7936  774a3b07-491d-4311-ad51-b25cc8cc59ec          0      0.115029   \n",
       "4216  16b63196-0da9-4b2d-974d-21d8f625f5ef          1      0.828728   \n",
       "3830  cbd89429-18cd-47b1-9699-21987bd70a8e          0      0.137089   \n",
       "\n",
       "      final_predicted      Score  \n",
       "3271                0  13.321609  \n",
       "1490                1  97.160991  \n",
       "7936                0  11.502903  \n",
       "4216                1  82.872757  \n",
       "3830                0  13.708889  "
      ]
     },
     "execution_count": 295,
     "metadata": {},
     "output_type": "execute_result"
    }
   ],
   "source": [
    "y_test_pred_final.head()"
   ]
  },
  {
   "cell_type": "code",
   "execution_count": 289,
   "metadata": {},
   "outputs": [
    {
     "data": {
      "text/plain": [
       "array([[1413,  321],\n",
       "       [ 201,  788]], dtype=int64)"
      ]
     },
     "execution_count": 289,
     "metadata": {},
     "output_type": "execute_result"
    }
   ],
   "source": [
    "# confusion_matrix\n",
    "confusion2 = confusion_matrix(y_test_pred_final['Converted'],y_test_pred_final['final_predicted'])\n",
    "confusion2"
   ]
  },
  {
   "cell_type": "code",
   "execution_count": 290,
   "metadata": {},
   "outputs": [
    {
     "data": {
      "text/plain": [
       "0.8082996694821888"
      ]
     },
     "execution_count": 290,
     "metadata": {},
     "output_type": "execute_result"
    }
   ],
   "source": [
    "# Accuracy Score\n",
    "accuracy_score(y_test_pred_final['Converted'],y_test_pred_final['final_predicted'])"
   ]
  },
  {
   "cell_type": "code",
   "execution_count": 291,
   "metadata": {},
   "outputs": [],
   "source": [
    "# Assigning variables\n",
    "TP = confusion2[1,1]   # True Positive\n",
    "TN = confusion2[0,0]   # True Negative\n",
    "FP = confusion2[0,1]   # False Positivea\n",
    "FN = confusion2[1,0]   # False Negative"
   ]
  },
  {
   "cell_type": "code",
   "execution_count": 292,
   "metadata": {},
   "outputs": [
    {
     "data": {
      "text/plain": [
       "0.7967644084934277"
      ]
     },
     "execution_count": 292,
     "metadata": {},
     "output_type": "execute_result"
    }
   ],
   "source": [
    "# Sensitivity\n",
    "TP/(TP+FN)"
   ]
  },
  {
   "cell_type": "code",
   "execution_count": 293,
   "metadata": {},
   "outputs": [
    {
     "data": {
      "text/plain": [
       "0.8148788927335641"
      ]
     },
     "execution_count": 293,
     "metadata": {},
     "output_type": "execute_result"
    }
   ],
   "source": [
    "# Specifity\n",
    "TN/(TN+FP)"
   ]
  },
  {
   "cell_type": "markdown",
   "metadata": {},
   "source": [
    "Overall the model has sensitivity as well as accuracy around 80% on both train data and test data. So I recommend to go with this model"
   ]
  }
 ],
 "metadata": {
  "kernelspec": {
   "display_name": "Python 3",
   "language": "python",
   "name": "python3"
  },
  "language_info": {
   "codemirror_mode": {
    "name": "ipython",
    "version": 3
   },
   "file_extension": ".py",
   "mimetype": "text/x-python",
   "name": "python",
   "nbconvert_exporter": "python",
   "pygments_lexer": "ipython3",
   "version": "3.7.6"
  }
 },
 "nbformat": 4,
 "nbformat_minor": 4
}
