{
 "cells": [
  {
   "cell_type": "code",
   "execution_count": 545,
   "metadata": {},
   "outputs": [],
   "source": [
    "# Importing required libraries\n",
    "import pandas as pd\n",
    "import numpy as np\n",
    "import matplotlib.pyplot as plt\n",
    "import seaborn as sns\n",
    "import warnings\n",
    "warnings.filterwarnings('ignore')"
   ]
  },
  {
   "cell_type": "code",
   "execution_count": 546,
   "metadata": {},
   "outputs": [],
   "source": [
    "# Importing dataset\n",
    "df = pd.read_csv('Leads.csv')"
   ]
  },
  {
   "cell_type": "markdown",
   "metadata": {},
   "source": [
    "## Data Inspection"
   ]
  },
  {
   "cell_type": "code",
   "execution_count": 547,
   "metadata": {},
   "outputs": [],
   "source": [
    "# To see whole dataset field values\n",
    "pd.set_option('display.max_columns',50)"
   ]
  },
  {
   "cell_type": "code",
   "execution_count": 548,
   "metadata": {},
   "outputs": [
    {
     "data": {
      "text/plain": [
       "(9240, 37)"
      ]
     },
     "execution_count": 548,
     "metadata": {},
     "output_type": "execute_result"
    }
   ],
   "source": [
    "df.shape"
   ]
  },
  {
   "cell_type": "code",
   "execution_count": 549,
   "metadata": {},
   "outputs": [
    {
     "data": {
      "text/html": [
       "<div>\n",
       "<style scoped>\n",
       "    .dataframe tbody tr th:only-of-type {\n",
       "        vertical-align: middle;\n",
       "    }\n",
       "\n",
       "    .dataframe tbody tr th {\n",
       "        vertical-align: top;\n",
       "    }\n",
       "\n",
       "    .dataframe thead th {\n",
       "        text-align: right;\n",
       "    }\n",
       "</style>\n",
       "<table border=\"1\" class=\"dataframe\">\n",
       "  <thead>\n",
       "    <tr style=\"text-align: right;\">\n",
       "      <th></th>\n",
       "      <th>Prospect ID</th>\n",
       "      <th>Lead Number</th>\n",
       "      <th>Lead Origin</th>\n",
       "      <th>Lead Source</th>\n",
       "      <th>Do Not Email</th>\n",
       "      <th>Do Not Call</th>\n",
       "      <th>Converted</th>\n",
       "      <th>TotalVisits</th>\n",
       "      <th>Total Time Spent on Website</th>\n",
       "      <th>Page Views Per Visit</th>\n",
       "      <th>Last Activity</th>\n",
       "      <th>Country</th>\n",
       "      <th>Specialization</th>\n",
       "      <th>How did you hear about X Education</th>\n",
       "      <th>What is your current occupation</th>\n",
       "      <th>What matters most to you in choosing a course</th>\n",
       "      <th>Search</th>\n",
       "      <th>Magazine</th>\n",
       "      <th>Newspaper Article</th>\n",
       "      <th>X Education Forums</th>\n",
       "      <th>Newspaper</th>\n",
       "      <th>Digital Advertisement</th>\n",
       "      <th>Through Recommendations</th>\n",
       "      <th>Receive More Updates About Our Courses</th>\n",
       "      <th>Tags</th>\n",
       "      <th>Lead Quality</th>\n",
       "      <th>Update me on Supply Chain Content</th>\n",
       "      <th>Get updates on DM Content</th>\n",
       "      <th>Lead Profile</th>\n",
       "      <th>City</th>\n",
       "      <th>Asymmetrique Activity Index</th>\n",
       "      <th>Asymmetrique Profile Index</th>\n",
       "      <th>Asymmetrique Activity Score</th>\n",
       "      <th>Asymmetrique Profile Score</th>\n",
       "      <th>I agree to pay the amount through cheque</th>\n",
       "      <th>A free copy of Mastering The Interview</th>\n",
       "      <th>Last Notable Activity</th>\n",
       "    </tr>\n",
       "  </thead>\n",
       "  <tbody>\n",
       "    <tr>\n",
       "      <th>0</th>\n",
       "      <td>7927b2df-8bba-4d29-b9a2-b6e0beafe620</td>\n",
       "      <td>660737</td>\n",
       "      <td>API</td>\n",
       "      <td>Olark Chat</td>\n",
       "      <td>No</td>\n",
       "      <td>No</td>\n",
       "      <td>0</td>\n",
       "      <td>0.0</td>\n",
       "      <td>0</td>\n",
       "      <td>0.0</td>\n",
       "      <td>Page Visited on Website</td>\n",
       "      <td>NaN</td>\n",
       "      <td>Select</td>\n",
       "      <td>Select</td>\n",
       "      <td>Unemployed</td>\n",
       "      <td>Better Career Prospects</td>\n",
       "      <td>No</td>\n",
       "      <td>No</td>\n",
       "      <td>No</td>\n",
       "      <td>No</td>\n",
       "      <td>No</td>\n",
       "      <td>No</td>\n",
       "      <td>No</td>\n",
       "      <td>No</td>\n",
       "      <td>Interested in other courses</td>\n",
       "      <td>Low in Relevance</td>\n",
       "      <td>No</td>\n",
       "      <td>No</td>\n",
       "      <td>Select</td>\n",
       "      <td>Select</td>\n",
       "      <td>02.Medium</td>\n",
       "      <td>02.Medium</td>\n",
       "      <td>15.0</td>\n",
       "      <td>15.0</td>\n",
       "      <td>No</td>\n",
       "      <td>No</td>\n",
       "      <td>Modified</td>\n",
       "    </tr>\n",
       "    <tr>\n",
       "      <th>1</th>\n",
       "      <td>2a272436-5132-4136-86fa-dcc88c88f482</td>\n",
       "      <td>660728</td>\n",
       "      <td>API</td>\n",
       "      <td>Organic Search</td>\n",
       "      <td>No</td>\n",
       "      <td>No</td>\n",
       "      <td>0</td>\n",
       "      <td>5.0</td>\n",
       "      <td>674</td>\n",
       "      <td>2.5</td>\n",
       "      <td>Email Opened</td>\n",
       "      <td>India</td>\n",
       "      <td>Select</td>\n",
       "      <td>Select</td>\n",
       "      <td>Unemployed</td>\n",
       "      <td>Better Career Prospects</td>\n",
       "      <td>No</td>\n",
       "      <td>No</td>\n",
       "      <td>No</td>\n",
       "      <td>No</td>\n",
       "      <td>No</td>\n",
       "      <td>No</td>\n",
       "      <td>No</td>\n",
       "      <td>No</td>\n",
       "      <td>Ringing</td>\n",
       "      <td>NaN</td>\n",
       "      <td>No</td>\n",
       "      <td>No</td>\n",
       "      <td>Select</td>\n",
       "      <td>Select</td>\n",
       "      <td>02.Medium</td>\n",
       "      <td>02.Medium</td>\n",
       "      <td>15.0</td>\n",
       "      <td>15.0</td>\n",
       "      <td>No</td>\n",
       "      <td>No</td>\n",
       "      <td>Email Opened</td>\n",
       "    </tr>\n",
       "    <tr>\n",
       "      <th>2</th>\n",
       "      <td>8cc8c611-a219-4f35-ad23-fdfd2656bd8a</td>\n",
       "      <td>660727</td>\n",
       "      <td>Landing Page Submission</td>\n",
       "      <td>Direct Traffic</td>\n",
       "      <td>No</td>\n",
       "      <td>No</td>\n",
       "      <td>1</td>\n",
       "      <td>2.0</td>\n",
       "      <td>1532</td>\n",
       "      <td>2.0</td>\n",
       "      <td>Email Opened</td>\n",
       "      <td>India</td>\n",
       "      <td>Business Administration</td>\n",
       "      <td>Select</td>\n",
       "      <td>Student</td>\n",
       "      <td>Better Career Prospects</td>\n",
       "      <td>No</td>\n",
       "      <td>No</td>\n",
       "      <td>No</td>\n",
       "      <td>No</td>\n",
       "      <td>No</td>\n",
       "      <td>No</td>\n",
       "      <td>No</td>\n",
       "      <td>No</td>\n",
       "      <td>Will revert after reading the email</td>\n",
       "      <td>Might be</td>\n",
       "      <td>No</td>\n",
       "      <td>No</td>\n",
       "      <td>Potential Lead</td>\n",
       "      <td>Mumbai</td>\n",
       "      <td>02.Medium</td>\n",
       "      <td>01.High</td>\n",
       "      <td>14.0</td>\n",
       "      <td>20.0</td>\n",
       "      <td>No</td>\n",
       "      <td>Yes</td>\n",
       "      <td>Email Opened</td>\n",
       "    </tr>\n",
       "    <tr>\n",
       "      <th>3</th>\n",
       "      <td>0cc2df48-7cf4-4e39-9de9-19797f9b38cc</td>\n",
       "      <td>660719</td>\n",
       "      <td>Landing Page Submission</td>\n",
       "      <td>Direct Traffic</td>\n",
       "      <td>No</td>\n",
       "      <td>No</td>\n",
       "      <td>0</td>\n",
       "      <td>1.0</td>\n",
       "      <td>305</td>\n",
       "      <td>1.0</td>\n",
       "      <td>Unreachable</td>\n",
       "      <td>India</td>\n",
       "      <td>Media and Advertising</td>\n",
       "      <td>Word Of Mouth</td>\n",
       "      <td>Unemployed</td>\n",
       "      <td>Better Career Prospects</td>\n",
       "      <td>No</td>\n",
       "      <td>No</td>\n",
       "      <td>No</td>\n",
       "      <td>No</td>\n",
       "      <td>No</td>\n",
       "      <td>No</td>\n",
       "      <td>No</td>\n",
       "      <td>No</td>\n",
       "      <td>Ringing</td>\n",
       "      <td>Not Sure</td>\n",
       "      <td>No</td>\n",
       "      <td>No</td>\n",
       "      <td>Select</td>\n",
       "      <td>Mumbai</td>\n",
       "      <td>02.Medium</td>\n",
       "      <td>01.High</td>\n",
       "      <td>13.0</td>\n",
       "      <td>17.0</td>\n",
       "      <td>No</td>\n",
       "      <td>No</td>\n",
       "      <td>Modified</td>\n",
       "    </tr>\n",
       "    <tr>\n",
       "      <th>4</th>\n",
       "      <td>3256f628-e534-4826-9d63-4a8b88782852</td>\n",
       "      <td>660681</td>\n",
       "      <td>Landing Page Submission</td>\n",
       "      <td>Google</td>\n",
       "      <td>No</td>\n",
       "      <td>No</td>\n",
       "      <td>1</td>\n",
       "      <td>2.0</td>\n",
       "      <td>1428</td>\n",
       "      <td>1.0</td>\n",
       "      <td>Converted to Lead</td>\n",
       "      <td>India</td>\n",
       "      <td>Select</td>\n",
       "      <td>Other</td>\n",
       "      <td>Unemployed</td>\n",
       "      <td>Better Career Prospects</td>\n",
       "      <td>No</td>\n",
       "      <td>No</td>\n",
       "      <td>No</td>\n",
       "      <td>No</td>\n",
       "      <td>No</td>\n",
       "      <td>No</td>\n",
       "      <td>No</td>\n",
       "      <td>No</td>\n",
       "      <td>Will revert after reading the email</td>\n",
       "      <td>Might be</td>\n",
       "      <td>No</td>\n",
       "      <td>No</td>\n",
       "      <td>Select</td>\n",
       "      <td>Mumbai</td>\n",
       "      <td>02.Medium</td>\n",
       "      <td>01.High</td>\n",
       "      <td>15.0</td>\n",
       "      <td>18.0</td>\n",
       "      <td>No</td>\n",
       "      <td>No</td>\n",
       "      <td>Modified</td>\n",
       "    </tr>\n",
       "  </tbody>\n",
       "</table>\n",
       "</div>"
      ],
      "text/plain": [
       "                            Prospect ID  Lead Number              Lead Origin  \\\n",
       "0  7927b2df-8bba-4d29-b9a2-b6e0beafe620       660737                      API   \n",
       "1  2a272436-5132-4136-86fa-dcc88c88f482       660728                      API   \n",
       "2  8cc8c611-a219-4f35-ad23-fdfd2656bd8a       660727  Landing Page Submission   \n",
       "3  0cc2df48-7cf4-4e39-9de9-19797f9b38cc       660719  Landing Page Submission   \n",
       "4  3256f628-e534-4826-9d63-4a8b88782852       660681  Landing Page Submission   \n",
       "\n",
       "      Lead Source Do Not Email Do Not Call  Converted  TotalVisits  \\\n",
       "0      Olark Chat           No          No          0          0.0   \n",
       "1  Organic Search           No          No          0          5.0   \n",
       "2  Direct Traffic           No          No          1          2.0   \n",
       "3  Direct Traffic           No          No          0          1.0   \n",
       "4          Google           No          No          1          2.0   \n",
       "\n",
       "   Total Time Spent on Website  Page Views Per Visit            Last Activity  \\\n",
       "0                            0                   0.0  Page Visited on Website   \n",
       "1                          674                   2.5             Email Opened   \n",
       "2                         1532                   2.0             Email Opened   \n",
       "3                          305                   1.0              Unreachable   \n",
       "4                         1428                   1.0        Converted to Lead   \n",
       "\n",
       "  Country           Specialization How did you hear about X Education  \\\n",
       "0     NaN                   Select                             Select   \n",
       "1   India                   Select                             Select   \n",
       "2   India  Business Administration                             Select   \n",
       "3   India    Media and Advertising                      Word Of Mouth   \n",
       "4   India                   Select                              Other   \n",
       "\n",
       "  What is your current occupation  \\\n",
       "0                      Unemployed   \n",
       "1                      Unemployed   \n",
       "2                         Student   \n",
       "3                      Unemployed   \n",
       "4                      Unemployed   \n",
       "\n",
       "  What matters most to you in choosing a course Search Magazine  \\\n",
       "0                       Better Career Prospects     No       No   \n",
       "1                       Better Career Prospects     No       No   \n",
       "2                       Better Career Prospects     No       No   \n",
       "3                       Better Career Prospects     No       No   \n",
       "4                       Better Career Prospects     No       No   \n",
       "\n",
       "  Newspaper Article X Education Forums Newspaper Digital Advertisement  \\\n",
       "0                No                 No        No                    No   \n",
       "1                No                 No        No                    No   \n",
       "2                No                 No        No                    No   \n",
       "3                No                 No        No                    No   \n",
       "4                No                 No        No                    No   \n",
       "\n",
       "  Through Recommendations Receive More Updates About Our Courses  \\\n",
       "0                      No                                     No   \n",
       "1                      No                                     No   \n",
       "2                      No                                     No   \n",
       "3                      No                                     No   \n",
       "4                      No                                     No   \n",
       "\n",
       "                                  Tags      Lead Quality  \\\n",
       "0          Interested in other courses  Low in Relevance   \n",
       "1                              Ringing               NaN   \n",
       "2  Will revert after reading the email          Might be   \n",
       "3                              Ringing          Not Sure   \n",
       "4  Will revert after reading the email          Might be   \n",
       "\n",
       "  Update me on Supply Chain Content Get updates on DM Content    Lead Profile  \\\n",
       "0                                No                        No          Select   \n",
       "1                                No                        No          Select   \n",
       "2                                No                        No  Potential Lead   \n",
       "3                                No                        No          Select   \n",
       "4                                No                        No          Select   \n",
       "\n",
       "     City Asymmetrique Activity Index Asymmetrique Profile Index  \\\n",
       "0  Select                   02.Medium                  02.Medium   \n",
       "1  Select                   02.Medium                  02.Medium   \n",
       "2  Mumbai                   02.Medium                    01.High   \n",
       "3  Mumbai                   02.Medium                    01.High   \n",
       "4  Mumbai                   02.Medium                    01.High   \n",
       "\n",
       "   Asymmetrique Activity Score  Asymmetrique Profile Score  \\\n",
       "0                         15.0                        15.0   \n",
       "1                         15.0                        15.0   \n",
       "2                         14.0                        20.0   \n",
       "3                         13.0                        17.0   \n",
       "4                         15.0                        18.0   \n",
       "\n",
       "  I agree to pay the amount through cheque  \\\n",
       "0                                       No   \n",
       "1                                       No   \n",
       "2                                       No   \n",
       "3                                       No   \n",
       "4                                       No   \n",
       "\n",
       "  A free copy of Mastering The Interview Last Notable Activity  \n",
       "0                                     No              Modified  \n",
       "1                                     No          Email Opened  \n",
       "2                                    Yes          Email Opened  \n",
       "3                                     No              Modified  \n",
       "4                                     No              Modified  "
      ]
     },
     "execution_count": 549,
     "metadata": {},
     "output_type": "execute_result"
    }
   ],
   "source": [
    "df.head()"
   ]
  },
  {
   "cell_type": "code",
   "execution_count": 550,
   "metadata": {},
   "outputs": [
    {
     "name": "stdout",
     "output_type": "stream",
     "text": [
      "<class 'pandas.core.frame.DataFrame'>\n",
      "RangeIndex: 9240 entries, 0 to 9239\n",
      "Data columns (total 37 columns):\n",
      " #   Column                                         Non-Null Count  Dtype  \n",
      "---  ------                                         --------------  -----  \n",
      " 0   Prospect ID                                    9240 non-null   object \n",
      " 1   Lead Number                                    9240 non-null   int64  \n",
      " 2   Lead Origin                                    9240 non-null   object \n",
      " 3   Lead Source                                    9204 non-null   object \n",
      " 4   Do Not Email                                   9240 non-null   object \n",
      " 5   Do Not Call                                    9240 non-null   object \n",
      " 6   Converted                                      9240 non-null   int64  \n",
      " 7   TotalVisits                                    9103 non-null   float64\n",
      " 8   Total Time Spent on Website                    9240 non-null   int64  \n",
      " 9   Page Views Per Visit                           9103 non-null   float64\n",
      " 10  Last Activity                                  9137 non-null   object \n",
      " 11  Country                                        6779 non-null   object \n",
      " 12  Specialization                                 7802 non-null   object \n",
      " 13  How did you hear about X Education             7033 non-null   object \n",
      " 14  What is your current occupation                6550 non-null   object \n",
      " 15  What matters most to you in choosing a course  6531 non-null   object \n",
      " 16  Search                                         9240 non-null   object \n",
      " 17  Magazine                                       9240 non-null   object \n",
      " 18  Newspaper Article                              9240 non-null   object \n",
      " 19  X Education Forums                             9240 non-null   object \n",
      " 20  Newspaper                                      9240 non-null   object \n",
      " 21  Digital Advertisement                          9240 non-null   object \n",
      " 22  Through Recommendations                        9240 non-null   object \n",
      " 23  Receive More Updates About Our Courses         9240 non-null   object \n",
      " 24  Tags                                           5887 non-null   object \n",
      " 25  Lead Quality                                   4473 non-null   object \n",
      " 26  Update me on Supply Chain Content              9240 non-null   object \n",
      " 27  Get updates on DM Content                      9240 non-null   object \n",
      " 28  Lead Profile                                   6531 non-null   object \n",
      " 29  City                                           7820 non-null   object \n",
      " 30  Asymmetrique Activity Index                    5022 non-null   object \n",
      " 31  Asymmetrique Profile Index                     5022 non-null   object \n",
      " 32  Asymmetrique Activity Score                    5022 non-null   float64\n",
      " 33  Asymmetrique Profile Score                     5022 non-null   float64\n",
      " 34  I agree to pay the amount through cheque       9240 non-null   object \n",
      " 35  A free copy of Mastering The Interview         9240 non-null   object \n",
      " 36  Last Notable Activity                          9240 non-null   object \n",
      "dtypes: float64(4), int64(3), object(30)\n",
      "memory usage: 2.6+ MB\n"
     ]
    }
   ],
   "source": [
    "df.info()"
   ]
  },
  {
   "cell_type": "markdown",
   "metadata": {},
   "source": [
    "# Data Cleaning"
   ]
  },
  {
   "cell_type": "markdown",
   "metadata": {},
   "source": [
    "### Dropping some fields which were assigned as an indicator to customers to get status as Lead(It will not be avaialbe when applying the model"
   ]
  },
  {
   "cell_type": "code",
   "execution_count": 551,
   "metadata": {},
   "outputs": [],
   "source": [
    "# Dropping columns 'Tags', 'Lead Quality','Lead Profile',Asymmetrique Activity Index','Asymmetrique Profile Index','Asymmetrique Activity Score','Asymmetrique Profile Score'\n",
    "\n",
    "drop_vars = ['Tags', 'Lead Quality','Lead Profile','Asymmetrique Activity Index','Asymmetrique Profile Index','Asymmetrique Activity Score','Asymmetrique Profile Score']\n",
    "df.drop(drop_vars, axis=1, inplace=True)"
   ]
  },
  {
   "cell_type": "markdown",
   "metadata": {},
   "source": [
    "### Missing values treatment and Categorisation"
   ]
  },
  {
   "cell_type": "code",
   "execution_count": 552,
   "metadata": {},
   "outputs": [],
   "source": [
    "# There are some categorical fields which have values as \"Select\" which is equevalant to null so replacing them with NaN\n",
    "df=df.replace('Select', np.NaN)"
   ]
  },
  {
   "cell_type": "code",
   "execution_count": 553,
   "metadata": {},
   "outputs": [
    {
     "data": {
      "text/plain": [
       "Prospect ID                                      0.000000\n",
       "Lead Number                                      0.000000\n",
       "Lead Origin                                      0.000000\n",
       "Lead Source                                      0.003896\n",
       "Do Not Email                                     0.000000\n",
       "Do Not Call                                      0.000000\n",
       "Converted                                        0.000000\n",
       "TotalVisits                                      0.014827\n",
       "Total Time Spent on Website                      0.000000\n",
       "Page Views Per Visit                             0.014827\n",
       "Last Activity                                    0.011147\n",
       "Country                                          0.266342\n",
       "Specialization                                   0.365801\n",
       "How did you hear about X Education               0.784632\n",
       "What is your current occupation                  0.291126\n",
       "What matters most to you in choosing a course    0.293182\n",
       "Search                                           0.000000\n",
       "Magazine                                         0.000000\n",
       "Newspaper Article                                0.000000\n",
       "X Education Forums                               0.000000\n",
       "Newspaper                                        0.000000\n",
       "Digital Advertisement                            0.000000\n",
       "Through Recommendations                          0.000000\n",
       "Receive More Updates About Our Courses           0.000000\n",
       "Update me on Supply Chain Content                0.000000\n",
       "Get updates on DM Content                        0.000000\n",
       "City                                             0.397078\n",
       "I agree to pay the amount through cheque         0.000000\n",
       "A free copy of Mastering The Interview           0.000000\n",
       "Last Notable Activity                            0.000000\n",
       "dtype: float64"
      ]
     },
     "execution_count": 553,
     "metadata": {},
     "output_type": "execute_result"
    }
   ],
   "source": [
    "# Getting percentage of missing values\n",
    "df.isnull().sum(axis=0)/len(df)"
   ]
  },
  {
   "cell_type": "code",
   "execution_count": 554,
   "metadata": {},
   "outputs": [],
   "source": [
    "# Dropping rows of columns which are having very less percentage null values\n",
    "df.dropna(subset=['Lead Source','TotalVisits','Page Views Per Visit'], inplace = True)"
   ]
  },
  {
   "cell_type": "code",
   "execution_count": 555,
   "metadata": {},
   "outputs": [],
   "source": [
    "# Dropping the feature as it has very large percentage of missing values(around 78%)\n",
    "df.drop('How did you hear about X Education', axis =1, inplace = True)"
   ]
  },
  {
   "cell_type": "code",
   "execution_count": 556,
   "metadata": {},
   "outputs": [
    {
     "data": {
      "text/plain": [
       "India                   0.715341\n",
       "NaN                     0.253031\n",
       "United States           0.007604\n",
       "United Arab Emirates    0.005841\n",
       "Singapore               0.002645\n",
       "Saudi Arabia            0.002314\n",
       "United Kingdom          0.001653\n",
       "Australia               0.001433\n",
       "Qatar                   0.001102\n",
       "Hong Kong               0.000771\n",
       "Bahrain                 0.000771\n",
       "Oman                    0.000661\n",
       "France                  0.000661\n",
       "unknown                 0.000551\n",
       "Nigeria                 0.000441\n",
       "Kuwait                  0.000441\n",
       "Canada                  0.000441\n",
       "South Africa            0.000441\n",
       "Germany                 0.000441\n",
       "Sweden                  0.000331\n",
       "Ghana                   0.000220\n",
       "Bangladesh              0.000220\n",
       "Italy                   0.000220\n",
       "China                   0.000220\n",
       "Netherlands             0.000220\n",
       "Philippines             0.000220\n",
       "Uganda                  0.000220\n",
       "Belgium                 0.000220\n",
       "Asia/Pacific Region     0.000220\n",
       "Indonesia               0.000110\n",
       "Denmark                 0.000110\n",
       "Liberia                 0.000110\n",
       "Russia                  0.000110\n",
       "Sri Lanka               0.000110\n",
       "Tanzania                0.000110\n",
       "Malaysia                0.000110\n",
       "Switzerland             0.000110\n",
       "Vietnam                 0.000110\n",
       "Kenya                   0.000110\n",
       "Name: Country, dtype: float64"
      ]
     },
     "execution_count": 556,
     "metadata": {},
     "output_type": "execute_result"
    }
   ],
   "source": [
    "# Checkig values in the field 'Country'\n",
    "df.Country.value_counts(normalize = True,dropna=False)"
   ]
  },
  {
   "cell_type": "markdown",
   "metadata": {},
   "source": [
    "We can drop 'Country' as its very much skewed. 71% is India and 25% null."
   ]
  },
  {
   "cell_type": "code",
   "execution_count": 557,
   "metadata": {},
   "outputs": [],
   "source": [
    "# Dropping the Country field due to skewness in data\n",
    "df.drop('Country', axis=1, inplace=True)"
   ]
  },
  {
   "cell_type": "code",
   "execution_count": 558,
   "metadata": {},
   "outputs": [
    {
     "data": {
      "text/plain": [
       "NaN                                  3282\n",
       "Finance Management                    959\n",
       "Human Resource Management             837\n",
       "Marketing Management                  823\n",
       "Operations Management                 499\n",
       "Business Administration               399\n",
       "IT Projects Management                366\n",
       "Supply Chain Management               346\n",
       "Banking, Investment And Insurance     335\n",
       "Media and Advertising                 202\n",
       "Travel and Tourism                    202\n",
       "International Business                176\n",
       "Healthcare Management                 156\n",
       "Hospitality Management                111\n",
       "E-COMMERCE                            111\n",
       "Retail Management                     100\n",
       "Rural and Agribusiness                 73\n",
       "E-Business                             57\n",
       "Services Excellence                    40\n",
       "Name: Specialization, dtype: int64"
      ]
     },
     "execution_count": 558,
     "metadata": {},
     "output_type": "execute_result"
    }
   ],
   "source": [
    "# Checking values of feature \"Specialization\". It has 36.17 percentage null value\n",
    "df['Specialization'].value_counts(dropna=False)"
   ]
  },
  {
   "cell_type": "markdown",
   "metadata": {},
   "source": [
    "Replacing the null values with Other category"
   ]
  },
  {
   "cell_type": "code",
   "execution_count": 559,
   "metadata": {},
   "outputs": [],
   "source": [
    "# Replacing the null values with category as Other\n",
    "df['Specialization'].fillna('Other',inplace=True)"
   ]
  },
  {
   "cell_type": "code",
   "execution_count": 560,
   "metadata": {},
   "outputs": [
    {
     "data": {
      "text/plain": [
       "Unemployed              5476\n",
       "NaN                     2683\n",
       "Working Professional     677\n",
       "Student                  206\n",
       "Other                     15\n",
       "Housewife                  9\n",
       "Businessman                8\n",
       "Name: What is your current occupation, dtype: int64"
      ]
     },
     "execution_count": 560,
     "metadata": {},
     "output_type": "execute_result"
    }
   ],
   "source": [
    "# Checking the values of the field \"What is your current occupation\"\n",
    "df['What is your current occupation'].value_counts(dropna=False)"
   ]
  },
  {
   "cell_type": "code",
   "execution_count": 561,
   "metadata": {},
   "outputs": [],
   "source": [
    "# Grouping the null values in a category called 'Unknown' as the percentage is high for null so not classifying with other catefgory\n",
    "df['What is your current occupation'] = df['What is your current occupation'].fillna('Unknown')"
   ]
  },
  {
   "cell_type": "code",
   "execution_count": 562,
   "metadata": {},
   "outputs": [],
   "source": [
    "# Grouping the Housewife and Busunessman with Other category reduce number of category in dummification\n",
    "df['What is your current occupation'] = df['What is your current occupation'].replace({'Housewife':'Other','Businessman':'Other'})"
   ]
  },
  {
   "cell_type": "code",
   "execution_count": 563,
   "metadata": {},
   "outputs": [
    {
     "data": {
      "text/plain": [
       "Unemployed              5476\n",
       "Unknown                 2683\n",
       "Working Professional     677\n",
       "Student                  206\n",
       "Other                     32\n",
       "Name: What is your current occupation, dtype: int64"
      ]
     },
     "execution_count": 563,
     "metadata": {},
     "output_type": "execute_result"
    }
   ],
   "source": [
    "# Checking data again in the field in  'What is your current occupation'\n",
    "df['What is your current occupation'].value_counts(dropna=False)"
   ]
  },
  {
   "cell_type": "code",
   "execution_count": 564,
   "metadata": {},
   "outputs": [
    {
     "data": {
      "text/plain": [
       "Better Career Prospects      6370\n",
       "NaN                          2702\n",
       "Flexibility & Convenience       1\n",
       "Other                           1\n",
       "Name: What matters most to you in choosing a course, dtype: int64"
      ]
     },
     "execution_count": 564,
     "metadata": {},
     "output_type": "execute_result"
    }
   ],
   "source": [
    "# Checking data in the field \"What matters most to you in choosing a course\"\n",
    "df['What matters most to you in choosing a course'].value_counts(dropna=False)"
   ]
  },
  {
   "cell_type": "markdown",
   "metadata": {},
   "source": [
    "The data in the field is skewed so it is better to drop the field."
   ]
  },
  {
   "cell_type": "code",
   "execution_count": 565,
   "metadata": {},
   "outputs": [],
   "source": [
    "# Dropping the field \"What matters most to you in choosing a course\"\n",
    "df.drop('What matters most to you in choosing a course', axis=1, inplace = True)"
   ]
  },
  {
   "cell_type": "code",
   "execution_count": 566,
   "metadata": {},
   "outputs": [
    {
     "data": {
      "text/plain": [
       "NaN                            0.393983\n",
       "Mumbai                         0.350121\n",
       "Thane & Outskirts              0.082103\n",
       "Other Cities                   0.074939\n",
       "Other Cities of Maharashtra    0.049151\n",
       "Other Metro Cities             0.041547\n",
       "Tier II Cities                 0.008155\n",
       "Name: City, dtype: float64"
      ]
     },
     "execution_count": 566,
     "metadata": {},
     "output_type": "execute_result"
    }
   ],
   "source": [
    "# Checking data in City\n",
    "df.City.value_counts(normalize=True,dropna=False)"
   ]
  },
  {
   "cell_type": "code",
   "execution_count": 567,
   "metadata": {},
   "outputs": [],
   "source": [
    "# Dropping City field as it around 40 % of data missing\n",
    "df.drop('City',axis=1, inplace = True)"
   ]
  },
  {
   "cell_type": "code",
   "execution_count": 568,
   "metadata": {},
   "outputs": [
    {
     "data": {
      "text/plain": [
       "Prospect ID                                 0.0\n",
       "Lead Number                                 0.0\n",
       "Lead Origin                                 0.0\n",
       "Lead Source                                 0.0\n",
       "Do Not Email                                0.0\n",
       "Do Not Call                                 0.0\n",
       "Converted                                   0.0\n",
       "TotalVisits                                 0.0\n",
       "Total Time Spent on Website                 0.0\n",
       "Page Views Per Visit                        0.0\n",
       "Last Activity                               0.0\n",
       "Specialization                              0.0\n",
       "What is your current occupation             0.0\n",
       "Search                                      0.0\n",
       "Magazine                                    0.0\n",
       "Newspaper Article                           0.0\n",
       "X Education Forums                          0.0\n",
       "Newspaper                                   0.0\n",
       "Digital Advertisement                       0.0\n",
       "Through Recommendations                     0.0\n",
       "Receive More Updates About Our Courses      0.0\n",
       "Update me on Supply Chain Content           0.0\n",
       "Get updates on DM Content                   0.0\n",
       "I agree to pay the amount through cheque    0.0\n",
       "A free copy of Mastering The Interview      0.0\n",
       "Last Notable Activity                       0.0\n",
       "dtype: float64"
      ]
     },
     "execution_count": 568,
     "metadata": {},
     "output_type": "execute_result"
    }
   ],
   "source": [
    "# Checking again for any null values\n",
    "df.isnull().sum(axis=0)/len(df)"
   ]
  },
  {
   "cell_type": "code",
   "execution_count": 569,
   "metadata": {},
   "outputs": [],
   "source": [
    "# Dropping field 'Lead Number' as this is assigned to each customer so it is not usefull for machine learning\n",
    "df.drop(['Lead Number'],axis=1, inplace = True)"
   ]
  },
  {
   "cell_type": "code",
   "execution_count": 570,
   "metadata": {},
   "outputs": [
    {
     "data": {
      "text/html": [
       "<div>\n",
       "<style scoped>\n",
       "    .dataframe tbody tr th:only-of-type {\n",
       "        vertical-align: middle;\n",
       "    }\n",
       "\n",
       "    .dataframe tbody tr th {\n",
       "        vertical-align: top;\n",
       "    }\n",
       "\n",
       "    .dataframe thead th {\n",
       "        text-align: right;\n",
       "    }\n",
       "</style>\n",
       "<table border=\"1\" class=\"dataframe\">\n",
       "  <thead>\n",
       "    <tr style=\"text-align: right;\">\n",
       "      <th></th>\n",
       "      <th>Prospect ID</th>\n",
       "      <th>Lead Origin</th>\n",
       "      <th>Lead Source</th>\n",
       "      <th>Do Not Email</th>\n",
       "      <th>Do Not Call</th>\n",
       "      <th>Converted</th>\n",
       "      <th>TotalVisits</th>\n",
       "      <th>Total Time Spent on Website</th>\n",
       "      <th>Page Views Per Visit</th>\n",
       "      <th>Last Activity</th>\n",
       "      <th>Specialization</th>\n",
       "      <th>What is your current occupation</th>\n",
       "      <th>Search</th>\n",
       "      <th>Magazine</th>\n",
       "      <th>Newspaper Article</th>\n",
       "      <th>X Education Forums</th>\n",
       "      <th>Newspaper</th>\n",
       "      <th>Digital Advertisement</th>\n",
       "      <th>Through Recommendations</th>\n",
       "      <th>Receive More Updates About Our Courses</th>\n",
       "      <th>Update me on Supply Chain Content</th>\n",
       "      <th>Get updates on DM Content</th>\n",
       "      <th>I agree to pay the amount through cheque</th>\n",
       "      <th>A free copy of Mastering The Interview</th>\n",
       "      <th>Last Notable Activity</th>\n",
       "    </tr>\n",
       "  </thead>\n",
       "  <tbody>\n",
       "    <tr>\n",
       "      <th>0</th>\n",
       "      <td>7927b2df-8bba-4d29-b9a2-b6e0beafe620</td>\n",
       "      <td>API</td>\n",
       "      <td>Olark Chat</td>\n",
       "      <td>No</td>\n",
       "      <td>No</td>\n",
       "      <td>0</td>\n",
       "      <td>0.0</td>\n",
       "      <td>0</td>\n",
       "      <td>0.0</td>\n",
       "      <td>Page Visited on Website</td>\n",
       "      <td>Other</td>\n",
       "      <td>Unemployed</td>\n",
       "      <td>No</td>\n",
       "      <td>No</td>\n",
       "      <td>No</td>\n",
       "      <td>No</td>\n",
       "      <td>No</td>\n",
       "      <td>No</td>\n",
       "      <td>No</td>\n",
       "      <td>No</td>\n",
       "      <td>No</td>\n",
       "      <td>No</td>\n",
       "      <td>No</td>\n",
       "      <td>No</td>\n",
       "      <td>Modified</td>\n",
       "    </tr>\n",
       "    <tr>\n",
       "      <th>1</th>\n",
       "      <td>2a272436-5132-4136-86fa-dcc88c88f482</td>\n",
       "      <td>API</td>\n",
       "      <td>Organic Search</td>\n",
       "      <td>No</td>\n",
       "      <td>No</td>\n",
       "      <td>0</td>\n",
       "      <td>5.0</td>\n",
       "      <td>674</td>\n",
       "      <td>2.5</td>\n",
       "      <td>Email Opened</td>\n",
       "      <td>Other</td>\n",
       "      <td>Unemployed</td>\n",
       "      <td>No</td>\n",
       "      <td>No</td>\n",
       "      <td>No</td>\n",
       "      <td>No</td>\n",
       "      <td>No</td>\n",
       "      <td>No</td>\n",
       "      <td>No</td>\n",
       "      <td>No</td>\n",
       "      <td>No</td>\n",
       "      <td>No</td>\n",
       "      <td>No</td>\n",
       "      <td>No</td>\n",
       "      <td>Email Opened</td>\n",
       "    </tr>\n",
       "    <tr>\n",
       "      <th>2</th>\n",
       "      <td>8cc8c611-a219-4f35-ad23-fdfd2656bd8a</td>\n",
       "      <td>Landing Page Submission</td>\n",
       "      <td>Direct Traffic</td>\n",
       "      <td>No</td>\n",
       "      <td>No</td>\n",
       "      <td>1</td>\n",
       "      <td>2.0</td>\n",
       "      <td>1532</td>\n",
       "      <td>2.0</td>\n",
       "      <td>Email Opened</td>\n",
       "      <td>Business Administration</td>\n",
       "      <td>Student</td>\n",
       "      <td>No</td>\n",
       "      <td>No</td>\n",
       "      <td>No</td>\n",
       "      <td>No</td>\n",
       "      <td>No</td>\n",
       "      <td>No</td>\n",
       "      <td>No</td>\n",
       "      <td>No</td>\n",
       "      <td>No</td>\n",
       "      <td>No</td>\n",
       "      <td>No</td>\n",
       "      <td>Yes</td>\n",
       "      <td>Email Opened</td>\n",
       "    </tr>\n",
       "    <tr>\n",
       "      <th>3</th>\n",
       "      <td>0cc2df48-7cf4-4e39-9de9-19797f9b38cc</td>\n",
       "      <td>Landing Page Submission</td>\n",
       "      <td>Direct Traffic</td>\n",
       "      <td>No</td>\n",
       "      <td>No</td>\n",
       "      <td>0</td>\n",
       "      <td>1.0</td>\n",
       "      <td>305</td>\n",
       "      <td>1.0</td>\n",
       "      <td>Unreachable</td>\n",
       "      <td>Media and Advertising</td>\n",
       "      <td>Unemployed</td>\n",
       "      <td>No</td>\n",
       "      <td>No</td>\n",
       "      <td>No</td>\n",
       "      <td>No</td>\n",
       "      <td>No</td>\n",
       "      <td>No</td>\n",
       "      <td>No</td>\n",
       "      <td>No</td>\n",
       "      <td>No</td>\n",
       "      <td>No</td>\n",
       "      <td>No</td>\n",
       "      <td>No</td>\n",
       "      <td>Modified</td>\n",
       "    </tr>\n",
       "    <tr>\n",
       "      <th>4</th>\n",
       "      <td>3256f628-e534-4826-9d63-4a8b88782852</td>\n",
       "      <td>Landing Page Submission</td>\n",
       "      <td>Google</td>\n",
       "      <td>No</td>\n",
       "      <td>No</td>\n",
       "      <td>1</td>\n",
       "      <td>2.0</td>\n",
       "      <td>1428</td>\n",
       "      <td>1.0</td>\n",
       "      <td>Converted to Lead</td>\n",
       "      <td>Other</td>\n",
       "      <td>Unemployed</td>\n",
       "      <td>No</td>\n",
       "      <td>No</td>\n",
       "      <td>No</td>\n",
       "      <td>No</td>\n",
       "      <td>No</td>\n",
       "      <td>No</td>\n",
       "      <td>No</td>\n",
       "      <td>No</td>\n",
       "      <td>No</td>\n",
       "      <td>No</td>\n",
       "      <td>No</td>\n",
       "      <td>No</td>\n",
       "      <td>Modified</td>\n",
       "    </tr>\n",
       "  </tbody>\n",
       "</table>\n",
       "</div>"
      ],
      "text/plain": [
       "                            Prospect ID              Lead Origin  \\\n",
       "0  7927b2df-8bba-4d29-b9a2-b6e0beafe620                      API   \n",
       "1  2a272436-5132-4136-86fa-dcc88c88f482                      API   \n",
       "2  8cc8c611-a219-4f35-ad23-fdfd2656bd8a  Landing Page Submission   \n",
       "3  0cc2df48-7cf4-4e39-9de9-19797f9b38cc  Landing Page Submission   \n",
       "4  3256f628-e534-4826-9d63-4a8b88782852  Landing Page Submission   \n",
       "\n",
       "      Lead Source Do Not Email Do Not Call  Converted  TotalVisits  \\\n",
       "0      Olark Chat           No          No          0          0.0   \n",
       "1  Organic Search           No          No          0          5.0   \n",
       "2  Direct Traffic           No          No          1          2.0   \n",
       "3  Direct Traffic           No          No          0          1.0   \n",
       "4          Google           No          No          1          2.0   \n",
       "\n",
       "   Total Time Spent on Website  Page Views Per Visit            Last Activity  \\\n",
       "0                            0                   0.0  Page Visited on Website   \n",
       "1                          674                   2.5             Email Opened   \n",
       "2                         1532                   2.0             Email Opened   \n",
       "3                          305                   1.0              Unreachable   \n",
       "4                         1428                   1.0        Converted to Lead   \n",
       "\n",
       "            Specialization What is your current occupation Search Magazine  \\\n",
       "0                    Other                      Unemployed     No       No   \n",
       "1                    Other                      Unemployed     No       No   \n",
       "2  Business Administration                         Student     No       No   \n",
       "3    Media and Advertising                      Unemployed     No       No   \n",
       "4                    Other                      Unemployed     No       No   \n",
       "\n",
       "  Newspaper Article X Education Forums Newspaper Digital Advertisement  \\\n",
       "0                No                 No        No                    No   \n",
       "1                No                 No        No                    No   \n",
       "2                No                 No        No                    No   \n",
       "3                No                 No        No                    No   \n",
       "4                No                 No        No                    No   \n",
       "\n",
       "  Through Recommendations Receive More Updates About Our Courses  \\\n",
       "0                      No                                     No   \n",
       "1                      No                                     No   \n",
       "2                      No                                     No   \n",
       "3                      No                                     No   \n",
       "4                      No                                     No   \n",
       "\n",
       "  Update me on Supply Chain Content Get updates on DM Content  \\\n",
       "0                                No                        No   \n",
       "1                                No                        No   \n",
       "2                                No                        No   \n",
       "3                                No                        No   \n",
       "4                                No                        No   \n",
       "\n",
       "  I agree to pay the amount through cheque  \\\n",
       "0                                       No   \n",
       "1                                       No   \n",
       "2                                       No   \n",
       "3                                       No   \n",
       "4                                       No   \n",
       "\n",
       "  A free copy of Mastering The Interview Last Notable Activity  \n",
       "0                                     No              Modified  \n",
       "1                                     No          Email Opened  \n",
       "2                                    Yes          Email Opened  \n",
       "3                                     No              Modified  \n",
       "4                                     No              Modified  "
      ]
     },
     "execution_count": 570,
     "metadata": {},
     "output_type": "execute_result"
    }
   ],
   "source": [
    "df.head()"
   ]
  },
  {
   "cell_type": "markdown",
   "metadata": {},
   "source": [
    "### Checking other fields for skewness and Data Mapping"
   ]
  },
  {
   "cell_type": "code",
   "execution_count": 571,
   "metadata": {},
   "outputs": [
    {
     "name": "stdout",
     "output_type": "stream",
     "text": [
      "['Do Not Call', 'Search', 'Magazine', 'Newspaper Article', 'X Education Forums', 'Newspaper', 'Digital Advertisement', 'Through Recommendations', 'Receive More Updates About Our Courses', 'Update me on Supply Chain Content', 'Get updates on DM Content', 'I agree to pay the amount through cheque']\n"
     ]
    }
   ],
   "source": [
    "# Identify the Categorical columns which has skewed data\n",
    "Cols_skewed = []\n",
    "for i in df.select_dtypes(include='object').columns:\n",
    "    if df[i].value_counts(normalize=True)[0] > 0.97:\n",
    "        Cols_skewed.append(i)\n",
    "print(Cols_skewed)"
   ]
  },
  {
   "cell_type": "code",
   "execution_count": 572,
   "metadata": {},
   "outputs": [
    {
     "data": {
      "text/plain": [
       "No     9072\n",
       "Yes       2\n",
       "Name: Do Not Call, dtype: int64"
      ]
     },
     "execution_count": 572,
     "metadata": {},
     "output_type": "execute_result"
    }
   ],
   "source": [
    "# Checking values in the field 'Do Not Call'\n",
    "df['Do Not Call'].value_counts(dropna=False)"
   ]
  },
  {
   "cell_type": "code",
   "execution_count": 573,
   "metadata": {},
   "outputs": [],
   "source": [
    "# Data in the field \"Do Not Call\" is very skewed so dropping the field\n",
    "df.drop('Do Not Call',axis=1,inplace=True)"
   ]
  },
  {
   "cell_type": "code",
   "execution_count": 574,
   "metadata": {},
   "outputs": [
    {
     "data": {
      "text/plain": [
       "No     9060\n",
       "Yes      14\n",
       "Name: Search, dtype: int64"
      ]
     },
     "execution_count": 574,
     "metadata": {},
     "output_type": "execute_result"
    }
   ],
   "source": [
    "# Checking values in the field 'Search'\n",
    "df['Search'].value_counts(dropna=False)"
   ]
  },
  {
   "cell_type": "code",
   "execution_count": 575,
   "metadata": {},
   "outputs": [],
   "source": [
    "# Data in the field \"Seach\" is very skewed so dropping the field\n",
    "df.drop('Search',axis=1,inplace=True) "
   ]
  },
  {
   "cell_type": "code",
   "execution_count": 576,
   "metadata": {},
   "outputs": [
    {
     "data": {
      "text/plain": [
       "No    9074\n",
       "Name: Magazine, dtype: int64"
      ]
     },
     "execution_count": 576,
     "metadata": {},
     "output_type": "execute_result"
    }
   ],
   "source": [
    "# Checking values in the field 'Magazine'\n",
    "df['Magazine'].value_counts(dropna=False)"
   ]
  },
  {
   "cell_type": "code",
   "execution_count": 577,
   "metadata": {},
   "outputs": [],
   "source": [
    "# Droppoing the field 'Magazine' as it has single category\n",
    "df.drop('Magazine', axis=1,inplace=True)"
   ]
  },
  {
   "cell_type": "code",
   "execution_count": 578,
   "metadata": {},
   "outputs": [
    {
     "data": {
      "text/plain": [
       "No     9072\n",
       "Yes       2\n",
       "Name: Newspaper Article, dtype: int64"
      ]
     },
     "execution_count": 578,
     "metadata": {},
     "output_type": "execute_result"
    }
   ],
   "source": [
    "# Checking values in the field 'Newspaper Article'\n",
    "df['Newspaper Article'].value_counts(dropna=False)"
   ]
  },
  {
   "cell_type": "code",
   "execution_count": 579,
   "metadata": {},
   "outputs": [],
   "source": [
    "# Data in the field \"Newspaper Article\" is very skewed so dropping the field\n",
    "df.drop('Newspaper Article',axis=1,inplace=True)"
   ]
  },
  {
   "cell_type": "code",
   "execution_count": 580,
   "metadata": {},
   "outputs": [
    {
     "data": {
      "text/plain": [
       "No     9073\n",
       "Yes       1\n",
       "Name: X Education Forums, dtype: int64"
      ]
     },
     "execution_count": 580,
     "metadata": {},
     "output_type": "execute_result"
    }
   ],
   "source": [
    "# Checking values in the field 'X Education Forums'\n",
    "df['X Education Forums'].value_counts(dropna=False)"
   ]
  },
  {
   "cell_type": "code",
   "execution_count": 581,
   "metadata": {},
   "outputs": [],
   "source": [
    "# Data in the field \"X Education Forums\" is very skewed so dropping the field\n",
    "df.drop('X Education Forums',axis=1,inplace=True)"
   ]
  },
  {
   "cell_type": "code",
   "execution_count": 582,
   "metadata": {},
   "outputs": [
    {
     "data": {
      "text/plain": [
       "No     9073\n",
       "Yes       1\n",
       "Name: Newspaper, dtype: int64"
      ]
     },
     "execution_count": 582,
     "metadata": {},
     "output_type": "execute_result"
    }
   ],
   "source": [
    "# Checking values in the field 'Newspaper'\n",
    "df.Newspaper.value_counts(dropna=False)"
   ]
  },
  {
   "cell_type": "code",
   "execution_count": 583,
   "metadata": {},
   "outputs": [],
   "source": [
    "# Data in the field \"Newspaper\" is very skewed so dropping the field\n",
    "df.drop('Newspaper',axis=1,inplace=True)"
   ]
  },
  {
   "cell_type": "code",
   "execution_count": 584,
   "metadata": {},
   "outputs": [
    {
     "data": {
      "text/plain": [
       "No     9070\n",
       "Yes       4\n",
       "Name: Digital Advertisement, dtype: int64"
      ]
     },
     "execution_count": 584,
     "metadata": {},
     "output_type": "execute_result"
    }
   ],
   "source": [
    "# Checking data in Digital Advertisement\n",
    "df['Digital Advertisement'].value_counts(dropna=False)"
   ]
  },
  {
   "cell_type": "code",
   "execution_count": 585,
   "metadata": {},
   "outputs": [],
   "source": [
    "# Data in the field \"Digital Advertisement\" is very skewed so dropping the field\n",
    "df.drop('Digital Advertisement',axis=1,inplace=True)"
   ]
  },
  {
   "cell_type": "code",
   "execution_count": 586,
   "metadata": {},
   "outputs": [
    {
     "data": {
      "text/plain": [
       "No     9067\n",
       "Yes       7\n",
       "Name: Through Recommendations, dtype: int64"
      ]
     },
     "execution_count": 586,
     "metadata": {},
     "output_type": "execute_result"
    }
   ],
   "source": [
    "# Checking data in Through Recommendations\n",
    "df['Through Recommendations'].value_counts(dropna=False)"
   ]
  },
  {
   "cell_type": "code",
   "execution_count": 587,
   "metadata": {},
   "outputs": [],
   "source": [
    "# Data in the field \"Through Recommendations\" is very skewed so dropping the field\n",
    "df.drop('Through Recommendations',axis=1,inplace=True)"
   ]
  },
  {
   "cell_type": "code",
   "execution_count": 588,
   "metadata": {},
   "outputs": [
    {
     "data": {
      "text/plain": [
       "No    9074\n",
       "Name: Receive More Updates About Our Courses, dtype: int64"
      ]
     },
     "execution_count": 588,
     "metadata": {},
     "output_type": "execute_result"
    }
   ],
   "source": [
    "# Checking data in feature 'Receive More Updates About Our Courses'\n",
    "df['Receive More Updates About Our Courses'].value_counts(dropna=False)"
   ]
  },
  {
   "cell_type": "code",
   "execution_count": 589,
   "metadata": {},
   "outputs": [],
   "source": [
    "# Data in the field \"Receive More Updates About Our Courses\" has only one category. So dropping the variable\n",
    "df.drop('Receive More Updates About Our Courses',axis=1,inplace=True)"
   ]
  },
  {
   "cell_type": "code",
   "execution_count": 590,
   "metadata": {},
   "outputs": [
    {
     "data": {
      "text/plain": [
       "No    9074\n",
       "Name: Update me on Supply Chain Content, dtype: int64"
      ]
     },
     "execution_count": 590,
     "metadata": {},
     "output_type": "execute_result"
    }
   ],
   "source": [
    "# Checking data in 'Update me on Supply Chain Content'\n",
    "df['Update me on Supply Chain Content'].value_counts(dropna=False)"
   ]
  },
  {
   "cell_type": "code",
   "execution_count": 591,
   "metadata": {},
   "outputs": [],
   "source": [
    "# Data in the field \"Update me on Supply Chain Content\" has only one category. So dropping the variable\n",
    "df.drop('Update me on Supply Chain Content',axis=1,inplace=True)"
   ]
  },
  {
   "cell_type": "code",
   "execution_count": 592,
   "metadata": {},
   "outputs": [
    {
     "data": {
      "text/plain": [
       "No    9074\n",
       "Name: Get updates on DM Content, dtype: int64"
      ]
     },
     "execution_count": 592,
     "metadata": {},
     "output_type": "execute_result"
    }
   ],
   "source": [
    "# Checking data in 'Get updates on DM Content'\n",
    "df['Get updates on DM Content'].value_counts(dropna=False)"
   ]
  },
  {
   "cell_type": "code",
   "execution_count": 593,
   "metadata": {},
   "outputs": [],
   "source": [
    "# Data in the field \"Get updates on DM Content\" has only one category. So dropping the variable\n",
    "df.drop('Get updates on DM Content',axis=1,inplace=True)"
   ]
  },
  {
   "cell_type": "code",
   "execution_count": 594,
   "metadata": {},
   "outputs": [
    {
     "data": {
      "text/plain": [
       "No    9074\n",
       "Name: I agree to pay the amount through cheque, dtype: int64"
      ]
     },
     "execution_count": 594,
     "metadata": {},
     "output_type": "execute_result"
    }
   ],
   "source": [
    "# Checking data in 'I agree to pay the amount through cheque'\n",
    "df['I agree to pay the amount through cheque'].value_counts(dropna=False)"
   ]
  },
  {
   "cell_type": "code",
   "execution_count": 595,
   "metadata": {},
   "outputs": [],
   "source": [
    "# Data in the field \"I agree to pay the amount through cheque\" has only one category. So dropping the variable\n",
    "df.drop('I agree to pay the amount through cheque',axis=1,inplace=True)"
   ]
  },
  {
   "cell_type": "markdown",
   "metadata": {},
   "source": [
    "#### Mapping data for categorical fieds"
   ]
  },
  {
   "cell_type": "code",
   "execution_count": 596,
   "metadata": {},
   "outputs": [
    {
     "data": {
      "text/plain": [
       "No     8358\n",
       "Yes     716\n",
       "Name: Do Not Email, dtype: int64"
      ]
     },
     "execution_count": 596,
     "metadata": {},
     "output_type": "execute_result"
    }
   ],
   "source": [
    "# Checking values in the field 'Do Not Email'\n",
    "df['Do Not Email'].value_counts(dropna=False)"
   ]
  },
  {
   "cell_type": "code",
   "execution_count": 597,
   "metadata": {},
   "outputs": [],
   "source": [
    "# Mapping the category into binary number for the field 'Do Not Email'\n",
    "df['Do Not Email']=df['Do Not Email'].map({'Yes':1,'No':0})"
   ]
  },
  {
   "cell_type": "code",
   "execution_count": 598,
   "metadata": {},
   "outputs": [
    {
     "data": {
      "text/plain": [
       "No     6186\n",
       "Yes    2888\n",
       "Name: A free copy of Mastering The Interview, dtype: int64"
      ]
     },
     "execution_count": 598,
     "metadata": {},
     "output_type": "execute_result"
    }
   ],
   "source": [
    "# Checking data in 'A free copy of Mastering The Interview'\n",
    "df['A free copy of Mastering The Interview'].value_counts(dropna=False)"
   ]
  },
  {
   "cell_type": "code",
   "execution_count": 599,
   "metadata": {},
   "outputs": [],
   "source": [
    "# Mapping the values with numeric binary values\n",
    "df['A free copy of Mastering The Interview']=df['A free copy of Mastering The Interview'].map({'No':0,'Yes':1})"
   ]
  },
  {
   "cell_type": "code",
   "execution_count": 600,
   "metadata": {},
   "outputs": [
    {
     "data": {
      "text/html": [
       "<div>\n",
       "<style scoped>\n",
       "    .dataframe tbody tr th:only-of-type {\n",
       "        vertical-align: middle;\n",
       "    }\n",
       "\n",
       "    .dataframe tbody tr th {\n",
       "        vertical-align: top;\n",
       "    }\n",
       "\n",
       "    .dataframe thead th {\n",
       "        text-align: right;\n",
       "    }\n",
       "</style>\n",
       "<table border=\"1\" class=\"dataframe\">\n",
       "  <thead>\n",
       "    <tr style=\"text-align: right;\">\n",
       "      <th></th>\n",
       "      <th>Prospect ID</th>\n",
       "      <th>Lead Origin</th>\n",
       "      <th>Lead Source</th>\n",
       "      <th>Do Not Email</th>\n",
       "      <th>Converted</th>\n",
       "      <th>TotalVisits</th>\n",
       "      <th>Total Time Spent on Website</th>\n",
       "      <th>Page Views Per Visit</th>\n",
       "      <th>Last Activity</th>\n",
       "      <th>Specialization</th>\n",
       "      <th>What is your current occupation</th>\n",
       "      <th>A free copy of Mastering The Interview</th>\n",
       "      <th>Last Notable Activity</th>\n",
       "    </tr>\n",
       "  </thead>\n",
       "  <tbody>\n",
       "    <tr>\n",
       "      <th>0</th>\n",
       "      <td>7927b2df-8bba-4d29-b9a2-b6e0beafe620</td>\n",
       "      <td>API</td>\n",
       "      <td>Olark Chat</td>\n",
       "      <td>0</td>\n",
       "      <td>0</td>\n",
       "      <td>0.0</td>\n",
       "      <td>0</td>\n",
       "      <td>0.0</td>\n",
       "      <td>Page Visited on Website</td>\n",
       "      <td>Other</td>\n",
       "      <td>Unemployed</td>\n",
       "      <td>0</td>\n",
       "      <td>Modified</td>\n",
       "    </tr>\n",
       "    <tr>\n",
       "      <th>1</th>\n",
       "      <td>2a272436-5132-4136-86fa-dcc88c88f482</td>\n",
       "      <td>API</td>\n",
       "      <td>Organic Search</td>\n",
       "      <td>0</td>\n",
       "      <td>0</td>\n",
       "      <td>5.0</td>\n",
       "      <td>674</td>\n",
       "      <td>2.5</td>\n",
       "      <td>Email Opened</td>\n",
       "      <td>Other</td>\n",
       "      <td>Unemployed</td>\n",
       "      <td>0</td>\n",
       "      <td>Email Opened</td>\n",
       "    </tr>\n",
       "    <tr>\n",
       "      <th>2</th>\n",
       "      <td>8cc8c611-a219-4f35-ad23-fdfd2656bd8a</td>\n",
       "      <td>Landing Page Submission</td>\n",
       "      <td>Direct Traffic</td>\n",
       "      <td>0</td>\n",
       "      <td>1</td>\n",
       "      <td>2.0</td>\n",
       "      <td>1532</td>\n",
       "      <td>2.0</td>\n",
       "      <td>Email Opened</td>\n",
       "      <td>Business Administration</td>\n",
       "      <td>Student</td>\n",
       "      <td>1</td>\n",
       "      <td>Email Opened</td>\n",
       "    </tr>\n",
       "    <tr>\n",
       "      <th>3</th>\n",
       "      <td>0cc2df48-7cf4-4e39-9de9-19797f9b38cc</td>\n",
       "      <td>Landing Page Submission</td>\n",
       "      <td>Direct Traffic</td>\n",
       "      <td>0</td>\n",
       "      <td>0</td>\n",
       "      <td>1.0</td>\n",
       "      <td>305</td>\n",
       "      <td>1.0</td>\n",
       "      <td>Unreachable</td>\n",
       "      <td>Media and Advertising</td>\n",
       "      <td>Unemployed</td>\n",
       "      <td>0</td>\n",
       "      <td>Modified</td>\n",
       "    </tr>\n",
       "    <tr>\n",
       "      <th>4</th>\n",
       "      <td>3256f628-e534-4826-9d63-4a8b88782852</td>\n",
       "      <td>Landing Page Submission</td>\n",
       "      <td>Google</td>\n",
       "      <td>0</td>\n",
       "      <td>1</td>\n",
       "      <td>2.0</td>\n",
       "      <td>1428</td>\n",
       "      <td>1.0</td>\n",
       "      <td>Converted to Lead</td>\n",
       "      <td>Other</td>\n",
       "      <td>Unemployed</td>\n",
       "      <td>0</td>\n",
       "      <td>Modified</td>\n",
       "    </tr>\n",
       "  </tbody>\n",
       "</table>\n",
       "</div>"
      ],
      "text/plain": [
       "                            Prospect ID              Lead Origin  \\\n",
       "0  7927b2df-8bba-4d29-b9a2-b6e0beafe620                      API   \n",
       "1  2a272436-5132-4136-86fa-dcc88c88f482                      API   \n",
       "2  8cc8c611-a219-4f35-ad23-fdfd2656bd8a  Landing Page Submission   \n",
       "3  0cc2df48-7cf4-4e39-9de9-19797f9b38cc  Landing Page Submission   \n",
       "4  3256f628-e534-4826-9d63-4a8b88782852  Landing Page Submission   \n",
       "\n",
       "      Lead Source  Do Not Email  Converted  TotalVisits  \\\n",
       "0      Olark Chat             0          0          0.0   \n",
       "1  Organic Search             0          0          5.0   \n",
       "2  Direct Traffic             0          1          2.0   \n",
       "3  Direct Traffic             0          0          1.0   \n",
       "4          Google             0          1          2.0   \n",
       "\n",
       "   Total Time Spent on Website  Page Views Per Visit            Last Activity  \\\n",
       "0                            0                   0.0  Page Visited on Website   \n",
       "1                          674                   2.5             Email Opened   \n",
       "2                         1532                   2.0             Email Opened   \n",
       "3                          305                   1.0              Unreachable   \n",
       "4                         1428                   1.0        Converted to Lead   \n",
       "\n",
       "            Specialization What is your current occupation  \\\n",
       "0                    Other                      Unemployed   \n",
       "1                    Other                      Unemployed   \n",
       "2  Business Administration                         Student   \n",
       "3    Media and Advertising                      Unemployed   \n",
       "4                    Other                      Unemployed   \n",
       "\n",
       "   A free copy of Mastering The Interview Last Notable Activity  \n",
       "0                                       0              Modified  \n",
       "1                                       0          Email Opened  \n",
       "2                                       1          Email Opened  \n",
       "3                                       0              Modified  \n",
       "4                                       0              Modified  "
      ]
     },
     "execution_count": 600,
     "metadata": {},
     "output_type": "execute_result"
    }
   ],
   "source": [
    "df.head()"
   ]
  },
  {
   "cell_type": "markdown",
   "metadata": {},
   "source": [
    "### Checking categories of features"
   ]
  },
  {
   "cell_type": "code",
   "execution_count": 601,
   "metadata": {},
   "outputs": [
    {
     "data": {
      "text/plain": [
       "Landing Page Submission    4885\n",
       "API                        3578\n",
       "Lead Add Form               581\n",
       "Lead Import                  30\n",
       "Name: Lead Origin, dtype: int64"
      ]
     },
     "execution_count": 601,
     "metadata": {},
     "output_type": "execute_result"
    }
   ],
   "source": [
    "# Checking data in Lead Origin\n",
    "df['Lead Origin'].value_counts(dropna=False)"
   ]
  },
  {
   "cell_type": "code",
   "execution_count": 602,
   "metadata": {},
   "outputs": [
    {
     "data": {
      "text/plain": [
       "Google               2868\n",
       "Direct Traffic       2543\n",
       "Olark Chat           1753\n",
       "Organic Search       1154\n",
       "Reference             443\n",
       "Welingak Website      129\n",
       "Referral Sites        125\n",
       "Facebook               31\n",
       "bing                    6\n",
       "google                  5\n",
       "Click2call              4\n",
       "Press_Release           2\n",
       "Social Media            2\n",
       "Live Chat               2\n",
       "Pay per Click Ads       1\n",
       "WeLearn                 1\n",
       "testone                 1\n",
       "NC_EDM                  1\n",
       "youtubechannel          1\n",
       "welearnblog_Home        1\n",
       "blog                    1\n",
       "Name: Lead Source, dtype: int64"
      ]
     },
     "execution_count": 602,
     "metadata": {},
     "output_type": "execute_result"
    }
   ],
   "source": [
    "df['Lead Source'].value_counts(dropna=False)"
   ]
  },
  {
   "cell_type": "code",
   "execution_count": 603,
   "metadata": {},
   "outputs": [],
   "source": [
    "# Mapping categories with less number into Other category and grouping duplicate category together.\n",
    "# Correcting case sensitive in the categories name ex Google and google\n",
    "df['Lead Source']= df['Lead Source'].replace({'Facebook':'Other','bing':'Other','google':'Google','Click2call':'Other',\n",
    "                                              'Live Chat':'Other','Social Media':'Other','Press_Release':'Other','blog':'Other',\n",
    "                                              'Pay per Click Ads':'Other','youtubechannel':'Other','welearnblog_Home':'Other',\n",
    "                                              'testone':'Other','NC_EDM':'Other','WeLearn':'Other'})\n"
   ]
  },
  {
   "cell_type": "code",
   "execution_count": 604,
   "metadata": {},
   "outputs": [
    {
     "data": {
      "text/plain": [
       "Google              2873\n",
       "Direct Traffic      2543\n",
       "Olark Chat          1753\n",
       "Organic Search      1154\n",
       "Reference            443\n",
       "Welingak Website     129\n",
       "Referral Sites       125\n",
       "Other                 54\n",
       "Name: Lead Source, dtype: int64"
      ]
     },
     "execution_count": 604,
     "metadata": {},
     "output_type": "execute_result"
    }
   ],
   "source": [
    "# Checking data in the Lead Source\n",
    "df['Lead Source'].value_counts(dropna=False)"
   ]
  },
  {
   "cell_type": "code",
   "execution_count": 605,
   "metadata": {},
   "outputs": [
    {
     "data": {
      "text/plain": [
       "Email Opened                    3432\n",
       "SMS Sent                        2716\n",
       "Olark Chat Conversation          972\n",
       "Page Visited on Website          640\n",
       "Converted to Lead                428\n",
       "Email Bounced                    312\n",
       "Email Link Clicked               267\n",
       "Form Submitted on Website        116\n",
       "Unreachable                       90\n",
       "Unsubscribed                      59\n",
       "Had a Phone Conversation          25\n",
       "View in browser link Clicked       6\n",
       "Approached upfront                 5\n",
       "Email Marked Spam                  2\n",
       "Email Received                     2\n",
       "Visited Booth in Tradeshow         1\n",
       "Resubscribed to emails             1\n",
       "Name: Last Activity, dtype: int64"
      ]
     },
     "execution_count": 605,
     "metadata": {},
     "output_type": "execute_result"
    }
   ],
   "source": [
    "# Checking category of the field 'Last Activity'\n",
    "df['Last Activity'].value_counts(dropna=False)"
   ]
  },
  {
   "cell_type": "code",
   "execution_count": 606,
   "metadata": {},
   "outputs": [],
   "source": [
    "# Mapping categories with less presence into Other category of the featue 'Last Activity'\n",
    "df['Last Activity'] = df['Last Activity'].replace({'Had a Phone Conversation':'Other','View in browser link Clicked':'Other','Approached upfront':'Other','Email Received':'Other','Email Marked Spam':'Other','Resubscribed to emails':'Other','Visited Booth in Tradeshow':'Other','Unreachable':'Other','Unsubscribed':'Other'})"
   ]
  },
  {
   "cell_type": "code",
   "execution_count": 607,
   "metadata": {},
   "outputs": [
    {
     "data": {
      "text/plain": [
       "Email Opened                 3432\n",
       "SMS Sent                     2716\n",
       "Olark Chat Conversation       972\n",
       "Page Visited on Website       640\n",
       "Converted to Lead             428\n",
       "Email Bounced                 312\n",
       "Email Link Clicked            267\n",
       "Other                         191\n",
       "Form Submitted on Website     116\n",
       "Name: Last Activity, dtype: int64"
      ]
     },
     "execution_count": 607,
     "metadata": {},
     "output_type": "execute_result"
    }
   ],
   "source": [
    "# Checking data after replacing\n",
    "df['Last Activity'].value_counts(dropna=False)"
   ]
  },
  {
   "cell_type": "code",
   "execution_count": 608,
   "metadata": {},
   "outputs": [
    {
     "data": {
      "text/plain": [
       "Modified                        3267\n",
       "Email Opened                    2823\n",
       "SMS Sent                        2152\n",
       "Page Visited on Website          318\n",
       "Olark Chat Conversation          183\n",
       "Email Link Clicked               173\n",
       "Email Bounced                     60\n",
       "Unsubscribed                      45\n",
       "Unreachable                       32\n",
       "Had a Phone Conversation          14\n",
       "Email Marked Spam                  2\n",
       "Approached upfront                 1\n",
       "View in browser link Clicked       1\n",
       "Email Received                     1\n",
       "Resubscribed to emails             1\n",
       "Form Submitted on Website          1\n",
       "Name: Last Notable Activity, dtype: int64"
      ]
     },
     "execution_count": 608,
     "metadata": {},
     "output_type": "execute_result"
    }
   ],
   "source": [
    "# Checking Data in 'Last Notable Activity'\n",
    "df['Last Notable Activity'].value_counts(dropna=False)"
   ]
  },
  {
   "cell_type": "code",
   "execution_count": 609,
   "metadata": {},
   "outputs": [
    {
     "data": {
      "text/plain": [
       "Modified                        3267\n",
       "Email Opened                    2823\n",
       "SMS Sent                        2152\n",
       "Page Visited on Website          318\n",
       "Olark Chat Conversation          183\n",
       "Email Link Clicked               173\n",
       "Email Bounced                     60\n",
       "Unsubscribed                      45\n",
       "Unreachable                       32\n",
       "Had a Phone Conversation          14\n",
       "Email Marked Spam                  2\n",
       "Approached upfront                 1\n",
       "View in browser link Clicked       1\n",
       "Email Received                     1\n",
       "Resubscribed to emails             1\n",
       "Form Submitted on Website          1\n",
       "Name: Last Notable Activity, dtype: int64"
      ]
     },
     "execution_count": 609,
     "metadata": {},
     "output_type": "execute_result"
    }
   ],
   "source": [
    "# Checking data after replacing\n",
    "df['Last Notable Activity'].value_counts(dropna=False)"
   ]
  },
  {
   "cell_type": "markdown",
   "metadata": {},
   "source": [
    "The feature 'Last Activity' and 'Last Notable Activity' have almost same categories so dropping column 'Last Notable Activity'"
   ]
  },
  {
   "cell_type": "code",
   "execution_count": 610,
   "metadata": {},
   "outputs": [],
   "source": [
    "# Dropping the 'Last Notalbe Activity' columns\n",
    "df.drop('Last Notable Activity',axis=1, inplace=True)"
   ]
  },
  {
   "cell_type": "code",
   "execution_count": 611,
   "metadata": {},
   "outputs": [
    {
     "data": {
      "text/html": [
       "<div>\n",
       "<style scoped>\n",
       "    .dataframe tbody tr th:only-of-type {\n",
       "        vertical-align: middle;\n",
       "    }\n",
       "\n",
       "    .dataframe tbody tr th {\n",
       "        vertical-align: top;\n",
       "    }\n",
       "\n",
       "    .dataframe thead th {\n",
       "        text-align: right;\n",
       "    }\n",
       "</style>\n",
       "<table border=\"1\" class=\"dataframe\">\n",
       "  <thead>\n",
       "    <tr style=\"text-align: right;\">\n",
       "      <th></th>\n",
       "      <th>Prospect ID</th>\n",
       "      <th>Lead Origin</th>\n",
       "      <th>Lead Source</th>\n",
       "      <th>Do Not Email</th>\n",
       "      <th>Converted</th>\n",
       "      <th>TotalVisits</th>\n",
       "      <th>Total Time Spent on Website</th>\n",
       "      <th>Page Views Per Visit</th>\n",
       "      <th>Last Activity</th>\n",
       "      <th>Specialization</th>\n",
       "      <th>What is your current occupation</th>\n",
       "      <th>A free copy of Mastering The Interview</th>\n",
       "    </tr>\n",
       "  </thead>\n",
       "  <tbody>\n",
       "    <tr>\n",
       "      <th>0</th>\n",
       "      <td>7927b2df-8bba-4d29-b9a2-b6e0beafe620</td>\n",
       "      <td>API</td>\n",
       "      <td>Olark Chat</td>\n",
       "      <td>0</td>\n",
       "      <td>0</td>\n",
       "      <td>0.0</td>\n",
       "      <td>0</td>\n",
       "      <td>0.0</td>\n",
       "      <td>Page Visited on Website</td>\n",
       "      <td>Other</td>\n",
       "      <td>Unemployed</td>\n",
       "      <td>0</td>\n",
       "    </tr>\n",
       "    <tr>\n",
       "      <th>1</th>\n",
       "      <td>2a272436-5132-4136-86fa-dcc88c88f482</td>\n",
       "      <td>API</td>\n",
       "      <td>Organic Search</td>\n",
       "      <td>0</td>\n",
       "      <td>0</td>\n",
       "      <td>5.0</td>\n",
       "      <td>674</td>\n",
       "      <td>2.5</td>\n",
       "      <td>Email Opened</td>\n",
       "      <td>Other</td>\n",
       "      <td>Unemployed</td>\n",
       "      <td>0</td>\n",
       "    </tr>\n",
       "    <tr>\n",
       "      <th>2</th>\n",
       "      <td>8cc8c611-a219-4f35-ad23-fdfd2656bd8a</td>\n",
       "      <td>Landing Page Submission</td>\n",
       "      <td>Direct Traffic</td>\n",
       "      <td>0</td>\n",
       "      <td>1</td>\n",
       "      <td>2.0</td>\n",
       "      <td>1532</td>\n",
       "      <td>2.0</td>\n",
       "      <td>Email Opened</td>\n",
       "      <td>Business Administration</td>\n",
       "      <td>Student</td>\n",
       "      <td>1</td>\n",
       "    </tr>\n",
       "    <tr>\n",
       "      <th>3</th>\n",
       "      <td>0cc2df48-7cf4-4e39-9de9-19797f9b38cc</td>\n",
       "      <td>Landing Page Submission</td>\n",
       "      <td>Direct Traffic</td>\n",
       "      <td>0</td>\n",
       "      <td>0</td>\n",
       "      <td>1.0</td>\n",
       "      <td>305</td>\n",
       "      <td>1.0</td>\n",
       "      <td>Other</td>\n",
       "      <td>Media and Advertising</td>\n",
       "      <td>Unemployed</td>\n",
       "      <td>0</td>\n",
       "    </tr>\n",
       "    <tr>\n",
       "      <th>4</th>\n",
       "      <td>3256f628-e534-4826-9d63-4a8b88782852</td>\n",
       "      <td>Landing Page Submission</td>\n",
       "      <td>Google</td>\n",
       "      <td>0</td>\n",
       "      <td>1</td>\n",
       "      <td>2.0</td>\n",
       "      <td>1428</td>\n",
       "      <td>1.0</td>\n",
       "      <td>Converted to Lead</td>\n",
       "      <td>Other</td>\n",
       "      <td>Unemployed</td>\n",
       "      <td>0</td>\n",
       "    </tr>\n",
       "  </tbody>\n",
       "</table>\n",
       "</div>"
      ],
      "text/plain": [
       "                            Prospect ID              Lead Origin  \\\n",
       "0  7927b2df-8bba-4d29-b9a2-b6e0beafe620                      API   \n",
       "1  2a272436-5132-4136-86fa-dcc88c88f482                      API   \n",
       "2  8cc8c611-a219-4f35-ad23-fdfd2656bd8a  Landing Page Submission   \n",
       "3  0cc2df48-7cf4-4e39-9de9-19797f9b38cc  Landing Page Submission   \n",
       "4  3256f628-e534-4826-9d63-4a8b88782852  Landing Page Submission   \n",
       "\n",
       "      Lead Source  Do Not Email  Converted  TotalVisits  \\\n",
       "0      Olark Chat             0          0          0.0   \n",
       "1  Organic Search             0          0          5.0   \n",
       "2  Direct Traffic             0          1          2.0   \n",
       "3  Direct Traffic             0          0          1.0   \n",
       "4          Google             0          1          2.0   \n",
       "\n",
       "   Total Time Spent on Website  Page Views Per Visit            Last Activity  \\\n",
       "0                            0                   0.0  Page Visited on Website   \n",
       "1                          674                   2.5             Email Opened   \n",
       "2                         1532                   2.0             Email Opened   \n",
       "3                          305                   1.0                    Other   \n",
       "4                         1428                   1.0        Converted to Lead   \n",
       "\n",
       "            Specialization What is your current occupation  \\\n",
       "0                    Other                      Unemployed   \n",
       "1                    Other                      Unemployed   \n",
       "2  Business Administration                         Student   \n",
       "3    Media and Advertising                      Unemployed   \n",
       "4                    Other                      Unemployed   \n",
       "\n",
       "   A free copy of Mastering The Interview  \n",
       "0                                       0  \n",
       "1                                       0  \n",
       "2                                       1  \n",
       "3                                       0  \n",
       "4                                       0  "
      ]
     },
     "execution_count": 611,
     "metadata": {},
     "output_type": "execute_result"
    }
   ],
   "source": [
    "df.head()"
   ]
  },
  {
   "cell_type": "markdown",
   "metadata": {},
   "source": [
    "# EDA"
   ]
  },
  {
   "cell_type": "markdown",
   "metadata": {},
   "source": [
    "# Univariate Analysis"
   ]
  },
  {
   "cell_type": "code",
   "execution_count": 612,
   "metadata": {},
   "outputs": [
    {
     "data": {
      "text/plain": [
       "<matplotlib.axes._subplots.AxesSubplot at 0x1a7044f5e88>"
      ]
     },
     "execution_count": 612,
     "metadata": {},
     "output_type": "execute_result"
    },
    {
     "data": {
      "image/png": "[encoded data removed]",
      "text/plain": [
       "<Figure size 720x360 with 2 Axes>"
      ]
     },
     "metadata": {
      "needs_background": "light"
     },
     "output_type": "display_data"
    }
   ],
   "source": [
    "# Univaraite Analysis\n",
    "plt.figure(figsize=(10,5))\n",
    "plt.subplot(1,2,1)\n",
    "sns.boxplot(df['TotalVisits'])\n",
    "plt.subplot(1,2,2)\n",
    "sns.boxplot(df['Total Time Spent on Website'])"
   ]
  },
  {
   "cell_type": "markdown",
   "metadata": {},
   "source": [
    "There are some outliers in the featue 'TotalVisits' that we need to address"
   ]
  },
  {
   "cell_type": "markdown",
   "metadata": {},
   "source": [
    "### Bivariate Analysis"
   ]
  },
  {
   "cell_type": "code",
   "execution_count": 613,
   "metadata": {},
   "outputs": [
    {
     "data": {
      "image/png": "[encoded data removed]",
      "text/plain": [
       "<Figure size 432x288 with 1 Axes>"
      ]
     },
     "metadata": {
      "needs_background": "light"
     },
     "output_type": "display_data"
    }
   ],
   "source": [
    "# Checking the 'Lead Origin' and Converted relation\n",
    "df[['Lead Origin', 'Converted']].groupby(by = 'Lead Origin').sum().plot.bar()\n",
    "plt.show()"
   ]
  },
  {
   "cell_type": "markdown",
   "metadata": {},
   "source": [
    "Landing Page Submission gives highest lead whereas Lead Import least"
   ]
  },
  {
   "cell_type": "code",
   "execution_count": 614,
   "metadata": {},
   "outputs": [
    {
     "data": {
      "image/png": "[encoded data removed]",
      "text/plain": [
       "<Figure size 432x288 with 1 Axes>"
      ]
     },
     "metadata": {
      "needs_background": "light"
     },
     "output_type": "display_data"
    }
   ],
   "source": [
    "# Checking the 'Lead Source' and Converted relation\n",
    "df[['Lead Source', 'Converted']].groupby(by = 'Lead Source').sum().plot.bar()\n",
    "plt.show()"
   ]
  },
  {
   "cell_type": "markdown",
   "metadata": {},
   "source": [
    "Sudents do google much for the course and then  'Direct Traffic' sees more convertion."
   ]
  },
  {
   "cell_type": "code",
   "execution_count": 615,
   "metadata": {},
   "outputs": [
    {
     "data": {
      "image/png": "[encoded data removed]",
      "text/plain": [
       "<Figure size 432x288 with 1 Axes>"
      ]
     },
     "metadata": {
      "needs_background": "light"
     },
     "output_type": "display_data"
    }
   ],
   "source": [
    "df[['Last Activity', 'Converted']].groupby(by = 'Last Activity').sum().plot.bar()\n",
    "plt.show()"
   ]
  },
  {
   "cell_type": "markdown",
   "metadata": {},
   "source": [
    "Email Opened and SMS Sent are a good indicator for conversion"
   ]
  },
  {
   "cell_type": "code",
   "execution_count": 616,
   "metadata": {},
   "outputs": [
    {
     "data": {
      "image/png": "[encoded data removed]",
      "text/plain": [
       "<Figure size 432x288 with 1 Axes>"
      ]
     },
     "metadata": {
      "needs_background": "light"
     },
     "output_type": "display_data"
    }
   ],
   "source": [
    "sns.boxplot(data=df, x='Converted', y='Total Time Spent on Website')\n",
    "plt.show()"
   ]
  },
  {
   "cell_type": "markdown",
   "metadata": {},
   "source": [
    "From the graph above, converted people spent more time on the website."
   ]
  },
  {
   "cell_type": "markdown",
   "metadata": {},
   "source": [
    "# Multivariate Data Analysis"
   ]
  },
  {
   "cell_type": "code",
   "execution_count": 617,
   "metadata": {
    "scrolled": true
   },
   "outputs": [
    {
     "data": {
      "text/plain": [
       "<matplotlib.axes._subplots.AxesSubplot at 0x1a702034d08>"
      ]
     },
     "execution_count": 617,
     "metadata": {},
     "output_type": "execute_result"
    },
    {
     "data": {
      "image/png": "[encoded data removed]",
      "text/plain": [
       "<Figure size 432x288 with 2 Axes>"
      ]
     },
     "metadata": {
      "needs_background": "light"
     },
     "output_type": "display_data"
    }
   ],
   "source": [
    "# Checking co-relation between variables\n",
    "sns.heatmap(df.corr(), annot=True)"
   ]
  },
  {
   "cell_type": "markdown",
   "metadata": {},
   "source": [
    "- 'Total Time Spent on Website' feature shows correlation pattern with 'Converted'. \n",
    "- 'Total Visits and Page View Per Visit are  highly correlated\n"
   ]
  },
  {
   "cell_type": "markdown",
   "metadata": {},
   "source": [
    "# Data Preparation"
   ]
  },
  {
   "cell_type": "markdown",
   "metadata": {},
   "source": [
    "### Dummification of features"
   ]
  },
  {
   "cell_type": "code",
   "execution_count": 618,
   "metadata": {},
   "outputs": [],
   "source": [
    "# Dummifying categorical variables\n",
    "dummy_vars = ['Lead Origin','Lead Source','Last Activity','Specialization','What is your current occupation']\n",
    "for i in dummy_vars:\n",
    "    j = '_'.join(i.split(' '))\n",
    "    j = pd.get_dummies(df[i], drop_first=True,prefix=j)\n",
    "    df = pd.concat([df,j],axis=1)\n",
    "    df.drop(i,axis=1,inplace=True)"
   ]
  },
  {
   "cell_type": "code",
   "execution_count": 619,
   "metadata": {},
   "outputs": [
    {
     "data": {
      "text/html": [
       "<div>\n",
       "<style scoped>\n",
       "    .dataframe tbody tr th:only-of-type {\n",
       "        vertical-align: middle;\n",
       "    }\n",
       "\n",
       "    .dataframe tbody tr th {\n",
       "        vertical-align: top;\n",
       "    }\n",
       "\n",
       "    .dataframe thead th {\n",
       "        text-align: right;\n",
       "    }\n",
       "</style>\n",
       "<table border=\"1\" class=\"dataframe\">\n",
       "  <thead>\n",
       "    <tr style=\"text-align: right;\">\n",
       "      <th></th>\n",
       "      <th>Prospect ID</th>\n",
       "      <th>Do Not Email</th>\n",
       "      <th>Converted</th>\n",
       "      <th>TotalVisits</th>\n",
       "      <th>Total Time Spent on Website</th>\n",
       "      <th>Page Views Per Visit</th>\n",
       "      <th>A free copy of Mastering The Interview</th>\n",
       "      <th>Lead_Origin_Landing Page Submission</th>\n",
       "      <th>Lead_Origin_Lead Add Form</th>\n",
       "      <th>Lead_Origin_Lead Import</th>\n",
       "      <th>Lead_Source_Google</th>\n",
       "      <th>Lead_Source_Olark Chat</th>\n",
       "      <th>Lead_Source_Organic Search</th>\n",
       "      <th>Lead_Source_Other</th>\n",
       "      <th>Lead_Source_Reference</th>\n",
       "      <th>Lead_Source_Referral Sites</th>\n",
       "      <th>Lead_Source_Welingak Website</th>\n",
       "      <th>Last_Activity_Email Bounced</th>\n",
       "      <th>Last_Activity_Email Link Clicked</th>\n",
       "      <th>Last_Activity_Email Opened</th>\n",
       "      <th>Last_Activity_Form Submitted on Website</th>\n",
       "      <th>Last_Activity_Olark Chat Conversation</th>\n",
       "      <th>Last_Activity_Other</th>\n",
       "      <th>Last_Activity_Page Visited on Website</th>\n",
       "      <th>Last_Activity_SMS Sent</th>\n",
       "      <th>Specialization_Business Administration</th>\n",
       "      <th>Specialization_E-Business</th>\n",
       "      <th>Specialization_E-COMMERCE</th>\n",
       "      <th>Specialization_Finance Management</th>\n",
       "      <th>Specialization_Healthcare Management</th>\n",
       "      <th>Specialization_Hospitality Management</th>\n",
       "      <th>Specialization_Human Resource Management</th>\n",
       "      <th>Specialization_IT Projects Management</th>\n",
       "      <th>Specialization_International Business</th>\n",
       "      <th>Specialization_Marketing Management</th>\n",
       "      <th>Specialization_Media and Advertising</th>\n",
       "      <th>Specialization_Operations Management</th>\n",
       "      <th>Specialization_Other</th>\n",
       "      <th>Specialization_Retail Management</th>\n",
       "      <th>Specialization_Rural and Agribusiness</th>\n",
       "      <th>Specialization_Services Excellence</th>\n",
       "      <th>Specialization_Supply Chain Management</th>\n",
       "      <th>Specialization_Travel and Tourism</th>\n",
       "      <th>What_is_your_current_occupation_Student</th>\n",
       "      <th>What_is_your_current_occupation_Unemployed</th>\n",
       "      <th>What_is_your_current_occupation_Unknown</th>\n",
       "      <th>What_is_your_current_occupation_Working Professional</th>\n",
       "    </tr>\n",
       "  </thead>\n",
       "  <tbody>\n",
       "    <tr>\n",
       "      <th>0</th>\n",
       "      <td>7927b2df-8bba-4d29-b9a2-b6e0beafe620</td>\n",
       "      <td>0</td>\n",
       "      <td>0</td>\n",
       "      <td>0.0</td>\n",
       "      <td>0</td>\n",
       "      <td>0.0</td>\n",
       "      <td>0</td>\n",
       "      <td>0</td>\n",
       "      <td>0</td>\n",
       "      <td>0</td>\n",
       "      <td>0</td>\n",
       "      <td>1</td>\n",
       "      <td>0</td>\n",
       "      <td>0</td>\n",
       "      <td>0</td>\n",
       "      <td>0</td>\n",
       "      <td>0</td>\n",
       "      <td>0</td>\n",
       "      <td>0</td>\n",
       "      <td>0</td>\n",
       "      <td>0</td>\n",
       "      <td>0</td>\n",
       "      <td>0</td>\n",
       "      <td>1</td>\n",
       "      <td>0</td>\n",
       "      <td>0</td>\n",
       "      <td>0</td>\n",
       "      <td>0</td>\n",
       "      <td>0</td>\n",
       "      <td>0</td>\n",
       "      <td>0</td>\n",
       "      <td>0</td>\n",
       "      <td>0</td>\n",
       "      <td>0</td>\n",
       "      <td>0</td>\n",
       "      <td>0</td>\n",
       "      <td>0</td>\n",
       "      <td>1</td>\n",
       "      <td>0</td>\n",
       "      <td>0</td>\n",
       "      <td>0</td>\n",
       "      <td>0</td>\n",
       "      <td>0</td>\n",
       "      <td>0</td>\n",
       "      <td>1</td>\n",
       "      <td>0</td>\n",
       "      <td>0</td>\n",
       "    </tr>\n",
       "    <tr>\n",
       "      <th>1</th>\n",
       "      <td>2a272436-5132-4136-86fa-dcc88c88f482</td>\n",
       "      <td>0</td>\n",
       "      <td>0</td>\n",
       "      <td>5.0</td>\n",
       "      <td>674</td>\n",
       "      <td>2.5</td>\n",
       "      <td>0</td>\n",
       "      <td>0</td>\n",
       "      <td>0</td>\n",
       "      <td>0</td>\n",
       "      <td>0</td>\n",
       "      <td>0</td>\n",
       "      <td>1</td>\n",
       "      <td>0</td>\n",
       "      <td>0</td>\n",
       "      <td>0</td>\n",
       "      <td>0</td>\n",
       "      <td>0</td>\n",
       "      <td>0</td>\n",
       "      <td>1</td>\n",
       "      <td>0</td>\n",
       "      <td>0</td>\n",
       "      <td>0</td>\n",
       "      <td>0</td>\n",
       "      <td>0</td>\n",
       "      <td>0</td>\n",
       "      <td>0</td>\n",
       "      <td>0</td>\n",
       "      <td>0</td>\n",
       "      <td>0</td>\n",
       "      <td>0</td>\n",
       "      <td>0</td>\n",
       "      <td>0</td>\n",
       "      <td>0</td>\n",
       "      <td>0</td>\n",
       "      <td>0</td>\n",
       "      <td>0</td>\n",
       "      <td>1</td>\n",
       "      <td>0</td>\n",
       "      <td>0</td>\n",
       "      <td>0</td>\n",
       "      <td>0</td>\n",
       "      <td>0</td>\n",
       "      <td>0</td>\n",
       "      <td>1</td>\n",
       "      <td>0</td>\n",
       "      <td>0</td>\n",
       "    </tr>\n",
       "    <tr>\n",
       "      <th>2</th>\n",
       "      <td>8cc8c611-a219-4f35-ad23-fdfd2656bd8a</td>\n",
       "      <td>0</td>\n",
       "      <td>1</td>\n",
       "      <td>2.0</td>\n",
       "      <td>1532</td>\n",
       "      <td>2.0</td>\n",
       "      <td>1</td>\n",
       "      <td>1</td>\n",
       "      <td>0</td>\n",
       "      <td>0</td>\n",
       "      <td>0</td>\n",
       "      <td>0</td>\n",
       "      <td>0</td>\n",
       "      <td>0</td>\n",
       "      <td>0</td>\n",
       "      <td>0</td>\n",
       "      <td>0</td>\n",
       "      <td>0</td>\n",
       "      <td>0</td>\n",
       "      <td>1</td>\n",
       "      <td>0</td>\n",
       "      <td>0</td>\n",
       "      <td>0</td>\n",
       "      <td>0</td>\n",
       "      <td>0</td>\n",
       "      <td>1</td>\n",
       "      <td>0</td>\n",
       "      <td>0</td>\n",
       "      <td>0</td>\n",
       "      <td>0</td>\n",
       "      <td>0</td>\n",
       "      <td>0</td>\n",
       "      <td>0</td>\n",
       "      <td>0</td>\n",
       "      <td>0</td>\n",
       "      <td>0</td>\n",
       "      <td>0</td>\n",
       "      <td>0</td>\n",
       "      <td>0</td>\n",
       "      <td>0</td>\n",
       "      <td>0</td>\n",
       "      <td>0</td>\n",
       "      <td>0</td>\n",
       "      <td>1</td>\n",
       "      <td>0</td>\n",
       "      <td>0</td>\n",
       "      <td>0</td>\n",
       "    </tr>\n",
       "    <tr>\n",
       "      <th>3</th>\n",
       "      <td>0cc2df48-7cf4-4e39-9de9-19797f9b38cc</td>\n",
       "      <td>0</td>\n",
       "      <td>0</td>\n",
       "      <td>1.0</td>\n",
       "      <td>305</td>\n",
       "      <td>1.0</td>\n",
       "      <td>0</td>\n",
       "      <td>1</td>\n",
       "      <td>0</td>\n",
       "      <td>0</td>\n",
       "      <td>0</td>\n",
       "      <td>0</td>\n",
       "      <td>0</td>\n",
       "      <td>0</td>\n",
       "      <td>0</td>\n",
       "      <td>0</td>\n",
       "      <td>0</td>\n",
       "      <td>0</td>\n",
       "      <td>0</td>\n",
       "      <td>0</td>\n",
       "      <td>0</td>\n",
       "      <td>0</td>\n",
       "      <td>1</td>\n",
       "      <td>0</td>\n",
       "      <td>0</td>\n",
       "      <td>0</td>\n",
       "      <td>0</td>\n",
       "      <td>0</td>\n",
       "      <td>0</td>\n",
       "      <td>0</td>\n",
       "      <td>0</td>\n",
       "      <td>0</td>\n",
       "      <td>0</td>\n",
       "      <td>0</td>\n",
       "      <td>0</td>\n",
       "      <td>1</td>\n",
       "      <td>0</td>\n",
       "      <td>0</td>\n",
       "      <td>0</td>\n",
       "      <td>0</td>\n",
       "      <td>0</td>\n",
       "      <td>0</td>\n",
       "      <td>0</td>\n",
       "      <td>0</td>\n",
       "      <td>1</td>\n",
       "      <td>0</td>\n",
       "      <td>0</td>\n",
       "    </tr>\n",
       "    <tr>\n",
       "      <th>4</th>\n",
       "      <td>3256f628-e534-4826-9d63-4a8b88782852</td>\n",
       "      <td>0</td>\n",
       "      <td>1</td>\n",
       "      <td>2.0</td>\n",
       "      <td>1428</td>\n",
       "      <td>1.0</td>\n",
       "      <td>0</td>\n",
       "      <td>1</td>\n",
       "      <td>0</td>\n",
       "      <td>0</td>\n",
       "      <td>1</td>\n",
       "      <td>0</td>\n",
       "      <td>0</td>\n",
       "      <td>0</td>\n",
       "      <td>0</td>\n",
       "      <td>0</td>\n",
       "      <td>0</td>\n",
       "      <td>0</td>\n",
       "      <td>0</td>\n",
       "      <td>0</td>\n",
       "      <td>0</td>\n",
       "      <td>0</td>\n",
       "      <td>0</td>\n",
       "      <td>0</td>\n",
       "      <td>0</td>\n",
       "      <td>0</td>\n",
       "      <td>0</td>\n",
       "      <td>0</td>\n",
       "      <td>0</td>\n",
       "      <td>0</td>\n",
       "      <td>0</td>\n",
       "      <td>0</td>\n",
       "      <td>0</td>\n",
       "      <td>0</td>\n",
       "      <td>0</td>\n",
       "      <td>0</td>\n",
       "      <td>0</td>\n",
       "      <td>1</td>\n",
       "      <td>0</td>\n",
       "      <td>0</td>\n",
       "      <td>0</td>\n",
       "      <td>0</td>\n",
       "      <td>0</td>\n",
       "      <td>0</td>\n",
       "      <td>1</td>\n",
       "      <td>0</td>\n",
       "      <td>0</td>\n",
       "    </tr>\n",
       "  </tbody>\n",
       "</table>\n",
       "</div>"
      ],
      "text/plain": [
       "                            Prospect ID  Do Not Email  Converted  TotalVisits  \\\n",
       "0  7927b2df-8bba-4d29-b9a2-b6e0beafe620             0          0          0.0   \n",
       "1  2a272436-5132-4136-86fa-dcc88c88f482             0          0          5.0   \n",
       "2  8cc8c611-a219-4f35-ad23-fdfd2656bd8a             0          1          2.0   \n",
       "3  0cc2df48-7cf4-4e39-9de9-19797f9b38cc             0          0          1.0   \n",
       "4  3256f628-e534-4826-9d63-4a8b88782852             0          1          2.0   \n",
       "\n",
       "   Total Time Spent on Website  Page Views Per Visit  \\\n",
       "0                            0                   0.0   \n",
       "1                          674                   2.5   \n",
       "2                         1532                   2.0   \n",
       "3                          305                   1.0   \n",
       "4                         1428                   1.0   \n",
       "\n",
       "   A free copy of Mastering The Interview  \\\n",
       "0                                       0   \n",
       "1                                       0   \n",
       "2                                       1   \n",
       "3                                       0   \n",
       "4                                       0   \n",
       "\n",
       "   Lead_Origin_Landing Page Submission  Lead_Origin_Lead Add Form  \\\n",
       "0                                    0                          0   \n",
       "1                                    0                          0   \n",
       "2                                    1                          0   \n",
       "3                                    1                          0   \n",
       "4                                    1                          0   \n",
       "\n",
       "   Lead_Origin_Lead Import  Lead_Source_Google  Lead_Source_Olark Chat  \\\n",
       "0                        0                   0                       1   \n",
       "1                        0                   0                       0   \n",
       "2                        0                   0                       0   \n",
       "3                        0                   0                       0   \n",
       "4                        0                   1                       0   \n",
       "\n",
       "   Lead_Source_Organic Search  Lead_Source_Other  Lead_Source_Reference  \\\n",
       "0                           0                  0                      0   \n",
       "1                           1                  0                      0   \n",
       "2                           0                  0                      0   \n",
       "3                           0                  0                      0   \n",
       "4                           0                  0                      0   \n",
       "\n",
       "   Lead_Source_Referral Sites  Lead_Source_Welingak Website  \\\n",
       "0                           0                             0   \n",
       "1                           0                             0   \n",
       "2                           0                             0   \n",
       "3                           0                             0   \n",
       "4                           0                             0   \n",
       "\n",
       "   Last_Activity_Email Bounced  Last_Activity_Email Link Clicked  \\\n",
       "0                            0                                 0   \n",
       "1                            0                                 0   \n",
       "2                            0                                 0   \n",
       "3                            0                                 0   \n",
       "4                            0                                 0   \n",
       "\n",
       "   Last_Activity_Email Opened  Last_Activity_Form Submitted on Website  \\\n",
       "0                           0                                        0   \n",
       "1                           1                                        0   \n",
       "2                           1                                        0   \n",
       "3                           0                                        0   \n",
       "4                           0                                        0   \n",
       "\n",
       "   Last_Activity_Olark Chat Conversation  Last_Activity_Other  \\\n",
       "0                                      0                    0   \n",
       "1                                      0                    0   \n",
       "2                                      0                    0   \n",
       "3                                      0                    1   \n",
       "4                                      0                    0   \n",
       "\n",
       "   Last_Activity_Page Visited on Website  Last_Activity_SMS Sent  \\\n",
       "0                                      1                       0   \n",
       "1                                      0                       0   \n",
       "2                                      0                       0   \n",
       "3                                      0                       0   \n",
       "4                                      0                       0   \n",
       "\n",
       "   Specialization_Business Administration  Specialization_E-Business  \\\n",
       "0                                       0                          0   \n",
       "1                                       0                          0   \n",
       "2                                       1                          0   \n",
       "3                                       0                          0   \n",
       "4                                       0                          0   \n",
       "\n",
       "   Specialization_E-COMMERCE  Specialization_Finance Management  \\\n",
       "0                          0                                  0   \n",
       "1                          0                                  0   \n",
       "2                          0                                  0   \n",
       "3                          0                                  0   \n",
       "4                          0                                  0   \n",
       "\n",
       "   Specialization_Healthcare Management  \\\n",
       "0                                     0   \n",
       "1                                     0   \n",
       "2                                     0   \n",
       "3                                     0   \n",
       "4                                     0   \n",
       "\n",
       "   Specialization_Hospitality Management  \\\n",
       "0                                      0   \n",
       "1                                      0   \n",
       "2                                      0   \n",
       "3                                      0   \n",
       "4                                      0   \n",
       "\n",
       "   Specialization_Human Resource Management  \\\n",
       "0                                         0   \n",
       "1                                         0   \n",
       "2                                         0   \n",
       "3                                         0   \n",
       "4                                         0   \n",
       "\n",
       "   Specialization_IT Projects Management  \\\n",
       "0                                      0   \n",
       "1                                      0   \n",
       "2                                      0   \n",
       "3                                      0   \n",
       "4                                      0   \n",
       "\n",
       "   Specialization_International Business  Specialization_Marketing Management  \\\n",
       "0                                      0                                    0   \n",
       "1                                      0                                    0   \n",
       "2                                      0                                    0   \n",
       "3                                      0                                    0   \n",
       "4                                      0                                    0   \n",
       "\n",
       "   Specialization_Media and Advertising  Specialization_Operations Management  \\\n",
       "0                                     0                                     0   \n",
       "1                                     0                                     0   \n",
       "2                                     0                                     0   \n",
       "3                                     1                                     0   \n",
       "4                                     0                                     0   \n",
       "\n",
       "   Specialization_Other  Specialization_Retail Management  \\\n",
       "0                     1                                 0   \n",
       "1                     1                                 0   \n",
       "2                     0                                 0   \n",
       "3                     0                                 0   \n",
       "4                     1                                 0   \n",
       "\n",
       "   Specialization_Rural and Agribusiness  Specialization_Services Excellence  \\\n",
       "0                                      0                                   0   \n",
       "1                                      0                                   0   \n",
       "2                                      0                                   0   \n",
       "3                                      0                                   0   \n",
       "4                                      0                                   0   \n",
       "\n",
       "   Specialization_Supply Chain Management  Specialization_Travel and Tourism  \\\n",
       "0                                       0                                  0   \n",
       "1                                       0                                  0   \n",
       "2                                       0                                  0   \n",
       "3                                       0                                  0   \n",
       "4                                       0                                  0   \n",
       "\n",
       "   What_is_your_current_occupation_Student  \\\n",
       "0                                        0   \n",
       "1                                        0   \n",
       "2                                        1   \n",
       "3                                        0   \n",
       "4                                        0   \n",
       "\n",
       "   What_is_your_current_occupation_Unemployed  \\\n",
       "0                                           1   \n",
       "1                                           1   \n",
       "2                                           0   \n",
       "3                                           1   \n",
       "4                                           1   \n",
       "\n",
       "   What_is_your_current_occupation_Unknown  \\\n",
       "0                                        0   \n",
       "1                                        0   \n",
       "2                                        0   \n",
       "3                                        0   \n",
       "4                                        0   \n",
       "\n",
       "   What_is_your_current_occupation_Working Professional  \n",
       "0                                                  0     \n",
       "1                                                  0     \n",
       "2                                                  0     \n",
       "3                                                  0     \n",
       "4                                                  0     "
      ]
     },
     "execution_count": 619,
     "metadata": {},
     "output_type": "execute_result"
    }
   ],
   "source": [
    "df.head()"
   ]
  },
  {
   "cell_type": "code",
   "execution_count": 620,
   "metadata": {
    "scrolled": true
   },
   "outputs": [
    {
     "name": "stdout",
     "output_type": "stream",
     "text": [
      "<class 'pandas.core.frame.DataFrame'>\n",
      "Int64Index: 9074 entries, 0 to 9239\n",
      "Data columns (total 47 columns):\n",
      " #   Column                                                Non-Null Count  Dtype  \n",
      "---  ------                                                --------------  -----  \n",
      " 0   Prospect ID                                           9074 non-null   object \n",
      " 1   Do Not Email                                          9074 non-null   int64  \n",
      " 2   Converted                                             9074 non-null   int64  \n",
      " 3   TotalVisits                                           9074 non-null   float64\n",
      " 4   Total Time Spent on Website                           9074 non-null   int64  \n",
      " 5   Page Views Per Visit                                  9074 non-null   float64\n",
      " 6   A free copy of Mastering The Interview                9074 non-null   int64  \n",
      " 7   Lead_Origin_Landing Page Submission                   9074 non-null   uint8  \n",
      " 8   Lead_Origin_Lead Add Form                             9074 non-null   uint8  \n",
      " 9   Lead_Origin_Lead Import                               9074 non-null   uint8  \n",
      " 10  Lead_Source_Google                                    9074 non-null   uint8  \n",
      " 11  Lead_Source_Olark Chat                                9074 non-null   uint8  \n",
      " 12  Lead_Source_Organic Search                            9074 non-null   uint8  \n",
      " 13  Lead_Source_Other                                     9074 non-null   uint8  \n",
      " 14  Lead_Source_Reference                                 9074 non-null   uint8  \n",
      " 15  Lead_Source_Referral Sites                            9074 non-null   uint8  \n",
      " 16  Lead_Source_Welingak Website                          9074 non-null   uint8  \n",
      " 17  Last_Activity_Email Bounced                           9074 non-null   uint8  \n",
      " 18  Last_Activity_Email Link Clicked                      9074 non-null   uint8  \n",
      " 19  Last_Activity_Email Opened                            9074 non-null   uint8  \n",
      " 20  Last_Activity_Form Submitted on Website               9074 non-null   uint8  \n",
      " 21  Last_Activity_Olark Chat Conversation                 9074 non-null   uint8  \n",
      " 22  Last_Activity_Other                                   9074 non-null   uint8  \n",
      " 23  Last_Activity_Page Visited on Website                 9074 non-null   uint8  \n",
      " 24  Last_Activity_SMS Sent                                9074 non-null   uint8  \n",
      " 25  Specialization_Business Administration                9074 non-null   uint8  \n",
      " 26  Specialization_E-Business                             9074 non-null   uint8  \n",
      " 27  Specialization_E-COMMERCE                             9074 non-null   uint8  \n",
      " 28  Specialization_Finance Management                     9074 non-null   uint8  \n",
      " 29  Specialization_Healthcare Management                  9074 non-null   uint8  \n",
      " 30  Specialization_Hospitality Management                 9074 non-null   uint8  \n",
      " 31  Specialization_Human Resource Management              9074 non-null   uint8  \n",
      " 32  Specialization_IT Projects Management                 9074 non-null   uint8  \n",
      " 33  Specialization_International Business                 9074 non-null   uint8  \n",
      " 34  Specialization_Marketing Management                   9074 non-null   uint8  \n",
      " 35  Specialization_Media and Advertising                  9074 non-null   uint8  \n",
      " 36  Specialization_Operations Management                  9074 non-null   uint8  \n",
      " 37  Specialization_Other                                  9074 non-null   uint8  \n",
      " 38  Specialization_Retail Management                      9074 non-null   uint8  \n",
      " 39  Specialization_Rural and Agribusiness                 9074 non-null   uint8  \n",
      " 40  Specialization_Services Excellence                    9074 non-null   uint8  \n",
      " 41  Specialization_Supply Chain Management                9074 non-null   uint8  \n",
      " 42  Specialization_Travel and Tourism                     9074 non-null   uint8  \n",
      " 43  What_is_your_current_occupation_Student               9074 non-null   uint8  \n",
      " 44  What_is_your_current_occupation_Unemployed            9074 non-null   uint8  \n",
      " 45  What_is_your_current_occupation_Unknown               9074 non-null   uint8  \n",
      " 46  What_is_your_current_occupation_Working Professional  9074 non-null   uint8  \n",
      "dtypes: float64(2), int64(4), object(1), uint8(40)\n",
      "memory usage: 1.2+ MB\n"
     ]
    }
   ],
   "source": [
    "df.info()"
   ]
  },
  {
   "cell_type": "code",
   "execution_count": 621,
   "metadata": {},
   "outputs": [
    {
     "data": {
      "text/plain": [
       "(9074, 47)"
      ]
     },
     "execution_count": 621,
     "metadata": {},
     "output_type": "execute_result"
    }
   ],
   "source": [
    "df.shape"
   ]
  },
  {
   "cell_type": "markdown",
   "metadata": {},
   "source": [
    "## Checking Outliers"
   ]
  },
  {
   "cell_type": "code",
   "execution_count": 622,
   "metadata": {},
   "outputs": [
    {
     "data": {
      "image/png": "[encoded data removed]",
      "text/plain": [
       "<Figure size 1080x360 with 3 Axes>"
      ]
     },
     "metadata": {
      "needs_background": "light"
     },
     "output_type": "display_data"
    }
   ],
   "source": [
    "num_vars = ['TotalVisits','Total Time Spent on Website','Page Views Per Visit']\n",
    "plt.figure(figsize=(15,5))\n",
    "for i in enumerate(num_vars):\n",
    "    plt.subplot(1,3,i[0]+1)\n",
    "    sns.boxplot(df[i[1]])\n",
    "plt.show()"
   ]
  },
  {
   "cell_type": "code",
   "execution_count": 623,
   "metadata": {},
   "outputs": [
    {
     "data": {
      "text/plain": [
       "0.50     3.0\n",
       "0.75     5.0\n",
       "0.95    10.0\n",
       "0.99    17.0\n",
       "Name: TotalVisits, dtype: float64"
      ]
     },
     "execution_count": 623,
     "metadata": {},
     "output_type": "execute_result"
    }
   ],
   "source": [
    "# Checking data in the field\n",
    "df['TotalVisits'].quantile([.5,.75,.95,.99])"
   ]
  },
  {
   "cell_type": "code",
   "execution_count": 624,
   "metadata": {},
   "outputs": [
    {
     "data": {
      "text/plain": [
       "0.50    2.0\n",
       "0.75    3.2\n",
       "0.95    6.0\n",
       "0.99    9.0\n",
       "Name: Page Views Per Visit, dtype: float64"
      ]
     },
     "execution_count": 624,
     "metadata": {},
     "output_type": "execute_result"
    }
   ],
   "source": [
    "# Checking data in the field\n",
    "df['Page Views Per Visit'].quantile([.5,.75,.95,.99])"
   ]
  },
  {
   "cell_type": "code",
   "execution_count": 625,
   "metadata": {},
   "outputs": [],
   "source": [
    "# Capping the field 'TotalVisits' at .95(mild range)\n",
    "q4 = df['TotalVisits'].quantile(.95)\n",
    "df['TotalVisits'][df['TotalVisits'] > q4] = q4"
   ]
  },
  {
   "cell_type": "code",
   "execution_count": 626,
   "metadata": {},
   "outputs": [],
   "source": [
    "# Capping the field 'Page Views Per Visit' at .95(mild range)\n",
    "q4 = df['Page Views Per Visit'].quantile(.95)\n",
    "df['Page Views Per Visit'][df['Page Views Per Visit'] > q4] = q4"
   ]
  },
  {
   "cell_type": "code",
   "execution_count": 627,
   "metadata": {},
   "outputs": [
    {
     "data": {
      "image/png": "[encoded data removed]",
      "text/plain": [
       "<Figure size 1080x360 with 3 Axes>"
      ]
     },
     "metadata": {
      "needs_background": "light"
     },
     "output_type": "display_data"
    }
   ],
   "source": [
    "num_vars = ['TotalVisits','Total Time Spent on Website','Page Views Per Visit']\n",
    "plt.figure(figsize=(15,5))\n",
    "for i in enumerate(num_vars):\n",
    "    plt.subplot(1,3,i[0]+1)\n",
    "    sns.boxplot(df[i[1]])\n",
    "plt.show()"
   ]
  },
  {
   "cell_type": "markdown",
   "metadata": {},
   "source": [
    "### After data preparation, number of records retained"
   ]
  },
  {
   "cell_type": "code",
   "execution_count": 628,
   "metadata": {},
   "outputs": [
    {
     "data": {
      "text/plain": [
       "98.2"
      ]
     },
     "execution_count": 628,
     "metadata": {},
     "output_type": "execute_result"
    }
   ],
   "source": [
    "round(100*(len(df)/9240),2)"
   ]
  },
  {
   "cell_type": "markdown",
   "metadata": {},
   "source": [
    "Data retained after cleaning is 98.2%"
   ]
  },
  {
   "cell_type": "markdown",
   "metadata": {},
   "source": [
    "#### Data Imbalance check"
   ]
  },
  {
   "cell_type": "code",
   "execution_count": 629,
   "metadata": {},
   "outputs": [
    {
     "data": {
      "text/plain": [
       "0    0.621446\n",
       "1    0.378554\n",
       "Name: Converted, dtype: float64"
      ]
     },
     "execution_count": 629,
     "metadata": {},
     "output_type": "execute_result"
    }
   ],
   "source": [
    "df.Converted.value_counts(normalize=True)"
   ]
  },
  {
   "cell_type": "markdown",
   "metadata": {},
   "source": [
    "Data is 60%-40% and hence There is NO data Imbalance"
   ]
  },
  {
   "cell_type": "markdown",
   "metadata": {},
   "source": [
    "### Train-Test split"
   ]
  },
  {
   "cell_type": "code",
   "execution_count": 630,
   "metadata": {},
   "outputs": [],
   "source": [
    "from sklearn.model_selection import train_test_split"
   ]
  },
  {
   "cell_type": "code",
   "execution_count": 631,
   "metadata": {},
   "outputs": [],
   "source": [
    "df_train, df_test =  train_test_split(df, train_size = .7, test_size = .3, random_state=100)"
   ]
  },
  {
   "cell_type": "code",
   "execution_count": 632,
   "metadata": {},
   "outputs": [
    {
     "name": "stdout",
     "output_type": "stream",
     "text": [
      "(6351, 47)\n",
      "(2723, 47)\n"
     ]
    }
   ],
   "source": [
    "print(df_train.shape)\n",
    "print(df_test.shape)"
   ]
  },
  {
   "cell_type": "markdown",
   "metadata": {},
   "source": [
    "## Re-Scaling"
   ]
  },
  {
   "cell_type": "code",
   "execution_count": 633,
   "metadata": {},
   "outputs": [],
   "source": [
    "from sklearn.preprocessing import StandardScaler"
   ]
  },
  {
   "cell_type": "code",
   "execution_count": 634,
   "metadata": {},
   "outputs": [],
   "source": [
    "# Scaling of continuous variables\n",
    "num_vars = ['TotalVisits','Total Time Spent on Website','Page Views Per Visit']\n",
    "scaler = StandardScaler()\n",
    "df_train[num_vars] = scaler.fit_transform(df_train[num_vars])"
   ]
  },
  {
   "cell_type": "code",
   "execution_count": 635,
   "metadata": {},
   "outputs": [
    {
     "data": {
      "text/html": [
       "<div>\n",
       "<style scoped>\n",
       "    .dataframe tbody tr th:only-of-type {\n",
       "        vertical-align: middle;\n",
       "    }\n",
       "\n",
       "    .dataframe tbody tr th {\n",
       "        vertical-align: top;\n",
       "    }\n",
       "\n",
       "    .dataframe thead th {\n",
       "        text-align: right;\n",
       "    }\n",
       "</style>\n",
       "<table border=\"1\" class=\"dataframe\">\n",
       "  <thead>\n",
       "    <tr style=\"text-align: right;\">\n",
       "      <th></th>\n",
       "      <th>Prospect ID</th>\n",
       "      <th>Do Not Email</th>\n",
       "      <th>Converted</th>\n",
       "      <th>TotalVisits</th>\n",
       "      <th>Total Time Spent on Website</th>\n",
       "      <th>Page Views Per Visit</th>\n",
       "      <th>A free copy of Mastering The Interview</th>\n",
       "      <th>Lead_Origin_Landing Page Submission</th>\n",
       "      <th>Lead_Origin_Lead Add Form</th>\n",
       "      <th>Lead_Origin_Lead Import</th>\n",
       "      <th>Lead_Source_Google</th>\n",
       "      <th>Lead_Source_Olark Chat</th>\n",
       "      <th>Lead_Source_Organic Search</th>\n",
       "      <th>Lead_Source_Other</th>\n",
       "      <th>Lead_Source_Reference</th>\n",
       "      <th>Lead_Source_Referral Sites</th>\n",
       "      <th>Lead_Source_Welingak Website</th>\n",
       "      <th>Last_Activity_Email Bounced</th>\n",
       "      <th>Last_Activity_Email Link Clicked</th>\n",
       "      <th>Last_Activity_Email Opened</th>\n",
       "      <th>Last_Activity_Form Submitted on Website</th>\n",
       "      <th>Last_Activity_Olark Chat Conversation</th>\n",
       "      <th>Last_Activity_Other</th>\n",
       "      <th>Last_Activity_Page Visited on Website</th>\n",
       "      <th>Last_Activity_SMS Sent</th>\n",
       "      <th>Specialization_Business Administration</th>\n",
       "      <th>Specialization_E-Business</th>\n",
       "      <th>Specialization_E-COMMERCE</th>\n",
       "      <th>Specialization_Finance Management</th>\n",
       "      <th>Specialization_Healthcare Management</th>\n",
       "      <th>Specialization_Hospitality Management</th>\n",
       "      <th>Specialization_Human Resource Management</th>\n",
       "      <th>Specialization_IT Projects Management</th>\n",
       "      <th>Specialization_International Business</th>\n",
       "      <th>Specialization_Marketing Management</th>\n",
       "      <th>Specialization_Media and Advertising</th>\n",
       "      <th>Specialization_Operations Management</th>\n",
       "      <th>Specialization_Other</th>\n",
       "      <th>Specialization_Retail Management</th>\n",
       "      <th>Specialization_Rural and Agribusiness</th>\n",
       "      <th>Specialization_Services Excellence</th>\n",
       "      <th>Specialization_Supply Chain Management</th>\n",
       "      <th>Specialization_Travel and Tourism</th>\n",
       "      <th>What_is_your_current_occupation_Student</th>\n",
       "      <th>What_is_your_current_occupation_Unemployed</th>\n",
       "      <th>What_is_your_current_occupation_Unknown</th>\n",
       "      <th>What_is_your_current_occupation_Working Professional</th>\n",
       "    </tr>\n",
       "  </thead>\n",
       "  <tbody>\n",
       "    <tr>\n",
       "      <th>3009</th>\n",
       "      <td>42a4d521-df88-4b5a-b198-50594a407a2d</td>\n",
       "      <td>0</td>\n",
       "      <td>0</td>\n",
       "      <td>-0.432779</td>\n",
       "      <td>-0.160255</td>\n",
       "      <td>-0.155018</td>\n",
       "      <td>1</td>\n",
       "      <td>1</td>\n",
       "      <td>0</td>\n",
       "      <td>0</td>\n",
       "      <td>0</td>\n",
       "      <td>0</td>\n",
       "      <td>0</td>\n",
       "      <td>0</td>\n",
       "      <td>0</td>\n",
       "      <td>0</td>\n",
       "      <td>0</td>\n",
       "      <td>0</td>\n",
       "      <td>0</td>\n",
       "      <td>1</td>\n",
       "      <td>0</td>\n",
       "      <td>0</td>\n",
       "      <td>0</td>\n",
       "      <td>0</td>\n",
       "      <td>0</td>\n",
       "      <td>0</td>\n",
       "      <td>0</td>\n",
       "      <td>0</td>\n",
       "      <td>1</td>\n",
       "      <td>0</td>\n",
       "      <td>0</td>\n",
       "      <td>0</td>\n",
       "      <td>0</td>\n",
       "      <td>0</td>\n",
       "      <td>0</td>\n",
       "      <td>0</td>\n",
       "      <td>0</td>\n",
       "      <td>0</td>\n",
       "      <td>0</td>\n",
       "      <td>0</td>\n",
       "      <td>0</td>\n",
       "      <td>0</td>\n",
       "      <td>0</td>\n",
       "      <td>0</td>\n",
       "      <td>0</td>\n",
       "      <td>1</td>\n",
       "      <td>0</td>\n",
       "    </tr>\n",
       "    <tr>\n",
       "      <th>1012</th>\n",
       "      <td>4594be86-3b2e-4b55-866b-5a4b05ffd0f6</td>\n",
       "      <td>1</td>\n",
       "      <td>0</td>\n",
       "      <td>-0.432779</td>\n",
       "      <td>-0.540048</td>\n",
       "      <td>-0.155018</td>\n",
       "      <td>0</td>\n",
       "      <td>1</td>\n",
       "      <td>0</td>\n",
       "      <td>0</td>\n",
       "      <td>0</td>\n",
       "      <td>0</td>\n",
       "      <td>0</td>\n",
       "      <td>0</td>\n",
       "      <td>0</td>\n",
       "      <td>0</td>\n",
       "      <td>0</td>\n",
       "      <td>1</td>\n",
       "      <td>0</td>\n",
       "      <td>0</td>\n",
       "      <td>0</td>\n",
       "      <td>0</td>\n",
       "      <td>0</td>\n",
       "      <td>0</td>\n",
       "      <td>0</td>\n",
       "      <td>0</td>\n",
       "      <td>0</td>\n",
       "      <td>0</td>\n",
       "      <td>0</td>\n",
       "      <td>0</td>\n",
       "      <td>0</td>\n",
       "      <td>0</td>\n",
       "      <td>0</td>\n",
       "      <td>0</td>\n",
       "      <td>0</td>\n",
       "      <td>0</td>\n",
       "      <td>0</td>\n",
       "      <td>1</td>\n",
       "      <td>0</td>\n",
       "      <td>0</td>\n",
       "      <td>0</td>\n",
       "      <td>0</td>\n",
       "      <td>0</td>\n",
       "      <td>0</td>\n",
       "      <td>0</td>\n",
       "      <td>0</td>\n",
       "      <td>1</td>\n",
       "    </tr>\n",
       "    <tr>\n",
       "      <th>9226</th>\n",
       "      <td>c3bb1471-53d5-4244-b2e5-4bbb543835c1</td>\n",
       "      <td>0</td>\n",
       "      <td>0</td>\n",
       "      <td>-1.150329</td>\n",
       "      <td>-0.888650</td>\n",
       "      <td>-1.265540</td>\n",
       "      <td>0</td>\n",
       "      <td>0</td>\n",
       "      <td>0</td>\n",
       "      <td>0</td>\n",
       "      <td>0</td>\n",
       "      <td>1</td>\n",
       "      <td>0</td>\n",
       "      <td>0</td>\n",
       "      <td>0</td>\n",
       "      <td>0</td>\n",
       "      <td>0</td>\n",
       "      <td>0</td>\n",
       "      <td>0</td>\n",
       "      <td>0</td>\n",
       "      <td>0</td>\n",
       "      <td>0</td>\n",
       "      <td>0</td>\n",
       "      <td>0</td>\n",
       "      <td>1</td>\n",
       "      <td>0</td>\n",
       "      <td>0</td>\n",
       "      <td>0</td>\n",
       "      <td>0</td>\n",
       "      <td>0</td>\n",
       "      <td>0</td>\n",
       "      <td>0</td>\n",
       "      <td>0</td>\n",
       "      <td>0</td>\n",
       "      <td>0</td>\n",
       "      <td>0</td>\n",
       "      <td>0</td>\n",
       "      <td>1</td>\n",
       "      <td>0</td>\n",
       "      <td>0</td>\n",
       "      <td>0</td>\n",
       "      <td>0</td>\n",
       "      <td>0</td>\n",
       "      <td>0</td>\n",
       "      <td>1</td>\n",
       "      <td>0</td>\n",
       "      <td>0</td>\n",
       "    </tr>\n",
       "    <tr>\n",
       "      <th>4750</th>\n",
       "      <td>9bce5fbc-8d57-4dc9-8f82-fd11d94d9969</td>\n",
       "      <td>0</td>\n",
       "      <td>1</td>\n",
       "      <td>-0.432779</td>\n",
       "      <td>1.643304</td>\n",
       "      <td>-0.155018</td>\n",
       "      <td>0</td>\n",
       "      <td>1</td>\n",
       "      <td>0</td>\n",
       "      <td>0</td>\n",
       "      <td>0</td>\n",
       "      <td>0</td>\n",
       "      <td>0</td>\n",
       "      <td>0</td>\n",
       "      <td>0</td>\n",
       "      <td>0</td>\n",
       "      <td>0</td>\n",
       "      <td>0</td>\n",
       "      <td>0</td>\n",
       "      <td>0</td>\n",
       "      <td>0</td>\n",
       "      <td>0</td>\n",
       "      <td>0</td>\n",
       "      <td>0</td>\n",
       "      <td>1</td>\n",
       "      <td>0</td>\n",
       "      <td>0</td>\n",
       "      <td>0</td>\n",
       "      <td>0</td>\n",
       "      <td>0</td>\n",
       "      <td>0</td>\n",
       "      <td>0</td>\n",
       "      <td>0</td>\n",
       "      <td>0</td>\n",
       "      <td>1</td>\n",
       "      <td>0</td>\n",
       "      <td>0</td>\n",
       "      <td>0</td>\n",
       "      <td>0</td>\n",
       "      <td>0</td>\n",
       "      <td>0</td>\n",
       "      <td>0</td>\n",
       "      <td>0</td>\n",
       "      <td>0</td>\n",
       "      <td>0</td>\n",
       "      <td>1</td>\n",
       "      <td>0</td>\n",
       "    </tr>\n",
       "    <tr>\n",
       "      <th>7987</th>\n",
       "      <td>b0bfbc32-bd4a-4376-a829-5318bc0e9547</td>\n",
       "      <td>0</td>\n",
       "      <td>1</td>\n",
       "      <td>0.643547</td>\n",
       "      <td>2.017593</td>\n",
       "      <td>0.122613</td>\n",
       "      <td>0</td>\n",
       "      <td>1</td>\n",
       "      <td>0</td>\n",
       "      <td>0</td>\n",
       "      <td>0</td>\n",
       "      <td>0</td>\n",
       "      <td>0</td>\n",
       "      <td>0</td>\n",
       "      <td>0</td>\n",
       "      <td>0</td>\n",
       "      <td>0</td>\n",
       "      <td>0</td>\n",
       "      <td>0</td>\n",
       "      <td>0</td>\n",
       "      <td>0</td>\n",
       "      <td>0</td>\n",
       "      <td>0</td>\n",
       "      <td>0</td>\n",
       "      <td>1</td>\n",
       "      <td>0</td>\n",
       "      <td>0</td>\n",
       "      <td>0</td>\n",
       "      <td>1</td>\n",
       "      <td>0</td>\n",
       "      <td>0</td>\n",
       "      <td>0</td>\n",
       "      <td>0</td>\n",
       "      <td>0</td>\n",
       "      <td>0</td>\n",
       "      <td>0</td>\n",
       "      <td>0</td>\n",
       "      <td>0</td>\n",
       "      <td>0</td>\n",
       "      <td>0</td>\n",
       "      <td>0</td>\n",
       "      <td>0</td>\n",
       "      <td>0</td>\n",
       "      <td>0</td>\n",
       "      <td>1</td>\n",
       "      <td>0</td>\n",
       "      <td>0</td>\n",
       "    </tr>\n",
       "  </tbody>\n",
       "</table>\n",
       "</div>"
      ],
      "text/plain": [
       "                               Prospect ID  Do Not Email  Converted  \\\n",
       "3009  42a4d521-df88-4b5a-b198-50594a407a2d             0          0   \n",
       "1012  4594be86-3b2e-4b55-866b-5a4b05ffd0f6             1          0   \n",
       "9226  c3bb1471-53d5-4244-b2e5-4bbb543835c1             0          0   \n",
       "4750  9bce5fbc-8d57-4dc9-8f82-fd11d94d9969             0          1   \n",
       "7987  b0bfbc32-bd4a-4376-a829-5318bc0e9547             0          1   \n",
       "\n",
       "      TotalVisits  Total Time Spent on Website  Page Views Per Visit  \\\n",
       "3009    -0.432779                    -0.160255             -0.155018   \n",
       "1012    -0.432779                    -0.540048             -0.155018   \n",
       "9226    -1.150329                    -0.888650             -1.265540   \n",
       "4750    -0.432779                     1.643304             -0.155018   \n",
       "7987     0.643547                     2.017593              0.122613   \n",
       "\n",
       "      A free copy of Mastering The Interview  \\\n",
       "3009                                       1   \n",
       "1012                                       0   \n",
       "9226                                       0   \n",
       "4750                                       0   \n",
       "7987                                       0   \n",
       "\n",
       "      Lead_Origin_Landing Page Submission  Lead_Origin_Lead Add Form  \\\n",
       "3009                                    1                          0   \n",
       "1012                                    1                          0   \n",
       "9226                                    0                          0   \n",
       "4750                                    1                          0   \n",
       "7987                                    1                          0   \n",
       "\n",
       "      Lead_Origin_Lead Import  Lead_Source_Google  Lead_Source_Olark Chat  \\\n",
       "3009                        0                   0                       0   \n",
       "1012                        0                   0                       0   \n",
       "9226                        0                   0                       1   \n",
       "4750                        0                   0                       0   \n",
       "7987                        0                   0                       0   \n",
       "\n",
       "      Lead_Source_Organic Search  Lead_Source_Other  Lead_Source_Reference  \\\n",
       "3009                           0                  0                      0   \n",
       "1012                           0                  0                      0   \n",
       "9226                           0                  0                      0   \n",
       "4750                           0                  0                      0   \n",
       "7987                           0                  0                      0   \n",
       "\n",
       "      Lead_Source_Referral Sites  Lead_Source_Welingak Website  \\\n",
       "3009                           0                             0   \n",
       "1012                           0                             0   \n",
       "9226                           0                             0   \n",
       "4750                           0                             0   \n",
       "7987                           0                             0   \n",
       "\n",
       "      Last_Activity_Email Bounced  Last_Activity_Email Link Clicked  \\\n",
       "3009                            0                                 0   \n",
       "1012                            1                                 0   \n",
       "9226                            0                                 0   \n",
       "4750                            0                                 0   \n",
       "7987                            0                                 0   \n",
       "\n",
       "      Last_Activity_Email Opened  Last_Activity_Form Submitted on Website  \\\n",
       "3009                           1                                        0   \n",
       "1012                           0                                        0   \n",
       "9226                           0                                        0   \n",
       "4750                           0                                        0   \n",
       "7987                           0                                        0   \n",
       "\n",
       "      Last_Activity_Olark Chat Conversation  Last_Activity_Other  \\\n",
       "3009                                      0                    0   \n",
       "1012                                      0                    0   \n",
       "9226                                      0                    0   \n",
       "4750                                      0                    0   \n",
       "7987                                      0                    0   \n",
       "\n",
       "      Last_Activity_Page Visited on Website  Last_Activity_SMS Sent  \\\n",
       "3009                                      0                       0   \n",
       "1012                                      0                       0   \n",
       "9226                                      0                       1   \n",
       "4750                                      0                       1   \n",
       "7987                                      0                       1   \n",
       "\n",
       "      Specialization_Business Administration  Specialization_E-Business  \\\n",
       "3009                                       0                          0   \n",
       "1012                                       0                          0   \n",
       "9226                                       0                          0   \n",
       "4750                                       0                          0   \n",
       "7987                                       0                          0   \n",
       "\n",
       "      Specialization_E-COMMERCE  Specialization_Finance Management  \\\n",
       "3009                          0                                  1   \n",
       "1012                          0                                  0   \n",
       "9226                          0                                  0   \n",
       "4750                          0                                  0   \n",
       "7987                          0                                  1   \n",
       "\n",
       "      Specialization_Healthcare Management  \\\n",
       "3009                                     0   \n",
       "1012                                     0   \n",
       "9226                                     0   \n",
       "4750                                     0   \n",
       "7987                                     0   \n",
       "\n",
       "      Specialization_Hospitality Management  \\\n",
       "3009                                      0   \n",
       "1012                                      0   \n",
       "9226                                      0   \n",
       "4750                                      0   \n",
       "7987                                      0   \n",
       "\n",
       "      Specialization_Human Resource Management  \\\n",
       "3009                                         0   \n",
       "1012                                         0   \n",
       "9226                                         0   \n",
       "4750                                         0   \n",
       "7987                                         0   \n",
       "\n",
       "      Specialization_IT Projects Management  \\\n",
       "3009                                      0   \n",
       "1012                                      0   \n",
       "9226                                      0   \n",
       "4750                                      0   \n",
       "7987                                      0   \n",
       "\n",
       "      Specialization_International Business  \\\n",
       "3009                                      0   \n",
       "1012                                      0   \n",
       "9226                                      0   \n",
       "4750                                      0   \n",
       "7987                                      0   \n",
       "\n",
       "      Specialization_Marketing Management  \\\n",
       "3009                                    0   \n",
       "1012                                    0   \n",
       "9226                                    0   \n",
       "4750                                    1   \n",
       "7987                                    0   \n",
       "\n",
       "      Specialization_Media and Advertising  \\\n",
       "3009                                     0   \n",
       "1012                                     0   \n",
       "9226                                     0   \n",
       "4750                                     0   \n",
       "7987                                     0   \n",
       "\n",
       "      Specialization_Operations Management  Specialization_Other  \\\n",
       "3009                                     0                     0   \n",
       "1012                                     0                     1   \n",
       "9226                                     0                     1   \n",
       "4750                                     0                     0   \n",
       "7987                                     0                     0   \n",
       "\n",
       "      Specialization_Retail Management  Specialization_Rural and Agribusiness  \\\n",
       "3009                                 0                                      0   \n",
       "1012                                 0                                      0   \n",
       "9226                                 0                                      0   \n",
       "4750                                 0                                      0   \n",
       "7987                                 0                                      0   \n",
       "\n",
       "      Specialization_Services Excellence  \\\n",
       "3009                                   0   \n",
       "1012                                   0   \n",
       "9226                                   0   \n",
       "4750                                   0   \n",
       "7987                                   0   \n",
       "\n",
       "      Specialization_Supply Chain Management  \\\n",
       "3009                                       0   \n",
       "1012                                       0   \n",
       "9226                                       0   \n",
       "4750                                       0   \n",
       "7987                                       0   \n",
       "\n",
       "      Specialization_Travel and Tourism  \\\n",
       "3009                                  0   \n",
       "1012                                  0   \n",
       "9226                                  0   \n",
       "4750                                  0   \n",
       "7987                                  0   \n",
       "\n",
       "      What_is_your_current_occupation_Student  \\\n",
       "3009                                        0   \n",
       "1012                                        0   \n",
       "9226                                        0   \n",
       "4750                                        0   \n",
       "7987                                        0   \n",
       "\n",
       "      What_is_your_current_occupation_Unemployed  \\\n",
       "3009                                           0   \n",
       "1012                                           0   \n",
       "9226                                           1   \n",
       "4750                                           0   \n",
       "7987                                           1   \n",
       "\n",
       "      What_is_your_current_occupation_Unknown  \\\n",
       "3009                                        1   \n",
       "1012                                        0   \n",
       "9226                                        0   \n",
       "4750                                        1   \n",
       "7987                                        0   \n",
       "\n",
       "      What_is_your_current_occupation_Working Professional  \n",
       "3009                                                  0     \n",
       "1012                                                  1     \n",
       "9226                                                  0     \n",
       "4750                                                  0     \n",
       "7987                                                  0     "
      ]
     },
     "execution_count": 635,
     "metadata": {},
     "output_type": "execute_result"
    }
   ],
   "source": [
    "df_train.head()"
   ]
  },
  {
   "cell_type": "markdown",
   "metadata": {},
   "source": [
    "# Model Building"
   ]
  },
  {
   "cell_type": "code",
   "execution_count": 636,
   "metadata": {},
   "outputs": [],
   "source": [
    "# Data for X and Y axis. \n",
    "y_train = df_train.pop('Converted')\n",
    "x_train = df_train.drop('Prospect ID',axis=1)"
   ]
  },
  {
   "cell_type": "markdown",
   "metadata": {},
   "source": [
    "Dropped Prospect ID from x_train as this is a numer assinged to each customer for unique identification"
   ]
  },
  {
   "cell_type": "markdown",
   "metadata": {},
   "source": [
    "### Model 1"
   ]
  },
  {
   "cell_type": "code",
   "execution_count": 637,
   "metadata": {},
   "outputs": [],
   "source": [
    "import statsmodels.api as sm"
   ]
  },
  {
   "cell_type": "code",
   "execution_count": 638,
   "metadata": {},
   "outputs": [
    {
     "data": {
      "text/html": [
       "<table class=\"simpletable\">\n",
       "<caption>Generalized Linear Model Regression Results</caption>\n",
       "<tr>\n",
       "  <th>Dep. Variable:</th>       <td>Converted</td>    <th>  No. Observations:  </th>  <td>  6351</td> \n",
       "</tr>\n",
       "<tr>\n",
       "  <th>Model:</th>                  <td>GLM</td>       <th>  Df Residuals:      </th>  <td>  6305</td> \n",
       "</tr>\n",
       "<tr>\n",
       "  <th>Model Family:</th>        <td>Binomial</td>     <th>  Df Model:          </th>  <td>    45</td> \n",
       "</tr>\n",
       "<tr>\n",
       "  <th>Link Function:</th>         <td>logit</td>      <th>  Scale:             </th> <td>  1.0000</td>\n",
       "</tr>\n",
       "<tr>\n",
       "  <th>Method:</th>                <td>IRLS</td>       <th>  Log-Likelihood:    </th> <td> -2503.0</td>\n",
       "</tr>\n",
       "<tr>\n",
       "  <th>Date:</th>            <td>Sun, 06 Sep 2020</td> <th>  Deviance:          </th> <td>  5006.1</td>\n",
       "</tr>\n",
       "<tr>\n",
       "  <th>Time:</th>                <td>21:05:08</td>     <th>  Pearson chi2:      </th> <td>6.30e+03</td>\n",
       "</tr>\n",
       "<tr>\n",
       "  <th>No. Iterations:</th>          <td>7</td>        <th>                     </th>     <td> </td>   \n",
       "</tr>\n",
       "<tr>\n",
       "  <th>Covariance Type:</th>     <td>nonrobust</td>    <th>                     </th>     <td> </td>   \n",
       "</tr>\n",
       "</table>\n",
       "<table class=\"simpletable\">\n",
       "<tr>\n",
       "                            <td></td>                              <th>coef</th>     <th>std err</th>      <th>z</th>      <th>P>|z|</th>  <th>[0.025</th>    <th>0.975]</th>  \n",
       "</tr>\n",
       "<tr>\n",
       "  <th>const</th>                                                <td>   -0.1200</td> <td>    0.673</td> <td>   -0.178</td> <td> 0.858</td> <td>   -1.439</td> <td>    1.199</td>\n",
       "</tr>\n",
       "<tr>\n",
       "  <th>Do Not Email</th>                                         <td>   -1.4975</td> <td>    0.206</td> <td>   -7.284</td> <td> 0.000</td> <td>   -1.900</td> <td>   -1.095</td>\n",
       "</tr>\n",
       "<tr>\n",
       "  <th>TotalVisits</th>                                          <td>    0.3323</td> <td>    0.056</td> <td>    5.896</td> <td> 0.000</td> <td>    0.222</td> <td>    0.443</td>\n",
       "</tr>\n",
       "<tr>\n",
       "  <th>Total Time Spent on Website</th>                          <td>    1.1219</td> <td>    0.042</td> <td>   26.827</td> <td> 0.000</td> <td>    1.040</td> <td>    1.204</td>\n",
       "</tr>\n",
       "<tr>\n",
       "  <th>Page Views Per Visit</th>                                 <td>   -0.3422</td> <td>    0.064</td> <td>   -5.373</td> <td> 0.000</td> <td>   -0.467</td> <td>   -0.217</td>\n",
       "</tr>\n",
       "<tr>\n",
       "  <th>A free copy of Mastering The Interview</th>               <td>   -0.2135</td> <td>    0.111</td> <td>   -1.924</td> <td> 0.054</td> <td>   -0.431</td> <td>    0.004</td>\n",
       "</tr>\n",
       "<tr>\n",
       "  <th>Lead_Origin_Landing Page Submission</th>                  <td>   -0.7589</td> <td>    0.139</td> <td>   -5.452</td> <td> 0.000</td> <td>   -1.032</td> <td>   -0.486</td>\n",
       "</tr>\n",
       "<tr>\n",
       "  <th>Lead_Origin_Lead Add Form</th>                            <td>    0.6975</td> <td>    1.011</td> <td>    0.690</td> <td> 0.490</td> <td>   -1.284</td> <td>    2.679</td>\n",
       "</tr>\n",
       "<tr>\n",
       "  <th>Lead_Origin_Lead Import</th>                              <td>   -0.1443</td> <td>    0.806</td> <td>   -0.179</td> <td> 0.858</td> <td>   -1.723</td> <td>    1.435</td>\n",
       "</tr>\n",
       "<tr>\n",
       "  <th>Lead_Source_Google</th>                                   <td>    0.2172</td> <td>    0.116</td> <td>    1.867</td> <td> 0.062</td> <td>   -0.011</td> <td>    0.445</td>\n",
       "</tr>\n",
       "<tr>\n",
       "  <th>Lead_Source_Olark Chat</th>                               <td>    1.3768</td> <td>    0.171</td> <td>    8.058</td> <td> 0.000</td> <td>    1.042</td> <td>    1.712</td>\n",
       "</tr>\n",
       "<tr>\n",
       "  <th>Lead_Source_Organic Search</th>                           <td>    0.0988</td> <td>    0.134</td> <td>    0.740</td> <td> 0.459</td> <td>   -0.163</td> <td>    0.361</td>\n",
       "</tr>\n",
       "<tr>\n",
       "  <th>Lead_Source_Other</th>                                    <td>    0.9057</td> <td>    0.649</td> <td>    1.395</td> <td> 0.163</td> <td>   -0.367</td> <td>    2.178</td>\n",
       "</tr>\n",
       "<tr>\n",
       "  <th>Lead_Source_Reference</th>                                <td>    2.4907</td> <td>    1.035</td> <td>    2.406</td> <td> 0.016</td> <td>    0.462</td> <td>    4.520</td>\n",
       "</tr>\n",
       "<tr>\n",
       "  <th>Lead_Source_Referral Sites</th>                           <td>   -0.0736</td> <td>    0.364</td> <td>   -0.202</td> <td> 0.840</td> <td>   -0.788</td> <td>    0.641</td>\n",
       "</tr>\n",
       "<tr>\n",
       "  <th>Lead_Source_Welingak Website</th>                         <td>    4.9651</td> <td>    1.248</td> <td>    3.978</td> <td> 0.000</td> <td>    2.519</td> <td>    7.412</td>\n",
       "</tr>\n",
       "<tr>\n",
       "  <th>Last_Activity_Email Bounced</th>                          <td>    0.4840</td> <td>    0.475</td> <td>    1.019</td> <td> 0.308</td> <td>   -0.447</td> <td>    1.415</td>\n",
       "</tr>\n",
       "<tr>\n",
       "  <th>Last_Activity_Email Link Clicked</th>                     <td>    0.8286</td> <td>    0.310</td> <td>    2.675</td> <td> 0.007</td> <td>    0.221</td> <td>    1.436</td>\n",
       "</tr>\n",
       "<tr>\n",
       "  <th>Last_Activity_Email Opened</th>                           <td>    1.2717</td> <td>    0.231</td> <td>    5.515</td> <td> 0.000</td> <td>    0.820</td> <td>    1.724</td>\n",
       "</tr>\n",
       "<tr>\n",
       "  <th>Last_Activity_Form Submitted on Website</th>              <td>    0.4018</td> <td>    0.408</td> <td>    0.985</td> <td> 0.325</td> <td>   -0.398</td> <td>    1.202</td>\n",
       "</tr>\n",
       "<tr>\n",
       "  <th>Last_Activity_Olark Chat Conversation</th>                <td>   -0.2176</td> <td>    0.279</td> <td>   -0.779</td> <td> 0.436</td> <td>   -0.765</td> <td>    0.330</td>\n",
       "</tr>\n",
       "<tr>\n",
       "  <th>Last_Activity_Other</th>                                  <td>    2.0585</td> <td>    0.314</td> <td>    6.561</td> <td> 0.000</td> <td>    1.444</td> <td>    2.673</td>\n",
       "</tr>\n",
       "<tr>\n",
       "  <th>Last_Activity_Page Visited on Website</th>                <td>    0.6803</td> <td>    0.271</td> <td>    2.514</td> <td> 0.012</td> <td>    0.150</td> <td>    1.211</td>\n",
       "</tr>\n",
       "<tr>\n",
       "  <th>Last_Activity_SMS Sent</th>                               <td>    2.4968</td> <td>    0.232</td> <td>   10.753</td> <td> 0.000</td> <td>    2.042</td> <td>    2.952</td>\n",
       "</tr>\n",
       "<tr>\n",
       "  <th>Specialization_Business Administration</th>               <td>   -0.3114</td> <td>    0.245</td> <td>   -1.269</td> <td> 0.204</td> <td>   -0.792</td> <td>    0.169</td>\n",
       "</tr>\n",
       "<tr>\n",
       "  <th>Specialization_E-Business</th>                            <td>    0.2094</td> <td>    0.447</td> <td>    0.469</td> <td> 0.639</td> <td>   -0.666</td> <td>    1.085</td>\n",
       "</tr>\n",
       "<tr>\n",
       "  <th>Specialization_E-COMMERCE</th>                            <td>   -0.0674</td> <td>    0.365</td> <td>   -0.185</td> <td> 0.854</td> <td>   -0.784</td> <td>    0.649</td>\n",
       "</tr>\n",
       "<tr>\n",
       "  <th>Specialization_Finance Management</th>                    <td>   -0.1637</td> <td>    0.206</td> <td>   -0.794</td> <td> 0.427</td> <td>   -0.568</td> <td>    0.240</td>\n",
       "</tr>\n",
       "<tr>\n",
       "  <th>Specialization_Healthcare Management</th>                 <td>   -0.1223</td> <td>    0.317</td> <td>   -0.386</td> <td> 0.700</td> <td>   -0.743</td> <td>    0.499</td>\n",
       "</tr>\n",
       "<tr>\n",
       "  <th>Specialization_Hospitality Management</th>                <td>   -0.7062</td> <td>    0.371</td> <td>   -1.904</td> <td> 0.057</td> <td>   -1.433</td> <td>    0.021</td>\n",
       "</tr>\n",
       "<tr>\n",
       "  <th>Specialization_Human Resource Management</th>             <td>   -0.2269</td> <td>    0.209</td> <td>   -1.088</td> <td> 0.277</td> <td>   -0.636</td> <td>    0.182</td>\n",
       "</tr>\n",
       "<tr>\n",
       "  <th>Specialization_IT Projects Management</th>                <td>   -0.0352</td> <td>    0.251</td> <td>   -0.140</td> <td> 0.889</td> <td>   -0.528</td> <td>    0.458</td>\n",
       "</tr>\n",
       "<tr>\n",
       "  <th>Specialization_International Business</th>                <td>   -0.2867</td> <td>    0.296</td> <td>   -0.968</td> <td> 0.333</td> <td>   -0.867</td> <td>    0.294</td>\n",
       "</tr>\n",
       "<tr>\n",
       "  <th>Specialization_Marketing Management</th>                  <td>   -0.0235</td> <td>    0.211</td> <td>   -0.112</td> <td> 0.911</td> <td>   -0.436</td> <td>    0.389</td>\n",
       "</tr>\n",
       "<tr>\n",
       "  <th>Specialization_Media and Advertising</th>                 <td>   -0.5048</td> <td>    0.287</td> <td>   -1.757</td> <td> 0.079</td> <td>   -1.068</td> <td>    0.058</td>\n",
       "</tr>\n",
       "<tr>\n",
       "  <th>Specialization_Operations Management</th>                 <td>   -0.2661</td> <td>    0.233</td> <td>   -1.144</td> <td> 0.253</td> <td>   -0.722</td> <td>    0.190</td>\n",
       "</tr>\n",
       "<tr>\n",
       "  <th>Specialization_Other</th>                                 <td>   -1.1210</td> <td>    0.215</td> <td>   -5.224</td> <td> 0.000</td> <td>   -1.542</td> <td>   -0.700</td>\n",
       "</tr>\n",
       "<tr>\n",
       "  <th>Specialization_Retail Management</th>                     <td>   -0.4824</td> <td>    0.375</td> <td>   -1.286</td> <td> 0.198</td> <td>   -1.218</td> <td>    0.253</td>\n",
       "</tr>\n",
       "<tr>\n",
       "  <th>Specialization_Rural and Agribusiness</th>                <td>   -0.2875</td> <td>    0.421</td> <td>   -0.684</td> <td> 0.494</td> <td>   -1.112</td> <td>    0.537</td>\n",
       "</tr>\n",
       "<tr>\n",
       "  <th>Specialization_Services Excellence</th>                   <td>   -0.7280</td> <td>    0.692</td> <td>   -1.051</td> <td> 0.293</td> <td>   -2.085</td> <td>    0.629</td>\n",
       "</tr>\n",
       "<tr>\n",
       "  <th>Specialization_Supply Chain Management</th>               <td>   -0.2319</td> <td>    0.253</td> <td>   -0.918</td> <td> 0.359</td> <td>   -0.727</td> <td>    0.263</td>\n",
       "</tr>\n",
       "<tr>\n",
       "  <th>Specialization_Travel and Tourism</th>                    <td>   -0.3833</td> <td>    0.305</td> <td>   -1.256</td> <td> 0.209</td> <td>   -0.981</td> <td>    0.215</td>\n",
       "</tr>\n",
       "<tr>\n",
       "  <th>What_is_your_current_occupation_Student</th>              <td>   -1.0625</td> <td>    0.636</td> <td>   -1.671</td> <td> 0.095</td> <td>   -2.309</td> <td>    0.184</td>\n",
       "</tr>\n",
       "<tr>\n",
       "  <th>What_is_your_current_occupation_Unemployed</th>           <td>   -1.2277</td> <td>    0.596</td> <td>   -2.058</td> <td> 0.040</td> <td>   -2.397</td> <td>   -0.059</td>\n",
       "</tr>\n",
       "<tr>\n",
       "  <th>What_is_your_current_occupation_Unknown</th>              <td>   -2.4604</td> <td>    0.601</td> <td>   -4.093</td> <td> 0.000</td> <td>   -3.638</td> <td>   -1.282</td>\n",
       "</tr>\n",
       "<tr>\n",
       "  <th>What_is_your_current_occupation_Working Professional</th> <td>    1.1911</td> <td>    0.623</td> <td>    1.911</td> <td> 0.056</td> <td>   -0.031</td> <td>    2.413</td>\n",
       "</tr>\n",
       "</table>"
      ],
      "text/plain": [
       "<class 'statsmodels.iolib.summary.Summary'>\n",
       "\"\"\"\n",
       "                 Generalized Linear Model Regression Results                  \n",
       "==============================================================================\n",
       "Dep. Variable:              Converted   No. Observations:                 6351\n",
       "Model:                            GLM   Df Residuals:                     6305\n",
       "Model Family:                Binomial   Df Model:                           45\n",
       "Link Function:                  logit   Scale:                          1.0000\n",
       "Method:                          IRLS   Log-Likelihood:                -2503.0\n",
       "Date:                Sun, 06 Sep 2020   Deviance:                       5006.1\n",
       "Time:                        21:05:08   Pearson chi2:                 6.30e+03\n",
       "No. Iterations:                     7                                         \n",
       "Covariance Type:            nonrobust                                         \n",
       "========================================================================================================================\n",
       "                                                           coef    std err          z      P>|z|      [0.025      0.975]\n",
       "------------------------------------------------------------------------------------------------------------------------\n",
       "const                                                   -0.1200      0.673     -0.178      0.858      -1.439       1.199\n",
       "Do Not Email                                            -1.4975      0.206     -7.284      0.000      -1.900      -1.095\n",
       "TotalVisits                                              0.3323      0.056      5.896      0.000       0.222       0.443\n",
       "Total Time Spent on Website                              1.1219      0.042     26.827      0.000       1.040       1.204\n",
       "Page Views Per Visit                                    -0.3422      0.064     -5.373      0.000      -0.467      -0.217\n",
       "A free copy of Mastering The Interview                  -0.2135      0.111     -1.924      0.054      -0.431       0.004\n",
       "Lead_Origin_Landing Page Submission                     -0.7589      0.139     -5.452      0.000      -1.032      -0.486\n",
       "Lead_Origin_Lead Add Form                                0.6975      1.011      0.690      0.490      -1.284       2.679\n",
       "Lead_Origin_Lead Import                                 -0.1443      0.806     -0.179      0.858      -1.723       1.435\n",
       "Lead_Source_Google                                       0.2172      0.116      1.867      0.062      -0.011       0.445\n",
       "Lead_Source_Olark Chat                                   1.3768      0.171      8.058      0.000       1.042       1.712\n",
       "Lead_Source_Organic Search                               0.0988      0.134      0.740      0.459      -0.163       0.361\n",
       "Lead_Source_Other                                        0.9057      0.649      1.395      0.163      -0.367       2.178\n",
       "Lead_Source_Reference                                    2.4907      1.035      2.406      0.016       0.462       4.520\n",
       "Lead_Source_Referral Sites                              -0.0736      0.364     -0.202      0.840      -0.788       0.641\n",
       "Lead_Source_Welingak Website                             4.9651      1.248      3.978      0.000       2.519       7.412\n",
       "Last_Activity_Email Bounced                              0.4840      0.475      1.019      0.308      -0.447       1.415\n",
       "Last_Activity_Email Link Clicked                         0.8286      0.310      2.675      0.007       0.221       1.436\n",
       "Last_Activity_Email Opened                               1.2717      0.231      5.515      0.000       0.820       1.724\n",
       "Last_Activity_Form Submitted on Website                  0.4018      0.408      0.985      0.325      -0.398       1.202\n",
       "Last_Activity_Olark Chat Conversation                   -0.2176      0.279     -0.779      0.436      -0.765       0.330\n",
       "Last_Activity_Other                                      2.0585      0.314      6.561      0.000       1.444       2.673\n",
       "Last_Activity_Page Visited on Website                    0.6803      0.271      2.514      0.012       0.150       1.211\n",
       "Last_Activity_SMS Sent                                   2.4968      0.232     10.753      0.000       2.042       2.952\n",
       "Specialization_Business Administration                  -0.3114      0.245     -1.269      0.204      -0.792       0.169\n",
       "Specialization_E-Business                                0.2094      0.447      0.469      0.639      -0.666       1.085\n",
       "Specialization_E-COMMERCE                               -0.0674      0.365     -0.185      0.854      -0.784       0.649\n",
       "Specialization_Finance Management                       -0.1637      0.206     -0.794      0.427      -0.568       0.240\n",
       "Specialization_Healthcare Management                    -0.1223      0.317     -0.386      0.700      -0.743       0.499\n",
       "Specialization_Hospitality Management                   -0.7062      0.371     -1.904      0.057      -1.433       0.021\n",
       "Specialization_Human Resource Management                -0.2269      0.209     -1.088      0.277      -0.636       0.182\n",
       "Specialization_IT Projects Management                   -0.0352      0.251     -0.140      0.889      -0.528       0.458\n",
       "Specialization_International Business                   -0.2867      0.296     -0.968      0.333      -0.867       0.294\n",
       "Specialization_Marketing Management                     -0.0235      0.211     -0.112      0.911      -0.436       0.389\n",
       "Specialization_Media and Advertising                    -0.5048      0.287     -1.757      0.079      -1.068       0.058\n",
       "Specialization_Operations Management                    -0.2661      0.233     -1.144      0.253      -0.722       0.190\n",
       "Specialization_Other                                    -1.1210      0.215     -5.224      0.000      -1.542      -0.700\n",
       "Specialization_Retail Management                        -0.4824      0.375     -1.286      0.198      -1.218       0.253\n",
       "Specialization_Rural and Agribusiness                   -0.2875      0.421     -0.684      0.494      -1.112       0.537\n",
       "Specialization_Services Excellence                      -0.7280      0.692     -1.051      0.293      -2.085       0.629\n",
       "Specialization_Supply Chain Management                  -0.2319      0.253     -0.918      0.359      -0.727       0.263\n",
       "Specialization_Travel and Tourism                       -0.3833      0.305     -1.256      0.209      -0.981       0.215\n",
       "What_is_your_current_occupation_Student                 -1.0625      0.636     -1.671      0.095      -2.309       0.184\n",
       "What_is_your_current_occupation_Unemployed              -1.2277      0.596     -2.058      0.040      -2.397      -0.059\n",
       "What_is_your_current_occupation_Unknown                 -2.4604      0.601     -4.093      0.000      -3.638      -1.282\n",
       "What_is_your_current_occupation_Working Professional     1.1911      0.623      1.911      0.056      -0.031       2.413\n",
       "========================================================================================================================\n",
       "\"\"\""
      ]
     },
     "execution_count": 638,
     "metadata": {},
     "output_type": "execute_result"
    }
   ],
   "source": [
    "x_train_sm = sm.add_constant(x_train)\n",
    "model1 = sm.GLM(y_train,x_train_sm, family=sm.families.Binomial()).fit()\n",
    "model1.summary()"
   ]
  },
  {
   "cell_type": "markdown",
   "metadata": {},
   "source": [
    "### Doing RFE to select 22 columns"
   ]
  },
  {
   "cell_type": "code",
   "execution_count": 639,
   "metadata": {},
   "outputs": [],
   "source": [
    "# Importing library\n",
    "from sklearn.linear_model import LogisticRegression\n",
    "from sklearn.feature_selection import RFE"
   ]
  },
  {
   "cell_type": "code",
   "execution_count": 640,
   "metadata": {},
   "outputs": [],
   "source": [
    "# Doing RFE for 22 coulumns\n",
    "logreg = LogisticRegression()\n",
    "x_train_rfe = RFE(logreg,22)\n",
    "x_train_rfe = x_train_rfe.fit(x_train,y_train)"
   ]
  },
  {
   "cell_type": "code",
   "execution_count": 641,
   "metadata": {},
   "outputs": [
    {
     "data": {
      "text/plain": [
       "array([ True, False,  True, False,  True,  True,  True, False, False,\n",
       "        True, False,  True,  True, False,  True, False,  True,  True,\n",
       "       False,  True,  True,  True,  True, False, False, False, False,\n",
       "       False,  True, False, False, False, False, False, False,  True,\n",
       "       False, False,  True, False, False,  True,  True,  True,  True])"
      ]
     },
     "execution_count": 641,
     "metadata": {},
     "output_type": "execute_result"
    }
   ],
   "source": [
    "# Supported Columns\n",
    "x_train_rfe.support_"
   ]
  },
  {
   "cell_type": "code",
   "execution_count": 642,
   "metadata": {},
   "outputs": [
    {
     "data": {
      "text/plain": [
       "[('Do Not Email', True, 1),\n",
       " ('TotalVisits', False, 3),\n",
       " ('Total Time Spent on Website', True, 1),\n",
       " ('Page Views Per Visit', False, 2),\n",
       " ('A free copy of Mastering The Interview', True, 1),\n",
       " ('Lead_Origin_Landing Page Submission', True, 1),\n",
       " ('Lead_Origin_Lead Add Form', True, 1),\n",
       " ('Lead_Origin_Lead Import', False, 7),\n",
       " ('Lead_Source_Google', False, 9),\n",
       " ('Lead_Source_Olark Chat', True, 1),\n",
       " ('Lead_Source_Organic Search', False, 20),\n",
       " ('Lead_Source_Other', True, 1),\n",
       " ('Lead_Source_Reference', True, 1),\n",
       " ('Lead_Source_Referral Sites', False, 10),\n",
       " ('Lead_Source_Welingak Website', True, 1),\n",
       " ('Last_Activity_Email Bounced', False, 13),\n",
       " ('Last_Activity_Email Link Clicked', True, 1),\n",
       " ('Last_Activity_Email Opened', True, 1),\n",
       " ('Last_Activity_Form Submitted on Website', False, 14),\n",
       " ('Last_Activity_Olark Chat Conversation', True, 1),\n",
       " ('Last_Activity_Other', True, 1),\n",
       " ('Last_Activity_Page Visited on Website', True, 1),\n",
       " ('Last_Activity_SMS Sent', True, 1),\n",
       " ('Specialization_Business Administration', False, 11),\n",
       " ('Specialization_E-Business', False, 4),\n",
       " ('Specialization_E-COMMERCE', False, 23),\n",
       " ('Specialization_Finance Management', False, 19),\n",
       " ('Specialization_Healthcare Management', False, 24),\n",
       " ('Specialization_Hospitality Management', True, 1),\n",
       " ('Specialization_Human Resource Management', False, 18),\n",
       " ('Specialization_IT Projects Management', False, 22),\n",
       " ('Specialization_International Business', False, 12),\n",
       " ('Specialization_Marketing Management', False, 21),\n",
       " ('Specialization_Media and Advertising', False, 5),\n",
       " ('Specialization_Operations Management', False, 16),\n",
       " ('Specialization_Other', True, 1),\n",
       " ('Specialization_Retail Management', False, 6),\n",
       " ('Specialization_Rural and Agribusiness', False, 15),\n",
       " ('Specialization_Services Excellence', True, 1),\n",
       " ('Specialization_Supply Chain Management', False, 17),\n",
       " ('Specialization_Travel and Tourism', False, 8),\n",
       " ('What_is_your_current_occupation_Student', True, 1),\n",
       " ('What_is_your_current_occupation_Unemployed', True, 1),\n",
       " ('What_is_your_current_occupation_Unknown', True, 1),\n",
       " ('What_is_your_current_occupation_Working Professional', True, 1)]"
      ]
     },
     "execution_count": 642,
     "metadata": {},
     "output_type": "execute_result"
    }
   ],
   "source": [
    "# Ranking of features\n",
    "list(zip(x_train.columns,x_train_rfe.support_,x_train_rfe.ranking_))"
   ]
  },
  {
   "cell_type": "markdown",
   "metadata": {},
   "source": [
    "#### Columns Supported by RFE"
   ]
  },
  {
   "cell_type": "code",
   "execution_count": 643,
   "metadata": {},
   "outputs": [
    {
     "data": {
      "text/plain": [
       "Index(['Do Not Email', 'Total Time Spent on Website',\n",
       "       'A free copy of Mastering The Interview',\n",
       "       'Lead_Origin_Landing Page Submission', 'Lead_Origin_Lead Add Form',\n",
       "       'Lead_Source_Olark Chat', 'Lead_Source_Other', 'Lead_Source_Reference',\n",
       "       'Lead_Source_Welingak Website', 'Last_Activity_Email Link Clicked',\n",
       "       'Last_Activity_Email Opened', 'Last_Activity_Olark Chat Conversation',\n",
       "       'Last_Activity_Other', 'Last_Activity_Page Visited on Website',\n",
       "       'Last_Activity_SMS Sent', 'Specialization_Hospitality Management',\n",
       "       'Specialization_Other', 'Specialization_Services Excellence',\n",
       "       'What_is_your_current_occupation_Student',\n",
       "       'What_is_your_current_occupation_Unemployed',\n",
       "       'What_is_your_current_occupation_Unknown',\n",
       "       'What_is_your_current_occupation_Working Professional'],\n",
       "      dtype='object')"
      ]
     },
     "execution_count": 643,
     "metadata": {},
     "output_type": "execute_result"
    }
   ],
   "source": [
    "col=x_train.columns[x_train_rfe.support_]\n",
    "col"
   ]
  },
  {
   "cell_type": "code",
   "execution_count": 644,
   "metadata": {},
   "outputs": [
    {
     "data": {
      "text/plain": [
       "Index(['TotalVisits', 'Page Views Per Visit', 'Lead_Origin_Lead Import',\n",
       "       'Lead_Source_Google', 'Lead_Source_Organic Search',\n",
       "       'Lead_Source_Referral Sites', 'Last_Activity_Email Bounced',\n",
       "       'Last_Activity_Form Submitted on Website',\n",
       "       'Specialization_Business Administration', 'Specialization_E-Business',\n",
       "       'Specialization_E-COMMERCE', 'Specialization_Finance Management',\n",
       "       'Specialization_Healthcare Management',\n",
       "       'Specialization_Human Resource Management',\n",
       "       'Specialization_IT Projects Management',\n",
       "       'Specialization_International Business',\n",
       "       'Specialization_Marketing Management',\n",
       "       'Specialization_Media and Advertising',\n",
       "       'Specialization_Operations Management',\n",
       "       'Specialization_Retail Management',\n",
       "       'Specialization_Rural and Agribusiness',\n",
       "       'Specialization_Supply Chain Management',\n",
       "       'Specialization_Travel and Tourism'],\n",
       "      dtype='object')"
      ]
     },
     "execution_count": 644,
     "metadata": {},
     "output_type": "execute_result"
    }
   ],
   "source": [
    "# columns not supported\n",
    "x_train.columns[~x_train_rfe.support_]"
   ]
  },
  {
   "cell_type": "code",
   "execution_count": 645,
   "metadata": {},
   "outputs": [],
   "source": [
    "# Check Correlation on columns supported by RFE together with Target\n",
    "check_cor = ['Converted','Do Not Email', 'Total Time Spent on Website',\n",
    "       'A free copy of Mastering The Interview',\n",
    "       'Lead_Origin_Landing Page Submission', 'Lead_Origin_Lead Add Form',\n",
    "       'Lead_Source_Olark Chat', 'Lead_Source_Other', 'Lead_Source_Reference',\n",
    "       'Lead_Source_Welingak Website', 'Last_Activity_Email Link Clicked',\n",
    "       'Last_Activity_Email Opened', 'Last_Activity_Olark Chat Conversation',\n",
    "       'Last_Activity_Other', 'Last_Activity_Page Visited on Website',\n",
    "       'Last_Activity_SMS Sent', 'Specialization_Hospitality Management',\n",
    "       'Specialization_Other', 'Specialization_Services Excellence',\n",
    "       'What_is_your_current_occupation_Student',\n",
    "       'What_is_your_current_occupation_Unemployed',\n",
    "       'What_is_your_current_occupation_Unknown',\n",
    "       'What_is_your_current_occupation_Working Professional']"
   ]
  },
  {
   "cell_type": "code",
   "execution_count": 646,
   "metadata": {},
   "outputs": [
    {
     "data": {
      "image/png": "[encoded data removed]",
      "text/plain": [
       "<Figure size 1440x720 with 2 Axes>"
      ]
     },
     "metadata": {
      "needs_background": "light"
     },
     "output_type": "display_data"
    }
   ],
   "source": [
    "# Checking correlation between variables\n",
    "plt.figure(figsize=(20,10))\n",
    "sns.heatmap(df[check_cor].corr(),annot=True)\n",
    "plt.show()"
   ]
  },
  {
   "cell_type": "markdown",
   "metadata": {},
   "source": [
    "- 'Total Time Spent on Website' had good correlation with target column\n",
    "- Category 'SMS Sent' for feature 'Last Activity' has very good correlation with target 'Converted' column\n",
    "- 'Occupation' column has also good relation with target 'Converted'"
   ]
  },
  {
   "cell_type": "code",
   "execution_count": 649,
   "metadata": {},
   "outputs": [],
   "source": [
    "# Omittnig 'Lead_Source_Reference', 'What_is_your_current_occupation_Unknown' as these columns are highly correlated with other columns\n",
    "col= [\n",
    "    'Do Not Email', 'Total Time Spent on Website',\n",
    "       'A free copy of Mastering The Interview',\n",
    "       'Lead_Origin_Landing Page Submission', 'Lead_Origin_Lead Add Form',\n",
    "       'Lead_Source_Olark Chat', 'Lead_Source_Other',\n",
    "       'Lead_Source_Welingak Website', 'Last_Activity_Email Link Clicked',\n",
    "       'Last_Activity_Email Opened', 'Last_Activity_Olark Chat Conversation',\n",
    "       'Last_Activity_Other', 'Last_Activity_Page Visited on Website',\n",
    "       'Last_Activity_SMS Sent', 'Specialization_Hospitality Management',\n",
    "       'Specialization_Other', 'Specialization_Services Excellence',\n",
    "       'What_is_your_current_occupation_Student',\n",
    "       'What_is_your_current_occupation_Unemployed',\n",
    "       'What_is_your_current_occupation_Working Professional'\n",
    "]"
   ]
  },
  {
   "cell_type": "markdown",
   "metadata": {},
   "source": [
    "## Model 2"
   ]
  },
  {
   "cell_type": "code",
   "execution_count": 650,
   "metadata": {},
   "outputs": [
    {
     "data": {
      "text/html": [
       "<table class=\"simpletable\">\n",
       "<caption>Generalized Linear Model Regression Results</caption>\n",
       "<tr>\n",
       "  <th>Dep. Variable:</th>       <td>Converted</td>    <th>  No. Observations:  </th>  <td>  6351</td> \n",
       "</tr>\n",
       "<tr>\n",
       "  <th>Model:</th>                  <td>GLM</td>       <th>  Df Residuals:      </th>  <td>  6330</td> \n",
       "</tr>\n",
       "<tr>\n",
       "  <th>Model Family:</th>        <td>Binomial</td>     <th>  Df Model:          </th>  <td>    20</td> \n",
       "</tr>\n",
       "<tr>\n",
       "  <th>Link Function:</th>         <td>logit</td>      <th>  Scale:             </th> <td>  1.0000</td>\n",
       "</tr>\n",
       "<tr>\n",
       "  <th>Method:</th>                <td>IRLS</td>       <th>  Log-Likelihood:    </th> <td> -2544.0</td>\n",
       "</tr>\n",
       "<tr>\n",
       "  <th>Date:</th>            <td>Sun, 06 Sep 2020</td> <th>  Deviance:          </th> <td>  5087.9</td>\n",
       "</tr>\n",
       "<tr>\n",
       "  <th>Time:</th>                <td>21:09:06</td>     <th>  Pearson chi2:      </th> <td>6.39e+03</td>\n",
       "</tr>\n",
       "<tr>\n",
       "  <th>No. Iterations:</th>          <td>7</td>        <th>                     </th>     <td> </td>   \n",
       "</tr>\n",
       "<tr>\n",
       "  <th>Covariance Type:</th>     <td>nonrobust</td>    <th>                     </th>     <td> </td>   \n",
       "</tr>\n",
       "</table>\n",
       "<table class=\"simpletable\">\n",
       "<tr>\n",
       "                            <td></td>                              <th>coef</th>     <th>std err</th>      <th>z</th>      <th>P>|z|</th>  <th>[0.025</th>    <th>0.975]</th>  \n",
       "</tr>\n",
       "<tr>\n",
       "  <th>const</th>                                                <td>   -2.2731</td> <td>    0.220</td> <td>  -10.326</td> <td> 0.000</td> <td>   -2.705</td> <td>   -1.842</td>\n",
       "</tr>\n",
       "<tr>\n",
       "  <th>Do Not Email</th>                                         <td>   -1.4578</td> <td>    0.187</td> <td>   -7.806</td> <td> 0.000</td> <td>   -1.824</td> <td>   -1.092</td>\n",
       "</tr>\n",
       "<tr>\n",
       "  <th>Total Time Spent on Website</th>                          <td>    1.1204</td> <td>    0.041</td> <td>   27.149</td> <td> 0.000</td> <td>    1.039</td> <td>    1.201</td>\n",
       "</tr>\n",
       "<tr>\n",
       "  <th>A free copy of Mastering The Interview</th>               <td>   -0.2776</td> <td>    0.089</td> <td>   -3.111</td> <td> 0.002</td> <td>   -0.453</td> <td>   -0.103</td>\n",
       "</tr>\n",
       "<tr>\n",
       "  <th>Lead_Origin_Landing Page Submission</th>                  <td>   -0.9381</td> <td>    0.133</td> <td>   -7.062</td> <td> 0.000</td> <td>   -1.198</td> <td>   -0.678</td>\n",
       "</tr>\n",
       "<tr>\n",
       "  <th>Lead_Origin_Lead Add Form</th>                            <td>    3.0179</td> <td>    0.235</td> <td>   12.856</td> <td> 0.000</td> <td>    2.558</td> <td>    3.478</td>\n",
       "</tr>\n",
       "<tr>\n",
       "  <th>Lead_Source_Olark Chat</th>                               <td>    1.2456</td> <td>    0.126</td> <td>    9.916</td> <td> 0.000</td> <td>    0.999</td> <td>    1.492</td>\n",
       "</tr>\n",
       "<tr>\n",
       "  <th>Lead_Source_Other</th>                                    <td>    0.3689</td> <td>    0.396</td> <td>    0.933</td> <td> 0.351</td> <td>   -0.406</td> <td>    1.144</td>\n",
       "</tr>\n",
       "<tr>\n",
       "  <th>Lead_Source_Welingak Website</th>                         <td>    2.5557</td> <td>    0.765</td> <td>    3.342</td> <td> 0.001</td> <td>    1.057</td> <td>    4.054</td>\n",
       "</tr>\n",
       "<tr>\n",
       "  <th>Last_Activity_Email Link Clicked</th>                     <td>    0.7272</td> <td>    0.269</td> <td>    2.708</td> <td> 0.007</td> <td>    0.201</td> <td>    1.254</td>\n",
       "</tr>\n",
       "<tr>\n",
       "  <th>Last_Activity_Email Opened</th>                           <td>    1.1470</td> <td>    0.177</td> <td>    6.490</td> <td> 0.000</td> <td>    0.801</td> <td>    1.493</td>\n",
       "</tr>\n",
       "<tr>\n",
       "  <th>Last_Activity_Olark Chat Conversation</th>                <td>   -0.3149</td> <td>    0.235</td> <td>   -1.342</td> <td> 0.180</td> <td>   -0.775</td> <td>    0.145</td>\n",
       "</tr>\n",
       "<tr>\n",
       "  <th>Last_Activity_Other</th>                                  <td>    1.9303</td> <td>    0.268</td> <td>    7.197</td> <td> 0.000</td> <td>    1.405</td> <td>    2.456</td>\n",
       "</tr>\n",
       "<tr>\n",
       "  <th>Last_Activity_Page Visited on Website</th>                <td>    0.7221</td> <td>    0.219</td> <td>    3.304</td> <td> 0.001</td> <td>    0.294</td> <td>    1.150</td>\n",
       "</tr>\n",
       "<tr>\n",
       "  <th>Last_Activity_SMS Sent</th>                               <td>    2.3116</td> <td>    0.177</td> <td>   13.042</td> <td> 0.000</td> <td>    1.964</td> <td>    2.659</td>\n",
       "</tr>\n",
       "<tr>\n",
       "  <th>Specialization_Hospitality Management</th>                <td>   -0.4840</td> <td>    0.330</td> <td>   -1.466</td> <td> 0.143</td> <td>   -1.131</td> <td>    0.163</td>\n",
       "</tr>\n",
       "<tr>\n",
       "  <th>Specialization_Other</th>                                 <td>   -1.0527</td> <td>    0.128</td> <td>   -8.217</td> <td> 0.000</td> <td>   -1.304</td> <td>   -0.802</td>\n",
       "</tr>\n",
       "<tr>\n",
       "  <th>Specialization_Services Excellence</th>                   <td>   -0.5408</td> <td>    0.667</td> <td>   -0.810</td> <td> 0.418</td> <td>   -1.849</td> <td>    0.767</td>\n",
       "</tr>\n",
       "<tr>\n",
       "  <th>What_is_your_current_occupation_Student</th>              <td>    1.3151</td> <td>    0.237</td> <td>    5.545</td> <td> 0.000</td> <td>    0.850</td> <td>    1.780</td>\n",
       "</tr>\n",
       "<tr>\n",
       "  <th>What_is_your_current_occupation_Unemployed</th>           <td>    1.1550</td> <td>    0.088</td> <td>   13.115</td> <td> 0.000</td> <td>    0.982</td> <td>    1.328</td>\n",
       "</tr>\n",
       "<tr>\n",
       "  <th>What_is_your_current_occupation_Working Professional</th> <td>    3.5370</td> <td>    0.206</td> <td>   17.211</td> <td> 0.000</td> <td>    3.134</td> <td>    3.940</td>\n",
       "</tr>\n",
       "</table>"
      ],
      "text/plain": [
       "<class 'statsmodels.iolib.summary.Summary'>\n",
       "\"\"\"\n",
       "                 Generalized Linear Model Regression Results                  \n",
       "==============================================================================\n",
       "Dep. Variable:              Converted   No. Observations:                 6351\n",
       "Model:                            GLM   Df Residuals:                     6330\n",
       "Model Family:                Binomial   Df Model:                           20\n",
       "Link Function:                  logit   Scale:                          1.0000\n",
       "Method:                          IRLS   Log-Likelihood:                -2544.0\n",
       "Date:                Sun, 06 Sep 2020   Deviance:                       5087.9\n",
       "Time:                        21:09:06   Pearson chi2:                 6.39e+03\n",
       "No. Iterations:                     7                                         \n",
       "Covariance Type:            nonrobust                                         \n",
       "========================================================================================================================\n",
       "                                                           coef    std err          z      P>|z|      [0.025      0.975]\n",
       "------------------------------------------------------------------------------------------------------------------------\n",
       "const                                                   -2.2731      0.220    -10.326      0.000      -2.705      -1.842\n",
       "Do Not Email                                            -1.4578      0.187     -7.806      0.000      -1.824      -1.092\n",
       "Total Time Spent on Website                              1.1204      0.041     27.149      0.000       1.039       1.201\n",
       "A free copy of Mastering The Interview                  -0.2776      0.089     -3.111      0.002      -0.453      -0.103\n",
       "Lead_Origin_Landing Page Submission                     -0.9381      0.133     -7.062      0.000      -1.198      -0.678\n",
       "Lead_Origin_Lead Add Form                                3.0179      0.235     12.856      0.000       2.558       3.478\n",
       "Lead_Source_Olark Chat                                   1.2456      0.126      9.916      0.000       0.999       1.492\n",
       "Lead_Source_Other                                        0.3689      0.396      0.933      0.351      -0.406       1.144\n",
       "Lead_Source_Welingak Website                             2.5557      0.765      3.342      0.001       1.057       4.054\n",
       "Last_Activity_Email Link Clicked                         0.7272      0.269      2.708      0.007       0.201       1.254\n",
       "Last_Activity_Email Opened                               1.1470      0.177      6.490      0.000       0.801       1.493\n",
       "Last_Activity_Olark Chat Conversation                   -0.3149      0.235     -1.342      0.180      -0.775       0.145\n",
       "Last_Activity_Other                                      1.9303      0.268      7.197      0.000       1.405       2.456\n",
       "Last_Activity_Page Visited on Website                    0.7221      0.219      3.304      0.001       0.294       1.150\n",
       "Last_Activity_SMS Sent                                   2.3116      0.177     13.042      0.000       1.964       2.659\n",
       "Specialization_Hospitality Management                   -0.4840      0.330     -1.466      0.143      -1.131       0.163\n",
       "Specialization_Other                                    -1.0527      0.128     -8.217      0.000      -1.304      -0.802\n",
       "Specialization_Services Excellence                      -0.5408      0.667     -0.810      0.418      -1.849       0.767\n",
       "What_is_your_current_occupation_Student                  1.3151      0.237      5.545      0.000       0.850       1.780\n",
       "What_is_your_current_occupation_Unemployed               1.1550      0.088     13.115      0.000       0.982       1.328\n",
       "What_is_your_current_occupation_Working Professional     3.5370      0.206     17.211      0.000       3.134       3.940\n",
       "========================================================================================================================\n",
       "\"\"\""
      ]
     },
     "execution_count": 650,
     "metadata": {},
     "output_type": "execute_result"
    }
   ],
   "source": [
    "# Builing model on featues supported by RFE\n",
    "x_train_sm = sm.add_constant(x_train[col])\n",
    "model2=sm.GLM(y_train, x_train_sm, family=sm.families.Binomial()).fit()\n",
    "model2.summary()"
   ]
  },
  {
   "cell_type": "markdown",
   "metadata": {},
   "source": [
    "### Model 3"
   ]
  },
  {
   "cell_type": "code",
   "execution_count": 651,
   "metadata": {},
   "outputs": [],
   "source": [
    "# Dropping 'Specialization_Services Excellence' as p-value is very high\n",
    "col= [\n",
    "    'Do Not Email', 'Total Time Spent on Website',\n",
    "       'A free copy of Mastering The Interview',\n",
    "       'Lead_Origin_Landing Page Submission', 'Lead_Origin_Lead Add Form',\n",
    "       'Lead_Source_Olark Chat', 'Lead_Source_Other',\n",
    "       'Lead_Source_Welingak Website', 'Last_Activity_Email Link Clicked',\n",
    "       'Last_Activity_Email Opened', 'Last_Activity_Olark Chat Conversation',\n",
    "       'Last_Activity_Other', 'Last_Activity_Page Visited on Website',\n",
    "       'Last_Activity_SMS Sent', 'Specialization_Hospitality Management',\n",
    "       'Specialization_Other','What_is_your_current_occupation_Student',\n",
    "       'What_is_your_current_occupation_Unemployed',\n",
    "       'What_is_your_current_occupation_Working Professional'\n",
    "]"
   ]
  },
  {
   "cell_type": "code",
   "execution_count": 652,
   "metadata": {},
   "outputs": [
    {
     "data": {
      "text/html": [
       "<table class=\"simpletable\">\n",
       "<caption>Generalized Linear Model Regression Results</caption>\n",
       "<tr>\n",
       "  <th>Dep. Variable:</th>       <td>Converted</td>    <th>  No. Observations:  </th>  <td>  6351</td> \n",
       "</tr>\n",
       "<tr>\n",
       "  <th>Model:</th>                  <td>GLM</td>       <th>  Df Residuals:      </th>  <td>  6331</td> \n",
       "</tr>\n",
       "<tr>\n",
       "  <th>Model Family:</th>        <td>Binomial</td>     <th>  Df Model:          </th>  <td>    19</td> \n",
       "</tr>\n",
       "<tr>\n",
       "  <th>Link Function:</th>         <td>logit</td>      <th>  Scale:             </th> <td>  1.0000</td>\n",
       "</tr>\n",
       "<tr>\n",
       "  <th>Method:</th>                <td>IRLS</td>       <th>  Log-Likelihood:    </th> <td> -2544.3</td>\n",
       "</tr>\n",
       "<tr>\n",
       "  <th>Date:</th>            <td>Sun, 06 Sep 2020</td> <th>  Deviance:          </th> <td>  5088.6</td>\n",
       "</tr>\n",
       "<tr>\n",
       "  <th>Time:</th>                <td>21:10:20</td>     <th>  Pearson chi2:      </th> <td>6.39e+03</td>\n",
       "</tr>\n",
       "<tr>\n",
       "  <th>No. Iterations:</th>          <td>7</td>        <th>                     </th>     <td> </td>   \n",
       "</tr>\n",
       "<tr>\n",
       "  <th>Covariance Type:</th>     <td>nonrobust</td>    <th>                     </th>     <td> </td>   \n",
       "</tr>\n",
       "</table>\n",
       "<table class=\"simpletable\">\n",
       "<tr>\n",
       "                            <td></td>                              <th>coef</th>     <th>std err</th>      <th>z</th>      <th>P>|z|</th>  <th>[0.025</th>    <th>0.975]</th>  \n",
       "</tr>\n",
       "<tr>\n",
       "  <th>const</th>                                                <td>   -2.2741</td> <td>    0.220</td> <td>  -10.332</td> <td> 0.000</td> <td>   -2.705</td> <td>   -1.843</td>\n",
       "</tr>\n",
       "<tr>\n",
       "  <th>Do Not Email</th>                                         <td>   -1.4633</td> <td>    0.187</td> <td>   -7.836</td> <td> 0.000</td> <td>   -1.829</td> <td>   -1.097</td>\n",
       "</tr>\n",
       "<tr>\n",
       "  <th>Total Time Spent on Website</th>                          <td>    1.1206</td> <td>    0.041</td> <td>   27.155</td> <td> 0.000</td> <td>    1.040</td> <td>    1.201</td>\n",
       "</tr>\n",
       "<tr>\n",
       "  <th>A free copy of Mastering The Interview</th>               <td>   -0.2779</td> <td>    0.089</td> <td>   -3.114</td> <td> 0.002</td> <td>   -0.453</td> <td>   -0.103</td>\n",
       "</tr>\n",
       "<tr>\n",
       "  <th>Lead_Origin_Landing Page Submission</th>                  <td>   -0.9369</td> <td>    0.133</td> <td>   -7.055</td> <td> 0.000</td> <td>   -1.197</td> <td>   -0.677</td>\n",
       "</tr>\n",
       "<tr>\n",
       "  <th>Lead_Origin_Lead Add Form</th>                            <td>    3.0163</td> <td>    0.235</td> <td>   12.854</td> <td> 0.000</td> <td>    2.556</td> <td>    3.476</td>\n",
       "</tr>\n",
       "<tr>\n",
       "  <th>Lead_Source_Olark Chat</th>                               <td>    1.2459</td> <td>    0.126</td> <td>    9.919</td> <td> 0.000</td> <td>    1.000</td> <td>    1.492</td>\n",
       "</tr>\n",
       "<tr>\n",
       "  <th>Lead_Source_Other</th>                                    <td>    0.3707</td> <td>    0.395</td> <td>    0.937</td> <td> 0.349</td> <td>   -0.404</td> <td>    1.146</td>\n",
       "</tr>\n",
       "<tr>\n",
       "  <th>Lead_Source_Welingak Website</th>                         <td>    2.5589</td> <td>    0.765</td> <td>    3.346</td> <td> 0.001</td> <td>    1.060</td> <td>    4.058</td>\n",
       "</tr>\n",
       "<tr>\n",
       "  <th>Last_Activity_Email Link Clicked</th>                     <td>    0.7155</td> <td>    0.268</td> <td>    2.665</td> <td> 0.008</td> <td>    0.189</td> <td>    1.242</td>\n",
       "</tr>\n",
       "<tr>\n",
       "  <th>Last_Activity_Email Opened</th>                           <td>    1.1460</td> <td>    0.177</td> <td>    6.486</td> <td> 0.000</td> <td>    0.800</td> <td>    1.492</td>\n",
       "</tr>\n",
       "<tr>\n",
       "  <th>Last_Activity_Olark Chat Conversation</th>                <td>   -0.3188</td> <td>    0.235</td> <td>   -1.359</td> <td> 0.174</td> <td>   -0.779</td> <td>    0.141</td>\n",
       "</tr>\n",
       "<tr>\n",
       "  <th>Last_Activity_Other</th>                                  <td>    1.9314</td> <td>    0.268</td> <td>    7.202</td> <td> 0.000</td> <td>    1.406</td> <td>    2.457</td>\n",
       "</tr>\n",
       "<tr>\n",
       "  <th>Last_Activity_Page Visited on Website</th>                <td>    0.7213</td> <td>    0.219</td> <td>    3.301</td> <td> 0.001</td> <td>    0.293</td> <td>    1.150</td>\n",
       "</tr>\n",
       "<tr>\n",
       "  <th>Last_Activity_SMS Sent</th>                               <td>    2.3093</td> <td>    0.177</td> <td>   13.033</td> <td> 0.000</td> <td>    1.962</td> <td>    2.657</td>\n",
       "</tr>\n",
       "<tr>\n",
       "  <th>Specialization_Hospitality Management</th>                <td>   -0.4811</td> <td>    0.330</td> <td>   -1.458</td> <td> 0.145</td> <td>   -1.128</td> <td>    0.166</td>\n",
       "</tr>\n",
       "<tr>\n",
       "  <th>Specialization_Other</th>                                 <td>   -1.0494</td> <td>    0.128</td> <td>   -8.197</td> <td> 0.000</td> <td>   -1.300</td> <td>   -0.798</td>\n",
       "</tr>\n",
       "<tr>\n",
       "  <th>What_is_your_current_occupation_Student</th>              <td>    1.3162</td> <td>    0.237</td> <td>    5.550</td> <td> 0.000</td> <td>    0.851</td> <td>    1.781</td>\n",
       "</tr>\n",
       "<tr>\n",
       "  <th>What_is_your_current_occupation_Unemployed</th>           <td>    1.1546</td> <td>    0.088</td> <td>   13.113</td> <td> 0.000</td> <td>    0.982</td> <td>    1.327</td>\n",
       "</tr>\n",
       "<tr>\n",
       "  <th>What_is_your_current_occupation_Working Professional</th> <td>    3.5325</td> <td>    0.205</td> <td>   17.212</td> <td> 0.000</td> <td>    3.130</td> <td>    3.935</td>\n",
       "</tr>\n",
       "</table>"
      ],
      "text/plain": [
       "<class 'statsmodels.iolib.summary.Summary'>\n",
       "\"\"\"\n",
       "                 Generalized Linear Model Regression Results                  \n",
       "==============================================================================\n",
       "Dep. Variable:              Converted   No. Observations:                 6351\n",
       "Model:                            GLM   Df Residuals:                     6331\n",
       "Model Family:                Binomial   Df Model:                           19\n",
       "Link Function:                  logit   Scale:                          1.0000\n",
       "Method:                          IRLS   Log-Likelihood:                -2544.3\n",
       "Date:                Sun, 06 Sep 2020   Deviance:                       5088.6\n",
       "Time:                        21:10:20   Pearson chi2:                 6.39e+03\n",
       "No. Iterations:                     7                                         \n",
       "Covariance Type:            nonrobust                                         \n",
       "========================================================================================================================\n",
       "                                                           coef    std err          z      P>|z|      [0.025      0.975]\n",
       "------------------------------------------------------------------------------------------------------------------------\n",
       "const                                                   -2.2741      0.220    -10.332      0.000      -2.705      -1.843\n",
       "Do Not Email                                            -1.4633      0.187     -7.836      0.000      -1.829      -1.097\n",
       "Total Time Spent on Website                              1.1206      0.041     27.155      0.000       1.040       1.201\n",
       "A free copy of Mastering The Interview                  -0.2779      0.089     -3.114      0.002      -0.453      -0.103\n",
       "Lead_Origin_Landing Page Submission                     -0.9369      0.133     -7.055      0.000      -1.197      -0.677\n",
       "Lead_Origin_Lead Add Form                                3.0163      0.235     12.854      0.000       2.556       3.476\n",
       "Lead_Source_Olark Chat                                   1.2459      0.126      9.919      0.000       1.000       1.492\n",
       "Lead_Source_Other                                        0.3707      0.395      0.937      0.349      -0.404       1.146\n",
       "Lead_Source_Welingak Website                             2.5589      0.765      3.346      0.001       1.060       4.058\n",
       "Last_Activity_Email Link Clicked                         0.7155      0.268      2.665      0.008       0.189       1.242\n",
       "Last_Activity_Email Opened                               1.1460      0.177      6.486      0.000       0.800       1.492\n",
       "Last_Activity_Olark Chat Conversation                   -0.3188      0.235     -1.359      0.174      -0.779       0.141\n",
       "Last_Activity_Other                                      1.9314      0.268      7.202      0.000       1.406       2.457\n",
       "Last_Activity_Page Visited on Website                    0.7213      0.219      3.301      0.001       0.293       1.150\n",
       "Last_Activity_SMS Sent                                   2.3093      0.177     13.033      0.000       1.962       2.657\n",
       "Specialization_Hospitality Management                   -0.4811      0.330     -1.458      0.145      -1.128       0.166\n",
       "Specialization_Other                                    -1.0494      0.128     -8.197      0.000      -1.300      -0.798\n",
       "What_is_your_current_occupation_Student                  1.3162      0.237      5.550      0.000       0.851       1.781\n",
       "What_is_your_current_occupation_Unemployed               1.1546      0.088     13.113      0.000       0.982       1.327\n",
       "What_is_your_current_occupation_Working Professional     3.5325      0.205     17.212      0.000       3.130       3.935\n",
       "========================================================================================================================\n",
       "\"\"\""
      ]
     },
     "execution_count": 652,
     "metadata": {},
     "output_type": "execute_result"
    }
   ],
   "source": [
    "x_train_sm = sm.add_constant(x_train[col])\n",
    "model3=sm.GLM(y_train, x_train_sm, family=sm.families.Binomial()).fit()\n",
    "model3.summary()"
   ]
  },
  {
   "cell_type": "markdown",
   "metadata": {},
   "source": [
    "## Model 4"
   ]
  },
  {
   "cell_type": "code",
   "execution_count": 653,
   "metadata": {},
   "outputs": [],
   "source": [
    "# Dropping 'Lead_Source_Other' as p-value is very high\n",
    "col= [\n",
    "    'Do Not Email', 'Total Time Spent on Website',\n",
    "       'A free copy of Mastering The Interview',\n",
    "       'Lead_Origin_Landing Page Submission', 'Lead_Origin_Lead Add Form',\n",
    "       'Lead_Source_Olark Chat','Lead_Source_Welingak Website', 'Last_Activity_Email Link Clicked',\n",
    "       'Last_Activity_Email Opened', 'Last_Activity_Olark Chat Conversation',\n",
    "       'Last_Activity_Other', 'Last_Activity_Page Visited on Website',\n",
    "       'Last_Activity_SMS Sent', 'Specialization_Hospitality Management',\n",
    "       'Specialization_Other','What_is_your_current_occupation_Student',\n",
    "       'What_is_your_current_occupation_Unemployed',\n",
    "       'What_is_your_current_occupation_Working Professional']"
   ]
  },
  {
   "cell_type": "code",
   "execution_count": 654,
   "metadata": {},
   "outputs": [
    {
     "data": {
      "text/html": [
       "<table class=\"simpletable\">\n",
       "<caption>Generalized Linear Model Regression Results</caption>\n",
       "<tr>\n",
       "  <th>Dep. Variable:</th>       <td>Converted</td>    <th>  No. Observations:  </th>  <td>  6351</td> \n",
       "</tr>\n",
       "<tr>\n",
       "  <th>Model:</th>                  <td>GLM</td>       <th>  Df Residuals:      </th>  <td>  6332</td> \n",
       "</tr>\n",
       "<tr>\n",
       "  <th>Model Family:</th>        <td>Binomial</td>     <th>  Df Model:          </th>  <td>    18</td> \n",
       "</tr>\n",
       "<tr>\n",
       "  <th>Link Function:</th>         <td>logit</td>      <th>  Scale:             </th> <td>  1.0000</td>\n",
       "</tr>\n",
       "<tr>\n",
       "  <th>Method:</th>                <td>IRLS</td>       <th>  Log-Likelihood:    </th> <td> -2544.7</td>\n",
       "</tr>\n",
       "<tr>\n",
       "  <th>Date:</th>            <td>Sun, 06 Sep 2020</td> <th>  Deviance:          </th> <td>  5089.4</td>\n",
       "</tr>\n",
       "<tr>\n",
       "  <th>Time:</th>                <td>21:11:09</td>     <th>  Pearson chi2:      </th> <td>6.39e+03</td>\n",
       "</tr>\n",
       "<tr>\n",
       "  <th>No. Iterations:</th>          <td>7</td>        <th>                     </th>     <td> </td>   \n",
       "</tr>\n",
       "<tr>\n",
       "  <th>Covariance Type:</th>     <td>nonrobust</td>    <th>                     </th>     <td> </td>   \n",
       "</tr>\n",
       "</table>\n",
       "<table class=\"simpletable\">\n",
       "<tr>\n",
       "                            <td></td>                              <th>coef</th>     <th>std err</th>      <th>z</th>      <th>P>|z|</th>  <th>[0.025</th>    <th>0.975]</th>  \n",
       "</tr>\n",
       "<tr>\n",
       "  <th>const</th>                                                <td>   -2.2585</td> <td>    0.219</td> <td>  -10.294</td> <td> 0.000</td> <td>   -2.689</td> <td>   -1.829</td>\n",
       "</tr>\n",
       "<tr>\n",
       "  <th>Do Not Email</th>                                         <td>   -1.4624</td> <td>    0.187</td> <td>   -7.830</td> <td> 0.000</td> <td>   -1.828</td> <td>   -1.096</td>\n",
       "</tr>\n",
       "<tr>\n",
       "  <th>Total Time Spent on Website</th>                          <td>    1.1171</td> <td>    0.041</td> <td>   27.205</td> <td> 0.000</td> <td>    1.037</td> <td>    1.198</td>\n",
       "</tr>\n",
       "<tr>\n",
       "  <th>A free copy of Mastering The Interview</th>               <td>   -0.2811</td> <td>    0.089</td> <td>   -3.153</td> <td> 0.002</td> <td>   -0.456</td> <td>   -0.106</td>\n",
       "</tr>\n",
       "<tr>\n",
       "  <th>Lead_Origin_Landing Page Submission</th>                  <td>   -0.9509</td> <td>    0.132</td> <td>   -7.198</td> <td> 0.000</td> <td>   -1.210</td> <td>   -0.692</td>\n",
       "</tr>\n",
       "<tr>\n",
       "  <th>Lead_Origin_Lead Add Form</th>                            <td>    3.0058</td> <td>    0.234</td> <td>   12.831</td> <td> 0.000</td> <td>    2.547</td> <td>    3.465</td>\n",
       "</tr>\n",
       "<tr>\n",
       "  <th>Lead_Source_Olark Chat</th>                               <td>    1.2332</td> <td>    0.125</td> <td>    9.882</td> <td> 0.000</td> <td>    0.989</td> <td>    1.478</td>\n",
       "</tr>\n",
       "<tr>\n",
       "  <th>Lead_Source_Welingak Website</th>                         <td>    2.5578</td> <td>    0.765</td> <td>    3.345</td> <td> 0.001</td> <td>    1.059</td> <td>    4.057</td>\n",
       "</tr>\n",
       "<tr>\n",
       "  <th>Last_Activity_Email Link Clicked</th>                     <td>    0.7158</td> <td>    0.268</td> <td>    2.666</td> <td> 0.008</td> <td>    0.190</td> <td>    1.242</td>\n",
       "</tr>\n",
       "<tr>\n",
       "  <th>Last_Activity_Email Opened</th>                           <td>    1.1502</td> <td>    0.177</td> <td>    6.514</td> <td> 0.000</td> <td>    0.804</td> <td>    1.496</td>\n",
       "</tr>\n",
       "<tr>\n",
       "  <th>Last_Activity_Olark Chat Conversation</th>                <td>   -0.3158</td> <td>    0.234</td> <td>   -1.347</td> <td> 0.178</td> <td>   -0.775</td> <td>    0.144</td>\n",
       "</tr>\n",
       "<tr>\n",
       "  <th>Last_Activity_Other</th>                                  <td>    1.9313</td> <td>    0.268</td> <td>    7.202</td> <td> 0.000</td> <td>    1.406</td> <td>    2.457</td>\n",
       "</tr>\n",
       "<tr>\n",
       "  <th>Last_Activity_Page Visited on Website</th>                <td>    0.7247</td> <td>    0.218</td> <td>    3.318</td> <td> 0.001</td> <td>    0.297</td> <td>    1.153</td>\n",
       "</tr>\n",
       "<tr>\n",
       "  <th>Last_Activity_SMS Sent</th>                               <td>    2.3113</td> <td>    0.177</td> <td>   13.050</td> <td> 0.000</td> <td>    1.964</td> <td>    2.658</td>\n",
       "</tr>\n",
       "<tr>\n",
       "  <th>Specialization_Hospitality Management</th>                <td>   -0.4832</td> <td>    0.330</td> <td>   -1.464</td> <td> 0.143</td> <td>   -1.130</td> <td>    0.164</td>\n",
       "</tr>\n",
       "<tr>\n",
       "  <th>Specialization_Other</th>                                 <td>   -1.0599</td> <td>    0.128</td> <td>   -8.299</td> <td> 0.000</td> <td>   -1.310</td> <td>   -0.810</td>\n",
       "</tr>\n",
       "<tr>\n",
       "  <th>What_is_your_current_occupation_Student</th>              <td>    1.3180</td> <td>    0.237</td> <td>    5.557</td> <td> 0.000</td> <td>    0.853</td> <td>    1.783</td>\n",
       "</tr>\n",
       "<tr>\n",
       "  <th>What_is_your_current_occupation_Unemployed</th>           <td>    1.1548</td> <td>    0.088</td> <td>   13.118</td> <td> 0.000</td> <td>    0.982</td> <td>    1.327</td>\n",
       "</tr>\n",
       "<tr>\n",
       "  <th>What_is_your_current_occupation_Working Professional</th> <td>    3.5320</td> <td>    0.205</td> <td>   17.211</td> <td> 0.000</td> <td>    3.130</td> <td>    3.934</td>\n",
       "</tr>\n",
       "</table>"
      ],
      "text/plain": [
       "<class 'statsmodels.iolib.summary.Summary'>\n",
       "\"\"\"\n",
       "                 Generalized Linear Model Regression Results                  \n",
       "==============================================================================\n",
       "Dep. Variable:              Converted   No. Observations:                 6351\n",
       "Model:                            GLM   Df Residuals:                     6332\n",
       "Model Family:                Binomial   Df Model:                           18\n",
       "Link Function:                  logit   Scale:                          1.0000\n",
       "Method:                          IRLS   Log-Likelihood:                -2544.7\n",
       "Date:                Sun, 06 Sep 2020   Deviance:                       5089.4\n",
       "Time:                        21:11:09   Pearson chi2:                 6.39e+03\n",
       "No. Iterations:                     7                                         \n",
       "Covariance Type:            nonrobust                                         \n",
       "========================================================================================================================\n",
       "                                                           coef    std err          z      P>|z|      [0.025      0.975]\n",
       "------------------------------------------------------------------------------------------------------------------------\n",
       "const                                                   -2.2585      0.219    -10.294      0.000      -2.689      -1.829\n",
       "Do Not Email                                            -1.4624      0.187     -7.830      0.000      -1.828      -1.096\n",
       "Total Time Spent on Website                              1.1171      0.041     27.205      0.000       1.037       1.198\n",
       "A free copy of Mastering The Interview                  -0.2811      0.089     -3.153      0.002      -0.456      -0.106\n",
       "Lead_Origin_Landing Page Submission                     -0.9509      0.132     -7.198      0.000      -1.210      -0.692\n",
       "Lead_Origin_Lead Add Form                                3.0058      0.234     12.831      0.000       2.547       3.465\n",
       "Lead_Source_Olark Chat                                   1.2332      0.125      9.882      0.000       0.989       1.478\n",
       "Lead_Source_Welingak Website                             2.5578      0.765      3.345      0.001       1.059       4.057\n",
       "Last_Activity_Email Link Clicked                         0.7158      0.268      2.666      0.008       0.190       1.242\n",
       "Last_Activity_Email Opened                               1.1502      0.177      6.514      0.000       0.804       1.496\n",
       "Last_Activity_Olark Chat Conversation                   -0.3158      0.234     -1.347      0.178      -0.775       0.144\n",
       "Last_Activity_Other                                      1.9313      0.268      7.202      0.000       1.406       2.457\n",
       "Last_Activity_Page Visited on Website                    0.7247      0.218      3.318      0.001       0.297       1.153\n",
       "Last_Activity_SMS Sent                                   2.3113      0.177     13.050      0.000       1.964       2.658\n",
       "Specialization_Hospitality Management                   -0.4832      0.330     -1.464      0.143      -1.130       0.164\n",
       "Specialization_Other                                    -1.0599      0.128     -8.299      0.000      -1.310      -0.810\n",
       "What_is_your_current_occupation_Student                  1.3180      0.237      5.557      0.000       0.853       1.783\n",
       "What_is_your_current_occupation_Unemployed               1.1548      0.088     13.118      0.000       0.982       1.327\n",
       "What_is_your_current_occupation_Working Professional     3.5320      0.205     17.211      0.000       3.130       3.934\n",
       "========================================================================================================================\n",
       "\"\"\""
      ]
     },
     "execution_count": 654,
     "metadata": {},
     "output_type": "execute_result"
    }
   ],
   "source": [
    "x_train_sm = sm.add_constant(x_train[col])\n",
    "model4=sm.GLM(y_train, x_train_sm, family=sm.families.Binomial()).fit()\n",
    "model4.summary()"
   ]
  },
  {
   "cell_type": "markdown",
   "metadata": {},
   "source": [
    "### Model 5"
   ]
  },
  {
   "cell_type": "code",
   "execution_count": 655,
   "metadata": {},
   "outputs": [],
   "source": [
    "# Dropping 'Last_Activity_Olark Chat Conversation' as p-value is very high\n",
    "col= [\n",
    "    'Do Not Email', 'Total Time Spent on Website',\n",
    "       'A free copy of Mastering The Interview',\n",
    "       'Lead_Origin_Landing Page Submission', 'Lead_Origin_Lead Add Form',\n",
    "       'Lead_Source_Olark Chat','Lead_Source_Welingak Website', 'Last_Activity_Email Link Clicked',\n",
    "       'Last_Activity_Email Opened','Last_Activity_Other', 'Last_Activity_Page Visited on Website',\n",
    "       'Last_Activity_SMS Sent', 'Specialization_Hospitality Management',\n",
    "       'Specialization_Other','What_is_your_current_occupation_Student',\n",
    "       'What_is_your_current_occupation_Unemployed',\n",
    "       'What_is_your_current_occupation_Working Professional']"
   ]
  },
  {
   "cell_type": "code",
   "execution_count": 656,
   "metadata": {},
   "outputs": [
    {
     "data": {
      "text/html": [
       "<table class=\"simpletable\">\n",
       "<caption>Generalized Linear Model Regression Results</caption>\n",
       "<tr>\n",
       "  <th>Dep. Variable:</th>       <td>Converted</td>    <th>  No. Observations:  </th>  <td>  6351</td> \n",
       "</tr>\n",
       "<tr>\n",
       "  <th>Model:</th>                  <td>GLM</td>       <th>  Df Residuals:      </th>  <td>  6333</td> \n",
       "</tr>\n",
       "<tr>\n",
       "  <th>Model Family:</th>        <td>Binomial</td>     <th>  Df Model:          </th>  <td>    17</td> \n",
       "</tr>\n",
       "<tr>\n",
       "  <th>Link Function:</th>         <td>logit</td>      <th>  Scale:             </th> <td>  1.0000</td>\n",
       "</tr>\n",
       "<tr>\n",
       "  <th>Method:</th>                <td>IRLS</td>       <th>  Log-Likelihood:    </th> <td> -2545.6</td>\n",
       "</tr>\n",
       "<tr>\n",
       "  <th>Date:</th>            <td>Sun, 06 Sep 2020</td> <th>  Deviance:          </th> <td>  5091.2</td>\n",
       "</tr>\n",
       "<tr>\n",
       "  <th>Time:</th>                <td>21:12:07</td>     <th>  Pearson chi2:      </th> <td>6.41e+03</td>\n",
       "</tr>\n",
       "<tr>\n",
       "  <th>No. Iterations:</th>          <td>7</td>        <th>                     </th>     <td> </td>   \n",
       "</tr>\n",
       "<tr>\n",
       "  <th>Covariance Type:</th>     <td>nonrobust</td>    <th>                     </th>     <td> </td>   \n",
       "</tr>\n",
       "</table>\n",
       "<table class=\"simpletable\">\n",
       "<tr>\n",
       "                            <td></td>                              <th>coef</th>     <th>std err</th>      <th>z</th>      <th>P>|z|</th>  <th>[0.025</th>    <th>0.975]</th>  \n",
       "</tr>\n",
       "<tr>\n",
       "  <th>const</th>                                                <td>   -2.4303</td> <td>    0.182</td> <td>  -13.376</td> <td> 0.000</td> <td>   -2.786</td> <td>   -2.074</td>\n",
       "</tr>\n",
       "<tr>\n",
       "  <th>Do Not Email</th>                                         <td>   -1.4356</td> <td>    0.186</td> <td>   -7.699</td> <td> 0.000</td> <td>   -1.801</td> <td>   -1.070</td>\n",
       "</tr>\n",
       "<tr>\n",
       "  <th>Total Time Spent on Website</th>                          <td>    1.1174</td> <td>    0.041</td> <td>   27.177</td> <td> 0.000</td> <td>    1.037</td> <td>    1.198</td>\n",
       "</tr>\n",
       "<tr>\n",
       "  <th>A free copy of Mastering The Interview</th>               <td>   -0.2811</td> <td>    0.089</td> <td>   -3.149</td> <td> 0.002</td> <td>   -0.456</td> <td>   -0.106</td>\n",
       "</tr>\n",
       "<tr>\n",
       "  <th>Lead_Origin_Landing Page Submission</th>                  <td>   -0.9448</td> <td>    0.132</td> <td>   -7.152</td> <td> 0.000</td> <td>   -1.204</td> <td>   -0.686</td>\n",
       "</tr>\n",
       "<tr>\n",
       "  <th>Lead_Origin_Lead Add Form</th>                            <td>    3.0052</td> <td>    0.234</td> <td>   12.830</td> <td> 0.000</td> <td>    2.546</td> <td>    3.464</td>\n",
       "</tr>\n",
       "<tr>\n",
       "  <th>Lead_Source_Olark Chat</th>                               <td>    1.2128</td> <td>    0.124</td> <td>    9.803</td> <td> 0.000</td> <td>    0.970</td> <td>    1.455</td>\n",
       "</tr>\n",
       "<tr>\n",
       "  <th>Lead_Source_Welingak Website</th>                         <td>    2.5660</td> <td>    0.767</td> <td>    3.345</td> <td> 0.001</td> <td>    1.062</td> <td>    4.070</td>\n",
       "</tr>\n",
       "<tr>\n",
       "  <th>Last_Activity_Email Link Clicked</th>                     <td>    0.8885</td> <td>    0.238</td> <td>    3.730</td> <td> 0.000</td> <td>    0.422</td> <td>    1.355</td>\n",
       "</tr>\n",
       "<tr>\n",
       "  <th>Last_Activity_Email Opened</th>                           <td>    1.3207</td> <td>    0.127</td> <td>   10.368</td> <td> 0.000</td> <td>    1.071</td> <td>    1.570</td>\n",
       "</tr>\n",
       "<tr>\n",
       "  <th>Last_Activity_Other</th>                                  <td>    2.0925</td> <td>    0.242</td> <td>    8.633</td> <td> 0.000</td> <td>    1.617</td> <td>    2.568</td>\n",
       "</tr>\n",
       "<tr>\n",
       "  <th>Last_Activity_Page Visited on Website</th>                <td>    0.8894</td> <td>    0.184</td> <td>    4.834</td> <td> 0.000</td> <td>    0.529</td> <td>    1.250</td>\n",
       "</tr>\n",
       "<tr>\n",
       "  <th>Last_Activity_SMS Sent</th>                               <td>    2.4788</td> <td>    0.130</td> <td>   19.002</td> <td> 0.000</td> <td>    2.223</td> <td>    2.735</td>\n",
       "</tr>\n",
       "<tr>\n",
       "  <th>Specialization_Hospitality Management</th>                <td>   -0.4816</td> <td>    0.330</td> <td>   -1.457</td> <td> 0.145</td> <td>   -1.129</td> <td>    0.166</td>\n",
       "</tr>\n",
       "<tr>\n",
       "  <th>Specialization_Other</th>                                 <td>   -1.0627</td> <td>    0.128</td> <td>   -8.325</td> <td> 0.000</td> <td>   -1.313</td> <td>   -0.813</td>\n",
       "</tr>\n",
       "<tr>\n",
       "  <th>What_is_your_current_occupation_Student</th>              <td>    1.3121</td> <td>    0.237</td> <td>    5.539</td> <td> 0.000</td> <td>    0.848</td> <td>    1.776</td>\n",
       "</tr>\n",
       "<tr>\n",
       "  <th>What_is_your_current_occupation_Unemployed</th>           <td>    1.1580</td> <td>    0.088</td> <td>   13.166</td> <td> 0.000</td> <td>    0.986</td> <td>    1.330</td>\n",
       "</tr>\n",
       "<tr>\n",
       "  <th>What_is_your_current_occupation_Working Professional</th> <td>    3.5448</td> <td>    0.206</td> <td>   17.225</td> <td> 0.000</td> <td>    3.141</td> <td>    3.948</td>\n",
       "</tr>\n",
       "</table>"
      ],
      "text/plain": [
       "<class 'statsmodels.iolib.summary.Summary'>\n",
       "\"\"\"\n",
       "                 Generalized Linear Model Regression Results                  \n",
       "==============================================================================\n",
       "Dep. Variable:              Converted   No. Observations:                 6351\n",
       "Model:                            GLM   Df Residuals:                     6333\n",
       "Model Family:                Binomial   Df Model:                           17\n",
       "Link Function:                  logit   Scale:                          1.0000\n",
       "Method:                          IRLS   Log-Likelihood:                -2545.6\n",
       "Date:                Sun, 06 Sep 2020   Deviance:                       5091.2\n",
       "Time:                        21:12:07   Pearson chi2:                 6.41e+03\n",
       "No. Iterations:                     7                                         \n",
       "Covariance Type:            nonrobust                                         \n",
       "========================================================================================================================\n",
       "                                                           coef    std err          z      P>|z|      [0.025      0.975]\n",
       "------------------------------------------------------------------------------------------------------------------------\n",
       "const                                                   -2.4303      0.182    -13.376      0.000      -2.786      -2.074\n",
       "Do Not Email                                            -1.4356      0.186     -7.699      0.000      -1.801      -1.070\n",
       "Total Time Spent on Website                              1.1174      0.041     27.177      0.000       1.037       1.198\n",
       "A free copy of Mastering The Interview                  -0.2811      0.089     -3.149      0.002      -0.456      -0.106\n",
       "Lead_Origin_Landing Page Submission                     -0.9448      0.132     -7.152      0.000      -1.204      -0.686\n",
       "Lead_Origin_Lead Add Form                                3.0052      0.234     12.830      0.000       2.546       3.464\n",
       "Lead_Source_Olark Chat                                   1.2128      0.124      9.803      0.000       0.970       1.455\n",
       "Lead_Source_Welingak Website                             2.5660      0.767      3.345      0.001       1.062       4.070\n",
       "Last_Activity_Email Link Clicked                         0.8885      0.238      3.730      0.000       0.422       1.355\n",
       "Last_Activity_Email Opened                               1.3207      0.127     10.368      0.000       1.071       1.570\n",
       "Last_Activity_Other                                      2.0925      0.242      8.633      0.000       1.617       2.568\n",
       "Last_Activity_Page Visited on Website                    0.8894      0.184      4.834      0.000       0.529       1.250\n",
       "Last_Activity_SMS Sent                                   2.4788      0.130     19.002      0.000       2.223       2.735\n",
       "Specialization_Hospitality Management                   -0.4816      0.330     -1.457      0.145      -1.129       0.166\n",
       "Specialization_Other                                    -1.0627      0.128     -8.325      0.000      -1.313      -0.813\n",
       "What_is_your_current_occupation_Student                  1.3121      0.237      5.539      0.000       0.848       1.776\n",
       "What_is_your_current_occupation_Unemployed               1.1580      0.088     13.166      0.000       0.986       1.330\n",
       "What_is_your_current_occupation_Working Professional     3.5448      0.206     17.225      0.000       3.141       3.948\n",
       "========================================================================================================================\n",
       "\"\"\""
      ]
     },
     "execution_count": 656,
     "metadata": {},
     "output_type": "execute_result"
    }
   ],
   "source": [
    "x_train_sm = sm.add_constant(x_train[col])\n",
    "model5=sm.GLM(y_train, x_train_sm, family=sm.families.Binomial()).fit()\n",
    "model5.summary()"
   ]
  },
  {
   "cell_type": "markdown",
   "metadata": {},
   "source": [
    "### Model 6"
   ]
  },
  {
   "cell_type": "code",
   "execution_count": 657,
   "metadata": {},
   "outputs": [],
   "source": [
    "# Dropping 'Specialization_Hospitality Management' as p-value is very high\n",
    "col= [ 'Do Not Email', 'Total Time Spent on Website',\n",
    "       'A free copy of Mastering The Interview',\n",
    "       'Lead_Origin_Landing Page Submission', 'Lead_Origin_Lead Add Form',\n",
    "       'Lead_Source_Olark Chat','Lead_Source_Welingak Website', 'Last_Activity_Email Link Clicked',\n",
    "       'Last_Activity_Email Opened','Last_Activity_Other', 'Last_Activity_Page Visited on Website',\n",
    "       'Last_Activity_SMS Sent','Specialization_Other','What_is_your_current_occupation_Student',\n",
    "       'What_is_your_current_occupation_Unemployed',\n",
    "       'What_is_your_current_occupation_Working Professional']"
   ]
  },
  {
   "cell_type": "code",
   "execution_count": 658,
   "metadata": {},
   "outputs": [
    {
     "data": {
      "text/html": [
       "<table class=\"simpletable\">\n",
       "<caption>Generalized Linear Model Regression Results</caption>\n",
       "<tr>\n",
       "  <th>Dep. Variable:</th>       <td>Converted</td>    <th>  No. Observations:  </th>  <td>  6351</td> \n",
       "</tr>\n",
       "<tr>\n",
       "  <th>Model:</th>                  <td>GLM</td>       <th>  Df Residuals:      </th>  <td>  6334</td> \n",
       "</tr>\n",
       "<tr>\n",
       "  <th>Model Family:</th>        <td>Binomial</td>     <th>  Df Model:          </th>  <td>    16</td> \n",
       "</tr>\n",
       "<tr>\n",
       "  <th>Link Function:</th>         <td>logit</td>      <th>  Scale:             </th> <td>  1.0000</td>\n",
       "</tr>\n",
       "<tr>\n",
       "  <th>Method:</th>                <td>IRLS</td>       <th>  Log-Likelihood:    </th> <td> -2546.7</td>\n",
       "</tr>\n",
       "<tr>\n",
       "  <th>Date:</th>            <td>Sun, 06 Sep 2020</td> <th>  Deviance:          </th> <td>  5093.4</td>\n",
       "</tr>\n",
       "<tr>\n",
       "  <th>Time:</th>                <td>21:13:20</td>     <th>  Pearson chi2:      </th> <td>6.43e+03</td>\n",
       "</tr>\n",
       "<tr>\n",
       "  <th>No. Iterations:</th>          <td>7</td>        <th>                     </th>     <td> </td>   \n",
       "</tr>\n",
       "<tr>\n",
       "  <th>Covariance Type:</th>     <td>nonrobust</td>    <th>                     </th>     <td> </td>   \n",
       "</tr>\n",
       "</table>\n",
       "<table class=\"simpletable\">\n",
       "<tr>\n",
       "                            <td></td>                              <th>coef</th>     <th>std err</th>      <th>z</th>      <th>P>|z|</th>  <th>[0.025</th>    <th>0.975]</th>  \n",
       "</tr>\n",
       "<tr>\n",
       "  <th>const</th>                                                <td>   -2.4380</td> <td>    0.182</td> <td>  -13.427</td> <td> 0.000</td> <td>   -2.794</td> <td>   -2.082</td>\n",
       "</tr>\n",
       "<tr>\n",
       "  <th>Do Not Email</th>                                         <td>   -1.4386</td> <td>    0.186</td> <td>   -7.718</td> <td> 0.000</td> <td>   -1.804</td> <td>   -1.073</td>\n",
       "</tr>\n",
       "<tr>\n",
       "  <th>Total Time Spent on Website</th>                          <td>    1.1150</td> <td>    0.041</td> <td>   27.168</td> <td> 0.000</td> <td>    1.035</td> <td>    1.195</td>\n",
       "</tr>\n",
       "<tr>\n",
       "  <th>A free copy of Mastering The Interview</th>               <td>   -0.2814</td> <td>    0.089</td> <td>   -3.154</td> <td> 0.002</td> <td>   -0.456</td> <td>   -0.107</td>\n",
       "</tr>\n",
       "<tr>\n",
       "  <th>Lead_Origin_Landing Page Submission</th>                  <td>   -0.9445</td> <td>    0.132</td> <td>   -7.150</td> <td> 0.000</td> <td>   -1.203</td> <td>   -0.686</td>\n",
       "</tr>\n",
       "<tr>\n",
       "  <th>Lead_Origin_Lead Add Form</th>                            <td>    2.9914</td> <td>    0.234</td> <td>   12.790</td> <td> 0.000</td> <td>    2.533</td> <td>    3.450</td>\n",
       "</tr>\n",
       "<tr>\n",
       "  <th>Lead_Source_Olark Chat</th>                               <td>    1.2095</td> <td>    0.124</td> <td>    9.781</td> <td> 0.000</td> <td>    0.967</td> <td>    1.452</td>\n",
       "</tr>\n",
       "<tr>\n",
       "  <th>Lead_Source_Welingak Website</th>                         <td>    2.5770</td> <td>    0.767</td> <td>    3.359</td> <td> 0.001</td> <td>    1.073</td> <td>    4.081</td>\n",
       "</tr>\n",
       "<tr>\n",
       "  <th>Last_Activity_Email Link Clicked</th>                     <td>    0.8884</td> <td>    0.238</td> <td>    3.731</td> <td> 0.000</td> <td>    0.422</td> <td>    1.355</td>\n",
       "</tr>\n",
       "<tr>\n",
       "  <th>Last_Activity_Email Opened</th>                           <td>    1.3216</td> <td>    0.127</td> <td>   10.376</td> <td> 0.000</td> <td>    1.072</td> <td>    1.571</td>\n",
       "</tr>\n",
       "<tr>\n",
       "  <th>Last_Activity_Other</th>                                  <td>    2.0917</td> <td>    0.242</td> <td>    8.626</td> <td> 0.000</td> <td>    1.616</td> <td>    2.567</td>\n",
       "</tr>\n",
       "<tr>\n",
       "  <th>Last_Activity_Page Visited on Website</th>                <td>    0.8952</td> <td>    0.184</td> <td>    4.870</td> <td> 0.000</td> <td>    0.535</td> <td>    1.255</td>\n",
       "</tr>\n",
       "<tr>\n",
       "  <th>Last_Activity_SMS Sent</th>                               <td>    2.4799</td> <td>    0.130</td> <td>   19.015</td> <td> 0.000</td> <td>    2.224</td> <td>    2.736</td>\n",
       "</tr>\n",
       "<tr>\n",
       "  <th>Specialization_Other</th>                                 <td>   -1.0541</td> <td>    0.128</td> <td>   -8.267</td> <td> 0.000</td> <td>   -1.304</td> <td>   -0.804</td>\n",
       "</tr>\n",
       "<tr>\n",
       "  <th>What_is_your_current_occupation_Student</th>              <td>    1.3087</td> <td>    0.237</td> <td>    5.530</td> <td> 0.000</td> <td>    0.845</td> <td>    1.772</td>\n",
       "</tr>\n",
       "<tr>\n",
       "  <th>What_is_your_current_occupation_Unemployed</th>           <td>    1.1579</td> <td>    0.088</td> <td>   13.168</td> <td> 0.000</td> <td>    0.986</td> <td>    1.330</td>\n",
       "</tr>\n",
       "<tr>\n",
       "  <th>What_is_your_current_occupation_Working Professional</th> <td>    3.5372</td> <td>    0.206</td> <td>   17.190</td> <td> 0.000</td> <td>    3.134</td> <td>    3.941</td>\n",
       "</tr>\n",
       "</table>"
      ],
      "text/plain": [
       "<class 'statsmodels.iolib.summary.Summary'>\n",
       "\"\"\"\n",
       "                 Generalized Linear Model Regression Results                  \n",
       "==============================================================================\n",
       "Dep. Variable:              Converted   No. Observations:                 6351\n",
       "Model:                            GLM   Df Residuals:                     6334\n",
       "Model Family:                Binomial   Df Model:                           16\n",
       "Link Function:                  logit   Scale:                          1.0000\n",
       "Method:                          IRLS   Log-Likelihood:                -2546.7\n",
       "Date:                Sun, 06 Sep 2020   Deviance:                       5093.4\n",
       "Time:                        21:13:20   Pearson chi2:                 6.43e+03\n",
       "No. Iterations:                     7                                         \n",
       "Covariance Type:            nonrobust                                         \n",
       "========================================================================================================================\n",
       "                                                           coef    std err          z      P>|z|      [0.025      0.975]\n",
       "------------------------------------------------------------------------------------------------------------------------\n",
       "const                                                   -2.4380      0.182    -13.427      0.000      -2.794      -2.082\n",
       "Do Not Email                                            -1.4386      0.186     -7.718      0.000      -1.804      -1.073\n",
       "Total Time Spent on Website                              1.1150      0.041     27.168      0.000       1.035       1.195\n",
       "A free copy of Mastering The Interview                  -0.2814      0.089     -3.154      0.002      -0.456      -0.107\n",
       "Lead_Origin_Landing Page Submission                     -0.9445      0.132     -7.150      0.000      -1.203      -0.686\n",
       "Lead_Origin_Lead Add Form                                2.9914      0.234     12.790      0.000       2.533       3.450\n",
       "Lead_Source_Olark Chat                                   1.2095      0.124      9.781      0.000       0.967       1.452\n",
       "Lead_Source_Welingak Website                             2.5770      0.767      3.359      0.001       1.073       4.081\n",
       "Last_Activity_Email Link Clicked                         0.8884      0.238      3.731      0.000       0.422       1.355\n",
       "Last_Activity_Email Opened                               1.3216      0.127     10.376      0.000       1.072       1.571\n",
       "Last_Activity_Other                                      2.0917      0.242      8.626      0.000       1.616       2.567\n",
       "Last_Activity_Page Visited on Website                    0.8952      0.184      4.870      0.000       0.535       1.255\n",
       "Last_Activity_SMS Sent                                   2.4799      0.130     19.015      0.000       2.224       2.736\n",
       "Specialization_Other                                    -1.0541      0.128     -8.267      0.000      -1.304      -0.804\n",
       "What_is_your_current_occupation_Student                  1.3087      0.237      5.530      0.000       0.845       1.772\n",
       "What_is_your_current_occupation_Unemployed               1.1579      0.088     13.168      0.000       0.986       1.330\n",
       "What_is_your_current_occupation_Working Professional     3.5372      0.206     17.190      0.000       3.134       3.941\n",
       "========================================================================================================================\n",
       "\"\"\""
      ]
     },
     "execution_count": 658,
     "metadata": {},
     "output_type": "execute_result"
    }
   ],
   "source": [
    "x_train_sm = sm.add_constant(x_train[col])\n",
    "model6=sm.GLM(y_train, x_train_sm, family=sm.families.Binomial()).fit()\n",
    "model6.summary()"
   ]
  },
  {
   "cell_type": "markdown",
   "metadata": {},
   "source": [
    "### Checking VIFs"
   ]
  },
  {
   "cell_type": "code",
   "execution_count": 659,
   "metadata": {},
   "outputs": [],
   "source": [
    "from statsmodels.stats.outliers_influence import variance_inflation_factor"
   ]
  },
  {
   "cell_type": "code",
   "execution_count": 660,
   "metadata": {},
   "outputs": [
    {
     "data": {
      "text/html": [
       "<div>\n",
       "<style scoped>\n",
       "    .dataframe tbody tr th:only-of-type {\n",
       "        vertical-align: middle;\n",
       "    }\n",
       "\n",
       "    .dataframe tbody tr th {\n",
       "        vertical-align: top;\n",
       "    }\n",
       "\n",
       "    .dataframe thead th {\n",
       "        text-align: right;\n",
       "    }\n",
       "</style>\n",
       "<table border=\"1\" class=\"dataframe\">\n",
       "  <thead>\n",
       "    <tr style=\"text-align: right;\">\n",
       "      <th></th>\n",
       "      <th>Feature</th>\n",
       "      <th>VIF</th>\n",
       "    </tr>\n",
       "  </thead>\n",
       "  <tbody>\n",
       "    <tr>\n",
       "      <th>3</th>\n",
       "      <td>Lead_Origin_Landing Page Submission</td>\n",
       "      <td>4.25</td>\n",
       "    </tr>\n",
       "    <tr>\n",
       "      <th>14</th>\n",
       "      <td>What_is_your_current_occupation_Unemployed</td>\n",
       "      <td>2.90</td>\n",
       "    </tr>\n",
       "    <tr>\n",
       "      <th>8</th>\n",
       "      <td>Last_Activity_Email Opened</td>\n",
       "      <td>2.63</td>\n",
       "    </tr>\n",
       "    <tr>\n",
       "      <th>11</th>\n",
       "      <td>Last_Activity_SMS Sent</td>\n",
       "      <td>2.56</td>\n",
       "    </tr>\n",
       "    <tr>\n",
       "      <th>12</th>\n",
       "      <td>Specialization_Other</td>\n",
       "      <td>2.51</td>\n",
       "    </tr>\n",
       "    <tr>\n",
       "      <th>2</th>\n",
       "      <td>A free copy of Mastering The Interview</td>\n",
       "      <td>2.18</td>\n",
       "    </tr>\n",
       "    <tr>\n",
       "      <th>5</th>\n",
       "      <td>Lead_Source_Olark Chat</td>\n",
       "      <td>1.91</td>\n",
       "    </tr>\n",
       "    <tr>\n",
       "      <th>4</th>\n",
       "      <td>Lead_Origin_Lead Add Form</td>\n",
       "      <td>1.85</td>\n",
       "    </tr>\n",
       "    <tr>\n",
       "      <th>15</th>\n",
       "      <td>What_is_your_current_occupation_Working Profes...</td>\n",
       "      <td>1.38</td>\n",
       "    </tr>\n",
       "    <tr>\n",
       "      <th>6</th>\n",
       "      <td>Lead_Source_Welingak Website</td>\n",
       "      <td>1.37</td>\n",
       "    </tr>\n",
       "    <tr>\n",
       "      <th>1</th>\n",
       "      <td>Total Time Spent on Website</td>\n",
       "      <td>1.32</td>\n",
       "    </tr>\n",
       "    <tr>\n",
       "      <th>10</th>\n",
       "      <td>Last_Activity_Page Visited on Website</td>\n",
       "      <td>1.31</td>\n",
       "    </tr>\n",
       "    <tr>\n",
       "      <th>0</th>\n",
       "      <td>Do Not Email</td>\n",
       "      <td>1.20</td>\n",
       "    </tr>\n",
       "    <tr>\n",
       "      <th>7</th>\n",
       "      <td>Last_Activity_Email Link Clicked</td>\n",
       "      <td>1.12</td>\n",
       "    </tr>\n",
       "    <tr>\n",
       "      <th>9</th>\n",
       "      <td>Last_Activity_Other</td>\n",
       "      <td>1.11</td>\n",
       "    </tr>\n",
       "    <tr>\n",
       "      <th>13</th>\n",
       "      <td>What_is_your_current_occupation_Student</td>\n",
       "      <td>1.07</td>\n",
       "    </tr>\n",
       "  </tbody>\n",
       "</table>\n",
       "</div>"
      ],
      "text/plain": [
       "                                              Feature   VIF\n",
       "3                 Lead_Origin_Landing Page Submission  4.25\n",
       "14         What_is_your_current_occupation_Unemployed  2.90\n",
       "8                          Last_Activity_Email Opened  2.63\n",
       "11                             Last_Activity_SMS Sent  2.56\n",
       "12                               Specialization_Other  2.51\n",
       "2              A free copy of Mastering The Interview  2.18\n",
       "5                              Lead_Source_Olark Chat  1.91\n",
       "4                           Lead_Origin_Lead Add Form  1.85\n",
       "15  What_is_your_current_occupation_Working Profes...  1.38\n",
       "6                        Lead_Source_Welingak Website  1.37\n",
       "1                         Total Time Spent on Website  1.32\n",
       "10              Last_Activity_Page Visited on Website  1.31\n",
       "0                                        Do Not Email  1.20\n",
       "7                    Last_Activity_Email Link Clicked  1.12\n",
       "9                                 Last_Activity_Other  1.11\n",
       "13            What_is_your_current_occupation_Student  1.07"
      ]
     },
     "execution_count": 660,
     "metadata": {},
     "output_type": "execute_result"
    }
   ],
   "source": [
    "vif = pd.DataFrame()\n",
    "vif['Feature'] = col\n",
    "vif['VIF'] = [variance_inflation_factor(x_train[col].values, i) for i in range(len(col))]\n",
    "vif = vif.sort_values(by='VIF', ascending = False)\n",
    "vif['VIF'] = round(vif['VIF'],2)\n",
    "vif"
   ]
  },
  {
   "cell_type": "markdown",
   "metadata": {},
   "source": [
    "## Model 7"
   ]
  },
  {
   "cell_type": "code",
   "execution_count": 661,
   "metadata": {},
   "outputs": [],
   "source": [
    "# Dropping 'Lead_Origin_Landing Page Submission' as p-value is very high\n",
    "col= [ 'Do Not Email', 'Total Time Spent on Website',\n",
    "       'A free copy of Mastering The Interview',\n",
    "       'Lead_Origin_Lead Add Form',\n",
    "       'Lead_Source_Olark Chat','Lead_Source_Welingak Website', 'Last_Activity_Email Link Clicked',\n",
    "       'Last_Activity_Email Opened','Last_Activity_Other', 'Last_Activity_Page Visited on Website',\n",
    "       'Last_Activity_SMS Sent','Specialization_Other','What_is_your_current_occupation_Student',\n",
    "       'What_is_your_current_occupation_Unemployed',\n",
    "       'What_is_your_current_occupation_Working Professional']"
   ]
  },
  {
   "cell_type": "code",
   "execution_count": 664,
   "metadata": {},
   "outputs": [
    {
     "data": {
      "text/html": [
       "<table class=\"simpletable\">\n",
       "<caption>Generalized Linear Model Regression Results</caption>\n",
       "<tr>\n",
       "  <th>Dep. Variable:</th>       <td>Converted</td>    <th>  No. Observations:  </th>  <td>  6351</td> \n",
       "</tr>\n",
       "<tr>\n",
       "  <th>Model:</th>                  <td>GLM</td>       <th>  Df Residuals:      </th>  <td>  6335</td> \n",
       "</tr>\n",
       "<tr>\n",
       "  <th>Model Family:</th>        <td>Binomial</td>     <th>  Df Model:          </th>  <td>    15</td> \n",
       "</tr>\n",
       "<tr>\n",
       "  <th>Link Function:</th>         <td>logit</td>      <th>  Scale:             </th> <td>  1.0000</td>\n",
       "</tr>\n",
       "<tr>\n",
       "  <th>Method:</th>                <td>IRLS</td>       <th>  Log-Likelihood:    </th> <td> -2572.9</td>\n",
       "</tr>\n",
       "<tr>\n",
       "  <th>Date:</th>            <td>Sun, 06 Sep 2020</td> <th>  Deviance:          </th> <td>  5145.7</td>\n",
       "</tr>\n",
       "<tr>\n",
       "  <th>Time:</th>                <td>21:30:41</td>     <th>  Pearson chi2:      </th> <td>6.34e+03</td>\n",
       "</tr>\n",
       "<tr>\n",
       "  <th>No. Iterations:</th>          <td>7</td>        <th>                     </th>     <td> </td>   \n",
       "</tr>\n",
       "<tr>\n",
       "  <th>Covariance Type:</th>     <td>nonrobust</td>    <th>                     </th>     <td> </td>   \n",
       "</tr>\n",
       "</table>\n",
       "<table class=\"simpletable\">\n",
       "<tr>\n",
       "                            <td></td>                              <th>coef</th>     <th>std err</th>      <th>z</th>      <th>P>|z|</th>  <th>[0.025</th>    <th>0.975]</th>  \n",
       "</tr>\n",
       "<tr>\n",
       "  <th>const</th>                                                <td>   -3.1959</td> <td>    0.149</td> <td>  -21.471</td> <td> 0.000</td> <td>   -3.488</td> <td>   -2.904</td>\n",
       "</tr>\n",
       "<tr>\n",
       "  <th>Do Not Email</th>                                         <td>   -1.4658</td> <td>    0.184</td> <td>   -7.953</td> <td> 0.000</td> <td>   -1.827</td> <td>   -1.105</td>\n",
       "</tr>\n",
       "<tr>\n",
       "  <th>Total Time Spent on Website</th>                          <td>    1.1288</td> <td>    0.041</td> <td>   27.587</td> <td> 0.000</td> <td>    1.049</td> <td>    1.209</td>\n",
       "</tr>\n",
       "<tr>\n",
       "  <th>A free copy of Mastering The Interview</th>               <td>   -0.4295</td> <td>    0.086</td> <td>   -4.975</td> <td> 0.000</td> <td>   -0.599</td> <td>   -0.260</td>\n",
       "</tr>\n",
       "<tr>\n",
       "  <th>Lead_Origin_Lead Add Form</th>                            <td>    3.5015</td> <td>    0.223</td> <td>   15.692</td> <td> 0.000</td> <td>    3.064</td> <td>    3.939</td>\n",
       "</tr>\n",
       "<tr>\n",
       "  <th>Lead_Source_Olark Chat</th>                               <td>    1.4928</td> <td>    0.117</td> <td>   12.707</td> <td> 0.000</td> <td>    1.263</td> <td>    1.723</td>\n",
       "</tr>\n",
       "<tr>\n",
       "  <th>Lead_Source_Welingak Website</th>                         <td>    2.2721</td> <td>    0.765</td> <td>    2.970</td> <td> 0.003</td> <td>    0.772</td> <td>    3.772</td>\n",
       "</tr>\n",
       "<tr>\n",
       "  <th>Last_Activity_Email Link Clicked</th>                     <td>    0.8551</td> <td>    0.237</td> <td>    3.606</td> <td> 0.000</td> <td>    0.390</td> <td>    1.320</td>\n",
       "</tr>\n",
       "<tr>\n",
       "  <th>Last_Activity_Email Opened</th>                           <td>    1.3022</td> <td>    0.126</td> <td>   10.345</td> <td> 0.000</td> <td>    1.055</td> <td>    1.549</td>\n",
       "</tr>\n",
       "<tr>\n",
       "  <th>Last_Activity_Other</th>                                  <td>    2.0672</td> <td>    0.242</td> <td>    8.556</td> <td> 0.000</td> <td>    1.594</td> <td>    2.541</td>\n",
       "</tr>\n",
       "<tr>\n",
       "  <th>Last_Activity_Page Visited on Website</th>                <td>    0.8550</td> <td>    0.183</td> <td>    4.683</td> <td> 0.000</td> <td>    0.497</td> <td>    1.213</td>\n",
       "</tr>\n",
       "<tr>\n",
       "  <th>Last_Activity_SMS Sent</th>                               <td>    2.4249</td> <td>    0.129</td> <td>   18.856</td> <td> 0.000</td> <td>    2.173</td> <td>    2.677</td>\n",
       "</tr>\n",
       "<tr>\n",
       "  <th>Specialization_Other</th>                                 <td>   -0.4689</td> <td>    0.096</td> <td>   -4.876</td> <td> 0.000</td> <td>   -0.657</td> <td>   -0.280</td>\n",
       "</tr>\n",
       "<tr>\n",
       "  <th>What_is_your_current_occupation_Student</th>              <td>    1.3017</td> <td>    0.234</td> <td>    5.572</td> <td> 0.000</td> <td>    0.844</td> <td>    1.760</td>\n",
       "</tr>\n",
       "<tr>\n",
       "  <th>What_is_your_current_occupation_Unemployed</th>           <td>    1.1970</td> <td>    0.087</td> <td>   13.710</td> <td> 0.000</td> <td>    1.026</td> <td>    1.368</td>\n",
       "</tr>\n",
       "<tr>\n",
       "  <th>What_is_your_current_occupation_Working Professional</th> <td>    3.6056</td> <td>    0.202</td> <td>   17.825</td> <td> 0.000</td> <td>    3.209</td> <td>    4.002</td>\n",
       "</tr>\n",
       "</table>"
      ],
      "text/plain": [
       "<class 'statsmodels.iolib.summary.Summary'>\n",
       "\"\"\"\n",
       "                 Generalized Linear Model Regression Results                  \n",
       "==============================================================================\n",
       "Dep. Variable:              Converted   No. Observations:                 6351\n",
       "Model:                            GLM   Df Residuals:                     6335\n",
       "Model Family:                Binomial   Df Model:                           15\n",
       "Link Function:                  logit   Scale:                          1.0000\n",
       "Method:                          IRLS   Log-Likelihood:                -2572.9\n",
       "Date:                Sun, 06 Sep 2020   Deviance:                       5145.7\n",
       "Time:                        21:30:41   Pearson chi2:                 6.34e+03\n",
       "No. Iterations:                     7                                         \n",
       "Covariance Type:            nonrobust                                         \n",
       "========================================================================================================================\n",
       "                                                           coef    std err          z      P>|z|      [0.025      0.975]\n",
       "------------------------------------------------------------------------------------------------------------------------\n",
       "const                                                   -3.1959      0.149    -21.471      0.000      -3.488      -2.904\n",
       "Do Not Email                                            -1.4658      0.184     -7.953      0.000      -1.827      -1.105\n",
       "Total Time Spent on Website                              1.1288      0.041     27.587      0.000       1.049       1.209\n",
       "A free copy of Mastering The Interview                  -0.4295      0.086     -4.975      0.000      -0.599      -0.260\n",
       "Lead_Origin_Lead Add Form                                3.5015      0.223     15.692      0.000       3.064       3.939\n",
       "Lead_Source_Olark Chat                                   1.4928      0.117     12.707      0.000       1.263       1.723\n",
       "Lead_Source_Welingak Website                             2.2721      0.765      2.970      0.003       0.772       3.772\n",
       "Last_Activity_Email Link Clicked                         0.8551      0.237      3.606      0.000       0.390       1.320\n",
       "Last_Activity_Email Opened                               1.3022      0.126     10.345      0.000       1.055       1.549\n",
       "Last_Activity_Other                                      2.0672      0.242      8.556      0.000       1.594       2.541\n",
       "Last_Activity_Page Visited on Website                    0.8550      0.183      4.683      0.000       0.497       1.213\n",
       "Last_Activity_SMS Sent                                   2.4249      0.129     18.856      0.000       2.173       2.677\n",
       "Specialization_Other                                    -0.4689      0.096     -4.876      0.000      -0.657      -0.280\n",
       "What_is_your_current_occupation_Student                  1.3017      0.234      5.572      0.000       0.844       1.760\n",
       "What_is_your_current_occupation_Unemployed               1.1970      0.087     13.710      0.000       1.026       1.368\n",
       "What_is_your_current_occupation_Working Professional     3.6056      0.202     17.825      0.000       3.209       4.002\n",
       "========================================================================================================================\n",
       "\"\"\""
      ]
     },
     "execution_count": 664,
     "metadata": {},
     "output_type": "execute_result"
    }
   ],
   "source": [
    "x_train_sm = sm.add_constant(x_train[col])\n",
    "model7=sm.GLM(y_train, x_train_sm, family=sm.families.Binomial()).fit()\n",
    "model7.summary()"
   ]
  },
  {
   "cell_type": "code",
   "execution_count": 665,
   "metadata": {},
   "outputs": [
    {
     "data": {
      "text/html": [
       "<div>\n",
       "<style scoped>\n",
       "    .dataframe tbody tr th:only-of-type {\n",
       "        vertical-align: middle;\n",
       "    }\n",
       "\n",
       "    .dataframe tbody tr th {\n",
       "        vertical-align: top;\n",
       "    }\n",
       "\n",
       "    .dataframe thead th {\n",
       "        text-align: right;\n",
       "    }\n",
       "</style>\n",
       "<table border=\"1\" class=\"dataframe\">\n",
       "  <thead>\n",
       "    <tr style=\"text-align: right;\">\n",
       "      <th></th>\n",
       "      <th>Feature</th>\n",
       "      <th>VIF</th>\n",
       "    </tr>\n",
       "  </thead>\n",
       "  <tbody>\n",
       "    <tr>\n",
       "      <th>13</th>\n",
       "      <td>What_is_your_current_occupation_Unemployed</td>\n",
       "      <td>2.71</td>\n",
       "    </tr>\n",
       "    <tr>\n",
       "      <th>11</th>\n",
       "      <td>Specialization_Other</td>\n",
       "      <td>2.25</td>\n",
       "    </tr>\n",
       "    <tr>\n",
       "      <th>10</th>\n",
       "      <td>Last_Activity_SMS Sent</td>\n",
       "      <td>2.09</td>\n",
       "    </tr>\n",
       "    <tr>\n",
       "      <th>7</th>\n",
       "      <td>Last_Activity_Email Opened</td>\n",
       "      <td>2.07</td>\n",
       "    </tr>\n",
       "    <tr>\n",
       "      <th>4</th>\n",
       "      <td>Lead_Source_Olark Chat</td>\n",
       "      <td>1.88</td>\n",
       "    </tr>\n",
       "    <tr>\n",
       "      <th>2</th>\n",
       "      <td>A free copy of Mastering The Interview</td>\n",
       "      <td>1.77</td>\n",
       "    </tr>\n",
       "    <tr>\n",
       "      <th>3</th>\n",
       "      <td>Lead_Origin_Lead Add Form</td>\n",
       "      <td>1.68</td>\n",
       "    </tr>\n",
       "    <tr>\n",
       "      <th>14</th>\n",
       "      <td>What_is_your_current_occupation_Working Profes...</td>\n",
       "      <td>1.36</td>\n",
       "    </tr>\n",
       "    <tr>\n",
       "      <th>5</th>\n",
       "      <td>Lead_Source_Welingak Website</td>\n",
       "      <td>1.36</td>\n",
       "    </tr>\n",
       "    <tr>\n",
       "      <th>1</th>\n",
       "      <td>Total Time Spent on Website</td>\n",
       "      <td>1.31</td>\n",
       "    </tr>\n",
       "    <tr>\n",
       "      <th>9</th>\n",
       "      <td>Last_Activity_Page Visited on Website</td>\n",
       "      <td>1.20</td>\n",
       "    </tr>\n",
       "    <tr>\n",
       "      <th>0</th>\n",
       "      <td>Do Not Email</td>\n",
       "      <td>1.13</td>\n",
       "    </tr>\n",
       "    <tr>\n",
       "      <th>8</th>\n",
       "      <td>Last_Activity_Other</td>\n",
       "      <td>1.09</td>\n",
       "    </tr>\n",
       "    <tr>\n",
       "      <th>6</th>\n",
       "      <td>Last_Activity_Email Link Clicked</td>\n",
       "      <td>1.08</td>\n",
       "    </tr>\n",
       "    <tr>\n",
       "      <th>12</th>\n",
       "      <td>What_is_your_current_occupation_Student</td>\n",
       "      <td>1.06</td>\n",
       "    </tr>\n",
       "  </tbody>\n",
       "</table>\n",
       "</div>"
      ],
      "text/plain": [
       "                                              Feature   VIF\n",
       "13         What_is_your_current_occupation_Unemployed  2.71\n",
       "11                               Specialization_Other  2.25\n",
       "10                             Last_Activity_SMS Sent  2.09\n",
       "7                          Last_Activity_Email Opened  2.07\n",
       "4                              Lead_Source_Olark Chat  1.88\n",
       "2              A free copy of Mastering The Interview  1.77\n",
       "3                           Lead_Origin_Lead Add Form  1.68\n",
       "14  What_is_your_current_occupation_Working Profes...  1.36\n",
       "5                        Lead_Source_Welingak Website  1.36\n",
       "1                         Total Time Spent on Website  1.31\n",
       "9               Last_Activity_Page Visited on Website  1.20\n",
       "0                                        Do Not Email  1.13\n",
       "8                                 Last_Activity_Other  1.09\n",
       "6                    Last_Activity_Email Link Clicked  1.08\n",
       "12            What_is_your_current_occupation_Student  1.06"
      ]
     },
     "execution_count": 665,
     "metadata": {},
     "output_type": "execute_result"
    }
   ],
   "source": [
    "# Checking VIFs\n",
    "vif = pd.DataFrame()\n",
    "vif['Feature'] = col\n",
    "vif['VIF'] = [variance_inflation_factor(x_train[col].values, i) for i in range(len(col))]\n",
    "vif = vif.sort_values(by='VIF', ascending = False)\n",
    "vif['VIF'] = round(vif['VIF'],2)\n",
    "vif"
   ]
  },
  {
   "cell_type": "markdown",
   "metadata": {},
   "source": [
    "#### P-Value and VIFs are fine for the model"
   ]
  },
  {
   "cell_type": "markdown",
   "metadata": {},
   "source": [
    "### Prediction on the model"
   ]
  },
  {
   "cell_type": "code",
   "execution_count": 666,
   "metadata": {},
   "outputs": [
    {
     "data": {
      "text/plain": [
       "3009    0.075573\n",
       "1012    0.105779\n",
       "9226    0.609864\n",
       "4750    0.747261\n",
       "7987    0.937236\n",
       "dtype: float64"
      ]
     },
     "execution_count": 666,
     "metadata": {},
     "output_type": "execute_result"
    }
   ],
   "source": [
    "# Predicting using the final model\n",
    "y_train_pred = model7.predict(x_train_sm)\n",
    "y_train_pred.head()"
   ]
  },
  {
   "cell_type": "code",
   "execution_count": 667,
   "metadata": {},
   "outputs": [
    {
     "data": {
      "text/plain": [
       "array([0.07557283, 0.10577907, 0.60986445, ..., 0.92096203, 0.34425038,\n",
       "       0.42597684])"
      ]
     },
     "execution_count": 667,
     "metadata": {},
     "output_type": "execute_result"
    }
   ],
   "source": [
    "y_train_pred = y_train_pred.values.reshape(-1)\n",
    "y_train_pred"
   ]
  },
  {
   "cell_type": "code",
   "execution_count": 668,
   "metadata": {},
   "outputs": [
    {
     "data": {
      "text/html": [
       "<div>\n",
       "<style scoped>\n",
       "    .dataframe tbody tr th:only-of-type {\n",
       "        vertical-align: middle;\n",
       "    }\n",
       "\n",
       "    .dataframe tbody tr th {\n",
       "        vertical-align: top;\n",
       "    }\n",
       "\n",
       "    .dataframe thead th {\n",
       "        text-align: right;\n",
       "    }\n",
       "</style>\n",
       "<table border=\"1\" class=\"dataframe\">\n",
       "  <thead>\n",
       "    <tr style=\"text-align: right;\">\n",
       "      <th></th>\n",
       "      <th>Converted</th>\n",
       "      <th>Convert_Prob</th>\n",
       "      <th>Prospect ID</th>\n",
       "    </tr>\n",
       "  </thead>\n",
       "  <tbody>\n",
       "    <tr>\n",
       "      <th>3009</th>\n",
       "      <td>0</td>\n",
       "      <td>0.075573</td>\n",
       "      <td>42a4d521-df88-4b5a-b198-50594a407a2d</td>\n",
       "    </tr>\n",
       "    <tr>\n",
       "      <th>1012</th>\n",
       "      <td>0</td>\n",
       "      <td>0.105779</td>\n",
       "      <td>4594be86-3b2e-4b55-866b-5a4b05ffd0f6</td>\n",
       "    </tr>\n",
       "    <tr>\n",
       "      <th>9226</th>\n",
       "      <td>0</td>\n",
       "      <td>0.609864</td>\n",
       "      <td>c3bb1471-53d5-4244-b2e5-4bbb543835c1</td>\n",
       "    </tr>\n",
       "    <tr>\n",
       "      <th>4750</th>\n",
       "      <td>1</td>\n",
       "      <td>0.747261</td>\n",
       "      <td>9bce5fbc-8d57-4dc9-8f82-fd11d94d9969</td>\n",
       "    </tr>\n",
       "    <tr>\n",
       "      <th>7987</th>\n",
       "      <td>1</td>\n",
       "      <td>0.937236</td>\n",
       "      <td>b0bfbc32-bd4a-4376-a829-5318bc0e9547</td>\n",
       "    </tr>\n",
       "  </tbody>\n",
       "</table>\n",
       "</div>"
      ],
      "text/plain": [
       "      Converted  Convert_Prob                           Prospect ID\n",
       "3009          0      0.075573  42a4d521-df88-4b5a-b198-50594a407a2d\n",
       "1012          0      0.105779  4594be86-3b2e-4b55-866b-5a4b05ffd0f6\n",
       "9226          0      0.609864  c3bb1471-53d5-4244-b2e5-4bbb543835c1\n",
       "4750          1      0.747261  9bce5fbc-8d57-4dc9-8f82-fd11d94d9969\n",
       "7987          1      0.937236  b0bfbc32-bd4a-4376-a829-5318bc0e9547"
      ]
     },
     "execution_count": 668,
     "metadata": {},
     "output_type": "execute_result"
    }
   ],
   "source": [
    "# Creating final predcited Dataframe\n",
    "y_train_pred_final = pd.DataFrame({'Converted':y_train.values, 'Convert_Prob':y_train_pred,'Prospect ID':df_train['Prospect ID']})\n",
    "y_train_pred_final.head()"
   ]
  },
  {
   "cell_type": "code",
   "execution_count": 669,
   "metadata": {},
   "outputs": [],
   "source": [
    "# taking threshold = 0.5 for conversion\n",
    "y_train_pred_final['Predicted'] = y_train_pred_final['Convert_Prob'].map(lambda x: 1 if x > .5 else 0)"
   ]
  },
  {
   "cell_type": "code",
   "execution_count": 670,
   "metadata": {},
   "outputs": [
    {
     "data": {
      "text/html": [
       "<div>\n",
       "<style scoped>\n",
       "    .dataframe tbody tr th:only-of-type {\n",
       "        vertical-align: middle;\n",
       "    }\n",
       "\n",
       "    .dataframe tbody tr th {\n",
       "        vertical-align: top;\n",
       "    }\n",
       "\n",
       "    .dataframe thead th {\n",
       "        text-align: right;\n",
       "    }\n",
       "</style>\n",
       "<table border=\"1\" class=\"dataframe\">\n",
       "  <thead>\n",
       "    <tr style=\"text-align: right;\">\n",
       "      <th></th>\n",
       "      <th>Converted</th>\n",
       "      <th>Convert_Prob</th>\n",
       "      <th>Prospect ID</th>\n",
       "      <th>Predicted</th>\n",
       "    </tr>\n",
       "  </thead>\n",
       "  <tbody>\n",
       "    <tr>\n",
       "      <th>3009</th>\n",
       "      <td>0</td>\n",
       "      <td>0.075573</td>\n",
       "      <td>42a4d521-df88-4b5a-b198-50594a407a2d</td>\n",
       "      <td>0</td>\n",
       "    </tr>\n",
       "    <tr>\n",
       "      <th>1012</th>\n",
       "      <td>0</td>\n",
       "      <td>0.105779</td>\n",
       "      <td>4594be86-3b2e-4b55-866b-5a4b05ffd0f6</td>\n",
       "      <td>0</td>\n",
       "    </tr>\n",
       "    <tr>\n",
       "      <th>9226</th>\n",
       "      <td>0</td>\n",
       "      <td>0.609864</td>\n",
       "      <td>c3bb1471-53d5-4244-b2e5-4bbb543835c1</td>\n",
       "      <td>1</td>\n",
       "    </tr>\n",
       "    <tr>\n",
       "      <th>4750</th>\n",
       "      <td>1</td>\n",
       "      <td>0.747261</td>\n",
       "      <td>9bce5fbc-8d57-4dc9-8f82-fd11d94d9969</td>\n",
       "      <td>1</td>\n",
       "    </tr>\n",
       "    <tr>\n",
       "      <th>7987</th>\n",
       "      <td>1</td>\n",
       "      <td>0.937236</td>\n",
       "      <td>b0bfbc32-bd4a-4376-a829-5318bc0e9547</td>\n",
       "      <td>1</td>\n",
       "    </tr>\n",
       "  </tbody>\n",
       "</table>\n",
       "</div>"
      ],
      "text/plain": [
       "      Converted  Convert_Prob                           Prospect ID  Predicted\n",
       "3009          0      0.075573  42a4d521-df88-4b5a-b198-50594a407a2d          0\n",
       "1012          0      0.105779  4594be86-3b2e-4b55-866b-5a4b05ffd0f6          0\n",
       "9226          0      0.609864  c3bb1471-53d5-4244-b2e5-4bbb543835c1          1\n",
       "4750          1      0.747261  9bce5fbc-8d57-4dc9-8f82-fd11d94d9969          1\n",
       "7987          1      0.937236  b0bfbc32-bd4a-4376-a829-5318bc0e9547          1"
      ]
     },
     "execution_count": 670,
     "metadata": {},
     "output_type": "execute_result"
    }
   ],
   "source": [
    "y_train_pred_final.head()"
   ]
  },
  {
   "cell_type": "markdown",
   "metadata": {},
   "source": [
    "### Adding Score to the y_train_pred_final"
   ]
  },
  {
   "cell_type": "code",
   "execution_count": 671,
   "metadata": {},
   "outputs": [],
   "source": [
    "y_train_pred_final['Score'] = round(y_train_pred_final['Convert_Prob']*100,2)"
   ]
  },
  {
   "cell_type": "code",
   "execution_count": 672,
   "metadata": {},
   "outputs": [
    {
     "data": {
      "text/html": [
       "<div>\n",
       "<style scoped>\n",
       "    .dataframe tbody tr th:only-of-type {\n",
       "        vertical-align: middle;\n",
       "    }\n",
       "\n",
       "    .dataframe tbody tr th {\n",
       "        vertical-align: top;\n",
       "    }\n",
       "\n",
       "    .dataframe thead th {\n",
       "        text-align: right;\n",
       "    }\n",
       "</style>\n",
       "<table border=\"1\" class=\"dataframe\">\n",
       "  <thead>\n",
       "    <tr style=\"text-align: right;\">\n",
       "      <th></th>\n",
       "      <th>Converted</th>\n",
       "      <th>Convert_Prob</th>\n",
       "      <th>Prospect ID</th>\n",
       "      <th>Predicted</th>\n",
       "      <th>Score</th>\n",
       "    </tr>\n",
       "  </thead>\n",
       "  <tbody>\n",
       "    <tr>\n",
       "      <th>3009</th>\n",
       "      <td>0</td>\n",
       "      <td>0.075573</td>\n",
       "      <td>42a4d521-df88-4b5a-b198-50594a407a2d</td>\n",
       "      <td>0</td>\n",
       "      <td>7.56</td>\n",
       "    </tr>\n",
       "    <tr>\n",
       "      <th>1012</th>\n",
       "      <td>0</td>\n",
       "      <td>0.105779</td>\n",
       "      <td>4594be86-3b2e-4b55-866b-5a4b05ffd0f6</td>\n",
       "      <td>0</td>\n",
       "      <td>10.58</td>\n",
       "    </tr>\n",
       "    <tr>\n",
       "      <th>9226</th>\n",
       "      <td>0</td>\n",
       "      <td>0.609864</td>\n",
       "      <td>c3bb1471-53d5-4244-b2e5-4bbb543835c1</td>\n",
       "      <td>1</td>\n",
       "      <td>60.99</td>\n",
       "    </tr>\n",
       "    <tr>\n",
       "      <th>4750</th>\n",
       "      <td>1</td>\n",
       "      <td>0.747261</td>\n",
       "      <td>9bce5fbc-8d57-4dc9-8f82-fd11d94d9969</td>\n",
       "      <td>1</td>\n",
       "      <td>74.73</td>\n",
       "    </tr>\n",
       "    <tr>\n",
       "      <th>7987</th>\n",
       "      <td>1</td>\n",
       "      <td>0.937236</td>\n",
       "      <td>b0bfbc32-bd4a-4376-a829-5318bc0e9547</td>\n",
       "      <td>1</td>\n",
       "      <td>93.72</td>\n",
       "    </tr>\n",
       "  </tbody>\n",
       "</table>\n",
       "</div>"
      ],
      "text/plain": [
       "      Converted  Convert_Prob                           Prospect ID  \\\n",
       "3009          0      0.075573  42a4d521-df88-4b5a-b198-50594a407a2d   \n",
       "1012          0      0.105779  4594be86-3b2e-4b55-866b-5a4b05ffd0f6   \n",
       "9226          0      0.609864  c3bb1471-53d5-4244-b2e5-4bbb543835c1   \n",
       "4750          1      0.747261  9bce5fbc-8d57-4dc9-8f82-fd11d94d9969   \n",
       "7987          1      0.937236  b0bfbc32-bd4a-4376-a829-5318bc0e9547   \n",
       "\n",
       "      Predicted  Score  \n",
       "3009          0   7.56  \n",
       "1012          0  10.58  \n",
       "9226          1  60.99  \n",
       "4750          1  74.73  \n",
       "7987          1  93.72  "
      ]
     },
     "execution_count": 672,
     "metadata": {},
     "output_type": "execute_result"
    }
   ],
   "source": [
    "y_train_pred_final.head()"
   ]
  },
  {
   "cell_type": "markdown",
   "metadata": {},
   "source": [
    "## Creating Confusion Matrix"
   ]
  },
  {
   "cell_type": "code",
   "execution_count": 673,
   "metadata": {},
   "outputs": [],
   "source": [
    "from sklearn.metrics import confusion_matrix, accuracy_score"
   ]
  },
  {
   "cell_type": "code",
   "execution_count": 674,
   "metadata": {},
   "outputs": [
    {
     "data": {
      "text/plain": [
       "array([[3453,  452],\n",
       "       [ 735, 1711]], dtype=int64)"
      ]
     },
     "execution_count": 674,
     "metadata": {},
     "output_type": "execute_result"
    }
   ],
   "source": [
    "confusion = confusion_matrix(y_train_pred_final['Converted'],y_train_pred_final['Predicted'])\n",
    "confusion"
   ]
  },
  {
   "cell_type": "code",
   "execution_count": 675,
   "metadata": {},
   "outputs": [
    {
     "data": {
      "text/plain": [
       "0.8131002991654858"
      ]
     },
     "execution_count": 675,
     "metadata": {},
     "output_type": "execute_result"
    }
   ],
   "source": [
    "accuracy_score(y_train_pred_final['Converted'],y_train_pred_final['Predicted'])"
   ]
  },
  {
   "cell_type": "markdown",
   "metadata": {},
   "source": [
    "### Other metrics"
   ]
  },
  {
   "cell_type": "code",
   "execution_count": 676,
   "metadata": {},
   "outputs": [],
   "source": [
    "from sklearn import metrics"
   ]
  },
  {
   "cell_type": "code",
   "execution_count": 677,
   "metadata": {},
   "outputs": [],
   "source": [
    "TP = confusion[1,1]   # True Positive\n",
    "TN = confusion[0,0]   # True Negative\n",
    "FP = confusion[0,1]   # False Positivea\n",
    "FN = confusion[1,0]   # False Negative"
   ]
  },
  {
   "cell_type": "code",
   "execution_count": 678,
   "metadata": {},
   "outputs": [
    {
     "data": {
      "text/plain": [
       "0.6995094031071136"
      ]
     },
     "execution_count": 678,
     "metadata": {},
     "output_type": "execute_result"
    }
   ],
   "source": [
    "# Check the Sensitivity of the model(Recall)\n",
    "TP/(TP+FN)   # TP/Total Positive"
   ]
  },
  {
   "cell_type": "code",
   "execution_count": 679,
   "metadata": {},
   "outputs": [
    {
     "data": {
      "text/plain": [
       "0.8842509603072983"
      ]
     },
     "execution_count": 679,
     "metadata": {},
     "output_type": "execute_result"
    }
   ],
   "source": [
    "# Check the Specifity\n",
    "TN/(TN+FP)"
   ]
  },
  {
   "cell_type": "code",
   "execution_count": 680,
   "metadata": {},
   "outputs": [
    {
     "data": {
      "text/plain": [
       "0.11574903969270166"
      ]
     },
     "execution_count": 680,
     "metadata": {},
     "output_type": "execute_result"
    }
   ],
   "source": [
    "# Calculate Fasle Positive Rate(FP divided by Total True Negative)\n",
    "FP/(FP+TN)"
   ]
  },
  {
   "cell_type": "code",
   "execution_count": 681,
   "metadata": {},
   "outputs": [
    {
     "data": {
      "text/plain": [
       "0.7910309754969949"
      ]
     },
     "execution_count": 681,
     "metadata": {},
     "output_type": "execute_result"
    }
   ],
   "source": [
    "# Positive Predictive Rate(Precision)\n",
    "TP/(TP+FP)"
   ]
  },
  {
   "cell_type": "code",
   "execution_count": 682,
   "metadata": {},
   "outputs": [
    {
     "data": {
      "text/plain": [
       "0.8244985673352435"
      ]
     },
     "execution_count": 682,
     "metadata": {},
     "output_type": "execute_result"
    }
   ],
   "source": [
    "# Negative Predictice Value\n",
    "TN/(TN+FN)"
   ]
  },
  {
   "cell_type": "markdown",
   "metadata": {},
   "source": [
    "## Plotting ROC Curve\n",
    "\n",
    "Trade off between sensitivity and specifity"
   ]
  },
  {
   "cell_type": "code",
   "execution_count": 683,
   "metadata": {},
   "outputs": [],
   "source": [
    "def draw_roc( actual, probs ):\n",
    "    fpr, tpr, thresholds = metrics.roc_curve( actual, probs,\n",
    "                                              drop_intermediate = False )\n",
    "    auc_score = metrics.roc_auc_score( actual, probs )\n",
    "    plt.figure(figsize=(5, 5))\n",
    "    plt.plot( fpr, tpr, label='ROC curve (area = %0.2f)' % auc_score )\n",
    "    plt.plot([0, 1], [0, 1], 'k--')\n",
    "    plt.xlim([0.0, 1.0])\n",
    "    plt.ylim([0.0, 1.05])\n",
    "    plt.xlabel('False Positive Rate or [1 - True Negative Rate]')\n",
    "    plt.ylabel('True Positive Rate')\n",
    "    plt.title('Receiver operating characteristic example')\n",
    "    plt.legend(loc=\"lower right\")\n",
    "    plt.show()\n",
    "\n",
    "    return None"
   ]
  },
  {
   "cell_type": "code",
   "execution_count": 684,
   "metadata": {},
   "outputs": [
    {
     "data": {
      "image/png": "[encoded data removed]",
      "text/plain": [
       "<Figure size 360x360 with 1 Axes>"
      ]
     },
     "metadata": {
      "needs_background": "light"
     },
     "output_type": "display_data"
    }
   ],
   "source": [
    "# Draw ROC\n",
    "draw_roc(y_train_pred_final['Converted'],y_train_pred_final['Convert_Prob'])"
   ]
  },
  {
   "cell_type": "markdown",
   "metadata": {},
   "source": [
    "Area under the curve is greater than .5 i.e .89. So the model seems to be good classifier. Also the curve stays far away from diagonal line(toward the top-left corner)."
   ]
  },
  {
   "cell_type": "markdown",
   "metadata": {},
   "source": [
    "### Finding optimal Cutoff Point\n",
    "\n",
    "Balance between sentivity and specifity"
   ]
  },
  {
   "cell_type": "code",
   "execution_count": 685,
   "metadata": {},
   "outputs": [
    {
     "data": {
      "text/html": [
       "<div>\n",
       "<style scoped>\n",
       "    .dataframe tbody tr th:only-of-type {\n",
       "        vertical-align: middle;\n",
       "    }\n",
       "\n",
       "    .dataframe tbody tr th {\n",
       "        vertical-align: top;\n",
       "    }\n",
       "\n",
       "    .dataframe thead th {\n",
       "        text-align: right;\n",
       "    }\n",
       "</style>\n",
       "<table border=\"1\" class=\"dataframe\">\n",
       "  <thead>\n",
       "    <tr style=\"text-align: right;\">\n",
       "      <th></th>\n",
       "      <th>Converted</th>\n",
       "      <th>Convert_Prob</th>\n",
       "      <th>Prospect ID</th>\n",
       "      <th>Predicted</th>\n",
       "      <th>Score</th>\n",
       "    </tr>\n",
       "  </thead>\n",
       "  <tbody>\n",
       "    <tr>\n",
       "      <th>3009</th>\n",
       "      <td>0</td>\n",
       "      <td>0.075573</td>\n",
       "      <td>42a4d521-df88-4b5a-b198-50594a407a2d</td>\n",
       "      <td>0</td>\n",
       "      <td>7.56</td>\n",
       "    </tr>\n",
       "    <tr>\n",
       "      <th>1012</th>\n",
       "      <td>0</td>\n",
       "      <td>0.105779</td>\n",
       "      <td>4594be86-3b2e-4b55-866b-5a4b05ffd0f6</td>\n",
       "      <td>0</td>\n",
       "      <td>10.58</td>\n",
       "    </tr>\n",
       "    <tr>\n",
       "      <th>9226</th>\n",
       "      <td>0</td>\n",
       "      <td>0.609864</td>\n",
       "      <td>c3bb1471-53d5-4244-b2e5-4bbb543835c1</td>\n",
       "      <td>1</td>\n",
       "      <td>60.99</td>\n",
       "    </tr>\n",
       "    <tr>\n",
       "      <th>4750</th>\n",
       "      <td>1</td>\n",
       "      <td>0.747261</td>\n",
       "      <td>9bce5fbc-8d57-4dc9-8f82-fd11d94d9969</td>\n",
       "      <td>1</td>\n",
       "      <td>74.73</td>\n",
       "    </tr>\n",
       "    <tr>\n",
       "      <th>7987</th>\n",
       "      <td>1</td>\n",
       "      <td>0.937236</td>\n",
       "      <td>b0bfbc32-bd4a-4376-a829-5318bc0e9547</td>\n",
       "      <td>1</td>\n",
       "      <td>93.72</td>\n",
       "    </tr>\n",
       "  </tbody>\n",
       "</table>\n",
       "</div>"
      ],
      "text/plain": [
       "      Converted  Convert_Prob                           Prospect ID  \\\n",
       "3009          0      0.075573  42a4d521-df88-4b5a-b198-50594a407a2d   \n",
       "1012          0      0.105779  4594be86-3b2e-4b55-866b-5a4b05ffd0f6   \n",
       "9226          0      0.609864  c3bb1471-53d5-4244-b2e5-4bbb543835c1   \n",
       "4750          1      0.747261  9bce5fbc-8d57-4dc9-8f82-fd11d94d9969   \n",
       "7987          1      0.937236  b0bfbc32-bd4a-4376-a829-5318bc0e9547   \n",
       "\n",
       "      Predicted  Score  \n",
       "3009          0   7.56  \n",
       "1012          0  10.58  \n",
       "9226          1  60.99  \n",
       "4750          1  74.73  \n",
       "7987          1  93.72  "
      ]
     },
     "execution_count": 685,
     "metadata": {},
     "output_type": "execute_result"
    }
   ],
   "source": [
    "y_train_pred_final.head()"
   ]
  },
  {
   "cell_type": "code",
   "execution_count": 686,
   "metadata": {},
   "outputs": [
    {
     "data": {
      "text/html": [
       "<div>\n",
       "<style scoped>\n",
       "    .dataframe tbody tr th:only-of-type {\n",
       "        vertical-align: middle;\n",
       "    }\n",
       "\n",
       "    .dataframe tbody tr th {\n",
       "        vertical-align: top;\n",
       "    }\n",
       "\n",
       "    .dataframe thead th {\n",
       "        text-align: right;\n",
       "    }\n",
       "</style>\n",
       "<table border=\"1\" class=\"dataframe\">\n",
       "  <thead>\n",
       "    <tr style=\"text-align: right;\">\n",
       "      <th></th>\n",
       "      <th>Converted</th>\n",
       "      <th>Convert_Prob</th>\n",
       "      <th>Prospect ID</th>\n",
       "      <th>Predicted</th>\n",
       "      <th>Score</th>\n",
       "      <th>0.0</th>\n",
       "      <th>0.1</th>\n",
       "      <th>0.2</th>\n",
       "      <th>0.3</th>\n",
       "      <th>0.4</th>\n",
       "      <th>0.5</th>\n",
       "      <th>0.6</th>\n",
       "      <th>0.7</th>\n",
       "      <th>0.8</th>\n",
       "      <th>0.9</th>\n",
       "    </tr>\n",
       "  </thead>\n",
       "  <tbody>\n",
       "    <tr>\n",
       "      <th>3009</th>\n",
       "      <td>0</td>\n",
       "      <td>0.075573</td>\n",
       "      <td>42a4d521-df88-4b5a-b198-50594a407a2d</td>\n",
       "      <td>0</td>\n",
       "      <td>7.56</td>\n",
       "      <td>1</td>\n",
       "      <td>0</td>\n",
       "      <td>0</td>\n",
       "      <td>0</td>\n",
       "      <td>0</td>\n",
       "      <td>0</td>\n",
       "      <td>0</td>\n",
       "      <td>0</td>\n",
       "      <td>0</td>\n",
       "      <td>0</td>\n",
       "    </tr>\n",
       "    <tr>\n",
       "      <th>1012</th>\n",
       "      <td>0</td>\n",
       "      <td>0.105779</td>\n",
       "      <td>4594be86-3b2e-4b55-866b-5a4b05ffd0f6</td>\n",
       "      <td>0</td>\n",
       "      <td>10.58</td>\n",
       "      <td>1</td>\n",
       "      <td>1</td>\n",
       "      <td>0</td>\n",
       "      <td>0</td>\n",
       "      <td>0</td>\n",
       "      <td>0</td>\n",
       "      <td>0</td>\n",
       "      <td>0</td>\n",
       "      <td>0</td>\n",
       "      <td>0</td>\n",
       "    </tr>\n",
       "    <tr>\n",
       "      <th>9226</th>\n",
       "      <td>0</td>\n",
       "      <td>0.609864</td>\n",
       "      <td>c3bb1471-53d5-4244-b2e5-4bbb543835c1</td>\n",
       "      <td>1</td>\n",
       "      <td>60.99</td>\n",
       "      <td>1</td>\n",
       "      <td>1</td>\n",
       "      <td>1</td>\n",
       "      <td>1</td>\n",
       "      <td>1</td>\n",
       "      <td>1</td>\n",
       "      <td>1</td>\n",
       "      <td>0</td>\n",
       "      <td>0</td>\n",
       "      <td>0</td>\n",
       "    </tr>\n",
       "    <tr>\n",
       "      <th>4750</th>\n",
       "      <td>1</td>\n",
       "      <td>0.747261</td>\n",
       "      <td>9bce5fbc-8d57-4dc9-8f82-fd11d94d9969</td>\n",
       "      <td>1</td>\n",
       "      <td>74.73</td>\n",
       "      <td>1</td>\n",
       "      <td>1</td>\n",
       "      <td>1</td>\n",
       "      <td>1</td>\n",
       "      <td>1</td>\n",
       "      <td>1</td>\n",
       "      <td>1</td>\n",
       "      <td>1</td>\n",
       "      <td>0</td>\n",
       "      <td>0</td>\n",
       "    </tr>\n",
       "    <tr>\n",
       "      <th>7987</th>\n",
       "      <td>1</td>\n",
       "      <td>0.937236</td>\n",
       "      <td>b0bfbc32-bd4a-4376-a829-5318bc0e9547</td>\n",
       "      <td>1</td>\n",
       "      <td>93.72</td>\n",
       "      <td>1</td>\n",
       "      <td>1</td>\n",
       "      <td>1</td>\n",
       "      <td>1</td>\n",
       "      <td>1</td>\n",
       "      <td>1</td>\n",
       "      <td>1</td>\n",
       "      <td>1</td>\n",
       "      <td>1</td>\n",
       "      <td>1</td>\n",
       "    </tr>\n",
       "  </tbody>\n",
       "</table>\n",
       "</div>"
      ],
      "text/plain": [
       "      Converted  Convert_Prob                           Prospect ID  \\\n",
       "3009          0      0.075573  42a4d521-df88-4b5a-b198-50594a407a2d   \n",
       "1012          0      0.105779  4594be86-3b2e-4b55-866b-5a4b05ffd0f6   \n",
       "9226          0      0.609864  c3bb1471-53d5-4244-b2e5-4bbb543835c1   \n",
       "4750          1      0.747261  9bce5fbc-8d57-4dc9-8f82-fd11d94d9969   \n",
       "7987          1      0.937236  b0bfbc32-bd4a-4376-a829-5318bc0e9547   \n",
       "\n",
       "      Predicted  Score  0.0  0.1  0.2  0.3  0.4  0.5  0.6  0.7  0.8  0.9  \n",
       "3009          0   7.56    1    0    0    0    0    0    0    0    0    0  \n",
       "1012          0  10.58    1    1    0    0    0    0    0    0    0    0  \n",
       "9226          1  60.99    1    1    1    1    1    1    1    0    0    0  \n",
       "4750          1  74.73    1    1    1    1    1    1    1    1    0    0  \n",
       "7987          1  93.72    1    1    1    1    1    1    1    1    1    1  "
      ]
     },
     "execution_count": 686,
     "metadata": {},
     "output_type": "execute_result"
    }
   ],
   "source": [
    "for i in range (0, 10):\n",
    "    j = i/10\n",
    "    y_train_pred_final[j] = y_train_pred_final['Convert_Prob'].map(lambda x : 1 if x > j else 0)\n",
    "y_train_pred_final.head()    "
   ]
  },
  {
   "cell_type": "code",
   "execution_count": 692,
   "metadata": {},
   "outputs": [
    {
     "name": "stdout",
     "output_type": "stream",
     "text": [
      "     prob      accu      sens      spec\n",
      "0.1   0.1  0.616596  0.978332  0.390013\n",
      "0.2   0.2  0.760038  0.923957  0.657362\n",
      "0.3   0.3  0.795780  0.870809  0.748784\n",
      "0.4   0.4  0.810896  0.772281  0.835083\n",
      "0.5   0.5  0.813100  0.699509  0.884251\n",
      "0.6   0.6  0.807589  0.636958  0.914469\n",
      "0.7   0.7  0.786648  0.531889  0.946223\n",
      "0.8   0.8  0.757361  0.422731  0.966965\n",
      "0.9   0.9  0.713431  0.279640  0.985147\n"
     ]
    }
   ],
   "source": [
    "# Calculate accuracy, sensitivity, specifity\n",
    "cut_off = pd.DataFrame(columns=['prob','accu','sens','spec'])\n",
    "cut_points = [0.1,0.2,0.3,0.4,0.5,0.6,0.7,0.8,0.9]\n",
    "for j in cut_points:\n",
    "    confusion = confusion_matrix(y_train_pred_final['Converted'],y_train_pred_final[j])\n",
    "    accu = (confusion[0,0]+confusion[1,1])/sum(sum(confusion))\n",
    "    sens = confusion[1,1]/(confusion[1,1]+confusion[1,0])\n",
    "    spec = confusion[0,0]/(confusion[0,0]+confusion[0,1])\n",
    "    cut_off.loc[j]=[j,accu,sens,spec]\n",
    "print(cut_off)"
   ]
  },
  {
   "cell_type": "code",
   "execution_count": 688,
   "metadata": {},
   "outputs": [
    {
     "data": {
      "image/png": "[encoded data removed]",
      "text/plain": [
       "<Figure size 432x288 with 1 Axes>"
      ]
     },
     "metadata": {
      "needs_background": "light"
     },
     "output_type": "display_data"
    }
   ],
   "source": [
    "cut_off.plot.line(x='prob', y=['accu','sens','spec'])\n",
    "plt.show()"
   ]
  },
  {
   "cell_type": "markdown",
   "metadata": {},
   "source": [
    "- By looking at the above graph the optimal cut-off or balanced point between all the three lines is just below .4\n",
    "- Let check how is the sensitivity for on this cut-off"
   ]
  },
  {
   "cell_type": "code",
   "execution_count": 154,
   "metadata": {},
   "outputs": [],
   "source": [
    "# Finally accuracy, sensitivity and specifity meet at around cut-off = .38\n",
    "# Adding final predicted to the model\n",
    "y_train_pred_final['final_predicted'] = y_train_pred_final['Convert_Prob'].map(lambda x : 1 if x > .37 else 0)"
   ]
  },
  {
   "cell_type": "code",
   "execution_count": 155,
   "metadata": {},
   "outputs": [
    {
     "data": {
      "text/html": [
       "<div>\n",
       "<style scoped>\n",
       "    .dataframe tbody tr th:only-of-type {\n",
       "        vertical-align: middle;\n",
       "    }\n",
       "\n",
       "    .dataframe tbody tr th {\n",
       "        vertical-align: top;\n",
       "    }\n",
       "\n",
       "    .dataframe thead th {\n",
       "        text-align: right;\n",
       "    }\n",
       "</style>\n",
       "<table border=\"1\" class=\"dataframe\">\n",
       "  <thead>\n",
       "    <tr style=\"text-align: right;\">\n",
       "      <th></th>\n",
       "      <th>Converted</th>\n",
       "      <th>Convert_Prob</th>\n",
       "      <th>Prospect ID</th>\n",
       "      <th>Predicted</th>\n",
       "      <th>Score</th>\n",
       "      <th>0.0</th>\n",
       "      <th>0.1</th>\n",
       "      <th>0.2</th>\n",
       "      <th>0.3</th>\n",
       "      <th>0.4</th>\n",
       "      <th>0.5</th>\n",
       "      <th>0.6</th>\n",
       "      <th>0.7</th>\n",
       "      <th>0.8</th>\n",
       "      <th>0.9</th>\n",
       "      <th>final_predicted</th>\n",
       "    </tr>\n",
       "  </thead>\n",
       "  <tbody>\n",
       "    <tr>\n",
       "      <th>3009</th>\n",
       "      <td>0</td>\n",
       "      <td>0.189901</td>\n",
       "      <td>42a4d521-df88-4b5a-b198-50594a407a2d</td>\n",
       "      <td>0</td>\n",
       "      <td>18.99</td>\n",
       "      <td>1</td>\n",
       "      <td>1</td>\n",
       "      <td>0</td>\n",
       "      <td>0</td>\n",
       "      <td>0</td>\n",
       "      <td>0</td>\n",
       "      <td>0</td>\n",
       "      <td>0</td>\n",
       "      <td>0</td>\n",
       "      <td>0</td>\n",
       "      <td>0</td>\n",
       "    </tr>\n",
       "    <tr>\n",
       "      <th>1012</th>\n",
       "      <td>0</td>\n",
       "      <td>0.086134</td>\n",
       "      <td>4594be86-3b2e-4b55-866b-5a4b05ffd0f6</td>\n",
       "      <td>0</td>\n",
       "      <td>8.61</td>\n",
       "      <td>1</td>\n",
       "      <td>0</td>\n",
       "      <td>0</td>\n",
       "      <td>0</td>\n",
       "      <td>0</td>\n",
       "      <td>0</td>\n",
       "      <td>0</td>\n",
       "      <td>0</td>\n",
       "      <td>0</td>\n",
       "      <td>0</td>\n",
       "      <td>0</td>\n",
       "    </tr>\n",
       "    <tr>\n",
       "      <th>9226</th>\n",
       "      <td>0</td>\n",
       "      <td>0.146806</td>\n",
       "      <td>c3bb1471-53d5-4244-b2e5-4bbb543835c1</td>\n",
       "      <td>0</td>\n",
       "      <td>14.68</td>\n",
       "      <td>1</td>\n",
       "      <td>1</td>\n",
       "      <td>0</td>\n",
       "      <td>0</td>\n",
       "      <td>0</td>\n",
       "      <td>0</td>\n",
       "      <td>0</td>\n",
       "      <td>0</td>\n",
       "      <td>0</td>\n",
       "      <td>0</td>\n",
       "      <td>0</td>\n",
       "    </tr>\n",
       "    <tr>\n",
       "      <th>4750</th>\n",
       "      <td>1</td>\n",
       "      <td>0.877634</td>\n",
       "      <td>9bce5fbc-8d57-4dc9-8f82-fd11d94d9969</td>\n",
       "      <td>1</td>\n",
       "      <td>87.76</td>\n",
       "      <td>1</td>\n",
       "      <td>1</td>\n",
       "      <td>1</td>\n",
       "      <td>1</td>\n",
       "      <td>1</td>\n",
       "      <td>1</td>\n",
       "      <td>1</td>\n",
       "      <td>1</td>\n",
       "      <td>1</td>\n",
       "      <td>0</td>\n",
       "      <td>1</td>\n",
       "    </tr>\n",
       "    <tr>\n",
       "      <th>7987</th>\n",
       "      <td>1</td>\n",
       "      <td>0.587635</td>\n",
       "      <td>b0bfbc32-bd4a-4376-a829-5318bc0e9547</td>\n",
       "      <td>1</td>\n",
       "      <td>58.76</td>\n",
       "      <td>1</td>\n",
       "      <td>1</td>\n",
       "      <td>1</td>\n",
       "      <td>1</td>\n",
       "      <td>1</td>\n",
       "      <td>1</td>\n",
       "      <td>0</td>\n",
       "      <td>0</td>\n",
       "      <td>0</td>\n",
       "      <td>0</td>\n",
       "      <td>1</td>\n",
       "    </tr>\n",
       "  </tbody>\n",
       "</table>\n",
       "</div>"
      ],
      "text/plain": [
       "      Converted  Convert_Prob                           Prospect ID  \\\n",
       "3009          0      0.189901  42a4d521-df88-4b5a-b198-50594a407a2d   \n",
       "1012          0      0.086134  4594be86-3b2e-4b55-866b-5a4b05ffd0f6   \n",
       "9226          0      0.146806  c3bb1471-53d5-4244-b2e5-4bbb543835c1   \n",
       "4750          1      0.877634  9bce5fbc-8d57-4dc9-8f82-fd11d94d9969   \n",
       "7987          1      0.587635  b0bfbc32-bd4a-4376-a829-5318bc0e9547   \n",
       "\n",
       "      Predicted  Score  0.0  0.1  0.2  0.3  0.4  0.5  0.6  0.7  0.8  0.9  \\\n",
       "3009          0  18.99    1    1    0    0    0    0    0    0    0    0   \n",
       "1012          0   8.61    1    0    0    0    0    0    0    0    0    0   \n",
       "9226          0  14.68    1    1    0    0    0    0    0    0    0    0   \n",
       "4750          1  87.76    1    1    1    1    1    1    1    1    1    0   \n",
       "7987          1  58.76    1    1    1    1    1    1    0    0    0    0   \n",
       "\n",
       "      final_predicted  \n",
       "3009                0  \n",
       "1012                0  \n",
       "9226                0  \n",
       "4750                1  \n",
       "7987                1  "
      ]
     },
     "execution_count": 155,
     "metadata": {},
     "output_type": "execute_result"
    }
   ],
   "source": [
    "y_train_pred_final.head()"
   ]
  },
  {
   "cell_type": "code",
   "execution_count": 156,
   "metadata": {},
   "outputs": [],
   "source": [
    "# Adding final predicted to the model\n",
    "confusion = confusion_matrix(y_train_pred_final['Converted'],y_train_pred_final['final_predicted'])"
   ]
  },
  {
   "cell_type": "code",
   "execution_count": 157,
   "metadata": {},
   "outputs": [],
   "source": [
    "TP = confusion[1,1]   # True Positive\n",
    "TN = confusion[0,0]   # True Negative\n",
    "FP = confusion[0,1]   # False Positivea\n",
    "FN = confusion[1,0]   # False Negative"
   ]
  },
  {
   "cell_type": "code",
   "execution_count": 158,
   "metadata": {},
   "outputs": [
    {
     "data": {
      "text/plain": [
       "0.809951188789167"
      ]
     },
     "execution_count": 158,
     "metadata": {},
     "output_type": "execute_result"
    }
   ],
   "source": [
    "accuracy_score(y_train_pred_final['Converted'],y_train_pred_final['final_predicted'])"
   ]
  },
  {
   "cell_type": "code",
   "execution_count": 159,
   "metadata": {},
   "outputs": [
    {
     "data": {
      "text/plain": [
       "80.05"
      ]
     },
     "execution_count": 159,
     "metadata": {},
     "output_type": "execute_result"
    }
   ],
   "source": [
    "# Check the Sensitivity of the model(Recall)\n",
    "round((100*TP/(TP+FN)),2)   # TP/Total Positive"
   ]
  },
  {
   "cell_type": "code",
   "execution_count": 160,
   "metadata": {},
   "outputs": [
    {
     "data": {
      "text/plain": [
       "0.8158770806658131"
      ]
     },
     "execution_count": 160,
     "metadata": {},
     "output_type": "execute_result"
    }
   ],
   "source": [
    "# Check the Specifity\n",
    "TN/(TN+FP)"
   ]
  },
  {
   "cell_type": "code",
   "execution_count": 161,
   "metadata": {},
   "outputs": [
    {
     "data": {
      "text/plain": [
       "0.18412291933418695"
      ]
     },
     "execution_count": 161,
     "metadata": {},
     "output_type": "execute_result"
    }
   ],
   "source": [
    "# Calculate Fasle Positive Rate(FP divided by Total True Negative)\n",
    "FP/(FP+TN)"
   ]
  },
  {
   "cell_type": "code",
   "execution_count": 162,
   "metadata": {},
   "outputs": [
    {
     "data": {
      "text/plain": [
       "0.73141576391483"
      ]
     },
     "execution_count": 162,
     "metadata": {},
     "output_type": "execute_result"
    }
   ],
   "source": [
    "# Positive Predictive Rate(Precision)\n",
    "TP/(TP+FP)"
   ]
  },
  {
   "cell_type": "code",
   "execution_count": 163,
   "metadata": {},
   "outputs": [
    {
     "data": {
      "text/plain": [
       "0.8671747414262384"
      ]
     },
     "execution_count": 163,
     "metadata": {},
     "output_type": "execute_result"
    }
   ],
   "source": [
    "# Negative Predictice Value\n",
    "TN/(TN+FN)"
   ]
  },
  {
   "cell_type": "markdown",
   "metadata": {},
   "source": [
    "# Making Prediction on Test data"
   ]
  },
  {
   "cell_type": "code",
   "execution_count": 164,
   "metadata": {},
   "outputs": [],
   "source": [
    "# Scaling of continuous variables\n",
    "num_vars = ['TotalVisits','Total Time Spent on Website','Page Views Per Visit']\n",
    "df_test[num_vars] = scaler.fit_transform(df_test[num_vars])"
   ]
  },
  {
   "cell_type": "code",
   "execution_count": 165,
   "metadata": {},
   "outputs": [
    {
     "data": {
      "text/html": [
       "<div>\n",
       "<style scoped>\n",
       "    .dataframe tbody tr th:only-of-type {\n",
       "        vertical-align: middle;\n",
       "    }\n",
       "\n",
       "    .dataframe tbody tr th {\n",
       "        vertical-align: top;\n",
       "    }\n",
       "\n",
       "    .dataframe thead th {\n",
       "        text-align: right;\n",
       "    }\n",
       "</style>\n",
       "<table border=\"1\" class=\"dataframe\">\n",
       "  <thead>\n",
       "    <tr style=\"text-align: right;\">\n",
       "      <th></th>\n",
       "      <th>Prospect ID</th>\n",
       "      <th>Do Not Email</th>\n",
       "      <th>Converted</th>\n",
       "      <th>TotalVisits</th>\n",
       "      <th>Total Time Spent on Website</th>\n",
       "      <th>Page Views Per Visit</th>\n",
       "      <th>A free copy of Mastering The Interview</th>\n",
       "      <th>Lead_Origin_Landing Page Submission</th>\n",
       "      <th>Lead_Origin_Lead Add Form</th>\n",
       "      <th>Lead_Origin_Lead Import</th>\n",
       "      <th>Lead_Source_Google</th>\n",
       "      <th>Lead_Source_Olark Chat</th>\n",
       "      <th>Lead_Source_Organic Search</th>\n",
       "      <th>Lead_Source_Other</th>\n",
       "      <th>Lead_Source_Reference</th>\n",
       "      <th>Lead_Source_Referral Sites</th>\n",
       "      <th>Lead_Source_Welingak Website</th>\n",
       "      <th>Last_Activity_Email Bounced</th>\n",
       "      <th>Last_Activity_Email Link Clicked</th>\n",
       "      <th>Last_Activity_Email Opened</th>\n",
       "      <th>Last_Activity_Form Submitted on Website</th>\n",
       "      <th>Last_Activity_Olark Chat Conversation</th>\n",
       "      <th>Last_Activity_Other</th>\n",
       "      <th>Last_Activity_Page Visited on Website</th>\n",
       "      <th>Last_Activity_SMS Sent</th>\n",
       "      <th>...</th>\n",
       "      <th>Specialization_Hospitality Management</th>\n",
       "      <th>Specialization_Human Resource Management</th>\n",
       "      <th>Specialization_IT Projects Management</th>\n",
       "      <th>Specialization_International Business</th>\n",
       "      <th>Specialization_Marketing Management</th>\n",
       "      <th>Specialization_Media and Advertising</th>\n",
       "      <th>Specialization_Operations Management</th>\n",
       "      <th>Specialization_Other</th>\n",
       "      <th>Specialization_Retail Management</th>\n",
       "      <th>Specialization_Rural and Agribusiness</th>\n",
       "      <th>Specialization_Services Excellence</th>\n",
       "      <th>Specialization_Supply Chain Management</th>\n",
       "      <th>Specialization_Travel and Tourism</th>\n",
       "      <th>What_is_your_current_occupation_Student</th>\n",
       "      <th>What_is_your_current_occupation_Unemployed</th>\n",
       "      <th>What_is_your_current_occupation_Working Professional</th>\n",
       "      <th>Last_Notable_Activity_Email Link Clicked</th>\n",
       "      <th>Last_Notable_Activity_Email Opened</th>\n",
       "      <th>Last_Notable_Activity_Modified</th>\n",
       "      <th>Last_Notable_Activity_Olark Chat Conversation</th>\n",
       "      <th>Last_Notable_Activity_Other</th>\n",
       "      <th>Last_Notable_Activity_Page Visited on Website</th>\n",
       "      <th>Last_Notable_Activity_SMS Sent</th>\n",
       "      <th>Last_Notable_Activity_Unreachable</th>\n",
       "      <th>Last_Notable_Activity_Unsubscribed</th>\n",
       "    </tr>\n",
       "  </thead>\n",
       "  <tbody>\n",
       "    <tr>\n",
       "      <th>3271</th>\n",
       "      <td>afc71cc4-67a4-42ae-89f7-779d20c5810d</td>\n",
       "      <td>0</td>\n",
       "      <td>0</td>\n",
       "      <td>0.304501</td>\n",
       "      <td>-0.591008</td>\n",
       "      <td>0.998931</td>\n",
       "      <td>0</td>\n",
       "      <td>0</td>\n",
       "      <td>0</td>\n",
       "      <td>0</td>\n",
       "      <td>1</td>\n",
       "      <td>0</td>\n",
       "      <td>0</td>\n",
       "      <td>0</td>\n",
       "      <td>0</td>\n",
       "      <td>0</td>\n",
       "      <td>0</td>\n",
       "      <td>0</td>\n",
       "      <td>0</td>\n",
       "      <td>1</td>\n",
       "      <td>0</td>\n",
       "      <td>0</td>\n",
       "      <td>0</td>\n",
       "      <td>0</td>\n",
       "      <td>0</td>\n",
       "      <td>...</td>\n",
       "      <td>0</td>\n",
       "      <td>0</td>\n",
       "      <td>0</td>\n",
       "      <td>0</td>\n",
       "      <td>0</td>\n",
       "      <td>0</td>\n",
       "      <td>0</td>\n",
       "      <td>1</td>\n",
       "      <td>0</td>\n",
       "      <td>0</td>\n",
       "      <td>0</td>\n",
       "      <td>0</td>\n",
       "      <td>0</td>\n",
       "      <td>0</td>\n",
       "      <td>1</td>\n",
       "      <td>0</td>\n",
       "      <td>0</td>\n",
       "      <td>1</td>\n",
       "      <td>0</td>\n",
       "      <td>0</td>\n",
       "      <td>0</td>\n",
       "      <td>0</td>\n",
       "      <td>0</td>\n",
       "      <td>0</td>\n",
       "      <td>0</td>\n",
       "    </tr>\n",
       "    <tr>\n",
       "      <th>1490</th>\n",
       "      <td>a8b4e742-2cce-4280-8549-a4a7d51a0fe2</td>\n",
       "      <td>0</td>\n",
       "      <td>1</td>\n",
       "      <td>0.666261</td>\n",
       "      <td>1.894051</td>\n",
       "      <td>1.564920</td>\n",
       "      <td>1</td>\n",
       "      <td>1</td>\n",
       "      <td>0</td>\n",
       "      <td>0</td>\n",
       "      <td>0</td>\n",
       "      <td>0</td>\n",
       "      <td>0</td>\n",
       "      <td>0</td>\n",
       "      <td>0</td>\n",
       "      <td>0</td>\n",
       "      <td>0</td>\n",
       "      <td>0</td>\n",
       "      <td>0</td>\n",
       "      <td>1</td>\n",
       "      <td>0</td>\n",
       "      <td>0</td>\n",
       "      <td>0</td>\n",
       "      <td>0</td>\n",
       "      <td>0</td>\n",
       "      <td>...</td>\n",
       "      <td>0</td>\n",
       "      <td>0</td>\n",
       "      <td>0</td>\n",
       "      <td>0</td>\n",
       "      <td>0</td>\n",
       "      <td>1</td>\n",
       "      <td>0</td>\n",
       "      <td>0</td>\n",
       "      <td>0</td>\n",
       "      <td>0</td>\n",
       "      <td>0</td>\n",
       "      <td>0</td>\n",
       "      <td>0</td>\n",
       "      <td>0</td>\n",
       "      <td>0</td>\n",
       "      <td>1</td>\n",
       "      <td>0</td>\n",
       "      <td>1</td>\n",
       "      <td>0</td>\n",
       "      <td>0</td>\n",
       "      <td>0</td>\n",
       "      <td>0</td>\n",
       "      <td>0</td>\n",
       "      <td>0</td>\n",
       "      <td>0</td>\n",
       "    </tr>\n",
       "    <tr>\n",
       "      <th>7936</th>\n",
       "      <td>774a3b07-491d-4311-ad51-b25cc8cc59ec</td>\n",
       "      <td>0</td>\n",
       "      <td>0</td>\n",
       "      <td>-0.419021</td>\n",
       "      <td>-0.743117</td>\n",
       "      <td>-0.133048</td>\n",
       "      <td>0</td>\n",
       "      <td>0</td>\n",
       "      <td>0</td>\n",
       "      <td>0</td>\n",
       "      <td>1</td>\n",
       "      <td>0</td>\n",
       "      <td>0</td>\n",
       "      <td>0</td>\n",
       "      <td>0</td>\n",
       "      <td>0</td>\n",
       "      <td>0</td>\n",
       "      <td>0</td>\n",
       "      <td>0</td>\n",
       "      <td>1</td>\n",
       "      <td>0</td>\n",
       "      <td>0</td>\n",
       "      <td>0</td>\n",
       "      <td>0</td>\n",
       "      <td>0</td>\n",
       "      <td>...</td>\n",
       "      <td>0</td>\n",
       "      <td>0</td>\n",
       "      <td>0</td>\n",
       "      <td>0</td>\n",
       "      <td>0</td>\n",
       "      <td>0</td>\n",
       "      <td>0</td>\n",
       "      <td>1</td>\n",
       "      <td>0</td>\n",
       "      <td>0</td>\n",
       "      <td>0</td>\n",
       "      <td>0</td>\n",
       "      <td>0</td>\n",
       "      <td>0</td>\n",
       "      <td>1</td>\n",
       "      <td>0</td>\n",
       "      <td>0</td>\n",
       "      <td>1</td>\n",
       "      <td>0</td>\n",
       "      <td>0</td>\n",
       "      <td>0</td>\n",
       "      <td>0</td>\n",
       "      <td>0</td>\n",
       "      <td>0</td>\n",
       "      <td>0</td>\n",
       "    </tr>\n",
       "    <tr>\n",
       "      <th>4216</th>\n",
       "      <td>16b63196-0da9-4b2d-974d-21d8f625f5ef</td>\n",
       "      <td>0</td>\n",
       "      <td>1</td>\n",
       "      <td>-1.142542</td>\n",
       "      <td>-0.878732</td>\n",
       "      <td>-1.265027</td>\n",
       "      <td>0</td>\n",
       "      <td>0</td>\n",
       "      <td>1</td>\n",
       "      <td>0</td>\n",
       "      <td>0</td>\n",
       "      <td>0</td>\n",
       "      <td>0</td>\n",
       "      <td>0</td>\n",
       "      <td>1</td>\n",
       "      <td>0</td>\n",
       "      <td>0</td>\n",
       "      <td>0</td>\n",
       "      <td>0</td>\n",
       "      <td>1</td>\n",
       "      <td>0</td>\n",
       "      <td>0</td>\n",
       "      <td>0</td>\n",
       "      <td>0</td>\n",
       "      <td>0</td>\n",
       "      <td>...</td>\n",
       "      <td>0</td>\n",
       "      <td>0</td>\n",
       "      <td>0</td>\n",
       "      <td>0</td>\n",
       "      <td>0</td>\n",
       "      <td>0</td>\n",
       "      <td>0</td>\n",
       "      <td>0</td>\n",
       "      <td>0</td>\n",
       "      <td>0</td>\n",
       "      <td>0</td>\n",
       "      <td>0</td>\n",
       "      <td>0</td>\n",
       "      <td>1</td>\n",
       "      <td>0</td>\n",
       "      <td>0</td>\n",
       "      <td>0</td>\n",
       "      <td>0</td>\n",
       "      <td>1</td>\n",
       "      <td>0</td>\n",
       "      <td>0</td>\n",
       "      <td>0</td>\n",
       "      <td>0</td>\n",
       "      <td>0</td>\n",
       "      <td>0</td>\n",
       "    </tr>\n",
       "    <tr>\n",
       "      <th>3830</th>\n",
       "      <td>cbd89429-18cd-47b1-9699-21987bd70a8e</td>\n",
       "      <td>0</td>\n",
       "      <td>0</td>\n",
       "      <td>1.751544</td>\n",
       "      <td>-0.578179</td>\n",
       "      <td>2.130909</td>\n",
       "      <td>1</td>\n",
       "      <td>1</td>\n",
       "      <td>0</td>\n",
       "      <td>0</td>\n",
       "      <td>0</td>\n",
       "      <td>0</td>\n",
       "      <td>1</td>\n",
       "      <td>0</td>\n",
       "      <td>0</td>\n",
       "      <td>0</td>\n",
       "      <td>0</td>\n",
       "      <td>0</td>\n",
       "      <td>0</td>\n",
       "      <td>1</td>\n",
       "      <td>0</td>\n",
       "      <td>0</td>\n",
       "      <td>0</td>\n",
       "      <td>0</td>\n",
       "      <td>0</td>\n",
       "      <td>...</td>\n",
       "      <td>0</td>\n",
       "      <td>0</td>\n",
       "      <td>0</td>\n",
       "      <td>0</td>\n",
       "      <td>0</td>\n",
       "      <td>0</td>\n",
       "      <td>0</td>\n",
       "      <td>0</td>\n",
       "      <td>1</td>\n",
       "      <td>0</td>\n",
       "      <td>0</td>\n",
       "      <td>0</td>\n",
       "      <td>0</td>\n",
       "      <td>0</td>\n",
       "      <td>1</td>\n",
       "      <td>0</td>\n",
       "      <td>0</td>\n",
       "      <td>1</td>\n",
       "      <td>0</td>\n",
       "      <td>0</td>\n",
       "      <td>0</td>\n",
       "      <td>0</td>\n",
       "      <td>0</td>\n",
       "      <td>0</td>\n",
       "      <td>0</td>\n",
       "    </tr>\n",
       "  </tbody>\n",
       "</table>\n",
       "<p>5 rows × 58 columns</p>\n",
       "</div>"
      ],
      "text/plain": [
       "                               Prospect ID  Do Not Email  Converted  \\\n",
       "3271  afc71cc4-67a4-42ae-89f7-779d20c5810d             0          0   \n",
       "1490  a8b4e742-2cce-4280-8549-a4a7d51a0fe2             0          1   \n",
       "7936  774a3b07-491d-4311-ad51-b25cc8cc59ec             0          0   \n",
       "4216  16b63196-0da9-4b2d-974d-21d8f625f5ef             0          1   \n",
       "3830  cbd89429-18cd-47b1-9699-21987bd70a8e             0          0   \n",
       "\n",
       "      TotalVisits  Total Time Spent on Website  Page Views Per Visit  \\\n",
       "3271     0.304501                    -0.591008              0.998931   \n",
       "1490     0.666261                     1.894051              1.564920   \n",
       "7936    -0.419021                    -0.743117             -0.133048   \n",
       "4216    -1.142542                    -0.878732             -1.265027   \n",
       "3830     1.751544                    -0.578179              2.130909   \n",
       "\n",
       "      A free copy of Mastering The Interview  \\\n",
       "3271                                       0   \n",
       "1490                                       1   \n",
       "7936                                       0   \n",
       "4216                                       0   \n",
       "3830                                       1   \n",
       "\n",
       "      Lead_Origin_Landing Page Submission  Lead_Origin_Lead Add Form  \\\n",
       "3271                                    0                          0   \n",
       "1490                                    1                          0   \n",
       "7936                                    0                          0   \n",
       "4216                                    0                          1   \n",
       "3830                                    1                          0   \n",
       "\n",
       "      Lead_Origin_Lead Import  Lead_Source_Google  Lead_Source_Olark Chat  \\\n",
       "3271                        0                   1                       0   \n",
       "1490                        0                   0                       0   \n",
       "7936                        0                   1                       0   \n",
       "4216                        0                   0                       0   \n",
       "3830                        0                   0                       0   \n",
       "\n",
       "      Lead_Source_Organic Search  Lead_Source_Other  Lead_Source_Reference  \\\n",
       "3271                           0                  0                      0   \n",
       "1490                           0                  0                      0   \n",
       "7936                           0                  0                      0   \n",
       "4216                           0                  0                      1   \n",
       "3830                           1                  0                      0   \n",
       "\n",
       "      Lead_Source_Referral Sites  Lead_Source_Welingak Website  \\\n",
       "3271                           0                             0   \n",
       "1490                           0                             0   \n",
       "7936                           0                             0   \n",
       "4216                           0                             0   \n",
       "3830                           0                             0   \n",
       "\n",
       "      Last_Activity_Email Bounced  Last_Activity_Email Link Clicked  \\\n",
       "3271                            0                                 0   \n",
       "1490                            0                                 0   \n",
       "7936                            0                                 0   \n",
       "4216                            0                                 0   \n",
       "3830                            0                                 0   \n",
       "\n",
       "      Last_Activity_Email Opened  Last_Activity_Form Submitted on Website  \\\n",
       "3271                           1                                        0   \n",
       "1490                           1                                        0   \n",
       "7936                           1                                        0   \n",
       "4216                           1                                        0   \n",
       "3830                           1                                        0   \n",
       "\n",
       "      Last_Activity_Olark Chat Conversation  Last_Activity_Other  \\\n",
       "3271                                      0                    0   \n",
       "1490                                      0                    0   \n",
       "7936                                      0                    0   \n",
       "4216                                      0                    0   \n",
       "3830                                      0                    0   \n",
       "\n",
       "      Last_Activity_Page Visited on Website  Last_Activity_SMS Sent  ...  \\\n",
       "3271                                      0                       0  ...   \n",
       "1490                                      0                       0  ...   \n",
       "7936                                      0                       0  ...   \n",
       "4216                                      0                       0  ...   \n",
       "3830                                      0                       0  ...   \n",
       "\n",
       "      Specialization_Hospitality Management  \\\n",
       "3271                                      0   \n",
       "1490                                      0   \n",
       "7936                                      0   \n",
       "4216                                      0   \n",
       "3830                                      0   \n",
       "\n",
       "      Specialization_Human Resource Management  \\\n",
       "3271                                         0   \n",
       "1490                                         0   \n",
       "7936                                         0   \n",
       "4216                                         0   \n",
       "3830                                         0   \n",
       "\n",
       "      Specialization_IT Projects Management  \\\n",
       "3271                                      0   \n",
       "1490                                      0   \n",
       "7936                                      0   \n",
       "4216                                      0   \n",
       "3830                                      0   \n",
       "\n",
       "      Specialization_International Business  \\\n",
       "3271                                      0   \n",
       "1490                                      0   \n",
       "7936                                      0   \n",
       "4216                                      0   \n",
       "3830                                      0   \n",
       "\n",
       "      Specialization_Marketing Management  \\\n",
       "3271                                    0   \n",
       "1490                                    0   \n",
       "7936                                    0   \n",
       "4216                                    0   \n",
       "3830                                    0   \n",
       "\n",
       "      Specialization_Media and Advertising  \\\n",
       "3271                                     0   \n",
       "1490                                     1   \n",
       "7936                                     0   \n",
       "4216                                     0   \n",
       "3830                                     0   \n",
       "\n",
       "      Specialization_Operations Management  Specialization_Other  \\\n",
       "3271                                     0                     1   \n",
       "1490                                     0                     0   \n",
       "7936                                     0                     1   \n",
       "4216                                     0                     0   \n",
       "3830                                     0                     0   \n",
       "\n",
       "      Specialization_Retail Management  Specialization_Rural and Agribusiness  \\\n",
       "3271                                 0                                      0   \n",
       "1490                                 0                                      0   \n",
       "7936                                 0                                      0   \n",
       "4216                                 0                                      0   \n",
       "3830                                 1                                      0   \n",
       "\n",
       "      Specialization_Services Excellence  \\\n",
       "3271                                   0   \n",
       "1490                                   0   \n",
       "7936                                   0   \n",
       "4216                                   0   \n",
       "3830                                   0   \n",
       "\n",
       "      Specialization_Supply Chain Management  \\\n",
       "3271                                       0   \n",
       "1490                                       0   \n",
       "7936                                       0   \n",
       "4216                                       0   \n",
       "3830                                       0   \n",
       "\n",
       "      Specialization_Travel and Tourism  \\\n",
       "3271                                  0   \n",
       "1490                                  0   \n",
       "7936                                  0   \n",
       "4216                                  0   \n",
       "3830                                  0   \n",
       "\n",
       "      What_is_your_current_occupation_Student  \\\n",
       "3271                                        0   \n",
       "1490                                        0   \n",
       "7936                                        0   \n",
       "4216                                        1   \n",
       "3830                                        0   \n",
       "\n",
       "      What_is_your_current_occupation_Unemployed  \\\n",
       "3271                                           1   \n",
       "1490                                           0   \n",
       "7936                                           1   \n",
       "4216                                           0   \n",
       "3830                                           1   \n",
       "\n",
       "      What_is_your_current_occupation_Working Professional  \\\n",
       "3271                                                  0      \n",
       "1490                                                  1      \n",
       "7936                                                  0      \n",
       "4216                                                  0      \n",
       "3830                                                  0      \n",
       "\n",
       "      Last_Notable_Activity_Email Link Clicked  \\\n",
       "3271                                         0   \n",
       "1490                                         0   \n",
       "7936                                         0   \n",
       "4216                                         0   \n",
       "3830                                         0   \n",
       "\n",
       "      Last_Notable_Activity_Email Opened  Last_Notable_Activity_Modified  \\\n",
       "3271                                   1                               0   \n",
       "1490                                   1                               0   \n",
       "7936                                   1                               0   \n",
       "4216                                   0                               1   \n",
       "3830                                   1                               0   \n",
       "\n",
       "      Last_Notable_Activity_Olark Chat Conversation  \\\n",
       "3271                                              0   \n",
       "1490                                              0   \n",
       "7936                                              0   \n",
       "4216                                              0   \n",
       "3830                                              0   \n",
       "\n",
       "      Last_Notable_Activity_Other  \\\n",
       "3271                            0   \n",
       "1490                            0   \n",
       "7936                            0   \n",
       "4216                            0   \n",
       "3830                            0   \n",
       "\n",
       "      Last_Notable_Activity_Page Visited on Website  \\\n",
       "3271                                              0   \n",
       "1490                                              0   \n",
       "7936                                              0   \n",
       "4216                                              0   \n",
       "3830                                              0   \n",
       "\n",
       "      Last_Notable_Activity_SMS Sent  Last_Notable_Activity_Unreachable  \\\n",
       "3271                               0                                  0   \n",
       "1490                               0                                  0   \n",
       "7936                               0                                  0   \n",
       "4216                               0                                  0   \n",
       "3830                               0                                  0   \n",
       "\n",
       "      Last_Notable_Activity_Unsubscribed  \n",
       "3271                                   0  \n",
       "1490                                   0  \n",
       "7936                                   0  \n",
       "4216                                   0  \n",
       "3830                                   0  \n",
       "\n",
       "[5 rows x 58 columns]"
      ]
     },
     "execution_count": 165,
     "metadata": {},
     "output_type": "execute_result"
    }
   ],
   "source": [
    "# Checking data\n",
    "df_test.head()"
   ]
  },
  {
   "cell_type": "code",
   "execution_count": 166,
   "metadata": {},
   "outputs": [],
   "source": [
    "# putting data for x and y axis\n",
    "y_test = df_test.pop('Converted')\n",
    "x_test = df_test[col]"
   ]
  },
  {
   "cell_type": "code",
   "execution_count": 167,
   "metadata": {},
   "outputs": [],
   "source": [
    "# Predicting on test data set\n",
    "x_test_sm = sm.add_constant(x_test)\n",
    "y_test_pred = model12.predict(x_test_sm)"
   ]
  },
  {
   "cell_type": "code",
   "execution_count": 168,
   "metadata": {},
   "outputs": [],
   "source": [
    "# Creating data set\n",
    "y_test_pred_final = pd.DataFrame({'Prospect ID':df_test['Prospect ID'].values,'Converted':y_test.values,'Convert_Prob':y_test_pred})"
   ]
  },
  {
   "cell_type": "code",
   "execution_count": 169,
   "metadata": {},
   "outputs": [],
   "source": [
    "# Cut-off = .37\n",
    "y_test_pred_final['final_predicted'] = y_test_pred_final['Convert_Prob'].map(lambda x: 1 if x > .37 else 0)"
   ]
  },
  {
   "cell_type": "code",
   "execution_count": 170,
   "metadata": {},
   "outputs": [
    {
     "data": {
      "text/html": [
       "<div>\n",
       "<style scoped>\n",
       "    .dataframe tbody tr th:only-of-type {\n",
       "        vertical-align: middle;\n",
       "    }\n",
       "\n",
       "    .dataframe tbody tr th {\n",
       "        vertical-align: top;\n",
       "    }\n",
       "\n",
       "    .dataframe thead th {\n",
       "        text-align: right;\n",
       "    }\n",
       "</style>\n",
       "<table border=\"1\" class=\"dataframe\">\n",
       "  <thead>\n",
       "    <tr style=\"text-align: right;\">\n",
       "      <th></th>\n",
       "      <th>Prospect ID</th>\n",
       "      <th>Converted</th>\n",
       "      <th>Convert_Prob</th>\n",
       "      <th>final_predicted</th>\n",
       "    </tr>\n",
       "  </thead>\n",
       "  <tbody>\n",
       "    <tr>\n",
       "      <th>3271</th>\n",
       "      <td>afc71cc4-67a4-42ae-89f7-779d20c5810d</td>\n",
       "      <td>0</td>\n",
       "      <td>0.126659</td>\n",
       "      <td>0</td>\n",
       "    </tr>\n",
       "    <tr>\n",
       "      <th>1490</th>\n",
       "      <td>a8b4e742-2cce-4280-8549-a4a7d51a0fe2</td>\n",
       "      <td>1</td>\n",
       "      <td>0.966775</td>\n",
       "      <td>1</td>\n",
       "    </tr>\n",
       "    <tr>\n",
       "      <th>7936</th>\n",
       "      <td>774a3b07-491d-4311-ad51-b25cc8cc59ec</td>\n",
       "      <td>0</td>\n",
       "      <td>0.109317</td>\n",
       "      <td>0</td>\n",
       "    </tr>\n",
       "    <tr>\n",
       "      <th>4216</th>\n",
       "      <td>16b63196-0da9-4b2d-974d-21d8f625f5ef</td>\n",
       "      <td>1</td>\n",
       "      <td>0.879263</td>\n",
       "      <td>1</td>\n",
       "    </tr>\n",
       "    <tr>\n",
       "      <th>3830</th>\n",
       "      <td>cbd89429-18cd-47b1-9699-21987bd70a8e</td>\n",
       "      <td>0</td>\n",
       "      <td>0.129067</td>\n",
       "      <td>0</td>\n",
       "    </tr>\n",
       "  </tbody>\n",
       "</table>\n",
       "</div>"
      ],
      "text/plain": [
       "                               Prospect ID  Converted  Convert_Prob  \\\n",
       "3271  afc71cc4-67a4-42ae-89f7-779d20c5810d          0      0.126659   \n",
       "1490  a8b4e742-2cce-4280-8549-a4a7d51a0fe2          1      0.966775   \n",
       "7936  774a3b07-491d-4311-ad51-b25cc8cc59ec          0      0.109317   \n",
       "4216  16b63196-0da9-4b2d-974d-21d8f625f5ef          1      0.879263   \n",
       "3830  cbd89429-18cd-47b1-9699-21987bd70a8e          0      0.129067   \n",
       "\n",
       "      final_predicted  \n",
       "3271                0  \n",
       "1490                1  \n",
       "7936                0  \n",
       "4216                1  \n",
       "3830                0  "
      ]
     },
     "execution_count": 170,
     "metadata": {},
     "output_type": "execute_result"
    }
   ],
   "source": [
    "y_test_pred_final.head()"
   ]
  },
  {
   "cell_type": "code",
   "execution_count": 171,
   "metadata": {},
   "outputs": [
    {
     "data": {
      "text/plain": [
       "array([[1408,  326],\n",
       "       [ 197,  792]], dtype=int64)"
      ]
     },
     "execution_count": 171,
     "metadata": {},
     "output_type": "execute_result"
    }
   ],
   "source": [
    "# confusion_matrix\n",
    "confusion2 = confusion_matrix(y_test_pred_final['Converted'],y_test_pred_final['final_predicted'])\n",
    "confusion2"
   ]
  },
  {
   "cell_type": "code",
   "execution_count": 172,
   "metadata": {},
   "outputs": [
    {
     "data": {
      "text/plain": [
       "0.8079324274697025"
      ]
     },
     "execution_count": 172,
     "metadata": {},
     "output_type": "execute_result"
    }
   ],
   "source": [
    "# Accuracy Score\n",
    "accuracy_score(y_test_pred_final['Converted'],y_test_pred_final['final_predicted'])"
   ]
  },
  {
   "cell_type": "code",
   "execution_count": 173,
   "metadata": {},
   "outputs": [],
   "source": [
    "# Assigning variables\n",
    "TP = confusion2[1,1]   # True Positive\n",
    "TN = confusion2[0,0]   # True Negative\n",
    "FP = confusion2[0,1]   # False Positivea\n",
    "FN = confusion2[1,0]   # False Negative"
   ]
  },
  {
   "cell_type": "code",
   "execution_count": 174,
   "metadata": {},
   "outputs": [
    {
     "data": {
      "text/plain": [
       "0.8008088978766431"
      ]
     },
     "execution_count": 174,
     "metadata": {},
     "output_type": "execute_result"
    }
   ],
   "source": [
    "# Sensitivity\n",
    "TP/(TP+FN)"
   ]
  },
  {
   "cell_type": "code",
   "execution_count": 175,
   "metadata": {},
   "outputs": [
    {
     "data": {
      "text/plain": [
       "0.81199538638985"
      ]
     },
     "execution_count": 175,
     "metadata": {},
     "output_type": "execute_result"
    }
   ],
   "source": [
    "# Specifity\n",
    "TN/(TN+FP)"
   ]
  },
  {
   "cell_type": "markdown",
   "metadata": {},
   "source": [
    "Overall the model has sensitivity around 78% on both train data and test data. So I recommend to go with this model"
   ]
  }
 ],
 "metadata": {
  "kernelspec": {
   "display_name": "Python 3",
   "language": "python",
   "name": "python3"
  },
  "language_info": {
   "codemirror_mode": {
    "name": "ipython",
    "version": 3
   },
   "file_extension": ".py",
   "mimetype": "text/x-python",
   "name": "python",
   "nbconvert_exporter": "python",
   "pygments_lexer": "ipython3",
   "version": "3.7.6"
  }
 },
 "nbformat": 4,
 "nbformat_minor": 4
}
